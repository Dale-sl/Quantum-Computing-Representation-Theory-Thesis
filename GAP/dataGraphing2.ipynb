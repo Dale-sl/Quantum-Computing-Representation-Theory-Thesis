{
 "cells": [
  {
   "cell_type": "code",
   "execution_count": 4,
   "id": "cca9cc27-6c05-4769-a77b-3004a3290202",
   "metadata": {},
   "outputs": [],
   "source": [
    "import pandas as pd\n",
    "import re\n",
    "import ast\n",
    "from tikz import *  # Import pytikz functionality\n",
    "cfg.demo_template = (\n",
    "    '<div style=\"background-color:#e0e0e0;margin:0;padding:10px;\">'\n",
    "    '<img src=\"data:image/png;base64,{0}\">'\n",
    "    '</div>'\n",
    ")\n",
    "def render_single_partition(partition, sign=\"\"):\n",
    "    \"\"\"\n",
    "    Given a partition (a list of integers) and an optional sign (e.g. '+' or '-'),\n",
    "    creates and returns a Picture object containing a Young diagram drawn with black borders.\n",
    "    Each box is drawn as a unit square.\n",
    "    \"\"\"\n",
    "    pic = Picture()\n",
    "    env = pic.scope()  # Create a scope in the picture\n",
    "    # Draw each box of the Young diagram.\n",
    "    for i, row_length in enumerate(partition):\n",
    "        for j in range(row_length):\n",
    "            env.path(moveto((j, -i-1)), rectangle((j+1, -i)), opt=\"draw=black\")\n",
    "    if sign:\n",
    "        env.node(sign, at=(-0.5, -0.5))\n",
    "    return pic\n",
    "\n",
    "def display_gap_results_factorizations(csv_file, title):\n",
    "    \"\"\"\n",
    "    Reads a CSV file produced by ProcessQuantumQueryCharacterPartitions_Factorizations\n",
    "    and displays the results. For each row, it prints the group degree and the factorization (a, b),\n",
    "    and then for each partition in the 'partitions' field, it renders the partition as a TikZ picture\n",
    "    using pytikz's demo() function.\n",
    "    \n",
    "    Parameters:\n",
    "      csv_file (str): Path to the CSV file.\n",
    "      title (str): A title prefix for the displayed results.\n",
    "    \"\"\"\n",
    "    df = pd.read_csv(csv_file)\n",
    "    \n",
    "    for idx, row in df.iterrows():\n",
    "        a = row[\"a\"]\n",
    "        b = row[\"b\"]\n",
    "        group_degree = row[\"groupDegree\"]\n",
    "        print(f\"{title} - Group degree: {group_degree}, factorization: {a} * {b} = {group_degree}\")\n",
    "        \n",
    "        try:\n",
    "            # 'partitions' is expected to be a string representation of a list.\n",
    "            partitions = ast.literal_eval(row[\"partitions\"])\n",
    "        except Exception as e:\n",
    "            print(f\"Error parsing partitions in row {idx}: {e}\")\n",
    "            continue\n",
    "        \n",
    "        # Render each partition separately.\n",
    "        for part_entry in partitions:\n",
    "            sign = \"\"\n",
    "            partition = None\n",
    "            if isinstance(part_entry, list):\n",
    "                # Check if the entry is of the form [partition, sign]\n",
    "                if len(part_entry) == 2 and isinstance(part_entry[1], str):\n",
    "                    partition = part_entry[0]\n",
    "                    sign = part_entry[1]\n",
    "                else:\n",
    "                    partition = part_entry\n",
    "            else:\n",
    "                continue\n",
    "            \n",
    "            pic = render_single_partition(partition, sign)\n",
    "            pic.demo()  # Render and display the image\n"
   ]
  },
  {
   "cell_type": "code",
   "execution_count": 5,
   "id": "19e18b52-4613-468a-accb-80c0a1d10912",
   "metadata": {
    "collapsed": true,
    "jupyter": {
     "outputs_hidden": true
    }
   },
   "outputs": [
    {
     "name": "stdout",
     "output_type": "stream",
     "text": [
      "partitions - Group degree: 4, factorization: 2 * 2 = 4\n"
     ]
    },
    {
     "data": {
      "text/html": [
       "<div style=\"background-color:#e0e0e0;margin:0;padding:10px;\"><img src=\"data:image/png;base64,iVBORw0KGgoAAAANSUhEUgAAAJgAAAAnCAIAAAB8PBbWAAAACXBIWXMAAA7EAAAOxAGVKw4bAAABCUlEQVR4nO3ToY2EABgFYQqhAKgAgUHQAwgIBWywh6QGQgiGZM2qEzRwfinrliJufnPzNfDE5CVFUXwFquu6LMvIxSzLuq6LXEzTNHLuNgxDMk3Tb6Bt2+Z5jlxs2/b9fkcu3t+InLvdEQ359wyJMCTCkARDIgyJMCTCkARDIgyJMCTCkARDIgyJMCTCkARDIgyJMCTCkARDIgyJMCTCkARDIgyJMCTCkARDIgyJMCTCkARDIgyJMCTCkARDIgyJMCTCkARDIgyJMCTCkARDIgyJ+C8hm6b5CTSOY9/3kYtVVS3LErmY53nk3O3xeCTneX4Hej6fx3FELu77/nq9IhfXdY2cu13X9QGrKpyk1OSyKwAAAABJRU5ErkJggg==\"></div>"
      ],
      "text/plain": [
       "<IPython.core.display.HTML object>"
      ]
     },
     "metadata": {},
     "output_type": "display_data"
    },
    {
     "data": {
      "text/html": [
       "<div style=\"background-color:#e0e0e0;margin:0;padding:10px;\"><img src=\"data:image/png;base64,iVBORw0KGgoAAAANSUhEUgAAAE0AAABNCAIAAABsa37nAAAACXBIWXMAAA7EAAAOxAGVKw4bAAAA90lEQVR4nO3aMWqEUBRG4dmToIWghVoJ6lbSxNI2WYCuzScEcSGSzCzi3ClyPnj1z4FbvkdRFJ+B2rYtyzJyseu667oe8zz/BlrXdVmWyMVt2+zE2Emxk2QnxU6SnRQ7SXZS7CTZSbGTZCfFTpKdFDtJdlLsJNlJsZNkJ8VOkp0UO0lv66zr+jtQ3/dVVUUuTtOUUnrkef4R6BmZZVnkYtM0x3H8m7u1E2EnxU6SnRQ7SXZS7CTZSbGTZCfFTpKdFDtJdlLsJNlJsZNkJ8VOkp0UO0l2UuwkvfO/yVegYRiapolcHMfx1fl8P4FSSvu+Ry6e53nf9x9XRph1JrjyOAAAAABJRU5ErkJggg==\"></div>"
      ],
      "text/plain": [
       "<IPython.core.display.HTML object>"
      ]
     },
     "metadata": {},
     "output_type": "display_data"
    },
    {
     "name": "stdout",
     "output_type": "stream",
     "text": [
      "partitions - Group degree: 6, factorization: 2 * 3 = 6\n"
     ]
    },
    {
     "data": {
      "text/html": [
       "<div style=\"background-color:#e0e0e0;margin:0;padding:10px;\"><img src=\"data:image/png;base64,iVBORw0KGgoAAAANSUhEUgAAAOQAAAAnCAIAAACQSXPAAAAACXBIWXMAAA7EAAAOxAGVKw4bAAABh0lEQVR4nO3VMYrCABRFUReihV3SCylsLASXYJCkt7EdS5cQRIJNII0SsLBKN2XAfdi6iZkMzBLe+9U9G3jN/fxJlmVfgdbr9XK5jFxMkqQoisjF6XQaOTeazWaRc/v9fj6fRy7udru+7yfH4/EnUF3Xp9MpcjHP89frFbk43n/kXPzi+/3ebDaRi8MwEKsFscoRqwuxyhGrC7HKEasLscoRqwuxyhGrC7HKEasLscoRqwuxyhGrC7HKEasLscoRqwuxyhGrC7HKEasLscoRqwuxyhGrC7HKEasLscoRqwuxyhGrC7HKEasLscoRqwuxyhGrC7HKEasLscoRqwuxyhGrC7HKEasLscoRqwuxyhGrC7HKEasLscoRqwuxyhGrC7HKEasLscoRqwuxyhGrC7HKEasLscoRqwuxyv3Hut1uvwMdDoeyLCMXV6vV+XyOXEzTNHIufvF+vy8Wi8jFqqr+Yn0+n49Abds2TRO5eL1eb7db5OLlcomci1/sum78kJGLo8/n8wu2+oJwElU5+gAAAABJRU5ErkJggg==\"></div>"
      ],
      "text/plain": [
       "<IPython.core.display.HTML object>"
      ]
     },
     "metadata": {},
     "output_type": "display_data"
    },
    {
     "data": {
      "text/html": [
       "<div style=\"background-color:#e0e0e0;margin:0;padding:10px;\"><img src=\"data:image/png;base64,iVBORw0KGgoAAAANSUhEUgAAAE0AAAByCAIAAACZR8ufAAAACXBIWXMAAA7EAAAOxAGVKw4bAAABUklEQVR4nO3dMYrCABBG4ZxECFilERIImEgimGLBxl4stxXWxjL1HkCvs5ewSZpgkXPs7iXeWPi+C/w8mH6S1Wr1GaiqqjzPIxfrun4+n8n1ev0NdLvd+r6PXLzf73Zi7KTYSbKTYifJToqdJDspdpLspNhJspNiJ8lOip0kOyl2kuyk2Emyk2InyU6KnaSXdbZt+x1ov983TRO5eDgchmFIyrL8CvQfWRRF5OJutxvH8W3u1k6EnRQ7SXZS7CTZSbGTZCfFTpKdFDtJdlLsJNlJsZNkJ8VOkp0UO0l2Uuwk2Umxk/SyzjRNPwItl8vFYhG5mGXZ4/FIjsfjT6Dz+Xw6nSIXL5fLNE1vc7d2Iuyk2Emyk2InyU6KnSQ7KXaS7KTYSbKTYifJToqdJDspdpLspNhJspNiJ8lOip2kl3VuNpvIry/b7Xa9Xkcudl03z/Mf3KsVxt3lB3gAAAAASUVORK5CYII=\"></div>"
      ],
      "text/plain": [
       "<IPython.core.display.HTML object>"
      ]
     },
     "metadata": {},
     "output_type": "display_data"
    },
    {
     "data": {
      "text/html": [
       "<div style=\"background-color:#e0e0e0;margin:0;padding:10px;\"><img src=\"data:image/png;base64,iVBORw0KGgoAAAANSUhEUgAAAJgAAABNCAIAAADVUzrqAAAACXBIWXMAAA7EAAAOxAGVKw4bAAABqUlEQVR4nO3cMYrCUBhFYRfiArRKIRhQMIV2QtJaCC7AapqxtJ0Bi4DoItzC9HELsRgkC5GZN3uY+wvX823gknd4KV8vz/P3QIvFYjqdRi4OBoP1eh252O/3I+eSzWbT2+12P4FOp9N+v49cXK1WTdNELqa7ETmXpIiE/H+ElCCkBCEVCClBSAlCShBSgZAShJQgpAQhFQgpQUgJQkoQUoGQEoSUIKQEIRUIKUFICUJKEFKBkBKElCCkBCEVCClBSAlCShBSgZAShJQgpAQhFQgpQUgJQkoQUoGQEoSUIKQEIRUIKUFIiVcJWRTFZ6DlcjmbzSIXsyw7HA5fgYbDYeRcst1ue+Px+C1QqjgajSIXJ5NJXdeXQMfjMXIuuV6v/r/W8/ncdV3k4lMQ0gQhTRDSBCFNENIEIU0Q0gQhTRDSBCFNENIEIU0Q0gQhTRDSBCFNENIEIU0Q0gQhTRDSBCFNENIEIU0Q0gQhTRDSBCFNENIEIU0Q0gQhTRDSBCFNENLE36seH4HKspzP55GLVVW9RMj0kd+Bbrdb27aRi/f7/fF4PPuc5X4BqnVLaLyDLi8AAAAASUVORK5CYII=\"></div>"
      ],
      "text/plain": [
       "<IPython.core.display.HTML object>"
      ]
     },
     "metadata": {},
     "output_type": "display_data"
    },
    {
     "name": "stdout",
     "output_type": "stream",
     "text": [
      "partitions - Group degree: 6, factorization: 3 * 2 = 6\n"
     ]
    },
    {
     "data": {
      "text/html": [
       "<div style=\"background-color:#e0e0e0;margin:0;padding:10px;\"><img src=\"data:image/png;base64,iVBORw0KGgoAAAANSUhEUgAAAOQAAAAnCAIAAACQSXPAAAAACXBIWXMAAA7EAAAOxAGVKw4bAAABh0lEQVR4nO3VMYrCABRFUReihV3SCylsLASXYJCkt7EdS5cQRIJNII0SsLBKN2XAfdi6iZkMzBLe+9U9G3jN/fxJlmVfgdbr9XK5jFxMkqQoisjF6XQaOTeazWaRc/v9fj6fRy7udru+7yfH4/EnUF3Xp9MpcjHP89frFbk43n/kXPzi+/3ebDaRi8MwEKsFscoRqwuxyhGrC7HKEasLscoRqwuxyhGrC7HKEasLscoRqwuxyhGrC7HKEasLscoRqwuxyhGrC7HKEasLscoRqwuxyhGrC7HKEasLscoRqwuxyhGrC7HKEasLscoRqwuxyhGrC7HKEasLscoRqwuxyhGrC7HKEasLscoRqwuxyhGrC7HKEasLscoRqwuxyhGrC7HKEasLscoRqwuxyhGrC7HKEasLscoRqwuxyv3Hut1uvwMdDoeyLCMXV6vV+XyOXEzTNHIufvF+vy8Wi8jFqqr+Yn0+n49Abds2TRO5eL1eb7db5OLlcomci1/sum78kJGLo8/n8wu2+oJwElU5+gAAAABJRU5ErkJggg==\"></div>"
      ],
      "text/plain": [
       "<IPython.core.display.HTML object>"
      ]
     },
     "metadata": {},
     "output_type": "display_data"
    },
    {
     "data": {
      "text/html": [
       "<div style=\"background-color:#e0e0e0;margin:0;padding:10px;\"><img src=\"data:image/png;base64,iVBORw0KGgoAAAANSUhEUgAAAJgAAABNCAIAAADVUzrqAAAACXBIWXMAAA7EAAAOxAGVKw4bAAABqUlEQVR4nO3cMYrCUBhFYRfiArRKIRhQMIV2QtJaCC7AapqxtJ0Bi4DoItzC9HELsRgkC5GZN3uY+wvX823gknd4KV8vz/P3QIvFYjqdRi4OBoP1eh252O/3I+eSzWbT2+12P4FOp9N+v49cXK1WTdNELqa7ETmXpIiE/H+ElCCkBCEVCClBSAlCShBSgZAShJQgpAQhFQgpQUgJQkoQUoGQEoSUIKQEIRUIKUFICUJKEFKBkBKElCCkBCEVCClBSAlCShBSgZAShJQgpAQhFQgpQUgJQkoQUoGQEoSUIKQEIRUIKUFIiVcJWRTFZ6DlcjmbzSIXsyw7HA5fgYbDYeRcst1ue+Px+C1QqjgajSIXJ5NJXdeXQMfjMXIuuV6v/r/W8/ncdV3k4lMQ0gQhTRDSBCFNENIEIU0Q0gQhTRDSBCFNENIEIU0Q0gQhTRDSBCFNENIEIU0Q0gQhTRDSBCFNENIEIU0Q0gQhTRDSBCFNENIEIU0Q0gQhTRDSBCFNENLE36seH4HKspzP55GLVVW9RMj0kd+Bbrdb27aRi/f7/fF4PPuc5X4BqnVLaLyDLi8AAAAASUVORK5CYII=\"></div>"
      ],
      "text/plain": [
       "<IPython.core.display.HTML object>"
      ]
     },
     "metadata": {},
     "output_type": "display_data"
    },
    {
     "name": "stdout",
     "output_type": "stream",
     "text": [
      "partitions - Group degree: 8, factorization: 2 * 4 = 8\n"
     ]
    },
    {
     "data": {
      "text/html": [
       "<div style=\"background-color:#e0e0e0;margin:0;padding:10px;\"><img src=\"data:image/png;base64,iVBORw0KGgoAAAANSUhEUgAAAS8AAAAnCAIAAADRmFlWAAAACXBIWXMAAA7EAAAOxAGVKw4bAAAB4UlEQVR4nO3VsYkCURSFYQsZYcw0FwwmMRAsQQPFVINJ19AaRMVEMFGEDYyFze3DSnZfEfec4O7/N3B4cL+Zzmg0+jI2mUyapnEu9vv9xWLhXKyqyjlX6na7zrn1et3r9ZyL/rOp63qz2TgXp9NpZ7vd/ho7nU673c65OJ/P3++3c7F84Jxz/sXP51NOx7noP5vywPJM52KRiMb40BgeGiWhMcEiGhWhURIaw0OjJDQmWESjIjRKQmN4aJSExgSLaFSERkloDA+NktCYYBGNitAoCY3hoVESGhMsolERGiWhMTw0SkJjgkU0KkKjJDSGh0ZJaEywiEZFaJSExvDQKAmNCRbRqAiNktAYHholoTHBIhoVoVESGsNDoyQ0JlhEoyI0SkJjeGiUhMYEi2hUhEZJaAwPjZLQmGARjYrQKAmN4aFREhoTLKJRERoloTE8NEpCY4JFNCpCoyQ0hodGSWhMsIhGRWiUhMbw0CgJjQkW0agIjZLQGB4aJaExwSIaFaFREhrD+y8aZ7PZj7G2bZfLpXNxPB7v93vn4mAwcM75F+/3+3A4dC76z6Y8sDzTubharTrP5/Pb2PV6vVwuzsXz+Xy73ZyLh8PBOedffDwe5WflXPSfzfF4LM90Lr5erz/OzuPWtvNytwAAAABJRU5ErkJggg==\"></div>"
      ],
      "text/plain": [
       "<IPython.core.display.HTML object>"
      ]
     },
     "metadata": {},
     "output_type": "display_data"
    },
    {
     "data": {
      "text/html": [
       "<div style=\"background-color:#e0e0e0;margin:0;padding:10px;\"><img src=\"data:image/png;base64,iVBORw0KGgoAAAANSUhEUgAAAE0AAACYCAIAAAAumPN7AAAACXBIWXMAAA7EAAAOxAGVKw4bAAABoElEQVR4nO3SMWrCABSH8VwhEAcXIeBQXAUdhGRQoSIENxFx7CrUQUfnHkCv00PooktwziHaDr3C9xz8fhf48/FeMhwO94Emk8loNIpcnE6nj8cjORwOP4FOp9PxeIxcPJ/PdmLspNhJspNiJ8lOip0kOyl2kuyk2Emyk2InyU6KnSQ7KXaS7KTYSbKTYifJToqdpKd1lmX5FWg+nxdFEbm4WCxut1syGAw+A/1F9vv9yMXxeHy/31/mb+1E2Emxk2QnxU6SnRQ7SXZS7CTZSbGTZCfFTpKdFDtJdlLsJNlJsZNkJ8VOkp0UO0lP68zz/D1Qt9vtdDqRi71e73q9Juv1+jvQdrvdbDaRi7vdrq7rl/lbOxF2Uuwk2Umxk2QnxU6SnRQ7SXZS7CTZSbGTZCfFTpKdFDtJdlLsJNlJsZNkJ8VO0tM6W63WW6Asy9I0jVxst9uXy+Vl7mknwk6KnSQ7KXaS7KTYSbKTYifJToqdJDspdpLspNhJspNiJ8lOip0kOyl2kuyk2Emyk/LfuVwuPwJVVTWbzSIXV6tV0zS/0eGzQeHXvvcAAAAASUVORK5CYII=\"></div>"
      ],
      "text/plain": [
       "<IPython.core.display.HTML object>"
      ]
     },
     "metadata": {},
     "output_type": "display_data"
    },
    {
     "data": {
      "text/html": [
       "<div style=\"background-color:#e0e0e0;margin:0;padding:10px;\"><img src=\"data:image/png;base64,iVBORw0KGgoAAAANSUhEUgAAAJgAAABNCAIAAADVUzrqAAAACXBIWXMAAA7EAAAOxAGVKw4bAAABwUlEQVR4nO3cMWoCQRxG8b2EhSAIVtpsI2ghaKGdsLAgYiEIFoJlmlhuaw7glTyByIqk2NpDJFPkCL5/k/e7wFc8ZqabbDwefwZaLBaTySRysd/vb7fbyMVOpxM5l+x2u+x0Ov0EulwuVVVFLm42m+v1GrmYzkbkXJIiGvL9DIkwJMKQBEMiDIkwJMKQBEMiDIkwJMKQBEMiDIkwJMKQBEMiDIkwJMKQBEMiDIkwJMKQBEMiDIkwJMKQBEMiDIkwJMKQBEMiDIkwJMKQBEMiDIkwJMKQBEMiDIkwJMKQBEMiDIn4LyFns9lXoOVyOZ1OIxcHg8HhcIhcbLfbkXPJer3ORqPRR6BUcTgcRi72er3VahW52Gq1IueSsiy9Wt/PNxJhSIQhCYZEGBJhSIQhCYZEGBJhSIQhCYZEGBJhSIQhCYZEGBJhSIQhCYZEGBJhSIQhCYZEGBJhSIQhCYZEGBJhSIQhCYZEGBJhSIQhCYZEGBJhSIQhCYZEGBJhSIQhCYZEGBJhSIQhCX+/epwDFUUxn88jF/M8Px6PkYvdbjdyLtnv91nTNN+BHo9HXdeRi/f7/fl8Ri7ebrfIueT1ev0Cbq6tRzBYlj8AAAAASUVORK5CYII=\"></div>"
      ],
      "text/plain": [
       "<IPython.core.display.HTML object>"
      ]
     },
     "metadata": {},
     "output_type": "display_data"
    },
    {
     "data": {
      "text/html": [
       "<div style=\"background-color:#e0e0e0;margin:0;padding:10px;\"><img src=\"data:image/png;base64,iVBORw0KGgoAAAANSUhEUgAAAOQAAABNCAIAAAA5Jl/8AAAACXBIWXMAAA7EAAAOxAGVKw4bAAACOklEQVR4nO3dMYpaYRiFYReihZ1WFoqCghYKFoLTDuICbNPE0jYBQUF0ByJMbZdywDWMRRBb9yDJHcgSzvnCN7zPBg7c+17+v7ulTqfzPdBoNOr1epGLtVptPp9HLpbL5ci5QqVSiZxbLBbVajVycTabnc/n0nK5/BNov9+vVqvIxdfX18vlErlYfP+Rc/GL9/t9PB5HLr6/vxOrBbHKEasLscoRqwuxyhGrC7HKEasLscoRqwuxyhGrC7HKEasLscoRqwuxyhGrC7HKEasLscoRqwuxyhGrC7HKEasLscoRqwuxyhGrC7HKEasLscoRqwuxyhGrC7HKEasLscoRqwuxyhGrC7HKEasLscoRqwuxyhGrC7HKEasLscoRqwuxyhGrC7HKEasLscoRqwuxyhGrC7HKEasLscoRqwuxyhGrC7HKEasLscr9i3UwGPwMNJlM+v1+5GKj0Viv178C1ev1yLn4xePx2Gq1Ihc3m81nrO12+1ugotRmsxm52O12t9vtW6Ddbhc5F794Op2KEzJysfB4PL7+NeBwOBTHVuQiTIgVaRAr0iBWpEGsSINYkQaxIg1iRRrEijSIFWkQK9IgVqRBrEiDWJEGsSINYkUaxIo0iBVpECvSIFakQaxIg1iRBrEiDWJFGsSKNIgVaRAr0iBWpEGsSINYkQaxIg1iRRrEijSIFWkQK9IgVqTx+beWH4Gm0+lwOIxcfHl5IdavoVS8yN+Brtfrx8dH5OLtdns+n//7OUPgLyD96UsFGoIBAAAAAElFTkSuQmCC\"></div>"
      ],
      "text/plain": [
       "<IPython.core.display.HTML object>"
      ]
     },
     "metadata": {},
     "output_type": "display_data"
    },
    {
     "data": {
      "text/html": [
       "<div style=\"background-color:#e0e0e0;margin:0;padding:10px;\"><img src=\"data:image/png;base64,iVBORw0KGgoAAAANSUhEUgAAAJgAAAByCAIAAAAgf4+SAAAACXBIWXMAAA7EAAAOxAGVKw4bAAACH0lEQVR4nO3UMWoCARRF0dmGjaDYaDOgoDiIWlgELGwFtbQShExjaR2wEEQXkS2kSKcbsBcL15HMIvL+wMs9G3jwL/wkTdN1oCzL2u125GK9Xp/NZpGLlUolcq6wXC6T3W73E+h8Pu/3+8jF+Xx+vV4jF3u9XuRcoYhIyL9HSAlCShBSgZAShJQgpAQhFQgpQUgJQkoQUoGQEoSUIKQEIRUIKUFICUJKEFKBkBKElCCkBCEVCClBSAlCShBSgZAShJQgpAQhFQgpQUgJQkoQUoGQEoSUIKQEIRUIKUFICUJKEFKBkBKElPgvIUej0Ueg6XQ6HA4jF9M0PRwOX4GazWbkXGGz2STdbvc9UFGx0+lELmZZdjwePwOdTqfIucLtdvN/rZfL5fl8Ri6WgpAmCGmCkCYIaYKQJghpgpAmCGmCkCYIaYKQJghpgpAmCGmCkCYIaYKQJghpgpAmCGmCkCYIaYKQJghpgpAmCGmCkCYIaYKQJghpgpAmCGmCkCYIaYKQJpJarfYWqNFoVKvVyMVWq3W/38u+s1yyWCy+A22329VqFbmY5/nj8Sj7znK8VhOENEFIE4Q0QUgThDRBSBOENEFIE4Q0QUgThDRBSBOENEFIE4Q0QUgThDRBSBOENEFIE4Q0QUgThDRBSBOENEFIE4Q0QUgThDRBSBOENEFIE4Q0QUgThDSRDAaDdaDxeNzv9yMXJ5PJ6/Uq+85yvxy2IFzuhgqaAAAAAElFTkSuQmCC\"></div>"
      ],
      "text/plain": [
       "<IPython.core.display.HTML object>"
      ]
     },
     "metadata": {},
     "output_type": "display_data"
    },
    {
     "name": "stdout",
     "output_type": "stream",
     "text": [
      "partitions - Group degree: 8, factorization: 4 * 2 = 8\n"
     ]
    },
    {
     "data": {
      "text/html": [
       "<div style=\"background-color:#e0e0e0;margin:0;padding:10px;\"><img src=\"data:image/png;base64,iVBORw0KGgoAAAANSUhEUgAAAS8AAAAnCAIAAADRmFlWAAAACXBIWXMAAA7EAAAOxAGVKw4bAAAB4UlEQVR4nO3VsYkCURSFYQsZYcw0FwwmMRAsQQPFVINJ19AaRMVEMFGEDYyFze3DSnZfEfec4O7/N3B4cL+Zzmg0+jI2mUyapnEu9vv9xWLhXKyqyjlX6na7zrn1et3r9ZyL/rOp63qz2TgXp9NpZ7vd/ho7nU673c65OJ/P3++3c7F84Jxz/sXP51NOx7noP5vywPJM52KRiMb40BgeGiWhMcEiGhWhURIaw0OjJDQmWESjIjRKQmN4aJSExgSLaFSERkloDA+NktCYYBGNitAoCY3hoVESGhMsolERGiWhMTw0SkJjgkU0KkKjJDSGh0ZJaEywiEZFaJSExvDQKAmNCRbRqAiNktAYHholoTHBIhoVoVESGsNDoyQ0JlhEoyI0SkJjeGiUhMYEi2hUhEZJaAwPjZLQmGARjYrQKAmN4aFREhoTLKJRERoloTE8NEpCY4JFNCpCoyQ0hodGSWhMsIhGRWiUhMbw0CgJjQkW0agIjZLQGB4aJaExwSIaFaFREhrD+y8aZ7PZj7G2bZfLpXNxPB7v93vn4mAwcM75F+/3+3A4dC76z6Y8sDzTubharTrP5/Pb2PV6vVwuzsXz+Xy73ZyLh8PBOedffDwe5WflXPSfzfF4LM90Lr5erz/OzuPWtvNytwAAAABJRU5ErkJggg==\"></div>"
      ],
      "text/plain": [
       "<IPython.core.display.HTML object>"
      ]
     },
     "metadata": {},
     "output_type": "display_data"
    },
    {
     "data": {
      "text/html": [
       "<div style=\"background-color:#e0e0e0;margin:0;padding:10px;\"><img src=\"data:image/png;base64,iVBORw0KGgoAAAANSUhEUgAAAJgAAABNCAIAAADVUzrqAAAACXBIWXMAAA7EAAAOxAGVKw4bAAABwUlEQVR4nO3cMWoCQRxG8b2EhSAIVtpsI2ghaKGdsLAgYiEIFoJlmlhuaw7glTyByIqk2NpDJFPkCL5/k/e7wFc8ZqabbDwefwZaLBaTySRysd/vb7fbyMVOpxM5l+x2u+x0Ov0EulwuVVVFLm42m+v1GrmYzkbkXJIiGvL9DIkwJMKQBEMiDIkwJMKQBEMiDIkwJMKQBEMiDIkwJMKQBEMiDIkwJMKQBEMiDIkwJMKQBEMiDIkwJMKQBEMiDIkwJMKQBEMiDIkwJMKQBEMiDIkwJMKQBEMiDIkwJMKQBEMiDIn4LyFns9lXoOVyOZ1OIxcHg8HhcIhcbLfbkXPJer3ORqPRR6BUcTgcRi72er3VahW52Gq1IueSsiy9Wt/PNxJhSIQhCYZEGBJhSIQhCYZEGBJhSIQhCYZEGBJhSIQhCYZEGBJhSIQhCYZEGBJhSIQhCYZEGBJhSIQhCYZEGBJhSIQhCYZEGBJhSIQhCYZEGBJhSIQhCYZEGBJhSIQhCYZEGBJhSIQhCX+/epwDFUUxn88jF/M8Px6PkYvdbjdyLtnv91nTNN+BHo9HXdeRi/f7/fl8Ri7ebrfIueT1ev0Cbq6tRzBYlj8AAAAASUVORK5CYII=\"></div>"
      ],
      "text/plain": [
       "<IPython.core.display.HTML object>"
      ]
     },
     "metadata": {},
     "output_type": "display_data"
    },
    {
     "data": {
      "text/html": [
       "<div style=\"background-color:#e0e0e0;margin:0;padding:10px;\"><img src=\"data:image/png;base64,iVBORw0KGgoAAAANSUhEUgAAAOQAAABNCAIAAAA5Jl/8AAAACXBIWXMAAA7EAAAOxAGVKw4bAAACOklEQVR4nO3dMYpaYRiFYReihZ1WFoqCghYKFoLTDuICbNPE0jYBQUF0ByJMbZdywDWMRRBb9yDJHcgSzvnCN7zPBg7c+17+v7ulTqfzPdBoNOr1epGLtVptPp9HLpbL5ci5QqVSiZxbLBbVajVycTabnc/n0nK5/BNov9+vVqvIxdfX18vlErlYfP+Rc/GL9/t9PB5HLr6/vxOrBbHKEasLscoRqwuxyhGrC7HKEasLscoRqwuxyhGrC7HKEasLscoRqwuxyhGrC7HKEasLscoRqwuxyhGrC7HKEasLscoRqwuxyhGrC7HKEasLscoRqwuxyhGrC7HKEasLscoRqwuxyhGrC7HKEasLscoRqwuxyhGrC7HKEasLscoRqwuxyhGrC7HKEasLscoRqwuxyhGrC7HKEasLscoRqwuxyhGrC7HKEasLscr9i3UwGPwMNJlM+v1+5GKj0Viv178C1ev1yLn4xePx2Gq1Ihc3m81nrO12+1ugotRmsxm52O12t9vtW6Ddbhc5F794Op2KEzJysfB4PL7+NeBwOBTHVuQiTIgVaRAr0iBWpEGsSINYkQaxIg1iRRrEijSIFWkQK9IgVqRBrEiDWJEGsSINYkUaxIo0iBVpECvSIFakQaxIg1iRBrEiDWJFGsSKNIgVaRAr0iBWpEGsSINYkQaxIg1iRRrEijSIFWkQK9IgVqTx+beWH4Gm0+lwOIxcfHl5IdavoVS8yN+Brtfrx8dH5OLtdns+n//7OUPgLyD96UsFGoIBAAAAAElFTkSuQmCC\"></div>"
      ],
      "text/plain": [
       "<IPython.core.display.HTML object>"
      ]
     },
     "metadata": {},
     "output_type": "display_data"
    },
    {
     "name": "stdout",
     "output_type": "stream",
     "text": [
      "partitions - Group degree: 9, factorization: 3 * 3 = 9\n"
     ]
    },
    {
     "data": {
      "text/html": [
       "<div style=\"background-color:#e0e0e0;margin:0;padding:10px;\"><img src=\"data:image/png;base64,iVBORw0KGgoAAAANSUhEUgAAAVUAAAAnCAIAAAAw80wHAAAACXBIWXMAAA7EAAAOxAGVKw4bAAACBElEQVR4nO3VMY5BYRiFYQshoaOX3EKjkFgCxVWjEN0orUEQjURDJFPYwPS3sQormflnD+ec6n02cPIn33tvq6qqr6DJZDIajZKL/X6/ruvkYrvdTs4VnU4nObdarXq9XnIxfzbdbne9XicX82ezXC5bu93uN+h8Pu/3++TifD5vmia5WD6pybn84ufzmU6nycX82ZQHlmcmF/NnU9qnfz36l6N/B/q3oH85+negfwv6l6N/B/q3oH85+negfwv6l6N/B/q3oH85+negfwv6l6N/B/q3oH85+negfwv6l6N/B/q3oH85+negfwv6l6N/B/q3oH85+negfwv6l6N/B/q3oH85+negfwv6l6N/B/q3oH85+negfwv6l6N/B/q3oH85+negfwv6l6N/B/q3oH85+negfwv6l6N/B/q3oH85+negfwv6l6N/B/q3oH85+negfwv6l6N/B/q3oH85+negfwv6l6N/B/q3oH85+negfwv6l6N/B/q3oH85+negfwv6l6N/B/q3oH85+negfwv6l6N/B/q3oH85+negfwv6l6N/h//+Z7PZT9Bms1ksFsnF8Xh8OBySi4PBIDmXX3w8HsPhMLmYP5vywPLM5GL+bLbbbev1en0H3W636/WaXLxcLvf7Pbl4PB6Tc/nF5/NZfsjJxfzZnE6n8szkYv5s3u/3HwP1WbMaWuRIAAAAAElFTkSuQmCC\"></div>"
      ],
      "text/plain": [
       "<IPython.core.display.HTML object>"
      ]
     },
     "metadata": {},
     "output_type": "display_data"
    },
    {
     "data": {
      "text/html": [
       "<div style=\"background-color:#e0e0e0;margin:0;padding:10px;\"><img src=\"data:image/png;base64,iVBORw0KGgoAAAANSUhEUgAAAQoAAABNCAIAAADRg73+AAAACXBIWXMAAA7EAAAOxAGVKw4bAAACeElEQVR4nO3dMUqcURSGYReihZ1WFoqCwlgoWAjaWmhjZWORJpaWJmAhyEw1MJUIwR2kdw1aBHEH9iLJuIDTBM+RnDzPBj74ue/ldv/M2tra10Lb29sbGxuViwsLC4eHh5WLs7OzlXNTc3NzlXMnJyfz8/OVi/XHZjAYvLy8zJydnf0uNBwOz8/PKxcPDg7u7+8rF6c3TuVc/eLz8/POzk7lYv2xubi4kEcKeXw4eWSRx4eTRxZ5NFiURxZ5NFiURxZ5NFiURxZ5NFiURxZ5NFiURxZ5NFiURxZ5NFiURxZ5NFiURxZ5NFiURxZ5NFiURxZ5NFiURxZ5NFiURxZ5NFiURxZ5NFiURxZ5NFiURxZ5NFiURxZ5NFiURxZ5NFiURxZ5NFiURxZ5NFiURxZ5NFiURxZ5NFiURxZ5NFiURxZ5NFiURxZ5NFiURxZ5NFiURxZ5NFiURxZ5NFiURxZ5NFiURxZ5NFiURxZ5NFiURxZ5NFiURxZ5NFj8j/LY3Nz8Xmh3d3cwGFQuLi0tXV5e/iy0uLhYOVe/eHNzs7KyUrl4enp6dHRUuXh8fPyex+rq6pdC0zaWl5crF9fX16+urn4Uur6+rpyrX7y9vZ1e55WLk8lkPB5XLt7d3b2+vvZ/XI1Go+ljoHKRNuQBIXlASB4QkgeE5AEheUBIHhCSB4TkASF5QEgeEJIHhOQBIXlASB4QkgeE5AEheUBIHhCSB4TkASF5QEgeEJIHhOQBIXlASB4QkgeE5AEheUBIHhCSB4TkASF5QEgeEHr/M+23Qnt7e1tbW5WL+/v78uDvzEyPzq9Cj4+PDw8PlYtPT09vb2+f/Z35J/0B7jUsU53OVGMAAAAASUVORK5CYII=\"></div>"
      ],
      "text/plain": [
       "<IPython.core.display.HTML object>"
      ]
     },
     "metadata": {},
     "output_type": "display_data"
    },
    {
     "data": {
      "text/html": [
       "<div style=\"background-color:#e0e0e0;margin:0;padding:10px;\"><img src=\"data:image/png;base64,iVBORw0KGgoAAAANSUhEUgAAAOQAAABNCAIAAAA5Jl/8AAAACXBIWXMAAA7EAAAOxAGVKw4bAAAChUlEQVR4nO3dMWoCYRRFYReiiFba2ChaCFooWIhWFiLWomWaWNomlYW4BBFS26UUXIIokmLAyk0kE8gS7n2B5HwbuMz8Z5jpJtNoNJ4DdbvdZrMZuVgqlabTaeRiNpuNnEvlcrnIufl8XigUIhcnk8nhcMgsl8vPQNvtdrVaRS6Ox+PT6RS5mD7/kXPxi0mS9Hq9yMXj8UisFsQqR6wuxCpHrC7EKkesLsQqR6wuxCpHrC7EKkesLsQqR6wuxCpHrC7EKkesLsQqR6wuxCpHrC7EKkesLsQqR6wuxCpHrC7EKkesLsQqR6wuxCpHrC7EKkesLsQqR6wuxCpHrC7EKkesLsQqR6wuxCpHrC7EKkesLsQqR6wuxCpHrC7EKkesLsQqR6wuxCpHrC7EKkesLsQqR6wuxCpHrC7EKkesLsQqR6wuxCr3E2u73X4N1O/3W61W5GK5XJ7NZpGL+Xz+PVZ6jZFzu92uVqtFLq7X6+9Y6/X6U6C01Gq1GrlYLBZHo1HkYnqBb7E2m03k3H6/T9+QkYupx+PBZ4Be8C39P4hVj1hNiFWPWE2IVY9YTYhVj1hNiFWPWE2IVY9YTYhVj1hNiFWPWE2IVY9YTYhVj1hNiFWPWE2IVY9YTYhVj1hNiFWPWE2IVY9YTYhVj1hNiFWPWE2IVY9YTYhVj1hNiFWPWE2IVY9YTYhVj1hNiFWPWE2IVY9YTYhVj1hNiFWPWE2IVY9YTYhVj1hNiFWPWE2IVY9YTYhVj1hNiFWPWE2IVY9YTYhVj1hNiFWPWE2+/9byEmg4HHY6ncjFSqWyWCwiFweDwW8f69+USZLkI9D1er1cLpGL5/P5drtFLt7v998+1r/pC22WFT7E5nZ6AAAAAElFTkSuQmCC\"></div>"
      ],
      "text/plain": [
       "<IPython.core.display.HTML object>"
      ]
     },
     "metadata": {},
     "output_type": "display_data"
    },
    {
     "data": {
      "text/html": [
       "<div style=\"background-color:#e0e0e0;margin:0;padding:10px;\"><img src=\"data:image/png;base64,iVBORw0KGgoAAAANSUhEUgAAAJgAAAByCAIAAAAgf4+SAAAACXBIWXMAAA7EAAAOxAGVKw4bAAACP0lEQVR4nO3VMaqaURRFYSdhYSXa2SgoKIpoG7AQQUTQSniCZSpL26SzERyIpZBCcARiIxmBg0j+zOGtEzhvfRPYXBacW2q1Wh+BBoNBu92OXKzX69PpNHKxUqlEzhXW63Vpv9//CXQ6nQ6HQ+Ticrm83++Ri71eL3KuUEQ05OczJMKQCEMSDIkwJMKQCEMSDIkwJMKQCEMSDIkwJMKQCEMSDIkwJMKQCEMSDIkwJMKQCEMSDIkwJMKQCEMSDIkwJMKQCEMSDIkwJMKQCEMSDIkwJMKQCEMSDIkwJMKQCEMSDIkwJOKrhByPxz8DTSaT0WgUudhoNLbbbeRipVKJnCssFotSt9v9Hqio2Ol0Ihfr9fp8Po9cLJfLkXOF2Wzmaf18/pEIQyIMSTAkwpAIQyIMSTAkwpAIQyIMSTAkwpAIQyIMSTAkwpAIQyIMSTAkwpAIQyIMSTAkwpAIQyIMSTAkwpAIQyIMSTAkwpAIQyIMSTAkwpAIQyIMSTAkwpAIQyIMSTAkwpAIQyIMSfgXslarfQvUaDT6/f6PQM1mc7fbRS5Wq9XIucJmsymtVqtfgY7H4/l8/h3o+Xy+Xq/IxcfjETlXeL/f0af1drtdLpfIxS/CkEkYMglDJmHIJAyZhCGTMGQShkzCkEkYMglDJmHIJAyZhCGTMGQShkzCkEkYMglDJmHIJAyZhCGTMGQShkzCkEkYMglDJmHIJAyZhCGTMGQShkzCkEkYMglDJlEaDocfgWaz2fV6/d+vTugv2pVVi9PWUGMAAAAASUVORK5CYII=\"></div>"
      ],
      "text/plain": [
       "<IPython.core.display.HTML object>"
      ]
     },
     "metadata": {},
     "output_type": "display_data"
    },
    {
     "data": {
      "text/html": [
       "<div style=\"background-color:#e0e0e0;margin:0;padding:10px;\"><img src=\"data:image/png;base64,iVBORw0KGgoAAAANSUhEUgAAAL4AAAByCAIAAABiPPwFAAAACXBIWXMAAA7EAAAOxAGVKw4bAAACbklEQVR4nO3VIUolYBSG4bsNDYJi0XJBQfEiajAMGKyCiMkqjMVolAGDILqISfYJ01yBySIGuzuYcbbwwTnCP8+zgQ8OL5zJdDo9azSbzdbW1joXl5aWDg8POxfn5uY65z7Nz893zp2enl5fX08uLy//NLq/v7+6uupcPDo6enp66lzc3NzsnOtf/Pj4kE4J6ZSQzgCL0qkinRLSGWBROlWkU0I6AyxKp4p0SkhngEXpVJFOCekMsCidKtIpIZ0BFqVTRTolpDPAonSqSKeEdAZYlE4V6ZSQzgCL0qkinRLSGWBROlWkU0I6AyxKp4p0SkhngEXpVJFOCekMsCidKtIpIZ0BFqVTRTolpDPAonSqSKeEdAZYlE4V6ZSQzgCL0qnyv6Szu7v7o9HBwcHOzk7n4nQ6vbm5+dVoZWWlc65/8fHx8V86Gxsb3xt9drO+vt65OJvNbm9vfza6u7vrnPuSxZeXl/Ef1sPDw9vbW+fif0I6hKRDSDqEpENIOoSkQ0g6hKRDSDqEpENIOoSkQ0g6hKRDSDqEpENIOoSkQ0g6hKRDSDqEpENIOoSkQ0g6hKRDSDqEpENIOoSkQ0g6hKRDSDqEpENIOoQmi4uL3xotLy8vLCx0Lq6urj4/P3/1nQc0OT4+/t3o/Pz85OSkc/Hi4uL19fWr7zwgD4uQdAhJh5B0CEmHkHQISYeQdAhJh5B0CEmHkHQISYeQdAhJh5B0CEmHkHQISYeQdAhJh5B0CEmHkHQISYeQdAhJh5B0CEmHkHQISYeQdAhJh5B0CEmHkHQITba3t88a7e3tbW1tdS7u7++/v79/9Z0H9Bdz1dXMfw8otAAAAABJRU5ErkJggg==\"></div>"
      ],
      "text/plain": [
       "<IPython.core.display.HTML object>"
      ]
     },
     "metadata": {},
     "output_type": "display_data"
    },
    {
     "name": "stdout",
     "output_type": "stream",
     "text": [
      "partitions - Group degree: 10, factorization: 2 * 5 = 10\n"
     ]
    },
    {
     "data": {
      "text/html": [
       "<div style=\"background-color:#e0e0e0;margin:0;padding:10px;\"><img src=\"data:image/png;base64,iVBORw0KGgoAAAANSUhEUgAAAXsAAAAnCAIAAABhZ39kAAAACXBIWXMAAA7EAAAOxAGVKw4bAAACYUlEQVR4nO2WIYoCYBgFPYiCNu2CwWIQPIIG7RrEtkajWVQsgkURDGLf7iVM3sAb7P4Le4X3wvDmAo8PhuGrdDqdLyP9fr/b7ToXm83meDx2LlarVedcoVarOeem02mj0XAu+rWp1+uz2cy56NfGvLhYLNbrdWW5XP4Y2e/3q9XKuTgajZ7Pp3OxRNw55198v9+DwcC56NemHFjOdC7itfl8PimOBLw6KY4CvDYpjgq8OimOArw2KY4KvDopjgK8NimOCrw6KY4CvDYpjgq8OimOArw2KY4KvDopjgK8NimOCrw6KY4CvDYpjgq8OimOArw2KY4KvDopjgK8NimOCrw6KY4CvDYpjgq8OimOArw2KY4KvDopjgK8NimOCrw6KY4CvDYpjgq8OimOArw2KY4KvDopjgK8NimOCrw6KY4CvDYpjgq8OimOArw2KY4KvDopjgK8NimOCrw6KY4CvDYpjgq8OimOArw2KY4KvDopjgK8NimOCrw6KY4CvDYpjgq8OimOArw2KY4KvDopjgK8NimOCrw6KY4CvDYpjgq8OimOArw2KY4KvDopjgK8NimOCrw6KY4CvDYpjgq8OimOArw2KY4KvDopjgK8NimOCrw6KY4CvDYpjgq8OimOArw2KY4KvDopjgK8NimOCrw6KY4CvDYpjgq8OimOArw2/8UZDoffRubz+WQycS72er3NZuNcbLVazjn/4uVyabfbzkW/NuXAcqZzEa/N4/H4K879fr8ZOZ1Ox+PRuXg4HM7ns3Nxu9065/yL1+u1PB3ORb82u92unOlcxGtTeL1ev4VPz8YtObvfAAAAAElFTkSuQmCC\"></div>"
      ],
      "text/plain": [
       "<IPython.core.display.HTML object>"
      ]
     },
     "metadata": {},
     "output_type": "display_data"
    },
    {
     "data": {
      "text/html": [
       "<div style=\"background-color:#e0e0e0;margin:0;padding:10px;\"><img src=\"data:image/png;base64,iVBORw0KGgoAAAANSUhEUgAAAS8AAABNCAIAAAB493VqAAAACXBIWXMAAA7EAAAOxAGVKw4bAAACtElEQVR4nO3WPUpdURSG4TsQBe20slAUFLyFFywEbS0UWy0s0uSWtglYXPCnEqxEyAiE9I5BiyAORJIzg0DYa2Vl53km8LEP+z3njDY2Nj4nmkwmW1tbmYtLS0tHR0eZi3Nzc5lzg/n5+cy509PTxcXFzMX8a7OwsHB2dpa5uLu7O5pOpz8T3dzcXFxcZC4eHh4+Pz9nLg4vuMy5/MX39/fh6mQu5l+b4YDDMTMXhxLV2J4am1NjCDV2sKjGCGoMocbm1BhCjR0sqjGCGkOosTk1hlBjB4tqjKDGEGpsTo0h1NjBohojqDGEGptTYwg1drCoxghqDKHG5tQYQo0dLKoxghpDqLE5NYZQYweLaoygxhBqbE6NIdTYwaIaI6gxhBqbU2MINXawqMYIagyhxubUGEKNHSyqMYIaQ6ixOTWGUGMHi2qMoMYQamxOjSHU2MGiGiOoMYQam1NjCDV2sKjGCGoMocbm1BhCjR0sqjGCGkOosTk1hlBjB4tqjKDGEGpsTo0h1NjBohojqDGEGptTYwg1drCoxghqDKHG5v6XGsfj8ddEe3t729vbmYsrKyuXl5ffEy0vL2fO5S8+PDysra1lLp6fnx8fH2cuDgccjpm5eHJyMlpfX/+UaEhxdXU1c3Fzc3M2m31LdHV1lTmXv/j4+Dh8rDIX7+/v7+7uMhevr6+HY2YuPj099f+nent7m/zLAX9GjVCFGqEKNUIVaoQq1AhVqBGqUCNUoUaoQo1QhRqhCjVCFWqEKtQIVagRqlAjVKFGqEKNUIUaoQo1QhVqhCrUCFWoEapQI1ShRqhCjVCFGqEKNUIVaoQq1AhVqBGqUCNUoUaoQo1QhRqhCjVCFaPxePwl0f7+/s7OTubiwcGBGvknjIab+iPR6+vry8tL5uLb29vHx8fffs7we78AR5WRSSAhvFIAAAAASUVORK5CYII=\"></div>"
      ],
      "text/plain": [
       "<IPython.core.display.HTML object>"
      ]
     },
     "metadata": {},
     "output_type": "display_data"
    },
    {
     "data": {
      "text/html": [
       "<div style=\"background-color:#e0e0e0;margin:0;padding:10px;\"><img src=\"data:image/png;base64,iVBORw0KGgoAAAANSUhEUgAAAE0AAAC+CAIAAAD/bRVQAAAACXBIWXMAAA7EAAAOxAGVKw4bAAAB8klEQVR4nO3aL4pCYRhG8bsFQQWLIBgGq6BB0KDCgMUuVsGijOFesZhFq25nFqFFi7iBAVcwf2C2cF7DPb8NPBy+N35Ju91OAw0Gg06nE7k4HA4fj0eSZdl3oOPxuN1uIxdPp5OdGDspdpLspNhJspNiJ8lOip0kOyl2kuyk2Emyk2InyU6KnSQ7KXaS7KTYSbKTYifpZZ29Xm8XaDQadbvdyMXxeHy9XpNWq/UR6Dey2WxGLvb7/dvtlpu7tRNhJ8VOkp0UO0l2Uuwk2Umxk2QnxU6SnRQ7SXZS7CTZSbGTZCfFTpKdFDtJdlLsJL2ss1arvQeq1+vVajVysdFoXC6XZDKZfAZaLBbT6TRycbVa3e/33NytnQg7KXaS7KTYSbKTYifJToqdJDspdpLspNhJspNiJ8lOip0kOyl2kuyk2Emyk2In6WWdpVLpLVCxWCwUCpGLlUrlfD7n5j3tRNhJsZNkJ8VOkp0UO0l2Uuwk2Umxk2QnxU6SnRQ7SXZS7CTZSbGTZCfFTpKdFDtJdlL+O8vlcuTvD/+bUHJ2t3Yi7KTYSbKTYifJToqdJDspdpLspNhJspNiJ8lOip0kOyl2kuyk2Emyk2InyU5KzjqXy+VXoP1+n6Zp5OLhcPjr3Gw2aaD5fD6bzSIX1+v18/n8Afp8Qhx7G3y+AAAAAElFTkSuQmCC\"></div>"
      ],
      "text/plain": [
       "<IPython.core.display.HTML object>"
      ]
     },
     "metadata": {},
     "output_type": "display_data"
    },
    {
     "data": {
      "text/html": [
       "<div style=\"background-color:#e0e0e0;margin:0;padding:10px;\"><img src=\"data:image/png;base64,iVBORw0KGgoAAAANSUhEUgAAAOQAAABNCAIAAAA5Jl/8AAAACXBIWXMAAA7EAAAOxAGVKw4bAAAClUlEQVR4nO3dIcpiYRyFcTdhEBTRpMWiaFA0KBgEk0HEZBCNU8ZonUkmlyDCZNtEwRWIKDLhVl3EzP1glnDO3/L8NnDC+1zet91Mq9X6HmgwGLTb7cjFSqUyn88jF/P5fORcqlAoRM6tVqtSqRS5OJvNTqdTZrPZ/A203++3223k4nQ6vVwukYvp9x85F7+YJMlwOIxcPJ/PxGpBrHLE6kKscsTqQqxyxOpCrHLE6kKscsTqQqxyxOpCrHLE6kKscsTqQqxyxOpCrHLE6kKscsTqQqxyxOpCrHLE6kKscsTqQqxyxOpCrHLE6kKscsTqQqxyxOpCrHLE6kKscsTqQqxyxOpCrHLE6kKscsTqQqxyxOpCrHLE6kKscsTqQqxyxOpCrHLE6kKscsTqQqxyxOpCrHLE6kKscsTqQqxyxOpCrHLE6kKscv9j7fV6PwONRqNutxu5WK1Wl8tl5GIul4ucS5VKpd+BDodDo9GIXNztdl+xNpvNb4HSUuv1euRiuVyeTCaRi9lsNnIu1el0fgU6Ho/pDRm5mHq9XjwD9OKfAcGH+CnEqkesJsSqR6wmxKpHrCbEqkesJsSqR6wmxKpHrCbEqkesJsSqR6wmxKpHrCbEqkesJsSqR6wmxKpHrCbEqkesJsSqR6wmxKpHrCbEqkesJsSqR6wmxKpHrCbEqkesJsSqR6wmxKpHrCbEqkesJsSqR6wmxKpHrCbEqkesJsSqR6wmxKpHrCbEqkesJsSqR6wmxKpHrCbEqkesJsSqR6wmxKpHrCbEqkesJsSqR6wmX39r+RFoPB73+/3IxVqttl6vIxeLxWLkXGqxWHw6pAiZJEn+BHo8Hvf7PXLxdrs9n8/Ixev1GjmXer/fnw4pwj+8SEu9tb2NhQAAAABJRU5ErkJggg==\"></div>"
      ],
      "text/plain": [
       "<IPython.core.display.HTML object>"
      ]
     },
     "metadata": {},
     "output_type": "display_data"
    },
    {
     "data": {
      "text/html": [
       "<div style=\"background-color:#e0e0e0;margin:0;padding:10px;\"><img src=\"data:image/png;base64,iVBORw0KGgoAAAANSUhEUgAAAOQAAAByCAIAAADMCuqEAAAACXBIWXMAAA7EAAAOxAGVKw4bAAACw0lEQVR4nO3WwSomUBjG8e82SIps2HyFyJewUKYkW5KlrRobS+spRYk7kJq13SxmoVyBvSxs3MTMNzWX8J6jR7/fDTz19q9zBsPh8KSj0Wi0uLjYc3F2dnZ/f7/n4sTERM+5scnJyZ5zh4eHU1NTPRf39vYeHx8H5+fnfzq6vb29uLjouXhwcPD8/NxzcXV1tedc/8W3t7ednZ2ei09PT2JtQqzlxNqKWMuJtRWxlhNrK2ItJ9ZWxFpOrK2ItZxYWxFrObG2ItZyYm1FrOXE2opYy4m1FbGWE2srYi0n1lbEWk6srYi1nFhbEWs5sbYi1nJibUWs5cTailjLibUVsZYTaytiLSfWVsRaTqytiLWcWFsRazmxtiLWcmJtRazlxNqKWMuJtRWxlhNrK2ItJ9ZWxFpOrK2ItZxYWxFrObG2ItZyYm1FrOXE2opYy4m1FbGW+x/r5ubmj452d3c3NjZ6Lg6Hw8vLy18dzc/P95zrv3h/f7+8vNxz8erq6l+sKysr3zsal7q0tNRzcTQaXV9f/+zo5uam51z/xYeHh/EL2XNx7OPj4+t/A+7u7sbPVs9FGhErMcRKDLESQ6zEECsxxEoMsRJDrMQQKzHESgyxEkOsxBArMcRKDLESQ6zEECsxxEoMsRJDrMQQKzHESgyxEkOsxBArMcRKDLESQ6zEECsxxEoMsRJDrMQQKzHESgyxEmMwMzPzraO5ubnp6emeiwsLCy8vL599ZwoMjo6Ofnd0enp6fHzcc/Hs7Oz19fWz70wB3wBiiJUYYiWGWIkhVmKIlRhiJYZYiSFWYoiVGGIlhliJIVZiiJUYYiWGWIkhVmKIlRhiJYZYiSFWYoiVGGIlhliJIVZiiJUYYiWGWIkhVmKIlRhiJYZYiSFWYoiVGGIlhliJMVhfXz/paGtra21trefi9vb2+/v7Z9+ZAn8BNLGEf4nlC+wAAAAASUVORK5CYII=\"></div>"
      ],
      "text/plain": [
       "<IPython.core.display.HTML object>"
      ]
     },
     "metadata": {},
     "output_type": "display_data"
    },
    {
     "data": {
      "text/html": [
       "<div style=\"background-color:#e0e0e0;margin:0;padding:10px;\"><img src=\"data:image/png;base64,iVBORw0KGgoAAAANSUhEUgAAAJgAAAByCAIAAAAgf4+SAAAACXBIWXMAAA7EAAAOxAGVKw4bAAACS0lEQVR4nO3VMWqiYRRGYTchaKNEbKyECAZF1MJiwCIEQhCMjRI7haksbWcWoNsZbFyB7RQWVi5i5p895NzAnfNs4IXvwP1K7Xb7I1C/3398fIxcbDQaz8/PkYvVajVyrvD+/l7a7XZ/Ah0Oh/1+H7k4m83O53Pk4tPTU+RcoYhoyM9nSIQhEYYkGBJhSIQhEYYkGBJhSIQhEYYkGBJhSIQhEYYkGBJhSIQhEYYkGBJhSIQhEYYkGBJhSIQhEYYkGBJhSIQhEYYkGBJhSIQhEYYkGBJhSIQhEYYkGBJhSIQhEYYkGBJhSMT/EnI0Gv0MNJ1Oh8Nh5GKr1Vqv15GL1Wo1cq7w9vZW6na73wMVFTudTuRio9F4fX2NXCyXy5FzhZeXF0/r5/OPRBgSYUiCIRGGRBgSYUiCIRGGRBgSYUiCIRGGRBgSYUiCIRGGRBgSYUiCIRGGRBgSYUiCIRGGRBgSYUiCIRGGRBgSYUiCIRGGRBgSYUiCIRGGRBgSYUiCIRGGRBgSYUiCIRGGRBgSYUjCv5APDw/fAjWbzVqtFrlYqVRWq9WPQPV6PXKusFwuS/P5/Feg7Xa7WCwiFzebzel0+h3ocrlEzhXu93v+03o8Hq/Xa+TilzBkEoZMwpBJGDIJQyZhyCQMmYQhkzBkEoZMwpBJGDIJQyZhyCQMmYQhkzBkEoZMwpBJGDIJQyZhyCQMmYQhkzBkEoZMwpBJGDIJQyZhyCQMmYQhkzBkEoZMwpBJlAaDwUeg8Xjc6/UiFyeTye12++p3xv0F0laClTDLokEAAAAASUVORK5CYII=\"></div>"
      ],
      "text/plain": [
       "<IPython.core.display.HTML object>"
      ]
     },
     "metadata": {},
     "output_type": "display_data"
    },
    {
     "data": {
      "text/html": [
       "<div style=\"background-color:#e0e0e0;margin:0;padding:10px;\"><img src=\"data:image/png;base64,iVBORw0KGgoAAAANSUhEUgAAAJgAAACYCAIAAACXoLd2AAAACXBIWXMAAA7EAAAOxAGVKw4bAAACnElEQVR4nO3UMUqjYRhF4X8LghZCCAgW0SZFIIJCbCxGhLQxqKSaKhAYi0lpPWAhiC5itjDFdHEB2ofULmLmX8TcN3DmPBu48B6+rzk5Ofle6OLi4uzsrHKx1+vd3t5WLnY6ncq51mw2a5bL5Z9CLy8vDw8PlYvX19er1apysX0blXOtNqIh/z1DRhgywpAJhowwZIQhIwyZYMgIQ0YYMsKQCYaMMGSEISMMmWDICENGGDLCkAmGjDBkhCEjDJlgyAhDRhgywpAJhowwZIQhIwyZYMgIQ0YYMsKQCYaMMGSEISMMmWDICENGGDLCkAmGjDBkxP8S8vz8/Eehq6ur0WhUudjv9x8fH38VOjo6qpxrzefzZjgcfivUVhwMBpWLp6enT09PPws9Pz9XzrXe3t74X+vr6+tms6lc3ApDQhgSwpAQhoQwJIQhIQwJYUgIQ0IYEsKQEIaEMCSEISEMCWFICENCGBLCkBCGhDAkhCEhDAlhSAhDQhgSwpAQhoQwJIQhIQwJYUgIQ0IYEsKQEM3BwcGXQoeHh91ut3Lx+Pj44+Nj23eOa25ubn4XWiwWd3d3lYv39/fr9Xrbd47za4UwJIQhIQwJYUgIQ0IYEsKQEIaEMCSEISEMCWFICENCGBLCkBCGhDAkhCEhDAlhSAhDQhgSwpAQhoQwJIQhIQwJYUgIQ0IYEsKQEIaEMCSEISEMCdHs7e31Cu3u7u7s7FQu7u/vv7+/b/vOcb5ICENCGBLCkBCGhDAkhCEhDAlhSAhDQhgSwpAQhoQwJIQhIQwJYUgIQ0IYEsKQEIaEMCSEISEMCWFICENCGBLCkBCGhDAkhCEhDAlhSAhDQhgSwpAQhoRoJpPJ10Lj8fjy8rJycTqdfn5+bvvOcX8B8VwTJ4rqROIAAAAASUVORK5CYII=\"></div>"
      ],
      "text/plain": [
       "<IPython.core.display.HTML object>"
      ]
     },
     "metadata": {},
     "output_type": "display_data"
    },
    {
     "name": "stdout",
     "output_type": "stream",
     "text": [
      "partitions - Group degree: 10, factorization: 5 * 2 = 10\n"
     ]
    },
    {
     "data": {
      "text/html": [
       "<div style=\"background-color:#e0e0e0;margin:0;padding:10px;\"><img src=\"data:image/png;base64,iVBORw0KGgoAAAANSUhEUgAAAXsAAAAnCAIAAABhZ39kAAAACXBIWXMAAA7EAAAOxAGVKw4bAAACYUlEQVR4nO2WIYoCYBgFPYiCNu2CwWIQPIIG7RrEtkajWVQsgkURDGLf7iVM3sAb7P4Le4X3wvDmAo8PhuGrdDqdLyP9fr/b7ToXm83meDx2LlarVedcoVarOeem02mj0XAu+rWp1+uz2cy56NfGvLhYLNbrdWW5XP4Y2e/3q9XKuTgajZ7Pp3OxRNw55198v9+DwcC56NemHFjOdC7itfl8PimOBLw6KY4CvDYpjgq8OimOArw2KY4KvDopjgK8NimOCrw6KY4CvDYpjgq8OimOArw2KY4KvDopjgK8NimOCrw6KY4CvDYpjgq8OimOArw2KY4KvDopjgK8NimOCrw6KY4CvDYpjgq8OimOArw2KY4KvDopjgK8NimOCrw6KY4CvDYpjgq8OimOArw2KY4KvDopjgK8NimOCrw6KY4CvDYpjgq8OimOArw2KY4KvDopjgK8NimOCrw6KY4CvDYpjgq8OimOArw2KY4KvDopjgK8NimOCrw6KY4CvDYpjgq8OimOArw2KY4KvDopjgK8NimOCrw6KY4CvDYpjgq8OimOArw2KY4KvDopjgK8NimOCrw6KY4CvDYpjgq8OimOArw2KY4KvDopjgK8NimOCrw6KY4CvDYpjgq8OimOArw2KY4KvDopjgK8NimOCrw6KY4CvDYpjgq8OimOArw2/8UZDoffRubz+WQycS72er3NZuNcbLVazjn/4uVyabfbzkW/NuXAcqZzEa/N4/H4K879fr8ZOZ1Ox+PRuXg4HM7ns3Nxu9065/yL1+u1PB3ORb82u92unOlcxGtTeL1ev4VPz8YtObvfAAAAAElFTkSuQmCC\"></div>"
      ],
      "text/plain": [
       "<IPython.core.display.HTML object>"
      ]
     },
     "metadata": {},
     "output_type": "display_data"
    },
    {
     "data": {
      "text/html": [
       "<div style=\"background-color:#e0e0e0;margin:0;padding:10px;\"><img src=\"data:image/png;base64,iVBORw0KGgoAAAANSUhEUgAAAS8AAABNCAIAAAB493VqAAAACXBIWXMAAA7EAAAOxAGVKw4bAAACtElEQVR4nO3WPUpdURSG4TsQBe20slAUFLyFFywEbS0UWy0s0uSWtglYXPCnEqxEyAiE9I5BiyAORJIzg0DYa2Vl53km8LEP+z3njDY2Nj4nmkwmW1tbmYtLS0tHR0eZi3Nzc5lzg/n5+cy509PTxcXFzMX8a7OwsHB2dpa5uLu7O5pOpz8T3dzcXFxcZC4eHh4+Pz9nLg4vuMy5/MX39/fh6mQu5l+b4YDDMTMXhxLV2J4am1NjCDV2sKjGCGoMocbm1BhCjR0sqjGCGkOosTk1hlBjB4tqjKDGEGpsTo0h1NjBohojqDGEGptTYwg1drCoxghqDKHG5tQYQo0dLKoxghpDqLE5NYZQYweLaoygxhBqbE6NIdTYwaIaI6gxhBqbU2MINXawqMYIagyhxubUGEKNHSyqMYIaQ6ixOTWGUGMHi2qMoMYQamxOjSHU2MGiGiOoMYQam1NjCDV2sKjGCGoMocbm1BhCjR0sqjGCGkOosTk1hlBjB4tqjKDGEGpsTo0h1NjBohojqDGEGptTYwg1drCoxghqDKHG5v6XGsfj8ddEe3t729vbmYsrKyuXl5ffEy0vL2fO5S8+PDysra1lLp6fnx8fH2cuDgccjpm5eHJyMlpfX/+UaEhxdXU1c3Fzc3M2m31LdHV1lTmXv/j4+Dh8rDIX7+/v7+7uMhevr6+HY2YuPj099f+nent7m/zLAX9GjVCFGqEKNUIVaoQq1AhVqBGqUCNUoUaoQo1QhRqhCjVCFWqEKtQIVagRqlAjVKFGqEKNUIUaoQo1QhVqhCrUCFWoEapQI1ShRqhCjVCFGqEKNUIVaoQq1AhVqBGqUCNUoUaoQo1QhRqhCjVCFaPxePwl0f7+/s7OTubiwcGBGvknjIab+iPR6+vry8tL5uLb29vHx8fffs7we78AR5WRSSAhvFIAAAAASUVORK5CYII=\"></div>"
      ],
      "text/plain": [
       "<IPython.core.display.HTML object>"
      ]
     },
     "metadata": {},
     "output_type": "display_data"
    },
    {
     "data": {
      "text/html": [
       "<div style=\"background-color:#e0e0e0;margin:0;padding:10px;\"><img src=\"data:image/png;base64,iVBORw0KGgoAAAANSUhEUgAAAOQAAABNCAIAAAA5Jl/8AAAACXBIWXMAAA7EAAAOxAGVKw4bAAAClUlEQVR4nO3dIcpiYRyFcTdhEBTRpMWiaFA0KBgEk0HEZBCNU8ZonUkmlyDCZNtEwRWIKDLhVl3EzP1glnDO3/L8NnDC+1zet91Mq9X6HmgwGLTb7cjFSqUyn88jF/P5fORcqlAoRM6tVqtSqRS5OJvNTqdTZrPZ/A203++3223k4nQ6vVwukYvp9x85F7+YJMlwOIxcPJ/PxGpBrHLE6kKscsTqQqxyxOpCrHLE6kKscsTqQqxyxOpCrHLE6kKscsTqQqxyxOpCrHLE6kKscsTqQqxyxOpCrHLE6kKscsTqQqxyxOpCrHLE6kKscsTqQqxyxOpCrHLE6kKscsTqQqxyxOpCrHLE6kKscsTqQqxyxOpCrHLE6kKscsTqQqxyxOpCrHLE6kKscsTqQqxyxOpCrHLE6kKscsTqQqxyxOpCrHLE6kKscv9j7fV6PwONRqNutxu5WK1Wl8tl5GIul4ucS5VKpd+BDodDo9GIXNztdl+xNpvNb4HSUuv1euRiuVyeTCaRi9lsNnIu1el0fgU6Ho/pDRm5mHq9XjwD9OKfAcGH+CnEqkesJsSqR6wmxKpHrCbEqkesJsSqR6wmxKpHrCbEqkesJsSqR6wmxKpHrCbEqkesJsSqR6wmxKpHrCbEqkesJsSqR6wmxKpHrCbEqkesJsSqR6wmxKpHrCbEqkesJsSqR6wmxKpHrCbEqkesJsSqR6wmxKpHrCbEqkesJsSqR6wmxKpHrCbEqkesJsSqR6wmxKpHrCbEqkesJsSqR6wmxKpHrCbEqkesJsSqR6wmX39r+RFoPB73+/3IxVqttl6vIxeLxWLkXGqxWHw6pAiZJEn+BHo8Hvf7PXLxdrs9n8/Ixev1GjmXer/fnw4pwj+8SEu9tb2NhQAAAABJRU5ErkJggg==\"></div>"
      ],
      "text/plain": [
       "<IPython.core.display.HTML object>"
      ]
     },
     "metadata": {},
     "output_type": "display_data"
    },
    {
     "name": "stdout",
     "output_type": "stream",
     "text": [
      "partitions - Group degree: 12, factorization: 2 * 6 = 12\n"
     ]
    },
    {
     "data": {
      "text/html": [
       "<div style=\"background-color:#e0e0e0;margin:0;padding:10px;\"><img src=\"data:image/png;base64,iVBORw0KGgoAAAANSUhEUgAAAccAAAAnCAIAAAD1rRTTAAAACXBIWXMAAA7EAAAOxAGVKw4bAAACpElEQVR4nO3WMa4hYBiF4bsQkqujl0hIREEsgcJtVBTaUSrVgmjkaohkEjYwvX3Ygf4WM//s4ZwzyZ332cCXX46Xt1ar9SOo3+93Op3kxXq9PplMkhcrlUryXFGtVpPnZrNZrVZLXszP5v39fT6fJy/mZxO+mJ9Nu90eDAbJi91u9/V6vS2Xy99B+/1+tVolL47H48fjkbxYfqiS5/IXn8/ncDhMXszPpjywPDN5kdnIlc2U5SQvrtdrqmrB10OOqn6Di1TVhap+g4tU1YHZyFFVF6oqR1UdmI0cVXWhqnJU1YHZyFFVF6oqR1UdmI0cVXWhqnJU1YHZyFFVF6oqR1UdmI0cVXWhqnJU1YHZyFFVF6oqR1UdmI0cVXWhqnJU1YHZyFFVF6oqR1UdmI0cVXWhqnJU1YHZyFFVF6oqR1UdmI0cVXWhqnJU1YHZyFFVF6oqR1UdmI0cVXWhqnJU1YHZyFFVF6oqR1UdmI0cVXWhqnJU1YHZyFFVF6oqR1UdmI0cVXWhqnJU1YHZyFFVF6oqR1UdmI0cVXWhqnJU1YHZyFFVF6oqR1UdmI0cVXWhqnJU1YHZyFFVF6oqR1UdmI0cVXWhqnJU1YHZyFFVF6oqR1UdmI0cVXWhqnJU1YHZyFFVF6oqR1UdmI0cVXWhqnJU1YHZyFFVF6oqR1UdmI0cVXWhqnJU1YHZyFFVF6oqR1UdmI0cVXWhqnJU1YHZyFFVF6oqR1UdmI3cP6vqaDT6FbRYLD4+PpIXe73eZrNJXmw0Gslz+YuXy6XZbCYv5mdTHliembzIbOTKZspykhen0+nfqt7v959Bp9PpeDwmLx4Oh/P5nLy43W6T5/IXr9dr+QuQvJifzW63K89MXvwfZlM+1eTFspnPz8/kxdvt9vX19QcrJ6YvdtpV4gAAAABJRU5ErkJggg==\"></div>"
      ],
      "text/plain": [
       "<IPython.core.display.HTML object>"
      ]
     },
     "metadata": {},
     "output_type": "display_data"
    },
    {
     "data": {
      "text/html": [
       "<div style=\"background-color:#e0e0e0;margin:0;padding:10px;\"><img src=\"data:image/png;base64,iVBORw0KGgoAAAANSUhEUgAAAXsAAABNCAIAAADICFNYAAAACXBIWXMAAA7EAAAOxAGVKw4bAAADQElEQVR4nO3XsWqacRiFcS8kgm5myqAoKOQbEnAImDWD2ZNBQpc6ZkwLDoKaSXAKgU7Zu3sNihTxDryB0H6BrhnPaTk8vxt4+cvxQSudTuer0eXlZa/Xc15sNBrD4dB58eTkxHmuVK1Wnefu7u7q9brzon82tVrt/v7eedE/G/PFh4eHp6enyng8/m20WCweHx+dF29ubtbrtfNiGXHnOf/Fw+HQ7/edF/2zKR9YPtN5MX42x+OR4kjET4fiKMTPhuKoxE+H4ijEz4biqMRPh+IoxM+G4qjET4fiKMTPhuKoxE+H4ijEz4biqMRPh+IoxM+G4qjET4fiKMTPhuKoxE+H4ijEz4biqMRPh+IoxM+G4qjET4fiKMTPhuKoxE+H4ijEz4biqMRPh+IoxM+G4qjET4fiKMTPhuKoxE+H4ijEz4biqMRPh+IoxM+G4qjET4fiKMTPhuKoxE+H4ijEz4biqMRPh+IoxM+G4qjET4fiKMTPhuKoxE+H4ijEz4biqMRPh+IoxM+G4qjET4fiKMTPhuKoxE+H4ijEz4biqMRPh+IoxM+G4qjET4fiKMTPhuKoxE+H4ijEz4biqMRPh+IoxM+G4qjET4fiKMTPhuKoxE+H4ijEz4biqMRPh+IoxM+G4qjET4fiKMTPhuKoxE+H4ijEz4biqMRPh+IoxM+G4qjET4fiKMTPhuKoxE+H4ijEz+ZvcYqi+G50dXV1fn7uvHh2djaZTH4anZ6eOs/5L768vLRaLefF0Wh0e3vrvFg+sHym82L8bN7e3j6K0263vxiVuWk2m86L3W53Op3+MJrNZs5z/ouvr6/ljw7nxdVqtVwunRfn83n5TOfF+NmUdrtd/r+q5+dn889jAJ+hOAB8KA4AH4oDwIfiAPChOAB8KA4AH4oDwIfiAPChOAB8KA4AH4oDwIfiAPChOAB8KA4AH4oDwIfiAPChOAB8KA4AH4oDwIfiAPChOAB8KA4AH4oDwIfiAPChOAB8KA4AH4oDwIfiAPChOAB8KA4AH4oDwIfiAPChOAB8KA4AH4oDwKdSFMU3o8FgcHFx4bx4fX1NcYD/RKX8Nv4y2m63m83GeXG/37+/v//rzxnAhz8UVjVfbtsYeQAAAABJRU5ErkJggg==\"></div>"
      ],
      "text/plain": [
       "<IPython.core.display.HTML object>"
      ]
     },
     "metadata": {},
     "output_type": "display_data"
    },
    {
     "data": {
      "text/html": [
       "<div style=\"background-color:#e0e0e0;margin:0;padding:10px;\"><img src=\"data:image/png;base64,iVBORw0KGgoAAAANSUhEUgAAAE0AAADkCAIAAABSeD7BAAAACXBIWXMAAA7EAAAOxAGVKw4bAAACVUlEQVR4nO3dL8qiYRhHYbcg+IdPRBQMg0VQMChosAxYbAYxDgZRGItNwTYL0CTYB3EDE2YRWjSMuArjzAjfFs5t8Fwb+HF47/jAm6hWq98CNZvNWq0Wudhqte73e2KxWPwNtNlsVqtV5OJ2u7UTYyfFTpKdFDtJdlLsJNlJsZNkJ8VOkp0UO0l2Uuwk2Umxk2QnxU6SnRQ7SXZS7CS9rLPT6fwI1Ov12u125GK/379cLolGo/E90P/Ier0eudjtdq/X69vcrZ0IOyl2kuyk2Emyk2InyU6KnSQ7KXaS7KTYSbKTYifJToqdJDspdpLspNhJspNiJ+llnaVS6WugcrlcKBQiFyuVyvl8TgyHw9+BZrPZaDSKXJzP57fb7W3u1k6EnRQ7SXZS7CTZSbGTZCfFTpKdFDtJdlLsJNlJsZNkJ8VOkp0UO0l2Uuwk2Umxk/SyznQ6/SVQKpVKJpORix8fH6fT6W2+p50IOyl2kuyk2Emyk2InyU6KnSQ7KXaS7KTYSbKTYifJToqdJDspdpLspNhJspNiJ8lOymdnJpOJfP3hexPKm92tnQg7KXaS7KTYSbKTYifJToqdJDspdpLspNhJspNiJ8lOip0kOyl2kuyk2Emyk/JmnePx+E+g5XI5mUwiF9fr9fP/K7lcrhEon89ns9nIxWKx+PyfzrvcrZ0IOyl2kuyk2Emyk2InyU6KnSQ7KXaS7KTYSbKTYifJToqdJDspdpLspNhJspNiJ+llnYPB4Feg6XQ6Go2CF5+dx+PxZ6D9fr/b7SIXD4fD4/H4BzT7sn9sZ2TIAAAAAElFTkSuQmCC\"></div>"
      ],
      "text/plain": [
       "<IPython.core.display.HTML object>"
      ]
     },
     "metadata": {},
     "output_type": "display_data"
    },
    {
     "data": {
      "text/html": [
       "<div style=\"background-color:#e0e0e0;margin:0;padding:10px;\"><img src=\"data:image/png;base64,iVBORw0KGgoAAAANSUhEUgAAAOQAAABNCAIAAAA5Jl/8AAAACXBIWXMAAA7EAAAOxAGVKw4bAAACpElEQVR4nO3dMWpiYRiFYTdhQFT0CoI2NkJSCFooWAhWIiJWKdRbTjPa2c4swCW4A3cguAITEnQKl2E1cwMD2cA5X/U+GzjN+1++7uZeXl5+BhoMBp1OJ3Kx0WgsFovIxVKpFDmXKZfLkXPr9TpJksjF+Xx+PB5zm83mb6D9fr/b7SIXZ7PZ+XyOXMzef+Rc/OL9fh8Oh5GLp9OJWC2IVY5YXYhVjlhdiFWOWF2IVY5YXYhVjlhdiFWOWF2IVY5YXYhVjlhdiFWOWF2IVY5YXYhVjlhdiFWOWF2IVY5YXYhVjlhdiFWOWF2IVY5YXYhVjlhdiFWOWF2IVY5YXYhVjlhdiFWOWF2IVY5YXYhVjlhdiFWOWF2IVY5YXYhVjlhdiFWOWF2IVY5YXYhVjlhdiFWOWF2IVY5YXYhVjlhdiFWOWF2IVY5YXYhV7n+svV7vd6DRaNTtdiMXm83mcrmMXCwUCpFz8YvZBy5JksjFNE0Ph0Pu+fn5R6Cs1Ha7HblYq9Umk0nkYj6fj5zLPD09Rc69vr4Wi8XIxel0+hUrZ4AcZ4AcN6sLscoRqwuxyhGrC7HKEasLscoRqwuxyhGrC7HKEasLscoRqwuxyhGrC7HKEasLscoRqwuxyhGrC7HKEasLscoRqwuxyhGrC7HKEasLscoRqwuxyhGrC7HKEasLscoRqwuxyhGrC7HKEasLscoRqwuxyhGrC7HKEasLscoRqwuxyhGrC7HKEasLscoRqwuxyhGrC7HKEasLscoRqwuxyhGrC7HKEasLscoRqwuxyn3/reVXoPF43O/3IxdbrVaappGLlUolci5TrVYj57bbbb1ej1xcrVZfsWav5E+gz8/Pj4+PyMX39/fr9Rq5eLlcIufiF2+329vbW+Ri5vF4/ANaj7LZljd33wAAAABJRU5ErkJggg==\"></div>"
      ],
      "text/plain": [
       "<IPython.core.display.HTML object>"
      ]
     },
     "metadata": {},
     "output_type": "display_data"
    },
    {
     "data": {
      "text/html": [
       "<div style=\"background-color:#e0e0e0;margin:0;padding:10px;\"><img src=\"data:image/png;base64,iVBORw0KGgoAAAANSUhEUgAAAS8AAABNCAIAAAB493VqAAAACXBIWXMAAA7EAAAOxAGVKw4bAAADHklEQVR4nO3WMUpjURiG4WwihaDEpDKNjUELgykSsAhYWVgogkUwhcU0Y2k702sXSBWEWUFgelcgkiBTpM4iZs4afr7vF868zwY+Dve8997GycnJ90Sj0ej09DRz8eDg4Pr6OnNxd3c3c67Y29vLnLu/v2+325mL+ddmf39/Op1mLp6fnzceHx//Jnp5eXl6espcvLq6ent7y1wsL7jMufzFzWZTrk7mYv61KQcsx8xcLCVSox41ylGjBTVWsEiNDtRoQY1y1GhBjRUsUqMDNVpQoxw1WlBjBYvU6ECNFtQoR40W1FjBIjU6UKMFNcpRowU1VrBIjQ7UaEGNctRoQY0VLFKjAzVaUKMcNVpQYwWL1OhAjRbUKEeNFtRYwSI1OlCjBTXKUaMFNVawSI0O1GhBjXLUaEGNFSxSowM1WlCjHDVaUGMFi9ToQI0W1ChHjRbUWMEiNTpQowU1ylGjBTVWsEiNDtRoQY1y1GhBjRUsUqMDNVpQoxw1WlBjBYvU6ECNFtQoR40W1FjBIjU6UKMFNcpRowU1VrBIjQ7UaEGNcv9LjYPB4Gei8Xh8dnaWudjtdieTSebizs5O5lzRbrd/J1osFr1eL3Px4eHh5uYmc7EcsBwzc/H29rZxfHz8LVFJ8ejoKHOx0+lcXl5mLjabzcy5ot/v/0r0+vpaPlaZi/P5fDabZS4+Pz+XY2YuLpdL/lT18v9Ukx8iTKhRjxoRQ4161IgYatSjRsRQox41IoYa9agRMdSoR42IoUY9akQMNepRI2KoUY8aEUONetSIGGrUo0bEUKMeNSKGGvWoETHUqEeNiKFGPWpEDDXqUSNiqFGPGhFDjXrUiBhq1KNGxFCjHjUihhr1qBEx1KhHjYihRj1qRAw16lEjYqhRjxoRQ4161IgYatSjRsRQox41IoYa9agRMdSoR42IoUY9akQMNepRI2KoUY8aEUONetSIGGrUo0bENAaDwY9EFxcXw+Ewc/Hw8HA6nWYutlqtzLni7u7uqy8SBBqbzeZPovV6vVqtMhc/Pj4+Pz8zF9/f3zPniu12+9UXCQL/AL8Z86xFlW9uAAAAAElFTkSuQmCC\"></div>"
      ],
      "text/plain": [
       "<IPython.core.display.HTML object>"
      ]
     },
     "metadata": {},
     "output_type": "display_data"
    },
    {
     "data": {
      "text/html": [
       "<div style=\"background-color:#e0e0e0;margin:0;padding:10px;\"><img src=\"data:image/png;base64,iVBORw0KGgoAAAANSUhEUgAAAJgAAAByCAIAAAAgf4+SAAAACXBIWXMAAA7EAAAOxAGVKw4bAAACSElEQVR4nO3VsY5xYRRGYRegE8VpJL4oiEKCECIc3SQKISISlCM0kqmU6qnF9Uzntv7/zD1Yu5n13MBbrGTvUqfT+Qw0Ho+73W7kYkppuVxGLmZZFjlXOBwOpdvt9i/Q8/m83++Ri7vd7vV6RS4Oh8PIuUIR0ZDvZ0iEIRGGJBgSYUiEIRGGJBgSYUiEIRGGJBgSYUiEIRGGJBgSYUiEIRGGJBgSYUiEIRGGJBgSYUiEIRGGJBgSYUiEIRGGJBgSYUiEIRGGJBgSYUiEIRGGJBgSYUiEIRGGJBgSYUjEXwk5m82+Ay0Wi+l0GrnYarVOp1PkYpZlkXOF7XZbGgwGX4GKir1eL3IxpbTZbCIXq9Vq5FxhtVp5Wt/PH4kwJMKQBEMiDIkwJMKQBEMiDIkwJMKQBEMiDIkwJMKQBEMiDIkwJMKQBEMiDIkwJMKQBEMiDIkwJMKQBEMiDIkwJMKQBEMiDIkwJMKQBEMiDIkwJMKQBEMiDIkwJMKQBEMiDIkwJMKQhN+Q9Xr9I1Cj0ajVapGLlUql3+9HLpbL5ci5wnw+L+33+59A1+v1eDxGLuZ5/ng8IhebzWbkXOF8Pnta388fiTAkwpAEQyIMiTAkwpAEQyIMiTAkwpAEQyIMiTAkwpAEQyIMiTAkwpAEQyIMiTAkwpAEQyIMiTAkwpAEQyIMiTAkwpAEQyIMiTAkwpAEQyIMiTAkwpAEQyIMiTAkwpAEQyIMiTAkwpCE35CTyeQzUJ7no9EocrHdbq/X68jFlFLkXOFyufwHTa/u0FD7DqYAAAAASUVORK5CYII=\"></div>"
      ],
      "text/plain": [
       "<IPython.core.display.HTML object>"
      ]
     },
     "metadata": {},
     "output_type": "display_data"
    },
    {
     "data": {
      "text/html": [
       "<div style=\"background-color:#e0e0e0;margin:0;padding:10px;\"><img src=\"data:image/png;base64,iVBORw0KGgoAAAANSUhEUgAAAS8AAAByCAIAAACN28ASAAAACXBIWXMAAA7EAAAOxAGVKw4bAAADR0lEQVR4nO3WO0plWRTH4TsNRQTFRJMLKooX8QGCDQamPrgYVajQJobGDQaCj0gwEqFHIHTQmSMwFwPHUXVmIBR7LRenvm8Cf/bm/Dh7MBwOfyQajUaLi4uZi7Ozs/v7+5mLExMTmXOdycnJzLnDw8OpqanMxfzPpjvg0dFR5uL29vbg4uLiZ6K7u7vLy8vMxYODg9fX18zF1dXVzLn8xY+Pj93d3czF/M+mO2B3zMzFrkQ1tqfG5tQYQo09WFRjBDWGUGNzagyhxh4sqjGCGkOosTk1hlBjDxbVGEGNIdTYnBpDqLEHi2qMoMYQamxOjSHU2INFNUZQYwg1NqfGEGrswaIaI6gxhBqbU2MINfZgUY0R1BhCjc2pMYQae7CoxghqDKHG5tQYQo09WFRjBDWGUGNzagyhxh4sqjGCGkOosTk1hlBjDxbVGEGNIdTYnBpDqLEHi2qMoMYQamxOjSHU2INFNUZQYwg1NqfGEGrswaIaI6gxhBqbU2MINfZgUY0R1BhCjc2pMYQae7CoxghqDKHG5tQYQo09WFRjBDWGUGNzf0qNm5ub/yTa29vb2NjIXBwOh1dXV/8lmp+fz5zLX3x6elpeXs5cPD09HY/HmYvdAbtjZi6enJwMVlZW/k7Upbi0tJS5OBqNrq+v/010c3OTOZe/+Pz83P2sMhcfHx8fHh4yF29vb7tjZi6+vLz0/6V6f3+f/OSA36NGqEKNUIUaoQo1QhVqhCrUCFWoEapQI1ShRqhCjVCFGqEKNUIVaoQq1AhVqBGqUCNUoUaoQo1QhRqhCjVCFWqEKtQIVagRqlAjVKFGqEKNUIUaoQo1QhVqhCrUCFWoEapQI1ShRqhCjVCFGqGKwczMzF+J5ubmpqenMxcXFhbe3t6++57ha4Pj4+P/E52dnY3H48zF8/Pz9/f3775n+JqXKlShRqhCjVCFGqEKNUIVaoQq1AhVqBGqUCNUoUaoQo1QhRqhCjVCFWqEKtQIVagRqlAjVKFGqEKNUIUaoQo1QhVqhCrUCFWoEapQI1ShRqhCjVCFGqEKNUIVaoQq1AhVqBGqUCNUoUaoQo1QhRqhisH6+vqPRFtbW2tra5mLOzs7n5+f333P8LVf8RCEI5JVuBkAAAAASUVORK5CYII=\"></div>"
      ],
      "text/plain": [
       "<IPython.core.display.HTML object>"
      ]
     },
     "metadata": {},
     "output_type": "display_data"
    },
    {
     "data": {
      "text/html": [
       "<div style=\"background-color:#e0e0e0;margin:0;padding:10px;\"><img src=\"data:image/png;base64,iVBORw0KGgoAAAANSUhEUgAAAJgAAAC+CAIAAABGVVFdAAAACXBIWXMAAA7EAAAOxAGVKw4bAAADEklEQVR4nO3cMUqjURhG4X8LASMIIggW0cZCMKCQNBYDbkBQsRNEUMYiCTbWgykCoouYLUwxXbIA7cUNDLiCmX8R836B43k28MI93Fvept/vjwodHR0dHh5WLvZ6vbOzs8rF9fX1yrnWxcVFMx6P/xZ6fn5+eHioXDw5OZnP55WL7d2onGu1EQ35/xkywpARhkwwZIQhIwwZYcgEQ0YYMsKQEYZMMGSEISMMGWHIBENGGDLCkBGGTDBkhCEjDBlhyARDRhgywpARhkwwZIQhIwwZYcgEQ0YYMsKQEYZMMGSEISMMGWHIBENGGDLCkBGGTDBkhCEjvkrI4XD4o9Dx8fFgMKhc3N3dnU6nvwptb29XzrWur6+b/f3974Xaint7e5WLBwcHs9nsZ6Gnp6fKudZiseA/rS8vLx8fH5WLS2FICENCGBLCkBCGhDAkhCEhDAlhSAhDQhgSwpAQhoQwJIQhIQwJYUgIQ0IYEsKQEIaEMCSEISEMCWFICENCGBLCkBCGhDAkhCEhDAlhSAhDQhgSotnc3PxWaGtra2Njo3JxZ2fn7e1t2ecc15yenv4udHNzc35+Xrl4d3f3/v6+7HOO82mFMCSEISEMCWFICENCGBLCkBCGhDAkhCEhDAlhSAhDQhgSwpAQhoQwJIQhIQwJYUgIQ0IYEsKQEIaEMCSEISEMCWFICENCGBLCkBCGhDAkhCEhDAnRdLvdXqGVlZVOp1O5uLa29vr6uuxzjvNGQhgSwpAQhoQwJIQhIQwJYUgIQ0IYEsKQEIaEMCSEISEMCWFICENCGBLCkBCGhDAkhCEhDAlhSAhDQhgSwpAQhoQwJIQhIQwJYUgIQ0IYEsKQEIaEMCREs7q6WvnHhr96hHgjIQwJYUgIQ0IYEsKQEIaEMCSEISEMCWFICENCGBLCkBCGhDAkhCEhDAlhSAhDQhgSwpAQhoQwJIQhIQwJYUgIQ0IYEsKQEIaEMCSEISEMCWFICENCNLe3t38KPT4+jkajysXpdPolQt7f348KXV1dXV5eVi5OJpPPz89ln3PcP0f86Hy7sSlcAAAAAElFTkSuQmCC\"></div>"
      ],
      "text/plain": [
       "<IPython.core.display.HTML object>"
      ]
     },
     "metadata": {},
     "output_type": "display_data"
    },
    {
     "data": {
      "text/html": [
       "<div style=\"background-color:#e0e0e0;margin:0;padding:10px;\"><img src=\"data:image/png;base64,iVBORw0KGgoAAAANSUhEUgAAAOQAAACYCAIAAAB71dJgAAAACXBIWXMAAA7EAAAOxAGVKw4bAAADSUlEQVR4nO3WP0q1RxjG4bMF4bMQVDhgoTYWioKCNoIRwdb/ZcBKiEUsrQOCgugOREhtlyKF4Aa0F1tdxJcTyBKeGbnDdW3ghuH3vjODlZWV3zva3NxcW1vruTg7O3t8fNxzcXJysufcyNTUVM+509PT4XDYc/Hw8PDp6WlwcXHxs6O7u7vLy8uei/v7+y8vLz0XR99/z7n+ix8fH1tbWz0Xn5+fxdqEWMuJtRWxlhNrK2ItJ9ZWxFpOrK2ItZxYWxFrObG2ItZyYm1FrOXE2opYy4m1FbGWE2srYi0n1lbEWk6srYi1nFhbEWs5sbYi1nJibUWs5cTailjLibUVsZYTaytiLSfWVsRaTqytiLWcWFsRazmxtiLWcmJtRazlxNqKWMuJtRWxlhNrK2ItJ9ZWxFpOrK2ItZxYWxFrObG2ItZyYm1FrOXE2opYy4m1FbGWE2srYi33X6wbGxt/dLSzs7O+vt5zcWFh4erq6q+O5ubmes71X3x4eFhaWuq5eH19/W+sy8vLv3U0KnVxcbHn4urq6s3NzZ8d3d7e9pzrv/j4+Di6IXsujnx+fv7/nwH39/eja6vnIo2IlRhiJYZYiSFWYoiVGGIlhliJIVZiiJUYYiWGWIkhVmKIlRhiJYZYiSFWYoiVGGIlhliJIVZiiJUYYiWGWIkhVmKIlRhiJYZYiSFWYoiVGGIlhliJIVZiiJUYYiWGWIkxGA6Hv3Q0MzMzPT3dc3F+fv7t7e27z5kCg6Ojo787Ojs7Ozk56bl4fn7+/v7+3edMAc8AYoiVGGIlhliJIVZiiJUYYiWGWIkhVmKIlRhiJYZYiSFWYoiVGGIlhliJIVZiiJUYYiWGWIkhVmKIlRhiJYZYiSFWYoiVGGIlhliJIVZiiJUYYiWGWIkhVmKIlRhiJYZYiTEYHx+f7ejHjx9jY2M9FycmJl5fX7/7nCngz0oMsRJDrMQQKzHESgyxEkOsxBArMcRKDLESQ6zEECsxxEoMsRJDrMQQKzHESgyxEkOsxBArMcRKDLESQ6zEECsxxEoMsRJDrMQQKzHESgyxEkOsxBArMcRKDLESQ6zEECsxxEqMwd7e3q8d7e7ubm9v91w8ODj4+vr67nOmwD/m2j4r0fzmjgAAAABJRU5ErkJggg==\"></div>"
      ],
      "text/plain": [
       "<IPython.core.display.HTML object>"
      ]
     },
     "metadata": {},
     "output_type": "display_data"
    },
    {
     "data": {
      "text/html": [
       "<div style=\"background-color:#e0e0e0;margin:0;padding:10px;\"><img src=\"data:image/png;base64,iVBORw0KGgoAAAANSUhEUgAAAJgAAACYCAIAAACXoLd2AAAACXBIWXMAAA7EAAAOxAGVKw4bAAACwElEQVR4nO3VwcqhYRyGcaegvEWJyIK1YqHYWIyUUuITUjR21GzG0nbmADidycYJsJ2FtYOYeeccvvuv7rl+J3DXc/U8T6bdbn8P1O/3O51O5GK9Xl8ul5GLxWIxci61Xq8zx+PxT6Dz+Xw6nSIXPz4+brdb5GJ6NyLnUmlEQn4+QkoQUoKQCoSUIKQEISUIqUBICUJKEFKCkAqElCCkBCElCKlASAlCShBSgpAKhJQgpAQhJQipQEgJQkoQUoKQCoSUIKQEISUIqUBICUJKEFKCkAqElCCkBCElCKlASAlCShBSgpAKhJQgpMT/ErLX6/0MNBwOu91u5GKj0djtdpGLhUIhci41nU4zrVbrW6C0YrPZjFysVquTySRyMUmSyLnUeDzmaf18/JEShJQgpAIhJQgpQUgJQioQUoKQEoSUIKQCISUIKUFICUIqEFKCkBKElCCkAiElCClBSAlCKhBSgpAShJQgpAIhJQgpQUgJQioQUoKQEoSUIKQCISUIKUFICUIqEFKCkBKElCCkAiElCClBSAlCKvwLWalUvgSq1WqlUilyMZ/Pb7fbH4HK5XLkXGqz2WQWi8WvQIfDYbVaRS7u9/vr9fo70OPxiJxLvV4v/6f1crk8n8/IxbcgpAlCmiCkCUKaIKQJQpogpAlCmiCkCUKaIKQJQpogpAlCmiCkCUKaIKQJQpogpAlCmiCkCUKaIKQJQpogpAlCmiCkCUKaIKQJQpogpAlCmiCkCUKaIKSJTJIk9UC5XC6bzUYuFgqF+/3+7nOW40aaIKQJQpogpAlCmiCkCUKaIKQJQpogpAlCmiCkCUKaIKQJQpogpAlCmiCkCUKaIKQJQpogpAlCmiCkCUKaIKQJQpogpAlCmiCkCUKaIKQJQpogpAlCmiCkCUKayMxms6+BRqPRYDCIXJzP56/X693nLPcXNDh1YCNaYoIAAAAASUVORK5CYII=\"></div>"
      ],
      "text/plain": [
       "<IPython.core.display.HTML object>"
      ]
     },
     "metadata": {},
     "output_type": "display_data"
    },
    {
     "data": {
      "text/html": [
       "<div style=\"background-color:#e0e0e0;margin:0;padding:10px;\"><img src=\"data:image/png;base64,iVBORw0KGgoAAAANSUhEUgAAAOQAAAByCAIAAADMCuqEAAAACXBIWXMAAA7EAAAOxAGVKw4bAAADOElEQVR4nO3WMUpjcRSF8WxCMCKRhDRWQgyRhBAtBAeCpEmRIDYR0ylMlTLtTJVKdyDC1HZTDCGQFdhOkcJGF+G8gVnCOTfc4ftt4MD7f/Bu6ejo6DZQp9NpNBqRi7VabTAYRC6Wy+XIucLe3l7k3Hg83t/fj1y8vLx8eXkpzWazz0APDw/z+TxycTQardfryMWTk5PIufjFzWZzcXERubharYjVgljliNWFWOWI1YVY5YjVhVjliNWFWOWI1YVY5YjVhVjliNWFWOWI1YVY5YjVhVjliNWFWOWI1YVY5YjVhVjliNWFWOWI1YVY5YjVhVjliNWFWOWI1YVY5YjVhVjliNWFWOWI1YVY5YjVhVjliNWFWOWI1YVY5YjVhVjliNWFWOWI1YVY5YjVhVjliNWFWOWI1YVY5YjVhVjliNWFWOWI1YVY5YjVhVjliNWFWOX+xXp6evo9UL/f7/V6kYuHh4fT6TRysVwuR84VqtXqz0BPT0/NZjNycbFY/I211Wp9DVSUenx8HLlYq9WGw2Hk4s7OTuRcodvt/gj0/Pxc/CEjFwvv7++cAXrxZ0DwI24LseoRqwmx6hGrCbHqEasJseoRqwmx6hGrCbHqEasJseoRqwmx6hGrCbHqEasJseoRqwmx6hGrCbHqEasJseoRqwmx6hGrCbHqEasJseoRqwmx6hGrCbHqEasJseoRqwmx6hGrCbHqEasJseoRqwmx6hGrCbHqEasJseoRqwmx6hGrCbHqEasJseoRqwmx6hGrCbHqEasJseoRqwmx6hGrCbHqEasJseoRqwmx6hGrSalarX4JVK/XK5VK5OLu7u7Nzc23QAcHB5Fzhclksu2QIpSurq5+Bbq/v7++vo5cvLu7Wy6XvwO9vr5GzhU+Pj62HVKE//8MeHx83Gw2kYswIVakQaxIg1iRBrEiDWJFGsSKNIgVaRAr0iBWpEGsSINYkQaxIg1iRRrEijSIFWkQK9IgVqRBrEiDWJEGsSINYkUaxIo0iBVpECvSIFakQaxIg1iRBrEiDWJFGsSKNIgVaRAr0iBWpEGsSINYkUap2+3eBjo7O2u325GL5+fnb29v2/7OEPgD1/HnPIK0IpAAAAAASUVORK5CYII=\"></div>"
      ],
      "text/plain": [
       "<IPython.core.display.HTML object>"
      ]
     },
     "metadata": {},
     "output_type": "display_data"
    },
    {
     "name": "stdout",
     "output_type": "stream",
     "text": [
      "partitions - Group degree: 12, factorization: 6 * 2 = 12\n"
     ]
    },
    {
     "data": {
      "text/html": [
       "<div style=\"background-color:#e0e0e0;margin:0;padding:10px;\"><img src=\"data:image/png;base64,iVBORw0KGgoAAAANSUhEUgAAAccAAAAnCAIAAAD1rRTTAAAACXBIWXMAAA7EAAAOxAGVKw4bAAACpElEQVR4nO3WMa4hYBiF4bsQkqujl0hIREEsgcJtVBTaUSrVgmjkaohkEjYwvX3Ygf4WM//s4ZwzyZ332cCXX46Xt1ar9SOo3+93Op3kxXq9PplMkhcrlUryXFGtVpPnZrNZrVZLXszP5v39fT6fJy/mZxO+mJ9Nu90eDAbJi91u9/V6vS2Xy99B+/1+tVolL47H48fjkbxYfqiS5/IXn8/ncDhMXszPpjywPDN5kdnIlc2U5SQvrtdrqmrB10OOqn6Di1TVhap+g4tU1YHZyFFVF6oqR1UdmI0cVXWhqnJU1YHZyFFVF6oqR1UdmI0cVXWhqnJU1YHZyFFVF6oqR1UdmI0cVXWhqnJU1YHZyFFVF6oqR1UdmI0cVXWhqnJU1YHZyFFVF6oqR1UdmI0cVXWhqnJU1YHZyFFVF6oqR1UdmI0cVXWhqnJU1YHZyFFVF6oqR1UdmI0cVXWhqnJU1YHZyFFVF6oqR1UdmI0cVXWhqnJU1YHZyFFVF6oqR1UdmI0cVXWhqnJU1YHZyFFVF6oqR1UdmI0cVXWhqnJU1YHZyFFVF6oqR1UdmI0cVXWhqnJU1YHZyFFVF6oqR1UdmI0cVXWhqnJU1YHZyFFVF6oqR1UdmI0cVXWhqnJU1YHZyFFVF6oqR1UdmI0cVXWhqnJU1YHZyFFVF6oqR1UdmI0cVXWhqnJU1YHZyFFVF6oqR1UdmI0cVXWhqnJU1YHZyFFVF6oqR1UdmI3cP6vqaDT6FbRYLD4+PpIXe73eZrNJXmw0Gslz+YuXy6XZbCYv5mdTHliembzIbOTKZspykhen0+nfqt7v959Bp9PpeDwmLx4Oh/P5nLy43W6T5/IXr9dr+QuQvJifzW63K89MXvwfZlM+1eTFspnPz8/kxdvt9vX19QcrJ6YvdtpV4gAAAABJRU5ErkJggg==\"></div>"
      ],
      "text/plain": [
       "<IPython.core.display.HTML object>"
      ]
     },
     "metadata": {},
     "output_type": "display_data"
    },
    {
     "data": {
      "text/html": [
       "<div style=\"background-color:#e0e0e0;margin:0;padding:10px;\"><img src=\"data:image/png;base64,iVBORw0KGgoAAAANSUhEUgAAAXsAAABNCAIAAADICFNYAAAACXBIWXMAAA7EAAAOxAGVKw4bAAADQElEQVR4nO3XsWqacRiFcS8kgm5myqAoKOQbEnAImDWD2ZNBQpc6ZkwLDoKaSXAKgU7Zu3sNihTxDryB0H6BrhnPaTk8vxt4+cvxQSudTuer0eXlZa/Xc15sNBrD4dB58eTkxHmuVK1Wnefu7u7q9brzon82tVrt/v7eedE/G/PFh4eHp6enyng8/m20WCweHx+dF29ubtbrtfNiGXHnOf/Fw+HQ7/edF/2zKR9YPtN5MX42x+OR4kjET4fiKMTPhuKoxE+H4ijEz4biqMRPh+IoxM+G4qjET4fiKMTPhuKoxE+H4ijEz4biqMRPh+IoxM+G4qjET4fiKMTPhuKoxE+H4ijEz4biqMRPh+IoxM+G4qjET4fiKMTPhuKoxE+H4ijEz4biqMRPh+IoxM+G4qjET4fiKMTPhuKoxE+H4ijEz4biqMRPh+IoxM+G4qjET4fiKMTPhuKoxE+H4ijEz4biqMRPh+IoxM+G4qjET4fiKMTPhuKoxE+H4ijEz4biqMRPh+IoxM+G4qjET4fiKMTPhuKoxE+H4ijEz4biqMRPh+IoxM+G4qjET4fiKMTPhuKoxE+H4ijEz4biqMRPh+IoxM+G4qjET4fiKMTPhuKoxE+H4ijEz4biqMRPh+IoxM+G4qjET4fiKMTPhuKoxE+H4ijEz4biqMRPh+IoxM+G4qjET4fiKMTPhuKoxE+H4ijEz+ZvcYqi+G50dXV1fn7uvHh2djaZTH4anZ6eOs/5L768vLRaLefF0Wh0e3vrvFg+sHym82L8bN7e3j6K0263vxiVuWk2m86L3W53Op3+MJrNZs5z/ouvr6/ljw7nxdVqtVwunRfn83n5TOfF+NmUdrtd/r+q5+dn889jAJ+hOAB8KA4AH4oDwIfiAPChOAB8KA4AH4oDwIfiAPChOAB8KA4AH4oDwIfiAPChOAB8KA4AH4oDwIfiAPChOAB8KA4AH4oDwIfiAPChOAB8KA4AH4oDwIfiAPChOAB8KA4AH4oDwIfiAPChOAB8KA4AH4oDwIfiAPChOAB8KA4AH4oDwKdSFMU3o8FgcHFx4bx4fX1NcYD/RKX8Nv4y2m63m83GeXG/37+/v//rzxnAhz8UVjVfbtsYeQAAAABJRU5ErkJggg==\"></div>"
      ],
      "text/plain": [
       "<IPython.core.display.HTML object>"
      ]
     },
     "metadata": {},
     "output_type": "display_data"
    },
    {
     "data": {
      "text/html": [
       "<div style=\"background-color:#e0e0e0;margin:0;padding:10px;\"><img src=\"data:image/png;base64,iVBORw0KGgoAAAANSUhEUgAAAOQAAABNCAIAAAA5Jl/8AAAACXBIWXMAAA7EAAAOxAGVKw4bAAACpElEQVR4nO3dMWpiYRiFYTdhQFT0CoI2NkJSCFooWAhWIiJWKdRbTjPa2c4swCW4A3cguAITEnQKl2E1cwMD2cA5X/U+GzjN+1++7uZeXl5+BhoMBp1OJ3Kx0WgsFovIxVKpFDmXKZfLkXPr9TpJksjF+Xx+PB5zm83mb6D9fr/b7SIXZ7PZ+XyOXMzef+Rc/OL9fh8Oh5GLp9OJWC2IVY5YXYhVjlhdiFWOWF2IVY5YXYhVjlhdiFWOWF2IVY5YXYhVjlhdiFWOWF2IVY5YXYhVjlhdiFWOWF2IVY5YXYhVjlhdiFWOWF2IVY5YXYhVjlhdiFWOWF2IVY5YXYhVjlhdiFWOWF2IVY5YXYhVjlhdiFWOWF2IVY5YXYhVjlhdiFWOWF2IVY5YXYhVjlhdiFWOWF2IVY5YXYhVjlhdiFWOWF2IVY5YXYhV7n+svV7vd6DRaNTtdiMXm83mcrmMXCwUCpFz8YvZBy5JksjFNE0Ph0Pu+fn5R6Cs1Ha7HblYq9Umk0nkYj6fj5zLPD09Rc69vr4Wi8XIxel0+hUrZ4AcZ4AcN6sLscoRqwuxyhGrC7HKEasLscoRqwuxyhGrC7HKEasLscoRqwuxyhGrC7HKEasLscoRqwuxyhGrC7HKEasLscoRqwuxyhGrC7HKEasLscoRqwuxyhGrC7HKEasLscoRqwuxyhGrC7HKEasLscoRqwuxyhGrC7HKEasLscoRqwuxyhGrC7HKEasLscoRqwuxyhGrC7HKEasLscoRqwuxyhGrC7HKEasLscoRqwuxyn3/reVXoPF43O/3IxdbrVaappGLlUolci5TrVYj57bbbb1ej1xcrVZfsWav5E+gz8/Pj4+PyMX39/fr9Rq5eLlcIufiF2+329vbW+Ri5vF4/ANaj7LZljd33wAAAABJRU5ErkJggg==\"></div>"
      ],
      "text/plain": [
       "<IPython.core.display.HTML object>"
      ]
     },
     "metadata": {},
     "output_type": "display_data"
    },
    {
     "data": {
      "text/html": [
       "<div style=\"background-color:#e0e0e0;margin:0;padding:10px;\"><img src=\"data:image/png;base64,iVBORw0KGgoAAAANSUhEUgAAAS8AAABNCAIAAAB493VqAAAACXBIWXMAAA7EAAAOxAGVKw4bAAADHklEQVR4nO3WMUpjURiG4WwihaDEpDKNjUELgykSsAhYWVgogkUwhcU0Y2k702sXSBWEWUFgelcgkiBTpM4iZs4afr7vF868zwY+Dve8997GycnJ90Sj0ej09DRz8eDg4Pr6OnNxd3c3c67Y29vLnLu/v2+325mL+ddmf39/Op1mLp6fnzceHx//Jnp5eXl6espcvLq6ent7y1wsL7jMufzFzWZTrk7mYv61KQcsx8xcLCVSox41ylGjBTVWsEiNDtRoQY1y1GhBjRUsUqMDNVpQoxw1WlBjBYvU6ECNFtQoR40W1FjBIjU6UKMFNcpRowU1VrBIjQ7UaEGNctRoQY0VLFKjAzVaUKMcNVpQYwWL1OhAjRbUKEeNFtRYwSI1OlCjBTXKUaMFNVawSI0O1GhBjXLUaEGNFSxSowM1WlCjHDVaUGMFi9ToQI0W1ChHjRbUWMEiNTpQowU1ylGjBTVWsEiNDtRoQY1y1GhBjRUsUqMDNVpQoxw1WlBjBYvU6ECNFtQoR40W1FjBIjU6UKMFNcpRowU1VrBIjQ7UaEGNcv9LjYPB4Gei8Xh8dnaWudjtdieTSebizs5O5lzRbrd/J1osFr1eL3Px4eHh5uYmc7EcsBwzc/H29rZxfHz8LVFJ8ejoKHOx0+lcXl5mLjabzcy5ot/v/0r0+vpaPlaZi/P5fDabZS4+Pz+XY2YuLpdL/lT18v9Ukx8iTKhRjxoRQ4161IgYatSjRsRQox41IoYa9agRMdSoR42IoUY9akQMNepRI2KoUY8aEUONetSIGGrUo0bEUKMeNSKGGvWoETHUqEeNiKFGPWpEDDXqUSNiqFGPGhFDjXrUiBhq1KNGxFCjHjUihhr1qBEx1KhHjYihRj1qRAw16lEjYqhRjxoRQ4161IgYatSjRsRQox41IoYa9agRMdSoR42IoUY9akQMNepRI2KoUY8aEUONetSIGGrUo0bENAaDwY9EFxcXw+Ewc/Hw8HA6nWYutlqtzLni7u7uqy8SBBqbzeZPovV6vVqtMhc/Pj4+Pz8zF9/f3zPniu12+9UXCQL/AL8Z86xFlW9uAAAAAElFTkSuQmCC\"></div>"
      ],
      "text/plain": [
       "<IPython.core.display.HTML object>"
      ]
     },
     "metadata": {},
     "output_type": "display_data"
    },
    {
     "name": "stdout",
     "output_type": "stream",
     "text": [
      "partitions - Group degree: 12, factorization: 3 * 4 = 12\n"
     ]
    },
    {
     "data": {
      "text/html": [
       "<div style=\"background-color:#e0e0e0;margin:0;padding:10px;\"><img src=\"data:image/png;base64,iVBORw0KGgoAAAANSUhEUgAAAccAAAAnCAIAAAD1rRTTAAAACXBIWXMAAA7EAAAOxAGVKw4bAAACpElEQVR4nO3WMa4hYBiF4bsQkqujl0hIREEsgcJtVBTaUSrVgmjkaohkEjYwvX3Ygf4WM//s4ZwzyZ332cCXX46Xt1ar9SOo3+93Op3kxXq9PplMkhcrlUryXFGtVpPnZrNZrVZLXszP5v39fT6fJy/mZxO+mJ9Nu90eDAbJi91u9/V6vS2Xy99B+/1+tVolL47H48fjkbxYfqiS5/IXn8/ncDhMXszPpjywPDN5kdnIlc2U5SQvrtdrqmrB10OOqn6Di1TVhap+g4tU1YHZyFFVF6oqR1UdmI0cVXWhqnJU1YHZyFFVF6oqR1UdmI0cVXWhqnJU1YHZyFFVF6oqR1UdmI0cVXWhqnJU1YHZyFFVF6oqR1UdmI0cVXWhqnJU1YHZyFFVF6oqR1UdmI0cVXWhqnJU1YHZyFFVF6oqR1UdmI0cVXWhqnJU1YHZyFFVF6oqR1UdmI0cVXWhqnJU1YHZyFFVF6oqR1UdmI0cVXWhqnJU1YHZyFFVF6oqR1UdmI0cVXWhqnJU1YHZyFFVF6oqR1UdmI0cVXWhqnJU1YHZyFFVF6oqR1UdmI0cVXWhqnJU1YHZyFFVF6oqR1UdmI0cVXWhqnJU1YHZyFFVF6oqR1UdmI0cVXWhqnJU1YHZyFFVF6oqR1UdmI0cVXWhqnJU1YHZyFFVF6oqR1UdmI0cVXWhqnJU1YHZyFFVF6oqR1UdmI0cVXWhqnJU1YHZyFFVF6oqR1UdmI3cP6vqaDT6FbRYLD4+PpIXe73eZrNJXmw0Gslz+YuXy6XZbCYv5mdTHliembzIbOTKZspykhen0+nfqt7v959Bp9PpeDwmLx4Oh/P5nLy43W6T5/IXr9dr+QuQvJifzW63K89MXvwfZlM+1eTFspnPz8/kxdvt9vX19QcrJ6YvdtpV4gAAAABJRU5ErkJggg==\"></div>"
      ],
      "text/plain": [
       "<IPython.core.display.HTML object>"
      ]
     },
     "metadata": {},
     "output_type": "display_data"
    },
    {
     "data": {
      "text/html": [
       "<div style=\"background-color:#e0e0e0;margin:0;padding:10px;\"><img src=\"data:image/png;base64,iVBORw0KGgoAAAANSUhEUgAAAXsAAABNCAIAAADICFNYAAAACXBIWXMAAA7EAAAOxAGVKw4bAAADQElEQVR4nO3XsWqacRiFcS8kgm5myqAoKOQbEnAImDWD2ZNBQpc6ZkwLDoKaSXAKgU7Zu3sNihTxDryB0H6BrhnPaTk8vxt4+cvxQSudTuer0eXlZa/Xc15sNBrD4dB58eTkxHmuVK1Wnefu7u7q9brzon82tVrt/v7eedE/G/PFh4eHp6enyng8/m20WCweHx+dF29ubtbrtfNiGXHnOf/Fw+HQ7/edF/2zKR9YPtN5MX42x+OR4kjET4fiKMTPhuKoxE+H4ijEz4biqMRPh+IoxM+G4qjET4fiKMTPhuKoxE+H4ijEz4biqMRPh+IoxM+G4qjET4fiKMTPhuKoxE+H4ijEz4biqMRPh+IoxM+G4qjET4fiKMTPhuKoxE+H4ijEz4biqMRPh+IoxM+G4qjET4fiKMTPhuKoxE+H4ijEz4biqMRPh+IoxM+G4qjET4fiKMTPhuKoxE+H4ijEz4biqMRPh+IoxM+G4qjET4fiKMTPhuKoxE+H4ijEz4biqMRPh+IoxM+G4qjET4fiKMTPhuKoxE+H4ijEz4biqMRPh+IoxM+G4qjET4fiKMTPhuKoxE+H4ijEz4biqMRPh+IoxM+G4qjET4fiKMTPhuKoxE+H4ijEz4biqMRPh+IoxM+G4qjET4fiKMTPhuKoxE+H4ijEz4biqMRPh+IoxM+G4qjET4fiKMTPhuKoxE+H4ijEz+ZvcYqi+G50dXV1fn7uvHh2djaZTH4anZ6eOs/5L768vLRaLefF0Wh0e3vrvFg+sHym82L8bN7e3j6K0263vxiVuWk2m86L3W53Op3+MJrNZs5z/ouvr6/ljw7nxdVqtVwunRfn83n5TOfF+NmUdrtd/r+q5+dn889jAJ+hOAB8KA4AH4oDwIfiAPChOAB8KA4AH4oDwIfiAPChOAB8KA4AH4oDwIfiAPChOAB8KA4AH4oDwIfiAPChOAB8KA4AH4oDwIfiAPChOAB8KA4AH4oDwIfiAPChOAB8KA4AH4oDwIfiAPChOAB8KA4AH4oDwIfiAPChOAB8KA4AH4oDwKdSFMU3o8FgcHFx4bx4fX1NcYD/RKX8Nv4y2m63m83GeXG/37+/v//rzxnAhz8UVjVfbtsYeQAAAABJRU5ErkJggg==\"></div>"
      ],
      "text/plain": [
       "<IPython.core.display.HTML object>"
      ]
     },
     "metadata": {},
     "output_type": "display_data"
    },
    {
     "data": {
      "text/html": [
       "<div style=\"background-color:#e0e0e0;margin:0;padding:10px;\"><img src=\"data:image/png;base64,iVBORw0KGgoAAAANSUhEUgAAAOQAAABNCAIAAAA5Jl/8AAAACXBIWXMAAA7EAAAOxAGVKw4bAAACpElEQVR4nO3dMWpiYRiFYTdhQFT0CoI2NkJSCFooWAhWIiJWKdRbTjPa2c4swCW4A3cguAITEnQKl2E1cwMD2cA5X/U+GzjN+1++7uZeXl5+BhoMBp1OJ3Kx0WgsFovIxVKpFDmXKZfLkXPr9TpJksjF+Xx+PB5zm83mb6D9fr/b7SIXZ7PZ+XyOXMzef+Rc/OL9fh8Oh5GLp9OJWC2IVY5YXYhVjlhdiFWOWF2IVY5YXYhVjlhdiFWOWF2IVY5YXYhVjlhdiFWOWF2IVY5YXYhVjlhdiFWOWF2IVY5YXYhVjlhdiFWOWF2IVY5YXYhVjlhdiFWOWF2IVY5YXYhVjlhdiFWOWF2IVY5YXYhVjlhdiFWOWF2IVY5YXYhVjlhdiFWOWF2IVY5YXYhVjlhdiFWOWF2IVY5YXYhVjlhdiFWOWF2IVY5YXYhV7n+svV7vd6DRaNTtdiMXm83mcrmMXCwUCpFz8YvZBy5JksjFNE0Ph0Pu+fn5R6Cs1Ha7HblYq9Umk0nkYj6fj5zLPD09Rc69vr4Wi8XIxel0+hUrZ4AcZ4AcN6sLscoRqwuxyhGrC7HKEasLscoRqwuxyhGrC7HKEasLscoRqwuxyhGrC7HKEasLscoRqwuxyhGrC7HKEasLscoRqwuxyhGrC7HKEasLscoRqwuxyhGrC7HKEasLscoRqwuxyhGrC7HKEasLscoRqwuxyhGrC7HKEasLscoRqwuxyhGrC7HKEasLscoRqwuxyhGrC7HKEasLscoRqwuxyhGrC7HKEasLscoRqwuxyn3/reVXoPF43O/3IxdbrVaappGLlUolci5TrVYj57bbbb1ej1xcrVZfsWav5E+gz8/Pj4+PyMX39/fr9Rq5eLlcIufiF2+329vbW+Ri5vF4/ANaj7LZljd33wAAAABJRU5ErkJggg==\"></div>"
      ],
      "text/plain": [
       "<IPython.core.display.HTML object>"
      ]
     },
     "metadata": {},
     "output_type": "display_data"
    },
    {
     "data": {
      "text/html": [
       "<div style=\"background-color:#e0e0e0;margin:0;padding:10px;\"><img src=\"data:image/png;base64,iVBORw0KGgoAAAANSUhEUgAAAVUAAABNCAIAAACZnGA7AAAACXBIWXMAAA7EAAAOxAGVKw4bAAADNUlEQVR4nO3WMU6iURiFYRYiUam0ocFoQcJfYEJBpKKwwFb5C0JsxpJ2phY6EitjMluY3oaeSMwUJO5j5s4OzOScz3zJ+2zg5HLvCzQuLi6+Bbq8vOx2u5GLJycnk8kkcvHg4CByrmg2m5Fz0+n0+Pg4cjH+2RwdHdV1HbkY/2zu7u4aDw8PfwKtVqvFYhG5eH19/fr6GrlYvlIj5+IX9/v9YDCIXIx/NuWA5ZiRi/HPprRP/3r0L0f/DvRvQf9y9O9A/xb0L0f/DvRvQf9y9O9A/xb0L0f/DvRvQf9y9O9A/xb0L0f/DvRvQf9y9O9A/xb0L0f/DvRvQf9y9O9A/xb0L0f/DvRvQf9y9O9A/xb0L0f/DvRvQf9y9O9A/xb0L0f/DvRvQf9y9O9A/xb0L0f/DvRvQf9y9O9A/xb0L0f/DvRvQf9y9O9A/xb0L0f/DvRvQf9y9O9A/xb0L0f/DvRvQf9y9O9A/xb0L0f/DvRvQf9y9O9A/xb0L0f/DvRvQf9y9O9A/xb0L0f/DvRvQf9y9O9A/xb0L0f/DvRvQf9y9O9A/xb0L0f/DvRvQf9y9O9A/xb0L0f/Dv/6r6rqR6DhcNjr9SIXT09Pb29vIxcPDw9/xSpnjJx7fn4+OzuLXJzNZjc3N5GL5YDlmJGLwZdYzOfzxvn5+X2gEn+n04lcbLVa4/E4crEc8Gesx8fHyLmXl5fygxy5+PT0tF6vIxeXy2U5ZuRi8CUWm82G//96wR8p8N/oX4/+kQX969E/sqB/PfpHFvSvR//Igv716B9Z0L8e/SML+tejf2RB/3r0jyzoX4/+kQX969E/sqB/PfpHFvSvR//Igv716B9Z0L8e/SML+tejf2RB/3r0jyzoX4/+kQX969E/sqB/PfpHFvSvR//Igv716B9Z0L8e/SML+tejf2RB/3r0jyzoX4/+kQX969E/sqB/PfpHFvSvR//Igv716B9Z0L8e/SML+tejf2RB/3r0jyzoX4/+kQX969E/sqB/PfpHFo2qqr4HGo1G/X4/crHdbtd1Hbl4dXX11dcKfEpjv9//DrTb7d7e3iIXt9vt+/t75OLHx8dXXyvwKX8BMqMPHVeyHwMAAAAASUVORK5CYII=\"></div>"
      ],
      "text/plain": [
       "<IPython.core.display.HTML object>"
      ]
     },
     "metadata": {},
     "output_type": "display_data"
    },
    {
     "data": {
      "text/html": [
       "<div style=\"background-color:#e0e0e0;margin:0;padding:10px;\"><img src=\"data:image/png;base64,iVBORw0KGgoAAAANSUhEUgAAAS8AAABNCAIAAAB493VqAAAACXBIWXMAAA7EAAAOxAGVKw4bAAADHklEQVR4nO3WMUpjURiG4WwihaDEpDKNjUELgykSsAhYWVgogkUwhcU0Y2k702sXSBWEWUFgelcgkiBTpM4iZs4afr7vF868zwY+Dve8997GycnJ90Sj0ej09DRz8eDg4Pr6OnNxd3c3c67Y29vLnLu/v2+325mL+ddmf39/Op1mLp6fnzceHx//Jnp5eXl6espcvLq6ent7y1wsL7jMufzFzWZTrk7mYv61KQcsx8xcLCVSox41ylGjBTVWsEiNDtRoQY1y1GhBjRUsUqMDNVpQoxw1WlBjBYvU6ECNFtQoR40W1FjBIjU6UKMFNcpRowU1VrBIjQ7UaEGNctRoQY0VLFKjAzVaUKMcNVpQYwWL1OhAjRbUKEeNFtRYwSI1OlCjBTXKUaMFNVawSI0O1GhBjXLUaEGNFSxSowM1WlCjHDVaUGMFi9ToQI0W1ChHjRbUWMEiNTpQowU1ylGjBTVWsEiNDtRoQY1y1GhBjRUsUqMDNVpQoxw1WlBjBYvU6ECNFtQoR40W1FjBIjU6UKMFNcpRowU1VrBIjQ7UaEGNcv9LjYPB4Gei8Xh8dnaWudjtdieTSebizs5O5lzRbrd/J1osFr1eL3Px4eHh5uYmc7EcsBwzc/H29rZxfHz8LVFJ8ejoKHOx0+lcXl5mLjabzcy5ot/v/0r0+vpaPlaZi/P5fDabZS4+Pz+XY2YuLpdL/lT18v9Ukx8iTKhRjxoRQ4161IgYatSjRsRQox41IoYa9agRMdSoR42IoUY9akQMNepRI2KoUY8aEUONetSIGGrUo0bEUKMeNSKGGvWoETHUqEeNiKFGPWpEDDXqUSNiqFGPGhFDjXrUiBhq1KNGxFCjHjUihhr1qBEx1KhHjYihRj1qRAw16lEjYqhRjxoRQ4161IgYatSjRsRQox41IoYa9agRMdSoR42IoUY9akQMNepRI2KoUY8aEUONetSIGGrUo0bENAaDwY9EFxcXw+Ewc/Hw8HA6nWYutlqtzLni7u7uqy8SBBqbzeZPovV6vVqtMhc/Pj4+Pz8zF9/f3zPniu12+9UXCQL/AL8Z86xFlW9uAAAAAElFTkSuQmCC\"></div>"
      ],
      "text/plain": [
       "<IPython.core.display.HTML object>"
      ]
     },
     "metadata": {},
     "output_type": "display_data"
    },
    {
     "data": {
      "text/html": [
       "<div style=\"background-color:#e0e0e0;margin:0;padding:10px;\"><img src=\"data:image/png;base64,iVBORw0KGgoAAAANSUhEUgAAAJgAAAByCAIAAAAgf4+SAAAACXBIWXMAAA7EAAAOxAGVKw4bAAACSElEQVR4nO3VsY5xYRRGYRegE8VpJL4oiEKCECIc3SQKISISlCM0kqmU6qnF9Uzntv7/zD1Yu5n13MBbrGTvUqfT+Qw0Ho+73W7kYkppuVxGLmZZFjlXOBwOpdvt9i/Q8/m83++Ri7vd7vV6RS4Oh8PIuUIR0ZDvZ0iEIRGGJBgSYUiEIRGGJBgSYUiEIRGGJBgSYUiEIRGGJBgSYUiEIRGGJBgSYUiEIRGGJBgSYUiEIRGGJBgSYUiEIRGGJBgSYUiEIRGGJBgSYUiEIRGGJBgSYUiEIRGGJBgSYUjEXwk5m82+Ay0Wi+l0GrnYarVOp1PkYpZlkXOF7XZbGgwGX4GKir1eL3IxpbTZbCIXq9Vq5FxhtVp5Wt/PH4kwJMKQBEMiDIkwJMKQBEMiDIkwJMKQBEMiDIkwJMKQBEMiDIkwJMKQBEMiDIkwJMKQBEMiDIkwJMKQBEMiDIkwJMKQBEMiDIkwJMKQBEMiDIkwJMKQBEMiDIkwJMKQBEMiDIkwJMKQhN+Q9Xr9I1Cj0ajVapGLlUql3+9HLpbL5ci5wnw+L+33+59A1+v1eDxGLuZ5/ng8IhebzWbkXOF8Pnta388fiTAkwpAEQyIMiTAkwpAEQyIMiTAkwpAEQyIMiTAkwpAEQyIMiTAkwpAEQyIMiTAkwpAEQyIMiTAkwpAEQyIMiTAkwpAEQyIMiTAkwpAEQyIMiTAkwpAEQyIMiTAkwpAEQyIMiTAkwpCE35CTyeQzUJ7no9EocrHdbq/X68jFlFLkXOFyufwHTa/u0FD7DqYAAAAASUVORK5CYII=\"></div>"
      ],
      "text/plain": [
       "<IPython.core.display.HTML object>"
      ]
     },
     "metadata": {},
     "output_type": "display_data"
    },
    {
     "data": {
      "text/html": [
       "<div style=\"background-color:#e0e0e0;margin:0;padding:10px;\"><img src=\"data:image/png;base64,iVBORw0KGgoAAAANSUhEUgAAAS8AAAByCAIAAACN28ASAAAACXBIWXMAAA7EAAAOxAGVKw4bAAADR0lEQVR4nO3WO0plWRTH4TsNRQTFRJMLKooX8QGCDQamPrgYVajQJobGDQaCj0gwEqFHIHTQmSMwFwPHUXVmIBR7LRenvm8Cf/bm/Dh7MBwOfyQajUaLi4uZi7Ozs/v7+5mLExMTmXOdycnJzLnDw8OpqanMxfzPpjvg0dFR5uL29vbg4uLiZ6K7u7vLy8vMxYODg9fX18zF1dXVzLn8xY+Pj93d3czF/M+mO2B3zMzFrkQ1tqfG5tQYQo09WFRjBDWGUGNzagyhxh4sqjGCGkOosTk1hlBjDxbVGEGNIdTYnBpDqLEHi2qMoMYQamxOjSHU2INFNUZQYwg1NqfGEGrswaIaI6gxhBqbU2MINfZgUY0R1BhCjc2pMYQae7CoxghqDKHG5tQYQo09WFRjBDWGUGNzagyhxh4sqjGCGkOosTk1hlBjDxbVGEGNIdTYnBpDqLEHi2qMoMYQamxOjSHU2INFNUZQYwg1NqfGEGrswaIaI6gxhBqbU2MINfZgUY0R1BhCjc2pMYQae7CoxghqDKHG5tQYQo09WFRjBDWGUGNzf0qNm5ub/yTa29vb2NjIXBwOh1dXV/8lmp+fz5zLX3x6elpeXs5cPD09HY/HmYvdAbtjZi6enJwMVlZW/k7Upbi0tJS5OBqNrq+v/010c3OTOZe/+Pz83P2sMhcfHx8fHh4yF29vb7tjZi6+vLz0/6V6f3+f/OSA36NGqEKNUIUaoQo1QhVqhCrUCFWoEapQI1ShRqhCjVCFGqEKNUIVaoQq1AhVqBGqUCNUoUaoQo1QhRqhCjVCFWqEKtQIVagRqlAjVKFGqEKNUIUaoQo1QhVqhCrUCFWoEapQI1ShRqhCjVCFGqGKwczMzF+J5ubmpqenMxcXFhbe3t6++57ha4Pj4+P/E52dnY3H48zF8/Pz9/f3775n+JqXKlShRqhCjVCFGqEKNUIVaoQq1AhVqBGqUCNUoUaoQo1QhRqhCjVCFWqEKtQIVagRqlAjVKFGqEKNUIUaoQo1QhVqhCrUCFWoEapQI1ShRqhCjVCFGqEKNUIVaoQq1AhVqBGqUCNUoUaoQo1QhRqhisH6+vqPRFtbW2tra5mLOzs7n5+f333P8LVf8RCEI5JVuBkAAAAASUVORK5CYII=\"></div>"
      ],
      "text/plain": [
       "<IPython.core.display.HTML object>"
      ]
     },
     "metadata": {},
     "output_type": "display_data"
    },
    {
     "data": {
      "text/html": [
       "<div style=\"background-color:#e0e0e0;margin:0;padding:10px;\"><img src=\"data:image/png;base64,iVBORw0KGgoAAAANSUhEUgAAAQoAAAByCAIAAAAkrwiGAAAACXBIWXMAAA7EAAAOxAGVKw4bAAADfUlEQVR4nO3WsUqbcRSG8dyEQ0JAki2LgkZDQoijhQwScIiIS0DBIUOnjI62m4vgIDhJoDi6NdBByBWELNLB2SW7g/16AQdKOecIr8/vBl7Cd57wL21ubp4m6nQ6W1tbmYv1ev3g4CBzsVwuZ84VKpVK5tzR0VG1Ws1czD+bnZ2d1WpVmkwm74mur68vLi4yF4fD4Xw+z1xstVqZc/mLLy8v+/v7mYv5Z3N5eUkeIcjDHXlEIQ935BGFPAQWySMKeQgskkcU8hBYJI8o5CGwSB5RyENgkTyikIfAInlEIQ+BRfKIQh4Ci+QRhTwEFskjCnkILJJHFPIQWCSPKOQhsEgeUchDYJE8opCHwCJ5RCEPgUXyiEIeAovkEYU8BBbJIwp5CCySRxTyEFgkjyjkIbBIHlHIQ2CRPKKQh8AieUQhD4FF8ohCHgKL5BGFPAQWySMKeQgskkcU8hBYJI8o5CGwSB5RyENgkTyikIfAInlEIQ+BRfKIQh4Ci+QRhTwEFj9RHnt7e98T9fv9Xq+XudhoNM7OzjIXy+Vy5lyhVqv9THR/f99sNjMXx+PxyclJ5uJoNPqbx+7u7tdERRvb29uZi/V6/fDwMHNxbW0tc67Q7XZ/JJpOp8Xfeebi3d3d7e1t5uLDw8Pb2xuPK3/5j6vkj/h5kIc/8pBBHv7IQwZ5+CMPGeThjzxkkIc/8pBBHv7IQwZ5+CMPGeThjzxkkIc/8pBBHv7IQwZ5+CMPGeThjzxkkIc/8pBBHv7IQwZ5+CMPGeThjzxkkIc/8pBBHv7IQwZ5+CMPGeThjzxkkIc/8pBBHv7IQwZ5+CMPGeThjzxkkIc/8pBBHv7IQwZ5+CMPGeThjzxkkIc/8pBBHv7IQwZ5+CMPGeThjzxkkIc/8pBBHv7IQwZ5+CMPGaVarfYlUaPRaLfb3xJtbGycn59nLq6vr2fOFUaj0UcfkqbS8fHxr0RXV1c3Nze/Ey2Xy+fn58zFxWKROVd4fX396EPSlP24enp6enx8zFwE/ht5ACbyAEzkAZjIAzCRB2AiD8BEHoCJPAATeQAm8gBM5AGYyAMwkQdgIg/ARB6AiTwAE3kAJvIATOQBmMgDMJEHYCIPwEQegIk8ABN5ACbyAEzkAZjIAzCRB2AiD8BEHoCJPAATeQAm8gBM5AGYSt1u9zTRYDCYzWYf/auBf/IH8iFgV1EnGIQAAAAASUVORK5CYII=\"></div>"
      ],
      "text/plain": [
       "<IPython.core.display.HTML object>"
      ]
     },
     "metadata": {},
     "output_type": "display_data"
    },
    {
     "data": {
      "text/html": [
       "<div style=\"background-color:#e0e0e0;margin:0;padding:10px;\"><img src=\"data:image/png;base64,iVBORw0KGgoAAAANSUhEUgAAAOQAAACYCAIAAAB71dJgAAAACXBIWXMAAA7EAAAOxAGVKw4bAAADSUlEQVR4nO3WP0q1RxjG4bMF4bMQVDhgoTYWioKCNoIRwdb/ZcBKiEUsrQOCgugOREhtlyKF4Aa0F1tdxJcTyBKeGbnDdW3ghuH3vjODlZWV3zva3NxcW1vruTg7O3t8fNxzcXJysufcyNTUVM+509PT4XDYc/Hw8PDp6WlwcXHxs6O7u7vLy8uei/v7+y8vLz0XR99/z7n+ix8fH1tbWz0Xn5+fxdqEWMuJtRWxlhNrK2ItJ9ZWxFpOrK2ItZxYWxFrObG2ItZyYm1FrOXE2opYy4m1FbGWE2srYi0n1lbEWk6srYi1nFhbEWs5sbYi1nJibUWs5cTailjLibUVsZYTaytiLSfWVsRaTqytiLWcWFsRazmxtiLWcmJtRazlxNqKWMuJtRWxlhNrK2ItJ9ZWxFpOrK2ItZxYWxFrObG2ItZyYm1FrOXE2opYy4m1FbGWE2srYi33X6wbGxt/dLSzs7O+vt5zcWFh4erq6q+O5ubmes71X3x4eFhaWuq5eH19/W+sy8vLv3U0KnVxcbHn4urq6s3NzZ8d3d7e9pzrv/j4+Di6IXsujnx+fv7/nwH39/eja6vnIo2IlRhiJYZYiSFWYoiVGGIlhliJIVZiiJUYYiWGWIkhVmKIlRhiJYZYiSFWYoiVGGIlhliJIVZiiJUYYiWGWIkhVmKIlRhiJYZYiSFWYoiVGGIlhliJIVZiiJUYYiWGWIkxGA6Hv3Q0MzMzPT3dc3F+fv7t7e27z5kCg6Ojo787Ojs7Ozk56bl4fn7+/v7+3edMAc8AYoiVGGIlhliJIVZiiJUYYiWGWIkhVmKIlRhiJYZYiSFWYoiVGGIlhliJIVZiiJUYYiWGWIkhVmKIlRhiJYZYiSFWYoiVGGIlhliJIVZiiJUYYiWGWIkhVmKIlRhiJYZYiTEYHx+f7ejHjx9jY2M9FycmJl5fX7/7nCngz0oMsRJDrMQQKzHESgyxEkOsxBArMcRKDLESQ6zEECsxxEoMsRJDrMQQKzHESgyxEkOsxBArMcRKDLESQ6zEECsxxEoMsRJDrMQQKzHESgyxEkOsxBArMcRKDLESQ6zEECsxxEqMwd7e3q8d7e7ubm9v91w8ODj4+vr67nOmwD/m2j4r0fzmjgAAAABJRU5ErkJggg==\"></div>"
      ],
      "text/plain": [
       "<IPython.core.display.HTML object>"
      ]
     },
     "metadata": {},
     "output_type": "display_data"
    },
    {
     "data": {
      "text/html": [
       "<div style=\"background-color:#e0e0e0;margin:0;padding:10px;\"><img src=\"data:image/png;base64,iVBORw0KGgoAAAANSUhEUgAAAQoAAAByCAIAAAAkrwiGAAAACXBIWXMAAA7EAAAOxAGVKw4bAAADcElEQVR4nO3WP2piYRSGcZdhRJRImlQB8w8lmBQBB0KwsVCCTULsFKZKmdKZWkwVSCXCkB1MMaRxF1MISZ/eIuMs4HTnnDDvPL8NvNzvfs/lFvb29m4TNZvNer2euVir1TqdTubi1tZW5txGqVTKnOv3++VyOXMx/9ocHh6+v78X7u7uPhLNZrP7+/vMxV6vt1wuMxePj48z5/IXV6tVu93OXMy/NpPJhDxCkIc78ohCHu7IIwp5CCySRxTyEFgkjyjkIbBIHlHIQ2CRPKKQh8AieUQhD4FF8ohCHgKL5BGFPAQWySMKeQgskkcU8hBYJI8o5CGwSB5RyENgkTyikIfAInlEIQ+BRfKIQh4Ci+QRhTwEFskjCnkILJJHFPIQWCSPKOQhsEgeUchDYJE8opCHwCJ5RCEPgUXyiEIeAovkEYU8BBbJIwp5CCySRxTyEFgkjyjkIbBIHlHIQ2CRPKKQh8AieUQhD4FF8ohCHgKL5BGFPAQWySMKeQgs/kd5nJ6efk90cXHRarUyF3d3d4fDYeZitVr9mWvzjJlz8/n84OAgc3E0Gg0Gg8zF6+vrv3kcHR19TbRpY39/P3OxVqt1u93Mxc0D/sg1nU4z5xaLxeZznrn49PT0+PiYufj8/Lxer/m58pd8pIhDHv7IQwZ5+CMPGeThjzxkkIc/8pBBHv7IQwZ5+CMPGeThjzxkkIc/8pBBHv7IQwZ5+CMPGeThjzxkkIc/8pBBHv7IQwZ5+CMPGeThjzxkkIc/8pBBHv7IQwZ5+CMPGeThjzxkkIc/8pBBHv7IQwZ5+CMPGeThjzxkkIc/8pBBHv7IQwZ5+CMPGeThjzxkkIc/8pBBHv7IQwZ5+CMPGeThjzxkkIc/8pBBHv7IQwZ5+CMPGeThjzxkFLa3t78k2tnZqVQqmYvFYvHm5uZbosvLy89+rfBRuLq6+pVoPB4PBoPMxdFo9PLy8jvR6+vrZ79W+ND/uXp4eFitVpmLkEEegIk8ABN5ACbyAEzkAZjIAzCRB2AiD8BEHoCJPAATeQAm8gBM5AGYyAMwkQdgIg/ARB6AiTwAE3kAJvIATOQBmMgDMJEHYCIPwEQegIk8ABN5ACbyAEzkAZjIAzCRB2AiD8BEHoCJPAATeQCmwsnJyW2is7OzRqORuXh+fv729vbZ54x/0h8eUFbij8U//wAAAABJRU5ErkJggg==\"></div>"
      ],
      "text/plain": [
       "<IPython.core.display.HTML object>"
      ]
     },
     "metadata": {},
     "output_type": "display_data"
    },
    {
     "data": {
      "text/html": [
       "<div style=\"background-color:#e0e0e0;margin:0;padding:10px;\"><img src=\"data:image/png;base64,iVBORw0KGgoAAAANSUhEUgAAAOQAAAByCAIAAADMCuqEAAAACXBIWXMAAA7EAAAOxAGVKw4bAAADOElEQVR4nO3WMUpjcRSF8WxCMCKRhDRWQgyRhBAtBAeCpEmRIDYR0ylMlTLtTJVKdyDC1HZTDCGQFdhOkcJGF+G8gVnCOTfc4ftt4MD7f/Bu6ejo6DZQp9NpNBqRi7VabTAYRC6Wy+XIucLe3l7k3Hg83t/fj1y8vLx8eXkpzWazz0APDw/z+TxycTQardfryMWTk5PIufjFzWZzcXERubharYjVgljliNWFWOWI1YVY5YjVhVjliNWFWOWI1YVY5YjVhVjliNWFWOWI1YVY5YjVhVjliNWFWOWI1YVY5YjVhVjliNWFWOWI1YVY5YjVhVjliNWFWOWI1YVY5YjVhVjliNWFWOWI1YVY5YjVhVjliNWFWOWI1YVY5YjVhVjliNWFWOWI1YVY5YjVhVjliNWFWOWI1YVY5YjVhVjliNWFWOWI1YVY5YjVhVjliNWFWOX+xXp6evo9UL/f7/V6kYuHh4fT6TRysVwuR84VqtXqz0BPT0/NZjNycbFY/I211Wp9DVSUenx8HLlYq9WGw2Hk4s7OTuRcodvt/gj0/Pxc/CEjFwvv7++cAXrxZ0DwI24LseoRqwmx6hGrCbHqEasJseoRqwmx6hGrCbHqEasJseoRqwmx6hGrCbHqEasJseoRqwmx6hGrCbHqEasJseoRqwmx6hGrCbHqEasJseoRqwmx6hGrCbHqEasJseoRqwmx6hGrCbHqEasJseoRqwmx6hGrCbHqEasJseoRqwmx6hGrCbHqEasJseoRqwmx6hGrCbHqEasJseoRqwmx6hGrCbHqEasJseoRqwmx6hGrSalarX4JVK/XK5VK5OLu7u7Nzc23QAcHB5Fzhclksu2QIpSurq5+Bbq/v7++vo5cvLu7Wy6XvwO9vr5GzhU+Pj62HVKE//8MeHx83Gw2kYswIVakQaxIg1iRBrEiDWJFGsSKNIgVaRAr0iBWpEGsSINYkQaxIg1iRRrEijSIFWkQK9IgVqRBrEiDWJEGsSINYkUaxIo0iBVpECvSIFakQaxIg1iRBrEiDWJFGsSKNIgVaRAr0iBWpEGsSINYkUap2+3eBjo7O2u325GL5+fnb29v2/7OEPgD1/HnPIK0IpAAAAAASUVORK5CYII=\"></div>"
      ],
      "text/plain": [
       "<IPython.core.display.HTML object>"
      ]
     },
     "metadata": {},
     "output_type": "display_data"
    },
    {
     "data": {
      "text/html": [
       "<div style=\"background-color:#e0e0e0;margin:0;padding:10px;\"><img src=\"data:image/png;base64,iVBORw0KGgoAAAANSUhEUgAAAL4AAACYCAIAAADV48ThAAAACXBIWXMAAA7EAAAOxAGVKw4bAAADVklEQVR4nO3cvUo8ZxyGYU9iYQU/WLHQwkrQQtFmi4CtoKDbKLFTSRNLS5MD0INIZWGXIohgY2slpLCwsvEMkg05gx/zvML8r+sEHmbmnnm7mdnc3Py1ofF4vLW11XJxZWXl+Pi45eLc3FzLuan5+fmWc5eXlzc3NzNXV1f/NHR7e3t9fd1y8fDw8Pn5ueXi9G1sOdd+8evrSzoR0omQTg8WpZMinQjp9GBROinSiZBODxalkyKdCOn0YFE6KdKJkE4PFqWTIp0I6fRgUTop0omQTg8WpZMinQjp9GBROinSiZBODxalkyKdCOn0YFE6KdKJkE4PFqWTIp0I6fRgUTop0omQTg8WpZMinQjp9GBROinSiZBODxalkyKdCOn0YFE6KdKJkE4PFqWT8qOks7u7+3tDe3t7Ozs7LRdXV1fPzs5aLs7OzracmxqNRn82dH9//186GxsbvzQ07WZ9fb3l4tLS0v7+fsvFwWDQcm5qe3v7j7be3t4cWN1rf2A1foj/k073pBMhnQTpREgnRDrdk06EdBKkEyGdEOl0TzoR0kmQToR0QqTTPelESCdBOhHSCZFO96QTIZ0E6URIJ0Q63ZNOhHQSpBMhnRDpdE86EdJJkE6EdEKk0z3pREgnQToR0gmRTvekEyGdBOlESCdEOt2TToR0EqQTIZ0Q6XRPOhHSSZBOhHRCpNM96URIJ+F70hmNRj81tLy8vLCw0HJxOByenp7+1tDi4mLLuamTk5NvSOfo6Oivhi4uLiaTScvF8/Pzx8fHvxt6fX1tOTf1+fn5Den0/sC6u7t7f39vufiDkA5F0qFIOhRJhyLpUCQdiqRDkXQokg5F0qFIOhRJhyLpUCQdiqRDkXQokg5F0qFIOhRJhyLpUCQdiqRDkXQokg5F0qFIOhRJhyLpUCQdiqRDkXQokg5F0qFIOhTNDAaDlYaGw+Ha2trPDY3H44+Pj+++zz3U+qvz9PT08PDQcpEQ6VAkHYqkQ5F0KJIORdKhSDoUSYci6VAkHYqkQ5F0KJIORdKhSDoUSYci6VAkHYqkQ5F0KJIORdKhSDoUSYci6VAkHYqkQ5F0KJIORdKhSDoUSYci6VAkHYqkQ5F0KJo5ODho+T/RyWTy8vLy3VdNB/4FnKLT9HGQQa8AAAAASUVORK5CYII=\"></div>"
      ],
      "text/plain": [
       "<IPython.core.display.HTML object>"
      ]
     },
     "metadata": {},
     "output_type": "display_data"
    },
    {
     "name": "stdout",
     "output_type": "stream",
     "text": [
      "partitions - Group degree: 12, factorization: 4 * 3 = 12\n"
     ]
    },
    {
     "data": {
      "text/html": [
       "<div style=\"background-color:#e0e0e0;margin:0;padding:10px;\"><img src=\"data:image/png;base64,iVBORw0KGgoAAAANSUhEUgAAAccAAAAnCAIAAAD1rRTTAAAACXBIWXMAAA7EAAAOxAGVKw4bAAACpElEQVR4nO3WMa4hYBiF4bsQkqujl0hIREEsgcJtVBTaUSrVgmjkaohkEjYwvX3Ygf4WM//s4ZwzyZ332cCXX46Xt1ar9SOo3+93Op3kxXq9PplMkhcrlUryXFGtVpPnZrNZrVZLXszP5v39fT6fJy/mZxO+mJ9Nu90eDAbJi91u9/V6vS2Xy99B+/1+tVolL47H48fjkbxYfqiS5/IXn8/ncDhMXszPpjywPDN5kdnIlc2U5SQvrtdrqmrB10OOqn6Di1TVhap+g4tU1YHZyFFVF6oqR1UdmI0cVXWhqnJU1YHZyFFVF6oqR1UdmI0cVXWhqnJU1YHZyFFVF6oqR1UdmI0cVXWhqnJU1YHZyFFVF6oqR1UdmI0cVXWhqnJU1YHZyFFVF6oqR1UdmI0cVXWhqnJU1YHZyFFVF6oqR1UdmI0cVXWhqnJU1YHZyFFVF6oqR1UdmI0cVXWhqnJU1YHZyFFVF6oqR1UdmI0cVXWhqnJU1YHZyFFVF6oqR1UdmI0cVXWhqnJU1YHZyFFVF6oqR1UdmI0cVXWhqnJU1YHZyFFVF6oqR1UdmI0cVXWhqnJU1YHZyFFVF6oqR1UdmI0cVXWhqnJU1YHZyFFVF6oqR1UdmI0cVXWhqnJU1YHZyFFVF6oqR1UdmI0cVXWhqnJU1YHZyFFVF6oqR1UdmI0cVXWhqnJU1YHZyFFVF6oqR1UdmI0cVXWhqnJU1YHZyFFVF6oqR1UdmI3cP6vqaDT6FbRYLD4+PpIXe73eZrNJXmw0Gslz+YuXy6XZbCYv5mdTHliembzIbOTKZspykhen0+nfqt7v959Bp9PpeDwmLx4Oh/P5nLy43W6T5/IXr9dr+QuQvJifzW63K89MXvwfZlM+1eTFspnPz8/kxdvt9vX19QcrJ6YvdtpV4gAAAABJRU5ErkJggg==\"></div>"
      ],
      "text/plain": [
       "<IPython.core.display.HTML object>"
      ]
     },
     "metadata": {},
     "output_type": "display_data"
    },
    {
     "data": {
      "text/html": [
       "<div style=\"background-color:#e0e0e0;margin:0;padding:10px;\"><img src=\"data:image/png;base64,iVBORw0KGgoAAAANSUhEUgAAAXsAAABNCAIAAADICFNYAAAACXBIWXMAAA7EAAAOxAGVKw4bAAADQElEQVR4nO3XsWqacRiFcS8kgm5myqAoKOQbEnAImDWD2ZNBQpc6ZkwLDoKaSXAKgU7Zu3sNihTxDryB0H6BrhnPaTk8vxt4+cvxQSudTuer0eXlZa/Xc15sNBrD4dB58eTkxHmuVK1Wnefu7u7q9brzon82tVrt/v7eedE/G/PFh4eHp6enyng8/m20WCweHx+dF29ubtbrtfNiGXHnOf/Fw+HQ7/edF/2zKR9YPtN5MX42x+OR4kjET4fiKMTPhuKoxE+H4ijEz4biqMRPh+IoxM+G4qjET4fiKMTPhuKoxE+H4ijEz4biqMRPh+IoxM+G4qjET4fiKMTPhuKoxE+H4ijEz4biqMRPh+IoxM+G4qjET4fiKMTPhuKoxE+H4ijEz4biqMRPh+IoxM+G4qjET4fiKMTPhuKoxE+H4ijEz4biqMRPh+IoxM+G4qjET4fiKMTPhuKoxE+H4ijEz4biqMRPh+IoxM+G4qjET4fiKMTPhuKoxE+H4ijEz4biqMRPh+IoxM+G4qjET4fiKMTPhuKoxE+H4ijEz4biqMRPh+IoxM+G4qjET4fiKMTPhuKoxE+H4ijEz4biqMRPh+IoxM+G4qjET4fiKMTPhuKoxE+H4ijEz4biqMRPh+IoxM+G4qjET4fiKMTPhuKoxE+H4ijEz4biqMRPh+IoxM+G4qjET4fiKMTPhuKoxE+H4ijEz+ZvcYqi+G50dXV1fn7uvHh2djaZTH4anZ6eOs/5L768vLRaLefF0Wh0e3vrvFg+sHym82L8bN7e3j6K0263vxiVuWk2m86L3W53Op3+MJrNZs5z/ouvr6/ljw7nxdVqtVwunRfn83n5TOfF+NmUdrtd/r+q5+dn889jAJ+hOAB8KA4AH4oDwIfiAPChOAB8KA4AH4oDwIfiAPChOAB8KA4AH4oDwIfiAPChOAB8KA4AH4oDwIfiAPChOAB8KA4AH4oDwIfiAPChOAB8KA4AH4oDwIfiAPChOAB8KA4AH4oDwIfiAPChOAB8KA4AH4oDwIfiAPChOAB8KA4AH4oDwKdSFMU3o8FgcHFx4bx4fX1NcYD/RKX8Nv4y2m63m83GeXG/37+/v//rzxnAhz8UVjVfbtsYeQAAAABJRU5ErkJggg==\"></div>"
      ],
      "text/plain": [
       "<IPython.core.display.HTML object>"
      ]
     },
     "metadata": {},
     "output_type": "display_data"
    },
    {
     "data": {
      "text/html": [
       "<div style=\"background-color:#e0e0e0;margin:0;padding:10px;\"><img src=\"data:image/png;base64,iVBORw0KGgoAAAANSUhEUgAAAOQAAABNCAIAAAA5Jl/8AAAACXBIWXMAAA7EAAAOxAGVKw4bAAACpElEQVR4nO3dMWpiYRiFYTdhQFT0CoI2NkJSCFooWAhWIiJWKdRbTjPa2c4swCW4A3cguAITEnQKl2E1cwMD2cA5X/U+GzjN+1++7uZeXl5+BhoMBp1OJ3Kx0WgsFovIxVKpFDmXKZfLkXPr9TpJksjF+Xx+PB5zm83mb6D9fr/b7SIXZ7PZ+XyOXMzef+Rc/OL9fh8Oh5GLp9OJWC2IVY5YXYhVjlhdiFWOWF2IVY5YXYhVjlhdiFWOWF2IVY5YXYhVjlhdiFWOWF2IVY5YXYhVjlhdiFWOWF2IVY5YXYhVjlhdiFWOWF2IVY5YXYhVjlhdiFWOWF2IVY5YXYhVjlhdiFWOWF2IVY5YXYhVjlhdiFWOWF2IVY5YXYhVjlhdiFWOWF2IVY5YXYhVjlhdiFWOWF2IVY5YXYhVjlhdiFWOWF2IVY5YXYhV7n+svV7vd6DRaNTtdiMXm83mcrmMXCwUCpFz8YvZBy5JksjFNE0Ph0Pu+fn5R6Cs1Ha7HblYq9Umk0nkYj6fj5zLPD09Rc69vr4Wi8XIxel0+hUrZ4AcZ4AcN6sLscoRqwuxyhGrC7HKEasLscoRqwuxyhGrC7HKEasLscoRqwuxyhGrC7HKEasLscoRqwuxyhGrC7HKEasLscoRqwuxyhGrC7HKEasLscoRqwuxyhGrC7HKEasLscoRqwuxyhGrC7HKEasLscoRqwuxyhGrC7HKEasLscoRqwuxyhGrC7HKEasLscoRqwuxyhGrC7HKEasLscoRqwuxyhGrC7HKEasLscoRqwuxyn3/reVXoPF43O/3IxdbrVaappGLlUolci5TrVYj57bbbb1ej1xcrVZfsWav5E+gz8/Pj4+PyMX39/fr9Rq5eLlcIufiF2+329vbW+Ri5vF4/ANaj7LZljd33wAAAABJRU5ErkJggg==\"></div>"
      ],
      "text/plain": [
       "<IPython.core.display.HTML object>"
      ]
     },
     "metadata": {},
     "output_type": "display_data"
    },
    {
     "data": {
      "text/html": [
       "<div style=\"background-color:#e0e0e0;margin:0;padding:10px;\"><img src=\"data:image/png;base64,iVBORw0KGgoAAAANSUhEUgAAAVUAAABNCAIAAACZnGA7AAAACXBIWXMAAA7EAAAOxAGVKw4bAAADNUlEQVR4nO3WMU6iURiFYRYiUam0ocFoQcJfYEJBpKKwwFb5C0JsxpJ2phY6EitjMluY3oaeSMwUJO5j5s4OzOScz3zJ+2zg5HLvCzQuLi6+Bbq8vOx2u5GLJycnk8kkcvHg4CByrmg2m5Fz0+n0+Pg4cjH+2RwdHdV1HbkY/2zu7u4aDw8PfwKtVqvFYhG5eH19/fr6GrlYvlIj5+IX9/v9YDCIXIx/NuWA5ZiRi/HPprRP/3r0L0f/DvRvQf9y9O9A/xb0L0f/DvRvQf9y9O9A/xb0L0f/DvRvQf9y9O9A/xb0L0f/DvRvQf9y9O9A/xb0L0f/DvRvQf9y9O9A/xb0L0f/DvRvQf9y9O9A/xb0L0f/DvRvQf9y9O9A/xb0L0f/DvRvQf9y9O9A/xb0L0f/DvRvQf9y9O9A/xb0L0f/DvRvQf9y9O9A/xb0L0f/DvRvQf9y9O9A/xb0L0f/DvRvQf9y9O9A/xb0L0f/DvRvQf9y9O9A/xb0L0f/DvRvQf9y9O9A/xb0L0f/DvRvQf9y9O9A/xb0L0f/DvRvQf9y9O9A/xb0L0f/DvRvQf9y9O9A/xb0L0f/Dv/6r6rqR6DhcNjr9SIXT09Pb29vIxcPDw9/xSpnjJx7fn4+OzuLXJzNZjc3N5GL5YDlmJGLwZdYzOfzxvn5+X2gEn+n04lcbLVa4/E4crEc8Gesx8fHyLmXl5fygxy5+PT0tF6vIxeXy2U5ZuRi8CUWm82G//96wR8p8N/oX4/+kQX969E/sqB/PfpHFvSvR//Igv716B9Z0L8e/SML+tejf2RB/3r0jyzoX4/+kQX969E/sqB/PfpHFvSvR//Igv716B9Z0L8e/SML+tejf2RB/3r0jyzoX4/+kQX969E/sqB/PfpHFvSvR//Igv716B9Z0L8e/SML+tejf2RB/3r0jyzoX4/+kQX969E/sqB/PfpHFvSvR//Igv716B9Z0L8e/SML+tejf2RB/3r0jyzoX4/+kQX969E/sqB/PfpHFo2qqr4HGo1G/X4/crHdbtd1Hbl4dXX11dcKfEpjv9//DrTb7d7e3iIXt9vt+/t75OLHx8dXXyvwKX8BMqMPHVeyHwMAAAAASUVORK5CYII=\"></div>"
      ],
      "text/plain": [
       "<IPython.core.display.HTML object>"
      ]
     },
     "metadata": {},
     "output_type": "display_data"
    },
    {
     "data": {
      "text/html": [
       "<div style=\"background-color:#e0e0e0;margin:0;padding:10px;\"><img src=\"data:image/png;base64,iVBORw0KGgoAAAANSUhEUgAAAS8AAABNCAIAAAB493VqAAAACXBIWXMAAA7EAAAOxAGVKw4bAAADHklEQVR4nO3WMUpjURiG4WwihaDEpDKNjUELgykSsAhYWVgogkUwhcU0Y2k702sXSBWEWUFgelcgkiBTpM4iZs4afr7vF868zwY+Dve8997GycnJ90Sj0ej09DRz8eDg4Pr6OnNxd3c3c67Y29vLnLu/v2+325mL+ddmf39/Op1mLp6fnzceHx//Jnp5eXl6espcvLq6ent7y1wsL7jMufzFzWZTrk7mYv61KQcsx8xcLCVSox41ylGjBTVWsEiNDtRoQY1y1GhBjRUsUqMDNVpQoxw1WlBjBYvU6ECNFtQoR40W1FjBIjU6UKMFNcpRowU1VrBIjQ7UaEGNctRoQY0VLFKjAzVaUKMcNVpQYwWL1OhAjRbUKEeNFtRYwSI1OlCjBTXKUaMFNVawSI0O1GhBjXLUaEGNFSxSowM1WlCjHDVaUGMFi9ToQI0W1ChHjRbUWMEiNTpQowU1ylGjBTVWsEiNDtRoQY1y1GhBjRUsUqMDNVpQoxw1WlBjBYvU6ECNFtQoR40W1FjBIjU6UKMFNcpRowU1VrBIjQ7UaEGNcv9LjYPB4Gei8Xh8dnaWudjtdieTSebizs5O5lzRbrd/J1osFr1eL3Px4eHh5uYmc7EcsBwzc/H29rZxfHz8LVFJ8ejoKHOx0+lcXl5mLjabzcy5ot/v/0r0+vpaPlaZi/P5fDabZS4+Pz+XY2YuLpdL/lT18v9Ukx8iTKhRjxoRQ4161IgYatSjRsRQox41IoYa9agRMdSoR42IoUY9akQMNepRI2KoUY8aEUONetSIGGrUo0bEUKMeNSKGGvWoETHUqEeNiKFGPWpEDDXqUSNiqFGPGhFDjXrUiBhq1KNGxFCjHjUihhr1qBEx1KhHjYihRj1qRAw16lEjYqhRjxoRQ4161IgYatSjRsRQox41IoYa9agRMdSoR42IoUY9akQMNepRI2KoUY8aEUONetSIGGrUo0bENAaDwY9EFxcXw+Ewc/Hw8HA6nWYutlqtzLni7u7uqy8SBBqbzeZPovV6vVqtMhc/Pj4+Pz8zF9/f3zPniu12+9UXCQL/AL8Z86xFlW9uAAAAAElFTkSuQmCC\"></div>"
      ],
      "text/plain": [
       "<IPython.core.display.HTML object>"
      ]
     },
     "metadata": {},
     "output_type": "display_data"
    },
    {
     "data": {
      "text/html": [
       "<div style=\"background-color:#e0e0e0;margin:0;padding:10px;\"><img src=\"data:image/png;base64,iVBORw0KGgoAAAANSUhEUgAAAJgAAAByCAIAAAAgf4+SAAAACXBIWXMAAA7EAAAOxAGVKw4bAAACSElEQVR4nO3VsY5xYRRGYRegE8VpJL4oiEKCECIc3SQKISISlCM0kqmU6qnF9Uzntv7/zD1Yu5n13MBbrGTvUqfT+Qw0Ho+73W7kYkppuVxGLmZZFjlXOBwOpdvt9i/Q8/m83++Ri7vd7vV6RS4Oh8PIuUIR0ZDvZ0iEIRGGJBgSYUiEIRGGJBgSYUiEIRGGJBgSYUiEIRGGJBgSYUiEIRGGJBgSYUiEIRGGJBgSYUiEIRGGJBgSYUiEIRGGJBgSYUiEIRGGJBgSYUiEIRGGJBgSYUiEIRGGJBgSYUjEXwk5m82+Ay0Wi+l0GrnYarVOp1PkYpZlkXOF7XZbGgwGX4GKir1eL3IxpbTZbCIXq9Vq5FxhtVp5Wt/PH4kwJMKQBEMiDIkwJMKQBEMiDIkwJMKQBEMiDIkwJMKQBEMiDIkwJMKQBEMiDIkwJMKQBEMiDIkwJMKQBEMiDIkwJMKQBEMiDIkwJMKQBEMiDIkwJMKQBEMiDIkwJMKQBEMiDIkwJMKQhN+Q9Xr9I1Cj0ajVapGLlUql3+9HLpbL5ci5wnw+L+33+59A1+v1eDxGLuZ5/ng8IhebzWbkXOF8Pnta388fiTAkwpAEQyIMiTAkwpAEQyIMiTAkwpAEQyIMiTAkwpAEQyIMiTAkwpAEQyIMiTAkwpAEQyIMiTAkwpAEQyIMiTAkwpAEQyIMiTAkwpAEQyIMiTAkwpAEQyIMiTAkwpAEQyIMiTAkwpCE35CTyeQzUJ7no9EocrHdbq/X68jFlFLkXOFyufwHTa/u0FD7DqYAAAAASUVORK5CYII=\"></div>"
      ],
      "text/plain": [
       "<IPython.core.display.HTML object>"
      ]
     },
     "metadata": {},
     "output_type": "display_data"
    },
    {
     "data": {
      "text/html": [
       "<div style=\"background-color:#e0e0e0;margin:0;padding:10px;\"><img src=\"data:image/png;base64,iVBORw0KGgoAAAANSUhEUgAAAS8AAAByCAIAAACN28ASAAAACXBIWXMAAA7EAAAOxAGVKw4bAAADR0lEQVR4nO3WO0plWRTH4TsNRQTFRJMLKooX8QGCDQamPrgYVajQJobGDQaCj0gwEqFHIHTQmSMwFwPHUXVmIBR7LRenvm8Cf/bm/Dh7MBwOfyQajUaLi4uZi7Ozs/v7+5mLExMTmXOdycnJzLnDw8OpqanMxfzPpjvg0dFR5uL29vbg4uLiZ6K7u7vLy8vMxYODg9fX18zF1dXVzLn8xY+Pj93d3czF/M+mO2B3zMzFrkQ1tqfG5tQYQo09WFRjBDWGUGNzagyhxh4sqjGCGkOosTk1hlBjDxbVGEGNIdTYnBpDqLEHi2qMoMYQamxOjSHU2INFNUZQYwg1NqfGEGrswaIaI6gxhBqbU2MINfZgUY0R1BhCjc2pMYQae7CoxghqDKHG5tQYQo09WFRjBDWGUGNzagyhxh4sqjGCGkOosTk1hlBjDxbVGEGNIdTYnBpDqLEHi2qMoMYQamxOjSHU2INFNUZQYwg1NqfGEGrswaIaI6gxhBqbU2MINfZgUY0R1BhCjc2pMYQae7CoxghqDKHG5tQYQo09WFRjBDWGUGNzf0qNm5ub/yTa29vb2NjIXBwOh1dXV/8lmp+fz5zLX3x6elpeXs5cPD09HY/HmYvdAbtjZi6enJwMVlZW/k7Upbi0tJS5OBqNrq+v/010c3OTOZe/+Pz83P2sMhcfHx8fHh4yF29vb7tjZi6+vLz0/6V6f3+f/OSA36NGqEKNUIUaoQo1QhVqhCrUCFWoEapQI1ShRqhCjVCFGqEKNUIVaoQq1AhVqBGqUCNUoUaoQo1QhRqhCjVCFWqEKtQIVagRqlAjVKFGqEKNUIUaoQo1QhVqhCrUCFWoEapQI1ShRqhCjVCFGqGKwczMzF+J5ubmpqenMxcXFhbe3t6++57ha4Pj4+P/E52dnY3H48zF8/Pz9/f3775n+JqXKlShRqhCjVCFGqEKNUIVaoQq1AhVqBGqUCNUoUaoQo1QhRqhCjVCFWqEKtQIVagRqlAjVKFGqEKNUIUaoQo1QhVqhCrUCFWoEapQI1ShRqhCjVCFGqEKNUIVaoQq1AhVqBGqUCNUoUaoQo1QhRqhisH6+vqPRFtbW2tra5mLOzs7n5+f333P8LVf8RCEI5JVuBkAAAAASUVORK5CYII=\"></div>"
      ],
      "text/plain": [
       "<IPython.core.display.HTML object>"
      ]
     },
     "metadata": {},
     "output_type": "display_data"
    },
    {
     "data": {
      "text/html": [
       "<div style=\"background-color:#e0e0e0;margin:0;padding:10px;\"><img src=\"data:image/png;base64,iVBORw0KGgoAAAANSUhEUgAAAQoAAAByCAIAAAAkrwiGAAAACXBIWXMAAA7EAAAOxAGVKw4bAAADfUlEQVR4nO3WsUqbcRSG8dyEQ0JAki2LgkZDQoijhQwScIiIS0DBIUOnjI62m4vgIDhJoDi6NdBByBWELNLB2SW7g/16AQdKOecIr8/vBl7Cd57wL21ubp4m6nQ6W1tbmYv1ev3g4CBzsVwuZ84VKpVK5tzR0VG1Ws1czD+bnZ2d1WpVmkwm74mur68vLi4yF4fD4Xw+z1xstVqZc/mLLy8v+/v7mYv5Z3N5eUkeIcjDHXlEIQ935BGFPAQWySMKeQgskkcU8hBYJI8o5CGwSB5RyENgkTyikIfAInlEIQ+BRfKIQh4Ci+QRhTwEFskjCnkILJJHFPIQWCSPKOQhsEgeUchDYJE8opCHwCJ5RCEPgUXyiEIeAovkEYU8BBbJIwp5CCySRxTyEFgkjyjkIbBIHlHIQ2CRPKKQh8AieUQhD4FF8ohCHgKL5BGFPAQWySMKeQgskkcU8hBYJI8o5CGwSB5RyENgkTyikIfAInlEIQ+BRfKIQh4Ci+QRhTwEFj9RHnt7e98T9fv9Xq+XudhoNM7OzjIXy+Vy5lyhVqv9THR/f99sNjMXx+PxyclJ5uJoNPqbx+7u7tdERRvb29uZi/V6/fDwMHNxbW0tc67Q7XZ/JJpOp8Xfeebi3d3d7e1t5uLDw8Pb2xuPK3/5j6vkj/h5kIc/8pBBHv7IQwZ5+CMPGeThjzxkkIc/8pBBHv7IQwZ5+CMPGeThjzxkkIc/8pBBHv7IQwZ5+CMPGeThjzxkkIc/8pBBHv7IQwZ5+CMPGeThjzxkkIc/8pBBHv7IQwZ5+CMPGeThjzxkkIc/8pBBHv7IQwZ5+CMPGeThjzxkkIc/8pBBHv7IQwZ5+CMPGeThjzxkkIc/8pBBHv7IQwZ5+CMPGeThjzxkkIc/8pBBHv7IQwZ5+CMPGaVarfYlUaPRaLfb3xJtbGycn59nLq6vr2fOFUaj0UcfkqbS8fHxr0RXV1c3Nze/Ey2Xy+fn58zFxWKROVd4fX396EPSlP24enp6enx8zFwE/ht5ACbyAEzkAZjIAzCRB2AiD8BEHoCJPAATeQAm8gBM5AGYyAMwkQdgIg/ARB6AiTwAE3kAJvIATOQBmMgDMJEHYCIPwEQegIk8ABN5ACbyAEzkAZjIAzCRB2AiD8BEHoCJPAATeQAm8gBM5AGYSt1u9zTRYDCYzWYf/auBf/IH8iFgV1EnGIQAAAAASUVORK5CYII=\"></div>"
      ],
      "text/plain": [
       "<IPython.core.display.HTML object>"
      ]
     },
     "metadata": {},
     "output_type": "display_data"
    },
    {
     "data": {
      "text/html": [
       "<div style=\"background-color:#e0e0e0;margin:0;padding:10px;\"><img src=\"data:image/png;base64,iVBORw0KGgoAAAANSUhEUgAAAOQAAAByCAIAAADMCuqEAAAACXBIWXMAAA7EAAAOxAGVKw4bAAADOElEQVR4nO3WMUpjcRSF8WxCMCKRhDRWQgyRhBAtBAeCpEmRIDYR0ylMlTLtTJVKdyDC1HZTDCGQFdhOkcJGF+G8gVnCOTfc4ftt4MD7f/Bu6ejo6DZQp9NpNBqRi7VabTAYRC6Wy+XIucLe3l7k3Hg83t/fj1y8vLx8eXkpzWazz0APDw/z+TxycTQardfryMWTk5PIufjFzWZzcXERubharYjVgljliNWFWOWI1YVY5YjVhVjliNWFWOWI1YVY5YjVhVjliNWFWOWI1YVY5YjVhVjliNWFWOWI1YVY5YjVhVjliNWFWOWI1YVY5YjVhVjliNWFWOWI1YVY5YjVhVjliNWFWOWI1YVY5YjVhVjliNWFWOWI1YVY5YjVhVjliNWFWOWI1YVY5YjVhVjliNWFWOWI1YVY5YjVhVjliNWFWOWI1YVY5YjVhVjliNWFWOX+xXp6evo9UL/f7/V6kYuHh4fT6TRysVwuR84VqtXqz0BPT0/NZjNycbFY/I211Wp9DVSUenx8HLlYq9WGw2Hk4s7OTuRcodvt/gj0/Pxc/CEjFwvv7++cAXrxZ0DwI24LseoRqwmx6hGrCbHqEasJseoRqwmx6hGrCbHqEasJseoRqwmx6hGrCbHqEasJseoRqwmx6hGrCbHqEasJseoRqwmx6hGrCbHqEasJseoRqwmx6hGrCbHqEasJseoRqwmx6hGrCbHqEasJseoRqwmx6hGrCbHqEasJseoRqwmx6hGrCbHqEasJseoRqwmx6hGrCbHqEasJseoRqwmx6hGrCbHqEasJseoRqwmx6hGrSalarX4JVK/XK5VK5OLu7u7Nzc23QAcHB5Fzhclksu2QIpSurq5+Bbq/v7++vo5cvLu7Wy6XvwO9vr5GzhU+Pj62HVKE//8MeHx83Gw2kYswIVakQaxIg1iRBrEiDWJFGsSKNIgVaRAr0iBWpEGsSINYkQaxIg1iRRrEijSIFWkQK9IgVqRBrEiDWJEGsSINYkUaxIo0iBVpECvSIFakQaxIg1iRBrEiDWJFGsSKNIgVaRAr0iBWpEGsSINYkUap2+3eBjo7O2u325GL5+fnb29v2/7OEPgD1/HnPIK0IpAAAAAASUVORK5CYII=\"></div>"
      ],
      "text/plain": [
       "<IPython.core.display.HTML object>"
      ]
     },
     "metadata": {},
     "output_type": "display_data"
    },
    {
     "name": "stdout",
     "output_type": "stream",
     "text": [
      "partitions - Group degree: 14, factorization: 7 * 2 = 14\n"
     ]
    },
    {
     "data": {
      "text/html": [
       "<div style=\"background-color:#e0e0e0;margin:0;padding:10px;\"><img src=\"data:image/png;base64,iVBORw0KGgoAAAANSUhEUgAAAhIAAAAnCAIAAADVdzbfAAAACXBIWXMAAA7EAAAOxAGVKw4bAAAC8UlEQVR4nO3WsYmiURiF4SlEQTMnFwRNDEYsYSbQWA3EbCe0BlExEU0UYQMb2NzIJqaS3VvEOWfh+j4NHH75Lq9vvV7vV9DHx8dgMEgudjqdyWSSXGw0Gsm5otlsJufm83m73U4u5s+m1WotFovkYv5swov5s+n3+6PRKLmYP5vw2y9ms9nb9/f336D9fr9er5OLX19fj8cjuVhKnJzLL/78/IzH4+Ri/mzKB5bPTC5yNnLlZsrlJBdf4WxKMsiGHu9fjmxUsEg2HMiGBdmQIxsOnI0c2XAgGxa8fzmyUcEi2XAgGxZkQ45sOHA2cmTDgWxY8P7lyEYFi2TDgWxYkA05suHA2ciRDQeyYcH7lyMbFSySDQeyYUE25MiGA2cjRzYcyIYF71+ObFSwSDYcyIYF2ZAjGw6cjRzZcCAbFrx/ObJRwSLZcCAbFmRDjmw4cDZyZMOBbFjw/uXIRgWLZMOBbFiQDTmy4cDZyJENB7JhwfuXIxsVLJINB7JhQTbkyIYDZyNHNhzIhgXvX45sVLBINhzIhgXZkCMbDpyNHNlwIBsWvH85slHBItlwIBsWZEOObDhwNnJkw4FsWPD+5chGBYtkw4FsWJANObLhwNnIkQ0HsmHB+5cjGxUskg0HsmFBNuTIhgNnI0c2HMiGBe9fjmxUsEg2HMiGBdmQIxsOnI0c2XAgGxa8fzmyUcEi2XAgGxZkQ45sOHA2cmTDgWxY8P7lyEYFi2TDgWxYkA05suHA2ciRDQeyYcH7lyMbFSySDQeyYUE25MiGA2cjRzYcyIYF71+ObFSwSDYcyIYF2ZAjGw6cjRzZcCAbFrx/ObJRwSLZcPg/2fj8/PwTtFwup9NpcnE4HG42m+Ti+/t7ci6/eL1eu91ucjF/NuUDy2cmFzkbuXIz5XKSi69wNqvV6u1+v/8OOp/Px+MxuXg4HC6XS3Jxu90m5/KLt9ut/IlLLubPZrfblc9MLr7C2ZRfNblYbuZ0OiUXX+Fsns/nP1gjFo+BDMOIAAAAAElFTkSuQmCC\"></div>"
      ],
      "text/plain": [
       "<IPython.core.display.HTML object>"
      ]
     },
     "metadata": {},
     "output_type": "display_data"
    },
    {
     "data": {
      "text/html": [
       "<div style=\"background-color:#e0e0e0;margin:0;padding:10px;\"><img src=\"data:image/png;base64,iVBORw0KGgoAAAANSUhEUgAAAccAAABNCAIAAABcwjjvAAAACXBIWXMAAA7EAAAOxAGVKw4bAAADeElEQVR4nO3YPy71eRjGYQshoaNSEJIjcQpEIaFV0KgoFNOMUmkmUUj8qYRKJJNYwfTWQDERO9CLzPxmD/fzvAnXtYEn35Pb52BieXn590br6+srKyudF2dnZ/f29jovTk5Odp4bTE1NdZ47PDycmZnpvNg/m+np6aOjo86L/bNpvtg/m9FotLGx0XlxdXX14+Nj4uTk5N9G19fXp6ennRd3d3efn587Lw5fVJ3n+i++v79vbm52XuyfzfDA4ZmdF80mbtjMsJzOi2dnZ6pawo9HnKp+g4uqWkVVv8FFVa1gNnGqWkVV41S1gtnEqWoVVY1T1QpmE6eqVVQ1TlUrmE2cqlZR1ThVrWA2capaRVXjVLWC2cSpahVVjVPVCmYTp6pVVDVOVSuYTZyqVlHVOFWtYDZxqlpFVeNUtYLZxKlqFVWNU9UKZhOnqlVUNU5VK5hNnKpWUdU4Va1gNnGqWkVV41S1gtnEqWoVVY1T1QpmE6eqVVQ1TlUrmE2cqlZR1ThVrWA2capaRVXjVLWC2cSpahVVjVPVCmYTp6pVVDVOVSuYTZyqVlHVOFWtYDZxqlpFVeNUtYLZxKlqFVWNU9UKZhOnqlVUNU5VK5hNnKpWUdU4Va1gNnGqWkVV41S1gtnEqWoVVY1T1QpmE6eqVVQ1TlUrmE2cqlZR1ThVrWA2capaRVXjVLWC2cSpahVVjVPVCmYTp6pVVDVOVSuYTZyqVlHVOFWtYDZxqlpFVeNUtYLZxP2yqo7H4z8bbW1tra6udl6cn58/Pz//u9Hc3Fznuf6LDw8Pi4uLnRePj4/39/c7Lw4PHJ7ZedFs4obNDMvpvHhwcPB/VZeWln5rNCR1YWGh8+JoNLq4uPir0eXlZee5/ouPj4/DrwCdF+/v729vbzsvXl1dDc/svPgTZjN8qp0Xh83c3d11Xnx6evr8/Pz+/wG4ublp/lMO+MlUFSBJVQGSVBUgSVUBklQVIElVAZJUFSBJVQGSVBUgSVUBklQVIElVAZJUFSBJVQGSVBUgSVUBklQVIElVAZJUFSBJVQGSVBUgSVUBklQVIElVAZJUFSBJVQGSVBUgSVUBklQVIElVAZJUFSBJVQGSVBUgSVUBklQVIGliPB7/0Wh7e3ttba3z4s7OjqoCbSaG4vzT6PX19eXlpfPi29vb19fXr/6cgZ/iPzwvw99k3s5QAAAAAElFTkSuQmCC\"></div>"
      ],
      "text/plain": [
       "<IPython.core.display.HTML object>"
      ]
     },
     "metadata": {},
     "output_type": "display_data"
    },
    {
     "data": {
      "text/html": [
       "<div style=\"background-color:#e0e0e0;margin:0;padding:10px;\"><img src=\"data:image/png;base64,iVBORw0KGgoAAAANSUhEUgAAAXsAAABNCAIAAADICFNYAAAACXBIWXMAAA7EAAAOxAGVKw4bAAADx0lEQVR4nO3XoUrkYRSG8bkJg6DomJxiUTQoTlCYIJgMBi0GmQkiW9ZodDerTTCJsMm+3SsQUYYNky3ewe63sPWALOc9wsvzu4HDx7w8/Keztrb2tdD29vb6+nrlxcXFxYODg8qLMzMzleea2dnZynPD4bDb7VZerJ/N/Pz8aDSqvFg/m+KLp6enFxcXnbOzs9+Frq+vz8/PKy/u7+8/Pj5WXmwRrzxXf3EymQwGg8qL9bNpD2zPrLxoP5v393eKI2E/HYqjYD8biqNiPx2Ko2A/G4qjYj8diqNgPxuKo2I/HYqjYD8biqNiPx2Ko2A/G4qjYj8diqNgPxuKo2I/HYqjYD8biqNiPx2Ko2A/G4qjYj8diqNgPxuKo2I/HYqjYD8biqNiPx2Ko2A/G4qjYj8diqNgPxuKo2I/HYqjYD8biqNiPx2Ko2A/G4qjYj8diqNgPxuKo2I/HYqjYD8biqNiPx2Ko2A/G4qjYj8diqNgPxuKo2I/HYqjYD8biqNiPx2Ko2A/G4qjYj8diqNgPxuKo2I/HYqjYD8biqNiPx2Ko2A/G4qjYj8diqNgPxuKo2I/HYqjYD8biqNiPx2Ko2A/G4qjYj8diqNgPxuKo2I/HYqjYD8biqNiPx2Ko2A/G4qjYj8diqNgPxuKo2I/HYqjYD8biqNiPx2Ko2A/G4qjYj8diqNgPxuKo2I/HYqjYD8biqNiPx2Ko2A/m3/F6ff73wvt7Oxsbm5WXuz1esfHx5UXp6enK8813W73Z6G7u7uVlZXKiycnJ4eHh5UX2wPbMysvtqFWnqu/+PDw8Lc4q6urXwq13CwvL1deXFhY2Nvbq7w4NTVVea7Z2Nj4Uej+/r59dFRevL29vbm5qbx4dXXVnll58fLysvLcp1wcj8f8q8pX/3lc/CMC/43i5KM4QITi5KM4QITi5KM4QITi5KM4QITi5KM4QITi5KM4QITi5KM4QITi5KM4QITi5KM4QITi5KM4QITi5KM4QITi5KM4QITi5KM4QITi5KM4QITi5KM4QITi5KM4QITi5KM4QITi5KM4QITi5KM4QITi5KM4QITi5KM4QITi5KM4QITi5KM4QITi5KM4QITi5KM4QITi5KM4QITi5KM4QITi5KM4QITi5KM4QITi5KM4QITi5KM4QITi5KM4QITi5KM4QITi5KM4QITi5KM4QKTT7/e/Fdrd3d3a2qq8uLS0NBqNKi/Ozc1VnmuOjo4+e0jAh3Qmk8mvQq+vry8vL5UXn5+fx+Nx5cWnp6fKc83b29tnDwn4kD8f75fC6yvzlgAAAABJRU5ErkJggg==\"></div>"
      ],
      "text/plain": [
       "<IPython.core.display.HTML object>"
      ]
     },
     "metadata": {},
     "output_type": "display_data"
    },
    {
     "data": {
      "text/html": [
       "<div style=\"background-color:#e0e0e0;margin:0;padding:10px;\"><img src=\"data:image/png;base64,iVBORw0KGgoAAAANSUhEUgAAAS8AAABNCAIAAAB493VqAAAACXBIWXMAAA7EAAAOxAGVKw4bAAADYklEQVR4nO3WMUqjURiFYTehIEZMBCFpbCKmEEyhYCEEAwlYCAELTRphmkk625lelyDC1BaBKQNZgZEEY5FlWM38izjnEz7fdwOHC/e53LVGo/EzsNPT06Ojo8jFarV6dXUVuVgqlSLnira3tyPn+v1+pVKJXIy/NuVyeTAYRC6enZ2tDYfDf4E9Pj7e399HLl5eXk6n08jF4oGLnItfXK1WxdWJXIy/NsUBi2NGLhYS0agPjfLQaAmNCRbR6AiNltAoD42W0JhgEY2O0GgJjfLQaAmNCRbR6AiNltAoD42W0JhgEY2O0GgJjfLQaAmNCRbR6AiNltAoD42W0JhgEY2O0GgJjfLQaAmNCRbR6AiNltAoD42W0JhgEY2O0GgJjfLQaAmNCRbR6AiNltAoD42W0JhgEY2O0GgJjfLQaAmNCRbR6AiNltAoD42W0JhgEY2O0GgJjfLQaAmNCRbR6AiNltAoD42W0JhgEY2O0GgJjfLQaAmNCRbR6AiNltAoD42W0JhgEY2O0GgJjfLQaAmNCRbR6AiNltAo77tobDabvwM7Pz8/Pj6OXKzVajc3N5GLm5ubkXPxi8W9qVQqkYsXFxfdbvdvYAcHB09PT5GLvV5v7fDw8EdgBcV6vR65uLu72+l0IhfX19cj54o2NjYi566vr7e2tiIX2+323d3dn8AeHh6en58jF8fjMT9VffxU5U0mk5eXl8jFLwmN+tAoD42W0JhgEY2m0KgPjfLQaAmNCRbRaAqN+tAoD42W0JhgEY2m0KgPjfLQaAmNCRbRaAqN+tAoD42W0JhgEY2m0KgPjfLQaAmNCRbRaAqN+tAoD42W0JhgEY2m0KgPjfLQaAmNCRbRaAqN+tAoD42W0JhgEY2m0KgPjfLQaAmNCRbRaAqN+tAoD42W0JhgEY2m0KgPjfLQaAmNCRbRaAqN+tAoD42W0JhgEY2m0KgPjfLQaAmNCRbRaAqN+tAoD42W0JhgEY2m0KgPjfLQaAmNCRbRaAqN+tAoD42W0JhgEY2m0KgPjfK+i8Zms/krsFardXJyErm4v78/GAwiF3d2diLnisrlcuTcaDTa29uLXLy9vf0WGot37iOwxWIxn88jF9/e3t7f3yMXX19fI+fiF5fL5Ww2i1ws+vz8/Gos9v4DcWJbXqBeM28AAAAASUVORK5CYII=\"></div>"
      ],
      "text/plain": [
       "<IPython.core.display.HTML object>"
      ]
     },
     "metadata": {},
     "output_type": "display_data"
    }
   ],
   "source": [
    "display_gap_results_factorizations(\"SnPartitionsFirstRep.csv\", \"partitions\");"
   ]
  },
  {
   "cell_type": "code",
   "execution_count": 6,
   "id": "5fad2109-c78d-4028-947d-c3bb218409d3",
   "metadata": {},
   "outputs": [
    {
     "name": "stdout",
     "output_type": "stream",
     "text": [
      "partitions - Group degree: 4, factorization: 2 * 2 = 4\n"
     ]
    },
    {
     "data": {
      "text/html": [
       "<div style=\"background-color:#e0e0e0;margin:0;padding:10px;\"><img src=\"data:image/png;base64,iVBORw0KGgoAAAANSUhEUgAAAJgAAAAnCAIAAAB8PBbWAAAACXBIWXMAAA7EAAAOxAGVKw4bAAABCUlEQVR4nO3ToY2EABgFYQqhAKgAgUHQAwgIBWywh6QGQgiGZM2qEzRwfinrliJufnPzNfDE5CVFUXwFquu6LMvIxSzLuq6LXEzTNHLuNgxDMk3Tb6Bt2+Z5jlxs2/b9fkcu3t+InLvdEQ359wyJMCTCkARDIgyJMCTCkARDIgyJMCTCkARDIgyJMCTCkARDIgyJMCTCkARDIgyJMCTCkARDIgyJMCTCkARDIgyJMCTCkARDIgyJMCTCkARDIgyJMCTCkARDIgyJMCTCkARDIgyJ+C8hm6b5CTSOY9/3kYtVVS3LErmY53nk3O3xeCTneX4Hej6fx3FELu77/nq9IhfXdY2cu13X9QGrKpyk1OSyKwAAAABJRU5ErkJggg==\"></div>"
      ],
      "text/plain": [
       "<IPython.core.display.HTML object>"
      ]
     },
     "metadata": {},
     "output_type": "display_data"
    },
    {
     "data": {
      "text/html": [
       "<div style=\"background-color:#e0e0e0;margin:0;padding:10px;\"><img src=\"data:image/png;base64,iVBORw0KGgoAAAANSUhEUgAAAE0AAABNCAIAAABsa37nAAAACXBIWXMAAA7EAAAOxAGVKw4bAAAA90lEQVR4nO3aMWqEUBRG4dmToIWghVoJ6lbSxNI2WYCuzScEcSGSzCzi3ClyPnj1z4FbvkdRFJ+B2rYtyzJyseu667oe8zz/BlrXdVmWyMVt2+zE2Emxk2QnxU6SnRQ7SXZS7CTZSbGTZCfFTpKdFDtJdlLsJNlJsZNkJ8VOkp0UO0lv66zr+jtQ3/dVVUUuTtOUUnrkef4R6BmZZVnkYtM0x3H8m7u1E2EnxU6SnRQ7SXZS7CTZSbGTZCfFTpKdFDtJdlLsJNlJsZNkJ8VOkp0UO0l2UuwkvfO/yVegYRiapolcHMfx1fl8P4FSSvu+Ry6e53nf9x9XRph1JrjyOAAAAABJRU5ErkJggg==\"></div>"
      ],
      "text/plain": [
       "<IPython.core.display.HTML object>"
      ]
     },
     "metadata": {},
     "output_type": "display_data"
    },
    {
     "name": "stdout",
     "output_type": "stream",
     "text": [
      "partitions - Group degree: 6, factorization: 2 * 3 = 6\n"
     ]
    },
    {
     "data": {
      "text/html": [
       "<div style=\"background-color:#e0e0e0;margin:0;padding:10px;\"><img src=\"data:image/png;base64,iVBORw0KGgoAAAANSUhEUgAAAOQAAAAnCAIAAACQSXPAAAAACXBIWXMAAA7EAAAOxAGVKw4bAAABh0lEQVR4nO3VMYrCABRFUReihV3SCylsLASXYJCkt7EdS5cQRIJNII0SsLBKN2XAfdi6iZkMzBLe+9U9G3jN/fxJlmVfgdbr9XK5jFxMkqQoisjF6XQaOTeazWaRc/v9fj6fRy7udru+7yfH4/EnUF3Xp9MpcjHP89frFbk43n/kXPzi+/3ebDaRi8MwEKsFscoRqwuxyhGrC7HKEasLscoRqwuxyhGrC7HKEasLscoRqwuxyhGrC7HKEasLscoRqwuxyhGrC7HKEasLscoRqwuxyhGrC7HKEasLscoRqwuxyhGrC7HKEasLscoRqwuxyhGrC7HKEasLscoRqwuxyhGrC7HKEasLscoRqwuxyhGrC7HKEasLscoRqwuxyhGrC7HKEasLscoRqwuxyhGrC7HKEasLscoRqwuxyv3Hut1uvwMdDoeyLCMXV6vV+XyOXEzTNHIufvF+vy8Wi8jFqqr+Yn0+n49Abds2TRO5eL1eb7db5OLlcomci1/sum78kJGLo8/n8wu2+oJwElU5+gAAAABJRU5ErkJggg==\"></div>"
      ],
      "text/plain": [
       "<IPython.core.display.HTML object>"
      ]
     },
     "metadata": {},
     "output_type": "display_data"
    },
    {
     "data": {
      "text/html": [
       "<div style=\"background-color:#e0e0e0;margin:0;padding:10px;\"><img src=\"data:image/png;base64,iVBORw0KGgoAAAANSUhEUgAAAE0AAAByCAIAAACZR8ufAAAACXBIWXMAAA7EAAAOxAGVKw4bAAABUklEQVR4nO3dMYrCABBG4ZxECFilERIImEgimGLBxl4stxXWxjL1HkCvs5ewSZpgkXPs7iXeWPi+C/w8mH6S1Wr1GaiqqjzPIxfrun4+n8n1ev0NdLvd+r6PXLzf73Zi7KTYSbKTYifJToqdJDspdpLspNhJspNiJ8lOip0kOyl2kuyk2Emyk2InyU6KnaSXdbZt+x1ov983TRO5eDgchmFIyrL8CvQfWRRF5OJutxvH8W3u1k6EnRQ7SXZS7CTZSbGTZCfFTpKdFDtJdlLsJNlJsZNkJ8VOkp0UO0l2Uuwk2Umxk/SyzjRNPwItl8vFYhG5mGXZ4/FIjsfjT6Dz+Xw6nSIXL5fLNE1vc7d2Iuyk2Emyk2InyU6KnSQ7KXaS7KTYSbKTYifJToqdJDspdpLspNhJspNiJ8lOip2kl3VuNpvIry/b7Xa9Xkcudl03z/Mf3KsVxt3lB3gAAAAASUVORK5CYII=\"></div>"
      ],
      "text/plain": [
       "<IPython.core.display.HTML object>"
      ]
     },
     "metadata": {},
     "output_type": "display_data"
    },
    {
     "data": {
      "text/html": [
       "<div style=\"background-color:#e0e0e0;margin:0;padding:10px;\"><img src=\"data:image/png;base64,iVBORw0KGgoAAAANSUhEUgAAAJgAAABNCAIAAADVUzrqAAAACXBIWXMAAA7EAAAOxAGVKw4bAAABqUlEQVR4nO3cMYrCUBhFYRfiArRKIRhQMIV2QtJaCC7AapqxtJ0Bi4DoItzC9HELsRgkC5GZN3uY+wvX823gknd4KV8vz/P3QIvFYjqdRi4OBoP1eh252O/3I+eSzWbT2+12P4FOp9N+v49cXK1WTdNELqa7ETmXpIiE/H+ElCCkBCEVCClBSAlCShBSgZAShJQgpAQhFQgpQUgJQkoQUoGQEoSUIKQEIRUIKUFICUJKEFKBkBKElCCkBCEVCClBSAlCShBSgZAShJQgpAQhFQgpQUgJQkoQUoGQEoSUIKQEIRUIKUFIiVcJWRTFZ6DlcjmbzSIXsyw7HA5fgYbDYeRcst1ue+Px+C1QqjgajSIXJ5NJXdeXQMfjMXIuuV6v/r/W8/ncdV3k4lMQ0gQhTRDSBCFNENIEIU0Q0gQhTRDSBCFNENIEIU0Q0gQhTRDSBCFNENIEIU0Q0gQhTRDSBCFNENIEIU0Q0gQhTRDSBCFNENIEIU0Q0gQhTRDSBCFNENLE36seH4HKspzP55GLVVW9RMj0kd+Bbrdb27aRi/f7/fF4PPuc5X4BqnVLaLyDLi8AAAAASUVORK5CYII=\"></div>"
      ],
      "text/plain": [
       "<IPython.core.display.HTML object>"
      ]
     },
     "metadata": {},
     "output_type": "display_data"
    },
    {
     "name": "stdout",
     "output_type": "stream",
     "text": [
      "partitions - Group degree: 6, factorization: 3 * 2 = 6\n"
     ]
    },
    {
     "data": {
      "text/html": [
       "<div style=\"background-color:#e0e0e0;margin:0;padding:10px;\"><img src=\"data:image/png;base64,iVBORw0KGgoAAAANSUhEUgAAAOQAAAAnCAIAAACQSXPAAAAACXBIWXMAAA7EAAAOxAGVKw4bAAABh0lEQVR4nO3VMYrCABRFUReihV3SCylsLASXYJCkt7EdS5cQRIJNII0SsLBKN2XAfdi6iZkMzBLe+9U9G3jN/fxJlmVfgdbr9XK5jFxMkqQoisjF6XQaOTeazWaRc/v9fj6fRy7udru+7yfH4/EnUF3Xp9MpcjHP89frFbk43n/kXPzi+/3ebDaRi8MwEKsFscoRqwuxyhGrC7HKEasLscoRqwuxyhGrC7HKEasLscoRqwuxyhGrC7HKEasLscoRqwuxyhGrC7HKEasLscoRqwuxyhGrC7HKEasLscoRqwuxyhGrC7HKEasLscoRqwuxyhGrC7HKEasLscoRqwuxyhGrC7HKEasLscoRqwuxyhGrC7HKEasLscoRqwuxyhGrC7HKEasLscoRqwuxyhGrC7HKEasLscoRqwuxyv3Hut1uvwMdDoeyLCMXV6vV+XyOXEzTNHIufvF+vy8Wi8jFqqr+Yn0+n49Abds2TRO5eL1eb7db5OLlcomci1/sum78kJGLo8/n8wu2+oJwElU5+gAAAABJRU5ErkJggg==\"></div>"
      ],
      "text/plain": [
       "<IPython.core.display.HTML object>"
      ]
     },
     "metadata": {},
     "output_type": "display_data"
    },
    {
     "data": {
      "text/html": [
       "<div style=\"background-color:#e0e0e0;margin:0;padding:10px;\"><img src=\"data:image/png;base64,iVBORw0KGgoAAAANSUhEUgAAAJgAAABNCAIAAADVUzrqAAAACXBIWXMAAA7EAAAOxAGVKw4bAAABqUlEQVR4nO3cMYrCUBhFYRfiArRKIRhQMIV2QtJaCC7AapqxtJ0Bi4DoItzC9HELsRgkC5GZN3uY+wvX823gknd4KV8vz/P3QIvFYjqdRi4OBoP1eh252O/3I+eSzWbT2+12P4FOp9N+v49cXK1WTdNELqa7ETmXpIiE/H+ElCCkBCEVCClBSAlCShBSgZAShJQgpAQhFQgpQUgJQkoQUoGQEoSUIKQEIRUIKUFICUJKEFKBkBKElCCkBCEVCClBSAlCShBSgZAShJQgpAQhFQgpQUgJQkoQUoGQEoSUIKQEIRUIKUFIiVcJWRTFZ6DlcjmbzSIXsyw7HA5fgYbDYeRcst1ue+Px+C1QqjgajSIXJ5NJXdeXQMfjMXIuuV6v/r/W8/ncdV3k4lMQ0gQhTRDSBCFNENIEIU0Q0gQhTRDSBCFNENIEIU0Q0gQhTRDSBCFNENIEIU0Q0gQhTRDSBCFNENIEIU0Q0gQhTRDSBCFNENIEIU0Q0gQhTRDSBCFNENLE36seH4HKspzP55GLVVW9RMj0kd+Bbrdb27aRi/f7/fF4PPuc5X4BqnVLaLyDLi8AAAAASUVORK5CYII=\"></div>"
      ],
      "text/plain": [
       "<IPython.core.display.HTML object>"
      ]
     },
     "metadata": {},
     "output_type": "display_data"
    },
    {
     "name": "stdout",
     "output_type": "stream",
     "text": [
      "partitions - Group degree: 8, factorization: 2 * 4 = 8\n"
     ]
    },
    {
     "data": {
      "text/html": [
       "<div style=\"background-color:#e0e0e0;margin:0;padding:10px;\"><img src=\"data:image/png;base64,iVBORw0KGgoAAAANSUhEUgAAAS8AAAAnCAIAAADRmFlWAAAACXBIWXMAAA7EAAAOxAGVKw4bAAAB4UlEQVR4nO3VsYkCURSFYQsZYcw0FwwmMRAsQQPFVINJ19AaRMVEMFGEDYyFze3DSnZfEfec4O7/N3B4cL+Zzmg0+jI2mUyapnEu9vv9xWLhXKyqyjlX6na7zrn1et3r9ZyL/rOp63qz2TgXp9NpZ7vd/ho7nU673c65OJ/P3++3c7F84Jxz/sXP51NOx7noP5vywPJM52KRiMb40BgeGiWhMcEiGhWhURIaw0OjJDQmWESjIjRKQmN4aJSExgSLaFSERkloDA+NktCYYBGNitAoCY3hoVESGhMsolERGiWhMTw0SkJjgkU0KkKjJDSGh0ZJaEywiEZFaJSExvDQKAmNCRbRqAiNktAYHholoTHBIhoVoVESGsNDoyQ0JlhEoyI0SkJjeGiUhMYEi2hUhEZJaAwPjZLQmGARjYrQKAmN4aFREhoTLKJRERoloTE8NEpCY4JFNCpCoyQ0hodGSWhMsIhGRWiUhMbw0CgJjQkW0agIjZLQGB4aJaExwSIaFaFREhrD+y8aZ7PZj7G2bZfLpXNxPB7v93vn4mAwcM75F+/3+3A4dC76z6Y8sDzTubharTrP5/Pb2PV6vVwuzsXz+Xy73ZyLh8PBOedffDwe5WflXPSfzfF4LM90Lr5erz/OzuPWtvNytwAAAABJRU5ErkJggg==\"></div>"
      ],
      "text/plain": [
       "<IPython.core.display.HTML object>"
      ]
     },
     "metadata": {},
     "output_type": "display_data"
    },
    {
     "data": {
      "text/html": [
       "<div style=\"background-color:#e0e0e0;margin:0;padding:10px;\"><img src=\"data:image/png;base64,iVBORw0KGgoAAAANSUhEUgAAAE0AAACYCAIAAAAumPN7AAAACXBIWXMAAA7EAAAOxAGVKw4bAAABoElEQVR4nO3SMWrCABSH8VwhEAcXIeBQXAUdhGRQoSIENxFx7CrUQUfnHkCv00PooktwziHaDr3C9xz8fhf48/FeMhwO94Emk8loNIpcnE6nj8cjORwOP4FOp9PxeIxcPJ/PdmLspNhJspNiJ8lOip0kOyl2kuyk2Emyk2InyU6KnSQ7KXaS7KTYSbKTYifJToqdpKd1lmX5FWg+nxdFEbm4WCxut1syGAw+A/1F9vv9yMXxeHy/31/mb+1E2Emxk2QnxU6SnRQ7SXZS7CTZSbGTZCfFTpKdFDtJdlLsJNlJsZNkJ8VOkp0UO0lP68zz/D1Qt9vtdDqRi71e73q9Juv1+jvQdrvdbDaRi7vdrq7rl/lbOxF2Uuwk2Umxk2QnxU6SnRQ7SXZS7CTZSbGTZCfFTpKdFDtJdlLsJNlJsZNkJ8VO0tM6W63WW6Asy9I0jVxst9uXy+Vl7mknwk6KnSQ7KXaS7KTYSbKTYifJToqdJDspdpLspNhJspNiJ8lOip0kOyl2kuyk2Emyk/LfuVwuPwJVVTWbzSIXV6tV0zS/0eGzQeHXvvcAAAAASUVORK5CYII=\"></div>"
      ],
      "text/plain": [
       "<IPython.core.display.HTML object>"
      ]
     },
     "metadata": {},
     "output_type": "display_data"
    },
    {
     "data": {
      "text/html": [
       "<div style=\"background-color:#e0e0e0;margin:0;padding:10px;\"><img src=\"data:image/png;base64,iVBORw0KGgoAAAANSUhEUgAAAJgAAABNCAIAAADVUzrqAAAACXBIWXMAAA7EAAAOxAGVKw4bAAABwUlEQVR4nO3cMWoCQRxG8b2EhSAIVtpsI2ghaKGdsLAgYiEIFoJlmlhuaw7glTyByIqk2NpDJFPkCL5/k/e7wFc8ZqabbDwefwZaLBaTySRysd/vb7fbyMVOpxM5l+x2u+x0Ov0EulwuVVVFLm42m+v1GrmYzkbkXJIiGvL9DIkwJMKQBEMiDIkwJMKQBEMiDIkwJMKQBEMiDIkwJMKQBEMiDIkwJMKQBEMiDIkwJMKQBEMiDIkwJMKQBEMiDIkwJMKQBEMiDIkwJMKQBEMiDIkwJMKQBEMiDIkwJMKQBEMiDIn4LyFns9lXoOVyOZ1OIxcHg8HhcIhcbLfbkXPJer3ORqPRR6BUcTgcRi72er3VahW52Gq1IueSsiy9Wt/PNxJhSIQhCYZEGBJhSIQhCYZEGBJhSIQhCYZEGBJhSIQhCYZEGBJhSIQhCYZEGBJhSIQhCYZEGBJhSIQhCYZEGBJhSIQhCYZEGBJhSIQhCYZEGBJhSIQhCYZEGBJhSIQhCYZEGBJhSIQhCX+/epwDFUUxn88jF/M8Px6PkYvdbjdyLtnv91nTNN+BHo9HXdeRi/f7/fl8Ri7ebrfIueT1ev0Cbq6tRzBYlj8AAAAASUVORK5CYII=\"></div>"
      ],
      "text/plain": [
       "<IPython.core.display.HTML object>"
      ]
     },
     "metadata": {},
     "output_type": "display_data"
    },
    {
     "data": {
      "text/html": [
       "<div style=\"background-color:#e0e0e0;margin:0;padding:10px;\"><img src=\"data:image/png;base64,iVBORw0KGgoAAAANSUhEUgAAAOQAAABNCAIAAAA5Jl/8AAAACXBIWXMAAA7EAAAOxAGVKw4bAAACOklEQVR4nO3dMYpaYRiFYReihZ1WFoqCghYKFoLTDuICbNPE0jYBQUF0ByJMbZdywDWMRRBb9yDJHcgSzvnCN7zPBg7c+17+v7ulTqfzPdBoNOr1epGLtVptPp9HLpbL5ci5QqVSiZxbLBbVajVycTabnc/n0nK5/BNov9+vVqvIxdfX18vlErlYfP+Rc/GL9/t9PB5HLr6/vxOrBbHKEasLscoRqwuxyhGrC7HKEasLscoRqwuxyhGrC7HKEasLscoRqwuxyhGrC7HKEasLscoRqwuxyhGrC7HKEasLscoRqwuxyhGrC7HKEasLscoRqwuxyhGrC7HKEasLscoRqwuxyhGrC7HKEasLscoRqwuxyhGrC7HKEasLscoRqwuxyhGrC7HKEasLscoRqwuxyhGrC7HKEasLscoRqwuxyhGrC7HKEasLscr9i3UwGPwMNJlM+v1+5GKj0Viv178C1ev1yLn4xePx2Gq1Ihc3m81nrO12+1ugotRmsxm52O12t9vtW6Ddbhc5F794Op2KEzJysfB4PL7+NeBwOBTHVuQiTIgVaRAr0iBWpEGsSINYkQaxIg1iRRrEijSIFWkQK9IgVqRBrEiDWJEGsSINYkUaxIo0iBVpECvSIFakQaxIg1iRBrEiDWJFGsSKNIgVaRAr0iBWpEGsSINYkQaxIg1iRRrEijSIFWkQK9IgVqTx+beWH4Gm0+lwOIxcfHl5IdavoVS8yN+Brtfrx8dH5OLtdns+n//7OUPgLyD96UsFGoIBAAAAAElFTkSuQmCC\"></div>"
      ],
      "text/plain": [
       "<IPython.core.display.HTML object>"
      ]
     },
     "metadata": {},
     "output_type": "display_data"
    },
    {
     "data": {
      "text/html": [
       "<div style=\"background-color:#e0e0e0;margin:0;padding:10px;\"><img src=\"data:image/png;base64,iVBORw0KGgoAAAANSUhEUgAAAJgAAAByCAIAAAAgf4+SAAAACXBIWXMAAA7EAAAOxAGVKw4bAAACH0lEQVR4nO3UMWoCARRF0dmGjaDYaDOgoDiIWlgELGwFtbQShExjaR2wEEQXkS2kSKcbsBcL15HMIvL+wMs9G3jwL/wkTdN1oCzL2u125GK9Xp/NZpGLlUolcq6wXC6T3W73E+h8Pu/3+8jF+Xx+vV4jF3u9XuRcoYhIyL9HSAlCShBSgZAShJQgpAQhFQgpQUgJQkoQUoGQEoSUIKQEIRUIKUFICUJKEFKBkBKElCCkBCEVCClBSAlCShBSgZAShJQgpAQhFQgpQUgJQkoQUoGQEoSUIKQEIRUIKUFICUJKEFKBkBKElPgvIUej0Ueg6XQ6HA4jF9M0PRwOX4GazWbkXGGz2STdbvc9UFGx0+lELmZZdjwePwOdTqfIucLtdvN/rZfL5fl8Ri6WgpAmCGmCkCYIaYKQJghpgpAmCGmCkCYIaYKQJghpgpAmCGmCkCYIaYKQJghpgpAmCGmCkCYIaYKQJghpgpAmCGmCkCYIaYKQJghpgpAmCGmCkCYIaYKQJpJarfYWqNFoVKvVyMVWq3W/38u+s1yyWCy+A22329VqFbmY5/nj8Sj7znK8VhOENEFIE4Q0QUgThDRBSBOENEFIE4Q0QUgThDRBSBOENEFIE4Q0QUgThDRBSBOENEFIE4Q0QUgThDRBSBOENEFIE4Q0QUgThDRBSBOENEFIE4Q0QUgThDSRDAaDdaDxeNzv9yMXJ5PJ6/Uq+85yvxy2IFzuhgqaAAAAAElFTkSuQmCC\"></div>"
      ],
      "text/plain": [
       "<IPython.core.display.HTML object>"
      ]
     },
     "metadata": {},
     "output_type": "display_data"
    },
    {
     "name": "stdout",
     "output_type": "stream",
     "text": [
      "partitions - Group degree: 8, factorization: 4 * 2 = 8\n"
     ]
    },
    {
     "data": {
      "text/html": [
       "<div style=\"background-color:#e0e0e0;margin:0;padding:10px;\"><img src=\"data:image/png;base64,iVBORw0KGgoAAAANSUhEUgAAAS8AAAAnCAIAAADRmFlWAAAACXBIWXMAAA7EAAAOxAGVKw4bAAAB4UlEQVR4nO3VsYkCURSFYQsZYcw0FwwmMRAsQQPFVINJ19AaRMVEMFGEDYyFze3DSnZfEfec4O7/N3B4cL+Zzmg0+jI2mUyapnEu9vv9xWLhXKyqyjlX6na7zrn1et3r9ZyL/rOp63qz2TgXp9NpZ7vd/ho7nU673c65OJ/P3++3c7F84Jxz/sXP51NOx7noP5vywPJM52KRiMb40BgeGiWhMcEiGhWhURIaw0OjJDQmWESjIjRKQmN4aJSExgSLaFSERkloDA+NktCYYBGNitAoCY3hoVESGhMsolERGiWhMTw0SkJjgkU0KkKjJDSGh0ZJaEywiEZFaJSExvDQKAmNCRbRqAiNktAYHholoTHBIhoVoVESGsNDoyQ0JlhEoyI0SkJjeGiUhMYEi2hUhEZJaAwPjZLQmGARjYrQKAmN4aFREhoTLKJRERoloTE8NEpCY4JFNCpCoyQ0hodGSWhMsIhGRWiUhMbw0CgJjQkW0agIjZLQGB4aJaExwSIaFaFREhrD+y8aZ7PZj7G2bZfLpXNxPB7v93vn4mAwcM75F+/3+3A4dC76z6Y8sDzTubharTrP5/Pb2PV6vVwuzsXz+Xy73ZyLh8PBOedffDwe5WflXPSfzfF4LM90Lr5erz/OzuPWtvNytwAAAABJRU5ErkJggg==\"></div>"
      ],
      "text/plain": [
       "<IPython.core.display.HTML object>"
      ]
     },
     "metadata": {},
     "output_type": "display_data"
    },
    {
     "data": {
      "text/html": [
       "<div style=\"background-color:#e0e0e0;margin:0;padding:10px;\"><img src=\"data:image/png;base64,iVBORw0KGgoAAAANSUhEUgAAAJgAAABNCAIAAADVUzrqAAAACXBIWXMAAA7EAAAOxAGVKw4bAAABwUlEQVR4nO3cMWoCQRxG8b2EhSAIVtpsI2ghaKGdsLAgYiEIFoJlmlhuaw7glTyByIqk2NpDJFPkCL5/k/e7wFc8ZqabbDwefwZaLBaTySRysd/vb7fbyMVOpxM5l+x2u+x0Ov0EulwuVVVFLm42m+v1GrmYzkbkXJIiGvL9DIkwJMKQBEMiDIkwJMKQBEMiDIkwJMKQBEMiDIkwJMKQBEMiDIkwJMKQBEMiDIkwJMKQBEMiDIkwJMKQBEMiDIkwJMKQBEMiDIkwJMKQBEMiDIkwJMKQBEMiDIkwJMKQBEMiDIn4LyFns9lXoOVyOZ1OIxcHg8HhcIhcbLfbkXPJer3ORqPRR6BUcTgcRi72er3VahW52Gq1IueSsiy9Wt/PNxJhSIQhCYZEGBJhSIQhCYZEGBJhSIQhCYZEGBJhSIQhCYZEGBJhSIQhCYZEGBJhSIQhCYZEGBJhSIQhCYZEGBJhSIQhCYZEGBJhSIQhCYZEGBJhSIQhCYZEGBJhSIQhCYZEGBJhSIQhCX+/epwDFUUxn88jF/M8Px6PkYvdbjdyLtnv91nTNN+BHo9HXdeRi/f7/fl8Ri7ebrfIueT1ev0Cbq6tRzBYlj8AAAAASUVORK5CYII=\"></div>"
      ],
      "text/plain": [
       "<IPython.core.display.HTML object>"
      ]
     },
     "metadata": {},
     "output_type": "display_data"
    },
    {
     "data": {
      "text/html": [
       "<div style=\"background-color:#e0e0e0;margin:0;padding:10px;\"><img src=\"data:image/png;base64,iVBORw0KGgoAAAANSUhEUgAAAOQAAABNCAIAAAA5Jl/8AAAACXBIWXMAAA7EAAAOxAGVKw4bAAACOklEQVR4nO3dMYpaYRiFYReihZ1WFoqCghYKFoLTDuICbNPE0jYBQUF0ByJMbZdywDWMRRBb9yDJHcgSzvnCN7zPBg7c+17+v7ulTqfzPdBoNOr1epGLtVptPp9HLpbL5ci5QqVSiZxbLBbVajVycTabnc/n0nK5/BNov9+vVqvIxdfX18vlErlYfP+Rc/GL9/t9PB5HLr6/vxOrBbHKEasLscoRqwuxyhGrC7HKEasLscoRqwuxyhGrC7HKEasLscoRqwuxyhGrC7HKEasLscoRqwuxyhGrC7HKEasLscoRqwuxyhGrC7HKEasLscoRqwuxyhGrC7HKEasLscoRqwuxyhGrC7HKEasLscoRqwuxyhGrC7HKEasLscoRqwuxyhGrC7HKEasLscoRqwuxyhGrC7HKEasLscoRqwuxyhGrC7HKEasLscr9i3UwGPwMNJlM+v1+5GKj0Viv178C1ev1yLn4xePx2Gq1Ihc3m81nrO12+1ugotRmsxm52O12t9vtW6Ddbhc5F794Op2KEzJysfB4PL7+NeBwOBTHVuQiTIgVaRAr0iBWpEGsSINYkQaxIg1iRRrEijSIFWkQK9IgVqRBrEiDWJEGsSINYkUaxIo0iBVpECvSIFakQaxIg1iRBrEiDWJFGsSKNIgVaRAr0iBWpEGsSINYkQaxIg1iRRrEijSIFWkQK9IgVqTx+beWH4Gm0+lwOIxcfHl5IdavoVS8yN+Brtfrx8dH5OLtdns+n//7OUPgLyD96UsFGoIBAAAAAElFTkSuQmCC\"></div>"
      ],
      "text/plain": [
       "<IPython.core.display.HTML object>"
      ]
     },
     "metadata": {},
     "output_type": "display_data"
    },
    {
     "name": "stdout",
     "output_type": "stream",
     "text": [
      "partitions - Group degree: 9, factorization: 3 * 3 = 9\n"
     ]
    },
    {
     "data": {
      "text/html": [
       "<div style=\"background-color:#e0e0e0;margin:0;padding:10px;\"><img src=\"data:image/png;base64,iVBORw0KGgoAAAANSUhEUgAAAVUAAAAnCAIAAAAw80wHAAAACXBIWXMAAA7EAAAOxAGVKw4bAAACBElEQVR4nO3VMY5BYRiFYQshoaOX3EKjkFgCxVWjEN0orUEQjURDJFPYwPS3sQormflnD+ec6n02cPIn33tvq6qqr6DJZDIajZKL/X6/ruvkYrvdTs4VnU4nObdarXq9XnIxfzbdbne9XicX82ezXC5bu93uN+h8Pu/3++TifD5vmia5WD6pybn84ufzmU6nycX82ZQHlmcmF/NnU9qnfz36l6N/B/q3oH85+negfwv6l6N/B/q3oH85+negfwv6l6N/B/q3oH85+negfwv6l6N/B/q3oH85+negfwv6l6N/B/q3oH85+negfwv6l6N/B/q3oH85+negfwv6l6N/B/q3oH85+negfwv6l6N/B/q3oH85+negfwv6l6N/B/q3oH85+negfwv6l6N/B/q3oH85+negfwv6l6N/B/q3oH85+negfwv6l6N/B/q3oH85+negfwv6l6N/B/q3oH85+negfwv6l6N/B/q3oH85+negfwv6l6N/B/q3oH85+negfwv6l6N/B/q3oH85+negfwv6l6N/B/q3oH85+negfwv6l6N/h//+Z7PZT9Bms1ksFsnF8Xh8OBySi4PBIDmXX3w8HsPhMLmYP5vywPLM5GL+bLbbbev1en0H3W636/WaXLxcLvf7Pbl4PB6Tc/nF5/NZfsjJxfzZnE6n8szkYv5s3u/3HwP1WbMaWuRIAAAAAElFTkSuQmCC\"></div>"
      ],
      "text/plain": [
       "<IPython.core.display.HTML object>"
      ]
     },
     "metadata": {},
     "output_type": "display_data"
    },
    {
     "data": {
      "text/html": [
       "<div style=\"background-color:#e0e0e0;margin:0;padding:10px;\"><img src=\"data:image/png;base64,iVBORw0KGgoAAAANSUhEUgAAAQoAAABNCAIAAADRg73+AAAACXBIWXMAAA7EAAAOxAGVKw4bAAACeElEQVR4nO3dMUqcURSGYReihZ1WFoqCwlgoWAjaWmhjZWORJpaWJmAhyEw1MJUIwR2kdw1aBHEH9iLJuIDTBM+RnDzPBj74ue/ldv/M2tra10Lb29sbGxuViwsLC4eHh5WLs7OzlXNTc3NzlXMnJyfz8/OVi/XHZjAYvLy8zJydnf0uNBwOz8/PKxcPDg7u7+8rF6c3TuVc/eLz8/POzk7lYv2xubi4kEcKeXw4eWSRx4eTRxZ5NFiURxZ5NFiURxZ5NFiURxZ5NFiURxZ5NFiURxZ5NFiURxZ5NFiURxZ5NFiURxZ5NFiURxZ5NFiURxZ5NFiURxZ5NFiURxZ5NFiURxZ5NFiURxZ5NFiURxZ5NFiURxZ5NFiURxZ5NFiURxZ5NFiURxZ5NFiURxZ5NFiURxZ5NFiURxZ5NFiURxZ5NFiURxZ5NFiURxZ5NFiURxZ5NFiURxZ5NFiURxZ5NFiURxZ5NFiURxZ5NFiURxZ5NFiURxZ5NFj8j/LY3Nz8Xmh3d3cwGFQuLi0tXV5e/iy0uLhYOVe/eHNzs7KyUrl4enp6dHRUuXh8fPyex+rq6pdC0zaWl5crF9fX16+urn4Uur6+rpyrX7y9vZ1e55WLk8lkPB5XLt7d3b2+vvZ/XI1Go+ljoHKRNuQBIXlASB4QkgeE5AEheUBIHhCSB4TkASF5QEgeEJIHhOQBIXlASB4QkgeE5AEheUBIHhCSB4TkASF5QEgeEJIHhOQBIXlASB4QkgeE5AEheUBIHhCSB4TkASF5QEgeEHr/M+23Qnt7e1tbW5WL+/v78uDvzEyPzq9Cj4+PDw8PlYtPT09vb2+f/Z35J/0B7jUsU53OVGMAAAAASUVORK5CYII=\"></div>"
      ],
      "text/plain": [
       "<IPython.core.display.HTML object>"
      ]
     },
     "metadata": {},
     "output_type": "display_data"
    },
    {
     "data": {
      "text/html": [
       "<div style=\"background-color:#e0e0e0;margin:0;padding:10px;\"><img src=\"data:image/png;base64,iVBORw0KGgoAAAANSUhEUgAAAOQAAABNCAIAAAA5Jl/8AAAACXBIWXMAAA7EAAAOxAGVKw4bAAAChUlEQVR4nO3dMWoCYRRFYReiiFba2ChaCFooWIhWFiLWomWaWNomlYW4BBFS26UUXIIokmLAyk0kE8gS7n2B5HwbuMz8Z5jpJtNoNJ4DdbvdZrMZuVgqlabTaeRiNpuNnEvlcrnIufl8XigUIhcnk8nhcMgsl8vPQNvtdrVaRS6Ox+PT6RS5mD7/kXPxi0mS9Hq9yMXj8UisFsQqR6wuxCpHrC7EKkesLsQqR6wuxCpHrC7EKkesLsQqR6wuxCpHrC7EKkesLsQqR6wuxCpHrC7EKkesLsQqR6wuxCpHrC7EKkesLsQqR6wuxCpHrC7EKkesLsQqR6wuxCpHrC7EKkesLsQqR6wuxCpHrC7EKkesLsQqR6wuxCpHrC7EKkesLsQqR6wuxCpHrC7EKkesLsQqR6wuxCpHrC7EKkesLsQqR6wuxCr3E2u73X4N1O/3W61W5GK5XJ7NZpGL+Xz+PVZ6jZFzu92uVqtFLq7X6+9Y6/X6U6C01Gq1GrlYLBZHo1HkYnqBb7E2m03k3H6/T9+QkYupx+PBZ4Be8C39P4hVj1hNiFWPWE2IVY9YTYhVj1hNiFWPWE2IVY9YTYhVj1hNiFWPWE2IVY9YTYhVj1hNiFWPWE2IVY9YTYhVj1hNiFWPWE2IVY9YTYhVj1hNiFWPWE2IVY9YTYhVj1hNiFWPWE2IVY9YTYhVj1hNiFWPWE2IVY9YTYhVj1hNiFWPWE2IVY9YTYhVj1hNiFWPWE2IVY9YTYhVj1hNiFWPWE2IVY9YTYhVj1hNiFWPWE2+/9byEmg4HHY6ncjFSqWyWCwiFweDwW8f69+USZLkI9D1er1cLpGL5/P5drtFLt7v998+1r/pC22WFT7E5nZ6AAAAAElFTkSuQmCC\"></div>"
      ],
      "text/plain": [
       "<IPython.core.display.HTML object>"
      ]
     },
     "metadata": {},
     "output_type": "display_data"
    },
    {
     "data": {
      "text/html": [
       "<div style=\"background-color:#e0e0e0;margin:0;padding:10px;\"><img src=\"data:image/png;base64,iVBORw0KGgoAAAANSUhEUgAAAJgAAAByCAIAAAAgf4+SAAAACXBIWXMAAA7EAAAOxAGVKw4bAAACP0lEQVR4nO3VMaqaURRFYSdhYSXa2SgoKIpoG7AQQUTQSniCZSpL26SzERyIpZBCcARiIxmBg0j+zOGtEzhvfRPYXBacW2q1Wh+BBoNBu92OXKzX69PpNHKxUqlEzhXW63Vpv9//CXQ6nQ6HQ+Ticrm83++Ri71eL3KuUEQ05OczJMKQCEMSDIkwJMKQCEMSDIkwJMKQCEMSDIkwJMKQCEMSDIkwJMKQCEMSDIkwJMKQCEMSDIkwJMKQCEMSDIkwJMKQCEMSDIkwJMKQCEMSDIkwJMKQCEMSDIkwJMKQCEMSDIkwJOKrhByPxz8DTSaT0WgUudhoNLbbbeRipVKJnCssFotSt9v9Hqio2Ol0Ihfr9fp8Po9cLJfLkXOF2Wzmaf18/pEIQyIMSTAkwpAIQyIMSTAkwpAIQyIMSTAkwpAIQyIMSTAkwpAIQyIMSTAkwpAIQyIMSTAkwpAIQyIMSTAkwpAIQyIMSTAkwpAIQyIMSTAkwpAIQyIMSTAkwpAIQyIMSTAkwpAIQyIMSfgXslarfQvUaDT6/f6PQM1mc7fbRS5Wq9XIucJmsymtVqtfgY7H4/l8/h3o+Xy+Xq/IxcfjETlXeL/f0af1drtdLpfIxS/CkEkYMglDJmHIJAyZhCGTMGQShkzCkEkYMglDJmHIJAyZhCGTMGQShkzCkEkYMglDJmHIJAyZhCGTMGQShkzCkEkYMglDJmHIJAyZhCGTMGQShkzCkEkYMglDJlEaDocfgWaz2fV6/d+vTugv2pVVi9PWUGMAAAAASUVORK5CYII=\"></div>"
      ],
      "text/plain": [
       "<IPython.core.display.HTML object>"
      ]
     },
     "metadata": {},
     "output_type": "display_data"
    },
    {
     "data": {
      "text/html": [
       "<div style=\"background-color:#e0e0e0;margin:0;padding:10px;\"><img src=\"data:image/png;base64,iVBORw0KGgoAAAANSUhEUgAAAL4AAAByCAIAAABiPPwFAAAACXBIWXMAAA7EAAAOxAGVKw4bAAACbklEQVR4nO3VIUolYBSG4bsNDYJi0XJBQfEiajAMGKyCiMkqjMVolAGDILqISfYJ01yBySIGuzuYcbbwwTnCP8+zgQ8OL5zJdDo9azSbzdbW1joXl5aWDg8POxfn5uY65z7Nz893zp2enl5fX08uLy//NLq/v7+6uupcPDo6enp66lzc3NzsnOtf/Pj4kE4J6ZSQzgCL0qkinRLSGWBROlWkU0I6AyxKp4p0SkhngEXpVJFOCekMsCidKtIpIZ0BFqVTRTolpDPAonSqSKeEdAZYlE4V6ZSQzgCL0qkinRLSGWBROlWkU0I6AyxKp4p0SkhngEXpVJFOCekMsCidKtIpIZ0BFqVTRTolpDPAonSqSKeEdAZYlE4V6ZSQzgCL0qnyv6Szu7v7o9HBwcHOzk7n4nQ6vbm5+dVoZWWlc65/8fHx8V86Gxsb3xt9drO+vt65OJvNbm9vfza6u7vrnPuSxZeXl/Ef1sPDw9vbW+fif0I6hKRDSDqEpENIOoSkQ0g6hKRDSDqEpENIOoSkQ0g6hKRDSDqEpENIOoSkQ0g6hKRDSDqEpENIOoSkQ0g6hKRDSDqEpENIOoSkQ0g6hKRDSDqEpENIOoQmi4uL3xotLy8vLCx0Lq6urj4/P3/1nQc0OT4+/t3o/Pz85OSkc/Hi4uL19fWr7zwgD4uQdAhJh5B0CEmHkHQISYeQdAhJh5B0CEmHkHQISYeQdAhJh5B0CEmHkHQISYeQdAhJh5B0CEmHkHQISYeQdAhJh5B0CEmHkHQISYeQdAhJh5B0CEmHkHQITba3t88a7e3tbW1tdS7u7++/v79/9Z0H9Bdz1dXMfw8otAAAAABJRU5ErkJggg==\"></div>"
      ],
      "text/plain": [
       "<IPython.core.display.HTML object>"
      ]
     },
     "metadata": {},
     "output_type": "display_data"
    },
    {
     "name": "stdout",
     "output_type": "stream",
     "text": [
      "partitions - Group degree: 10, factorization: 2 * 5 = 10\n"
     ]
    },
    {
     "data": {
      "text/html": [
       "<div style=\"background-color:#e0e0e0;margin:0;padding:10px;\"><img src=\"data:image/png;base64,iVBORw0KGgoAAAANSUhEUgAAAXsAAAAnCAIAAABhZ39kAAAACXBIWXMAAA7EAAAOxAGVKw4bAAACYUlEQVR4nO2WIYoCYBgFPYiCNu2CwWIQPIIG7RrEtkajWVQsgkURDGLf7iVM3sAb7P4Le4X3wvDmAo8PhuGrdDqdLyP9fr/b7ToXm83meDx2LlarVedcoVarOeem02mj0XAu+rWp1+uz2cy56NfGvLhYLNbrdWW5XP4Y2e/3q9XKuTgajZ7Pp3OxRNw55198v9+DwcC56NemHFjOdC7itfl8PimOBLw6KY4CvDYpjgq8OimOArw2KY4KvDopjgK8NimOCrw6KY4CvDYpjgq8OimOArw2KY4KvDopjgK8NimOCrw6KY4CvDYpjgq8OimOArw2KY4KvDopjgK8NimOCrw6KY4CvDYpjgq8OimOArw2KY4KvDopjgK8NimOCrw6KY4CvDYpjgq8OimOArw2KY4KvDopjgK8NimOCrw6KY4CvDYpjgq8OimOArw2KY4KvDopjgK8NimOCrw6KY4CvDYpjgq8OimOArw2KY4KvDopjgK8NimOCrw6KY4CvDYpjgq8OimOArw2KY4KvDopjgK8NimOCrw6KY4CvDYpjgq8OimOArw2KY4KvDopjgK8NimOCrw6KY4CvDYpjgq8OimOArw2KY4KvDopjgK8NimOCrw6KY4CvDYpjgq8OimOArw2KY4KvDopjgK8NimOCrw6KY4CvDYpjgq8OimOArw2/8UZDoffRubz+WQycS72er3NZuNcbLVazjn/4uVyabfbzkW/NuXAcqZzEa/N4/H4K879fr8ZOZ1Ox+PRuXg4HM7ns3Nxu9065/yL1+u1PB3ORb82u92unOlcxGtTeL1ev4VPz8YtObvfAAAAAElFTkSuQmCC\"></div>"
      ],
      "text/plain": [
       "<IPython.core.display.HTML object>"
      ]
     },
     "metadata": {},
     "output_type": "display_data"
    },
    {
     "data": {
      "text/html": [
       "<div style=\"background-color:#e0e0e0;margin:0;padding:10px;\"><img src=\"data:image/png;base64,iVBORw0KGgoAAAANSUhEUgAAAS8AAABNCAIAAAB493VqAAAACXBIWXMAAA7EAAAOxAGVKw4bAAACtElEQVR4nO3WPUpdURSG4TsQBe20slAUFLyFFywEbS0UWy0s0uSWtglYXPCnEqxEyAiE9I5BiyAORJIzg0DYa2Vl53km8LEP+z3njDY2Nj4nmkwmW1tbmYtLS0tHR0eZi3Nzc5lzg/n5+cy509PTxcXFzMX8a7OwsHB2dpa5uLu7O5pOpz8T3dzcXFxcZC4eHh4+Pz9nLg4vuMy5/MX39/fh6mQu5l+b4YDDMTMXhxLV2J4am1NjCDV2sKjGCGoMocbm1BhCjR0sqjGCGkOosTk1hlBjB4tqjKDGEGpsTo0h1NjBohojqDGEGptTYwg1drCoxghqDKHG5tQYQo0dLKoxghpDqLE5NYZQYweLaoygxhBqbE6NIdTYwaIaI6gxhBqbU2MINXawqMYIagyhxubUGEKNHSyqMYIaQ6ixOTWGUGMHi2qMoMYQamxOjSHU2MGiGiOoMYQam1NjCDV2sKjGCGoMocbm1BhCjR0sqjGCGkOosTk1hlBjB4tqjKDGEGpsTo0h1NjBohojqDGEGptTYwg1drCoxghqDKHG5v6XGsfj8ddEe3t729vbmYsrKyuXl5ffEy0vL2fO5S8+PDysra1lLp6fnx8fH2cuDgccjpm5eHJyMlpfX/+UaEhxdXU1c3Fzc3M2m31LdHV1lTmXv/j4+Dh8rDIX7+/v7+7uMhevr6+HY2YuPj099f+nent7m/zLAX9GjVCFGqEKNUIVaoQq1AhVqBGqUCNUoUaoQo1QhRqhCjVCFWqEKtQIVagRqlAjVKFGqEKNUIUaoQo1QhVqhCrUCFWoEapQI1ShRqhCjVCFGqEKNUIVaoQq1AhVqBGqUCNUoUaoQo1QhRqhCjVCFaPxePwl0f7+/s7OTubiwcGBGvknjIab+iPR6+vry8tL5uLb29vHx8fffs7we78AR5WRSSAhvFIAAAAASUVORK5CYII=\"></div>"
      ],
      "text/plain": [
       "<IPython.core.display.HTML object>"
      ]
     },
     "metadata": {},
     "output_type": "display_data"
    },
    {
     "data": {
      "text/html": [
       "<div style=\"background-color:#e0e0e0;margin:0;padding:10px;\"><img src=\"data:image/png;base64,iVBORw0KGgoAAAANSUhEUgAAAE0AAAC+CAIAAAD/bRVQAAAACXBIWXMAAA7EAAAOxAGVKw4bAAAB8klEQVR4nO3aL4pCYRhG8bsFQQWLIBgGq6BB0KDCgMUuVsGijOFesZhFq25nFqFFi7iBAVcwf2C2cF7DPb8NPBy+N35Ju91OAw0Gg06nE7k4HA4fj0eSZdl3oOPxuN1uIxdPp5OdGDspdpLspNhJspNiJ8lOip0kOyl2kuyk2Emyk2InyU6KnSQ7KXaS7KTYSbKTYifpZZ29Xm8XaDQadbvdyMXxeHy9XpNWq/UR6Dey2WxGLvb7/dvtlpu7tRNhJ8VOkp0UO0l2Uuwk2Umxk2QnxU6SnRQ7SXZS7CTZSbGTZCfFTpKdFDtJdlLsJL2ss1arvQeq1+vVajVysdFoXC6XZDKZfAZaLBbT6TRycbVa3e/33NytnQg7KXaS7KTYSbKTYifJToqdJDspdpLspNhJspNiJ8lOip0kOyl2kuyk2Emyk2In6WWdpVLpLVCxWCwUCpGLlUrlfD7n5j3tRNhJsZNkJ8VOkp0UO0l2Uuwk2Umxk2QnxU6SnRQ7SXZS7CTZSbGTZCfFTpKdFDtJdlL+O8vlcuTvD/+bUHJ2t3Yi7KTYSbKTYifJToqdJDspdpLspNhJspNiJ8lOip0kOyl2kuyk2Emyk2InyU5KzjqXy+VXoP1+n6Zp5OLhcPjr3Gw2aaD5fD6bzSIX1+v18/n8Afp8Qhx7G3y+AAAAAElFTkSuQmCC\"></div>"
      ],
      "text/plain": [
       "<IPython.core.display.HTML object>"
      ]
     },
     "metadata": {},
     "output_type": "display_data"
    },
    {
     "data": {
      "text/html": [
       "<div style=\"background-color:#e0e0e0;margin:0;padding:10px;\"><img src=\"data:image/png;base64,iVBORw0KGgoAAAANSUhEUgAAAOQAAABNCAIAAAA5Jl/8AAAACXBIWXMAAA7EAAAOxAGVKw4bAAAClUlEQVR4nO3dIcpiYRyFcTdhEBTRpMWiaFA0KBgEk0HEZBCNU8ZonUkmlyDCZNtEwRWIKDLhVl3EzP1glnDO3/L8NnDC+1zet91Mq9X6HmgwGLTb7cjFSqUyn88jF/P5fORcqlAoRM6tVqtSqRS5OJvNTqdTZrPZ/A203++3223k4nQ6vVwukYvp9x85F7+YJMlwOIxcPJ/PxGpBrHLE6kKscsTqQqxyxOpCrHLE6kKscsTqQqxyxOpCrHLE6kKscsTqQqxyxOpCrHLE6kKscsTqQqxyxOpCrHLE6kKscsTqQqxyxOpCrHLE6kKscsTqQqxyxOpCrHLE6kKscsTqQqxyxOpCrHLE6kKscsTqQqxyxOpCrHLE6kKscsTqQqxyxOpCrHLE6kKscsTqQqxyxOpCrHLE6kKscsTqQqxyxOpCrHLE6kKscv9j7fV6PwONRqNutxu5WK1Wl8tl5GIul4ucS5VKpd+BDodDo9GIXNztdl+xNpvNb4HSUuv1euRiuVyeTCaRi9lsNnIu1el0fgU6Ho/pDRm5mHq9XjwD9OKfAcGH+CnEqkesJsSqR6wmxKpHrCbEqkesJsSqR6wmxKpHrCbEqkesJsSqR6wmxKpHrCbEqkesJsSqR6wmxKpHrCbEqkesJsSqR6wmxKpHrCbEqkesJsSqR6wmxKpHrCbEqkesJsSqR6wmxKpHrCbEqkesJsSqR6wmxKpHrCbEqkesJsSqR6wmxKpHrCbEqkesJsSqR6wmxKpHrCbEqkesJsSqR6wmxKpHrCbEqkesJsSqR6wmX39r+RFoPB73+/3IxVqttl6vIxeLxWLkXGqxWHw6pAiZJEn+BHo8Hvf7PXLxdrs9n8/Ixev1GjmXer/fnw4pwj+8SEu9tb2NhQAAAABJRU5ErkJggg==\"></div>"
      ],
      "text/plain": [
       "<IPython.core.display.HTML object>"
      ]
     },
     "metadata": {},
     "output_type": "display_data"
    },
    {
     "data": {
      "text/html": [
       "<div style=\"background-color:#e0e0e0;margin:0;padding:10px;\"><img src=\"data:image/png;base64,iVBORw0KGgoAAAANSUhEUgAAAOQAAAByCAIAAADMCuqEAAAACXBIWXMAAA7EAAAOxAGVKw4bAAACw0lEQVR4nO3WwSomUBjG8e82SIps2HyFyJewUKYkW5KlrRobS+spRYk7kJq13SxmoVyBvSxs3MTMNzWX8J6jR7/fDTz19q9zBsPh8KSj0Wi0uLjYc3F2dnZ/f7/n4sTERM+5scnJyZ5zh4eHU1NTPRf39vYeHx8H5+fnfzq6vb29uLjouXhwcPD8/NxzcXV1tedc/8W3t7ednZ2ei09PT2JtQqzlxNqKWMuJtRWxlhNrK2ItJ9ZWxFpOrK2ItZxYWxFrObG2ItZyYm1FrOXE2opYy4m1FbGWE2srYi0n1lbEWk6srYi1nFhbEWs5sbYi1nJibUWs5cTailjLibUVsZYTaytiLSfWVsRaTqytiLWcWFsRazmxtiLWcmJtRazlxNqKWMuJtRWxlhNrK2ItJ9ZWxFpOrK2ItZxYWxFrObG2ItZyYm1FrOXE2opYy4m1FbGW+x/r5ubmj452d3c3NjZ6Lg6Hw8vLy18dzc/P95zrv3h/f7+8vNxz8erq6l+sKysr3zsal7q0tNRzcTQaXV9f/+zo5uam51z/xYeHh/EL2XNx7OPj4+t/A+7u7sbPVs9FGhErMcRKDLESQ6zEECsxxEoMsRJDrMQQKzHESgyxEkOsxBArMcRKDLESQ6zEECsxxEoMsRJDrMQQKzHESgyxEkOsxBArMcRKDLESQ6zEECsxxEoMsRJDrMQQKzHESgyxEmMwMzPzraO5ubnp6emeiwsLCy8vL599ZwoMjo6Ofnd0enp6fHzcc/Hs7Oz19fWz70wB3wBiiJUYYiWGWIkhVmKIlRhiJYZYiSFWYoiVGGIlhliJIVZiiJUYYiWGWIkhVmKIlRhiJYZYiSFWYoiVGGIlhliJIVZiiJUYYiWGWIkhVmKIlRhiJYZYiSFWYoiVGGIlhliJMVhfXz/paGtra21trefi9vb2+/v7Z9+ZAn8BNLGEf4nlC+wAAAAASUVORK5CYII=\"></div>"
      ],
      "text/plain": [
       "<IPython.core.display.HTML object>"
      ]
     },
     "metadata": {},
     "output_type": "display_data"
    },
    {
     "data": {
      "text/html": [
       "<div style=\"background-color:#e0e0e0;margin:0;padding:10px;\"><img src=\"data:image/png;base64,iVBORw0KGgoAAAANSUhEUgAAAJgAAAByCAIAAAAgf4+SAAAACXBIWXMAAA7EAAAOxAGVKw4bAAACS0lEQVR4nO3VMWqiYRRGYTchaKNEbKyECAZF1MJiwCIEQhCMjRI7haksbWcWoNsZbFyB7RQWVi5i5p895NzAnfNs4IXvwP1K7Xb7I1C/3398fIxcbDQaz8/PkYvVajVyrvD+/l7a7XZ/Ah0Oh/1+H7k4m83O53Pk4tPTU+RcoYhoyM9nSIQhEYYkGBJhSIQhEYYkGBJhSIQhEYYkGBJhSIQhEYYkGBJhSIQhEYYkGBJhSIQhEYYkGBJhSIQhEYYkGBJhSIQhEYYkGBJhSIQhEYYkGBJhSIQhEYYkGBJhSIQhEYYkGBJhSMT/EnI0Gv0MNJ1Oh8Nh5GKr1Vqv15GL1Wo1cq7w9vZW6na73wMVFTudTuRio9F4fX2NXCyXy5FzhZeXF0/r5/OPRBgSYUiCIRGGRBgSYUiCIRGGRBgSYUiCIRGGRBgSYUiCIRGGRBgSYUiCIRGGRBgSYUiCIRGGRBgSYUiCIRGGRBgSYUiCIRGGRBgSYUiCIRGGRBgSYUiCIRGGRBgSYUiCIRGGRBgSYUjCv5APDw/fAjWbzVqtFrlYqVRWq9WPQPV6PXKusFwuS/P5/Feg7Xa7WCwiFzebzel0+h3ocrlEzhXu93v+03o8Hq/Xa+TilzBkEoZMwpBJGDIJQyZhyCQMmYQhkzBkEoZMwpBJGDIJQyZhyCQMmYQhkzBkEoZMwpBJGDIJQyZhyCQMmYQhkzBkEoZMwpBJGDIJQyZhyCQMmYQhkzBkEoZMwpBJlAaDwUeg8Xjc6/UiFyeTye12++p3xv0F0laClTDLokEAAAAASUVORK5CYII=\"></div>"
      ],
      "text/plain": [
       "<IPython.core.display.HTML object>"
      ]
     },
     "metadata": {},
     "output_type": "display_data"
    },
    {
     "data": {
      "text/html": [
       "<div style=\"background-color:#e0e0e0;margin:0;padding:10px;\"><img src=\"data:image/png;base64,iVBORw0KGgoAAAANSUhEUgAAAJgAAACYCAIAAACXoLd2AAAACXBIWXMAAA7EAAAOxAGVKw4bAAACnElEQVR4nO3UMUqjYRhF4X8LghZCCAgW0SZFIIJCbCxGhLQxqKSaKhAYi0lpPWAhiC5itjDFdHEB2ofULmLmX8TcN3DmPBu48B6+rzk5Ofle6OLi4uzsrHKx1+vd3t5WLnY6ncq51mw2a5bL5Z9CLy8vDw8PlYvX19er1apysX0blXOtNqIh/z1DRhgywpAJhowwZIQhIwyZYMgIQ0YYMsKQCYaMMGSEISMMmWDICENGGDLCkAmGjDBkhCEjDJlgyAhDRhgywpAJhowwZIQhIwyZYMgIQ0YYMsKQCYaMMGSEISMMmWDICENGGDLCkAmGjDBkxP8S8vz8/Eehq6ur0WhUudjv9x8fH38VOjo6qpxrzefzZjgcfivUVhwMBpWLp6enT09PPws9Pz9XzrXe3t74X+vr6+tms6lc3ApDQhgSwpAQhoQwJIQhIQwJYUgIQ0IYEsKQEIaEMCSEISEMCWFICENCGBLCkBCGhDAkhCEhDAlhSAhDQhgSwpAQhoQwJIQhIQwJYUgIQ0IYEsKQEM3BwcGXQoeHh91ut3Lx+Pj44+Nj23eOa25ubn4XWiwWd3d3lYv39/fr9Xrbd47za4UwJIQhIQwJYUgIQ0IYEsKQEIaEMCSEISEMCWFICENCGBLCkBCGhDAkhCEhDAlhSAhDQhgSwpAQhoQwJIQhIQwJYUgIQ0IYEsKQEIaEMCSEISEMCdHs7e31Cu3u7u7s7FQu7u/vv7+/b/vOcb5ICENCGBLCkBCGhDAkhCEhDAlhSAhDQhgSwpAQhoQwJIQhIQwJYUgIQ0IYEsKQEIaEMCSEISEMCWFICENCGBLCkBCGhDAkhCEhDAlhSAhDQhgSwpAQhoRoJpPJ10Lj8fjy8rJycTqdfn5+bvvOcX8B8VwTJ4rqROIAAAAASUVORK5CYII=\"></div>"
      ],
      "text/plain": [
       "<IPython.core.display.HTML object>"
      ]
     },
     "metadata": {},
     "output_type": "display_data"
    },
    {
     "name": "stdout",
     "output_type": "stream",
     "text": [
      "partitions - Group degree: 10, factorization: 5 * 2 = 10\n"
     ]
    },
    {
     "data": {
      "text/html": [
       "<div style=\"background-color:#e0e0e0;margin:0;padding:10px;\"><img src=\"data:image/png;base64,iVBORw0KGgoAAAANSUhEUgAAAXsAAAAnCAIAAABhZ39kAAAACXBIWXMAAA7EAAAOxAGVKw4bAAACYUlEQVR4nO2WIYoCYBgFPYiCNu2CwWIQPIIG7RrEtkajWVQsgkURDGLf7iVM3sAb7P4Le4X3wvDmAo8PhuGrdDqdLyP9fr/b7ToXm83meDx2LlarVedcoVarOeem02mj0XAu+rWp1+uz2cy56NfGvLhYLNbrdWW5XP4Y2e/3q9XKuTgajZ7Pp3OxRNw55198v9+DwcC56NemHFjOdC7itfl8PimOBLw6KY4CvDYpjgq8OimOArw2KY4KvDopjgK8NimOCrw6KY4CvDYpjgq8OimOArw2KY4KvDopjgK8NimOCrw6KY4CvDYpjgq8OimOArw2KY4KvDopjgK8NimOCrw6KY4CvDYpjgq8OimOArw2KY4KvDopjgK8NimOCrw6KY4CvDYpjgq8OimOArw2KY4KvDopjgK8NimOCrw6KY4CvDYpjgq8OimOArw2KY4KvDopjgK8NimOCrw6KY4CvDYpjgq8OimOArw2KY4KvDopjgK8NimOCrw6KY4CvDYpjgq8OimOArw2KY4KvDopjgK8NimOCrw6KY4CvDYpjgq8OimOArw2KY4KvDopjgK8NimOCrw6KY4CvDYpjgq8OimOArw2KY4KvDopjgK8NimOCrw6KY4CvDYpjgq8OimOArw2KY4KvDopjgK8NimOCrw6KY4CvDYpjgq8OimOArw2/8UZDoffRubz+WQycS72er3NZuNcbLVazjn/4uVyabfbzkW/NuXAcqZzEa/N4/H4K879fr8ZOZ1Ox+PRuXg4HM7ns3Nxu9065/yL1+u1PB3ORb82u92unOlcxGtTeL1ev4VPz8YtObvfAAAAAElFTkSuQmCC\"></div>"
      ],
      "text/plain": [
       "<IPython.core.display.HTML object>"
      ]
     },
     "metadata": {},
     "output_type": "display_data"
    },
    {
     "data": {
      "text/html": [
       "<div style=\"background-color:#e0e0e0;margin:0;padding:10px;\"><img src=\"data:image/png;base64,iVBORw0KGgoAAAANSUhEUgAAAS8AAABNCAIAAAB493VqAAAACXBIWXMAAA7EAAAOxAGVKw4bAAACtElEQVR4nO3WPUpdURSG4TsQBe20slAUFLyFFywEbS0UWy0s0uSWtglYXPCnEqxEyAiE9I5BiyAORJIzg0DYa2Vl53km8LEP+z3njDY2Nj4nmkwmW1tbmYtLS0tHR0eZi3Nzc5lzg/n5+cy509PTxcXFzMX8a7OwsHB2dpa5uLu7O5pOpz8T3dzcXFxcZC4eHh4+Pz9nLg4vuMy5/MX39/fh6mQu5l+b4YDDMTMXhxLV2J4am1NjCDV2sKjGCGoMocbm1BhCjR0sqjGCGkOosTk1hlBjB4tqjKDGEGpsTo0h1NjBohojqDGEGptTYwg1drCoxghqDKHG5tQYQo0dLKoxghpDqLE5NYZQYweLaoygxhBqbE6NIdTYwaIaI6gxhBqbU2MINXawqMYIagyhxubUGEKNHSyqMYIaQ6ixOTWGUGMHi2qMoMYQamxOjSHU2MGiGiOoMYQam1NjCDV2sKjGCGoMocbm1BhCjR0sqjGCGkOosTk1hlBjB4tqjKDGEGpsTo0h1NjBohojqDGEGptTYwg1drCoxghqDKHG5v6XGsfj8ddEe3t729vbmYsrKyuXl5ffEy0vL2fO5S8+PDysra1lLp6fnx8fH2cuDgccjpm5eHJyMlpfX/+UaEhxdXU1c3Fzc3M2m31LdHV1lTmXv/j4+Dh8rDIX7+/v7+7uMhevr6+HY2YuPj099f+nent7m/zLAX9GjVCFGqEKNUIVaoQq1AhVqBGqUCNUoUaoQo1QhRqhCjVCFWqEKtQIVagRqlAjVKFGqEKNUIUaoQo1QhVqhCrUCFWoEapQI1ShRqhCjVCFGqEKNUIVaoQq1AhVqBGqUCNUoUaoQo1QhRqhCjVCFaPxePwl0f7+/s7OTubiwcGBGvknjIab+iPR6+vry8tL5uLb29vHx8fffs7we78AR5WRSSAhvFIAAAAASUVORK5CYII=\"></div>"
      ],
      "text/plain": [
       "<IPython.core.display.HTML object>"
      ]
     },
     "metadata": {},
     "output_type": "display_data"
    },
    {
     "data": {
      "text/html": [
       "<div style=\"background-color:#e0e0e0;margin:0;padding:10px;\"><img src=\"data:image/png;base64,iVBORw0KGgoAAAANSUhEUgAAAOQAAABNCAIAAAA5Jl/8AAAACXBIWXMAAA7EAAAOxAGVKw4bAAAClUlEQVR4nO3dIcpiYRyFcTdhEBTRpMWiaFA0KBgEk0HEZBCNU8ZonUkmlyDCZNtEwRWIKDLhVl3EzP1glnDO3/L8NnDC+1zet91Mq9X6HmgwGLTb7cjFSqUyn88jF/P5fORcqlAoRM6tVqtSqRS5OJvNTqdTZrPZ/A203++3223k4nQ6vVwukYvp9x85F7+YJMlwOIxcPJ/PxGpBrHLE6kKscsTqQqxyxOpCrHLE6kKscsTqQqxyxOpCrHLE6kKscsTqQqxyxOpCrHLE6kKscsTqQqxyxOpCrHLE6kKscsTqQqxyxOpCrHLE6kKscsTqQqxyxOpCrHLE6kKscsTqQqxyxOpCrHLE6kKscsTqQqxyxOpCrHLE6kKscsTqQqxyxOpCrHLE6kKscsTqQqxyxOpCrHLE6kKscsTqQqxyxOpCrHLE6kKscv9j7fV6PwONRqNutxu5WK1Wl8tl5GIul4ucS5VKpd+BDodDo9GIXNztdl+xNpvNb4HSUuv1euRiuVyeTCaRi9lsNnIu1el0fgU6Ho/pDRm5mHq9XjwD9OKfAcGH+CnEqkesJsSqR6wmxKpHrCbEqkesJsSqR6wmxKpHrCbEqkesJsSqR6wmxKpHrCbEqkesJsSqR6wmxKpHrCbEqkesJsSqR6wmxKpHrCbEqkesJsSqR6wmxKpHrCbEqkesJsSqR6wmxKpHrCbEqkesJsSqR6wmxKpHrCbEqkesJsSqR6wmxKpHrCbEqkesJsSqR6wmxKpHrCbEqkesJsSqR6wmxKpHrCbEqkesJsSqR6wmX39r+RFoPB73+/3IxVqttl6vIxeLxWLkXGqxWHw6pAiZJEn+BHo8Hvf7PXLxdrs9n8/Ixev1GjmXer/fnw4pwj+8SEu9tb2NhQAAAABJRU5ErkJggg==\"></div>"
      ],
      "text/plain": [
       "<IPython.core.display.HTML object>"
      ]
     },
     "metadata": {},
     "output_type": "display_data"
    },
    {
     "name": "stdout",
     "output_type": "stream",
     "text": [
      "partitions - Group degree: 12, factorization: 2 * 6 = 12\n"
     ]
    },
    {
     "data": {
      "text/html": [
       "<div style=\"background-color:#e0e0e0;margin:0;padding:10px;\"><img src=\"data:image/png;base64,iVBORw0KGgoAAAANSUhEUgAAAccAAAAnCAIAAAD1rRTTAAAACXBIWXMAAA7EAAAOxAGVKw4bAAACpElEQVR4nO3WMa4hYBiF4bsQkqujl0hIREEsgcJtVBTaUSrVgmjkaohkEjYwvX3Ygf4WM//s4ZwzyZ332cCXX46Xt1ar9SOo3+93Op3kxXq9PplMkhcrlUryXFGtVpPnZrNZrVZLXszP5v39fT6fJy/mZxO+mJ9Nu90eDAbJi91u9/V6vS2Xy99B+/1+tVolL47H48fjkbxYfqiS5/IXn8/ncDhMXszPpjywPDN5kdnIlc2U5SQvrtdrqmrB10OOqn6Di1TVhap+g4tU1YHZyFFVF6oqR1UdmI0cVXWhqnJU1YHZyFFVF6oqR1UdmI0cVXWhqnJU1YHZyFFVF6oqR1UdmI0cVXWhqnJU1YHZyFFVF6oqR1UdmI0cVXWhqnJU1YHZyFFVF6oqR1UdmI0cVXWhqnJU1YHZyFFVF6oqR1UdmI0cVXWhqnJU1YHZyFFVF6oqR1UdmI0cVXWhqnJU1YHZyFFVF6oqR1UdmI0cVXWhqnJU1YHZyFFVF6oqR1UdmI0cVXWhqnJU1YHZyFFVF6oqR1UdmI0cVXWhqnJU1YHZyFFVF6oqR1UdmI0cVXWhqnJU1YHZyFFVF6oqR1UdmI0cVXWhqnJU1YHZyFFVF6oqR1UdmI0cVXWhqnJU1YHZyFFVF6oqR1UdmI0cVXWhqnJU1YHZyFFVF6oqR1UdmI0cVXWhqnJU1YHZyFFVF6oqR1UdmI0cVXWhqnJU1YHZyFFVF6oqR1UdmI3cP6vqaDT6FbRYLD4+PpIXe73eZrNJXmw0Gslz+YuXy6XZbCYv5mdTHliembzIbOTKZspykhen0+nfqt7v959Bp9PpeDwmLx4Oh/P5nLy43W6T5/IXr9dr+QuQvJifzW63K89MXvwfZlM+1eTFspnPz8/kxdvt9vX19QcrJ6YvdtpV4gAAAABJRU5ErkJggg==\"></div>"
      ],
      "text/plain": [
       "<IPython.core.display.HTML object>"
      ]
     },
     "metadata": {},
     "output_type": "display_data"
    },
    {
     "data": {
      "text/html": [
       "<div style=\"background-color:#e0e0e0;margin:0;padding:10px;\"><img src=\"data:image/png;base64,iVBORw0KGgoAAAANSUhEUgAAAXsAAABNCAIAAADICFNYAAAACXBIWXMAAA7EAAAOxAGVKw4bAAADQElEQVR4nO3XsWqacRiFcS8kgm5myqAoKOQbEnAImDWD2ZNBQpc6ZkwLDoKaSXAKgU7Zu3sNihTxDryB0H6BrhnPaTk8vxt4+cvxQSudTuer0eXlZa/Xc15sNBrD4dB58eTkxHmuVK1Wnefu7u7q9brzon82tVrt/v7eedE/G/PFh4eHp6enyng8/m20WCweHx+dF29ubtbrtfNiGXHnOf/Fw+HQ7/edF/2zKR9YPtN5MX42x+OR4kjET4fiKMTPhuKoxE+H4ijEz4biqMRPh+IoxM+G4qjET4fiKMTPhuKoxE+H4ijEz4biqMRPh+IoxM+G4qjET4fiKMTPhuKoxE+H4ijEz4biqMRPh+IoxM+G4qjET4fiKMTPhuKoxE+H4ijEz4biqMRPh+IoxM+G4qjET4fiKMTPhuKoxE+H4ijEz4biqMRPh+IoxM+G4qjET4fiKMTPhuKoxE+H4ijEz4biqMRPh+IoxM+G4qjET4fiKMTPhuKoxE+H4ijEz4biqMRPh+IoxM+G4qjET4fiKMTPhuKoxE+H4ijEz4biqMRPh+IoxM+G4qjET4fiKMTPhuKoxE+H4ijEz4biqMRPh+IoxM+G4qjET4fiKMTPhuKoxE+H4ijEz4biqMRPh+IoxM+G4qjET4fiKMTPhuKoxE+H4ijEz4biqMRPh+IoxM+G4qjET4fiKMTPhuKoxE+H4ijEz+ZvcYqi+G50dXV1fn7uvHh2djaZTH4anZ6eOs/5L768vLRaLefF0Wh0e3vrvFg+sHym82L8bN7e3j6K0263vxiVuWk2m86L3W53Op3+MJrNZs5z/ouvr6/ljw7nxdVqtVwunRfn83n5TOfF+NmUdrtd/r+q5+dn889jAJ+hOAB8KA4AH4oDwIfiAPChOAB8KA4AH4oDwIfiAPChOAB8KA4AH4oDwIfiAPChOAB8KA4AH4oDwIfiAPChOAB8KA4AH4oDwIfiAPChOAB8KA4AH4oDwIfiAPChOAB8KA4AH4oDwIfiAPChOAB8KA4AH4oDwIfiAPChOAB8KA4AH4oDwKdSFMU3o8FgcHFx4bx4fX1NcYD/RKX8Nv4y2m63m83GeXG/37+/v//rzxnAhz8UVjVfbtsYeQAAAABJRU5ErkJggg==\"></div>"
      ],
      "text/plain": [
       "<IPython.core.display.HTML object>"
      ]
     },
     "metadata": {},
     "output_type": "display_data"
    },
    {
     "data": {
      "text/html": [
       "<div style=\"background-color:#e0e0e0;margin:0;padding:10px;\"><img src=\"data:image/png;base64,iVBORw0KGgoAAAANSUhEUgAAAE0AAADkCAIAAABSeD7BAAAACXBIWXMAAA7EAAAOxAGVKw4bAAACVUlEQVR4nO3dL8qiYRhHYbcg+IdPRBQMg0VQMChosAxYbAYxDgZRGItNwTYL0CTYB3EDE2YRWjSMuArjzAjfFs5t8Fwb+HF47/jAm6hWq98CNZvNWq0Wudhqte73e2KxWPwNtNlsVqtV5OJ2u7UTYyfFTpKdFDtJdlLsJNlJsZNkJ8VOkp0UO0l2Uuwk2Umxk2QnxU6SnRQ7SXZS7CS9rLPT6fwI1Ov12u125GK/379cLolGo/E90P/Ier0eudjtdq/X69vcrZ0IOyl2kuyk2Emyk2InyU6KnSQ7KXaS7KTYSbKTYifJToqdJDspdpLspNhJspNiJ+llnaVS6WugcrlcKBQiFyuVyvl8TgyHw9+BZrPZaDSKXJzP57fb7W3u1k6EnRQ7SXZS7CTZSbGTZCfFTpKdFDtJdlLsJNlJsZNkJ8VOkp0UO0l2Uuwk2Umxk/SyznQ6/SVQKpVKJpORix8fH6fT6W2+p50IOyl2kuyk2Emyk2InyU6KnSQ7KXaS7KTYSbKTYifJToqdJDspdpLspNhJspNiJ8lOymdnJpOJfP3hexPKm92tnQg7KXaS7KTYSbKTYifJToqdJDspdpLspNhJspNiJ8lOip0kOyl2kuyk2Emyk/JmnePx+E+g5XI5mUwiF9fr9fP/K7lcrhEon89ns9nIxWKx+PyfzrvcrZ0IOyl2kuyk2Emyk2InyU6KnSQ7KXaS7KTYSbKTYifJToqdJDspdpLspNhJspNiJ+llnYPB4Feg6XQ6Go2CF5+dx+PxZ6D9fr/b7SIXD4fD4/H4BzT7sn9sZ2TIAAAAAElFTkSuQmCC\"></div>"
      ],
      "text/plain": [
       "<IPython.core.display.HTML object>"
      ]
     },
     "metadata": {},
     "output_type": "display_data"
    },
    {
     "data": {
      "text/html": [
       "<div style=\"background-color:#e0e0e0;margin:0;padding:10px;\"><img src=\"data:image/png;base64,iVBORw0KGgoAAAANSUhEUgAAAOQAAABNCAIAAAA5Jl/8AAAACXBIWXMAAA7EAAAOxAGVKw4bAAACpElEQVR4nO3dMWpiYRiFYTdhQFT0CoI2NkJSCFooWAhWIiJWKdRbTjPa2c4swCW4A3cguAITEnQKl2E1cwMD2cA5X/U+GzjN+1++7uZeXl5+BhoMBp1OJ3Kx0WgsFovIxVKpFDmXKZfLkXPr9TpJksjF+Xx+PB5zm83mb6D9fr/b7SIXZ7PZ+XyOXMzef+Rc/OL9fh8Oh5GLp9OJWC2IVY5YXYhVjlhdiFWOWF2IVY5YXYhVjlhdiFWOWF2IVY5YXYhVjlhdiFWOWF2IVY5YXYhVjlhdiFWOWF2IVY5YXYhVjlhdiFWOWF2IVY5YXYhVjlhdiFWOWF2IVY5YXYhVjlhdiFWOWF2IVY5YXYhVjlhdiFWOWF2IVY5YXYhVjlhdiFWOWF2IVY5YXYhVjlhdiFWOWF2IVY5YXYhVjlhdiFWOWF2IVY5YXYhV7n+svV7vd6DRaNTtdiMXm83mcrmMXCwUCpFz8YvZBy5JksjFNE0Ph0Pu+fn5R6Cs1Ha7HblYq9Umk0nkYj6fj5zLPD09Rc69vr4Wi8XIxel0+hUrZ4AcZ4AcN6sLscoRqwuxyhGrC7HKEasLscoRqwuxyhGrC7HKEasLscoRqwuxyhGrC7HKEasLscoRqwuxyhGrC7HKEasLscoRqwuxyhGrC7HKEasLscoRqwuxyhGrC7HKEasLscoRqwuxyhGrC7HKEasLscoRqwuxyhGrC7HKEasLscoRqwuxyhGrC7HKEasLscoRqwuxyhGrC7HKEasLscoRqwuxyhGrC7HKEasLscoRqwuxyn3/reVXoPF43O/3IxdbrVaappGLlUolci5TrVYj57bbbb1ej1xcrVZfsWav5E+gz8/Pj4+PyMX39/fr9Rq5eLlcIufiF2+329vbW+Ri5vF4/ANaj7LZljd33wAAAABJRU5ErkJggg==\"></div>"
      ],
      "text/plain": [
       "<IPython.core.display.HTML object>"
      ]
     },
     "metadata": {},
     "output_type": "display_data"
    },
    {
     "data": {
      "text/html": [
       "<div style=\"background-color:#e0e0e0;margin:0;padding:10px;\"><img src=\"data:image/png;base64,iVBORw0KGgoAAAANSUhEUgAAAS8AAABNCAIAAAB493VqAAAACXBIWXMAAA7EAAAOxAGVKw4bAAADHklEQVR4nO3WMUpjURiG4WwihaDEpDKNjUELgykSsAhYWVgogkUwhcU0Y2k702sXSBWEWUFgelcgkiBTpM4iZs4afr7vF868zwY+Dve8997GycnJ90Sj0ej09DRz8eDg4Pr6OnNxd3c3c67Y29vLnLu/v2+325mL+ddmf39/Op1mLp6fnzceHx//Jnp5eXl6espcvLq6ent7y1wsL7jMufzFzWZTrk7mYv61KQcsx8xcLCVSox41ylGjBTVWsEiNDtRoQY1y1GhBjRUsUqMDNVpQoxw1WlBjBYvU6ECNFtQoR40W1FjBIjU6UKMFNcpRowU1VrBIjQ7UaEGNctRoQY0VLFKjAzVaUKMcNVpQYwWL1OhAjRbUKEeNFtRYwSI1OlCjBTXKUaMFNVawSI0O1GhBjXLUaEGNFSxSowM1WlCjHDVaUGMFi9ToQI0W1ChHjRbUWMEiNTpQowU1ylGjBTVWsEiNDtRoQY1y1GhBjRUsUqMDNVpQoxw1WlBjBYvU6ECNFtQoR40W1FjBIjU6UKMFNcpRowU1VrBIjQ7UaEGNcv9LjYPB4Gei8Xh8dnaWudjtdieTSebizs5O5lzRbrd/J1osFr1eL3Px4eHh5uYmc7EcsBwzc/H29rZxfHz8LVFJ8ejoKHOx0+lcXl5mLjabzcy5ot/v/0r0+vpaPlaZi/P5fDabZS4+Pz+XY2YuLpdL/lT18v9Ukx8iTKhRjxoRQ4161IgYatSjRsRQox41IoYa9agRMdSoR42IoUY9akQMNepRI2KoUY8aEUONetSIGGrUo0bEUKMeNSKGGvWoETHUqEeNiKFGPWpEDDXqUSNiqFGPGhFDjXrUiBhq1KNGxFCjHjUihhr1qBEx1KhHjYihRj1qRAw16lEjYqhRjxoRQ4161IgYatSjRsRQox41IoYa9agRMdSoR42IoUY9akQMNepRI2KoUY8aEUONetSIGGrUo0bENAaDwY9EFxcXw+Ewc/Hw8HA6nWYutlqtzLni7u7uqy8SBBqbzeZPovV6vVqtMhc/Pj4+Pz8zF9/f3zPniu12+9UXCQL/AL8Z86xFlW9uAAAAAElFTkSuQmCC\"></div>"
      ],
      "text/plain": [
       "<IPython.core.display.HTML object>"
      ]
     },
     "metadata": {},
     "output_type": "display_data"
    },
    {
     "data": {
      "text/html": [
       "<div style=\"background-color:#e0e0e0;margin:0;padding:10px;\"><img src=\"data:image/png;base64,iVBORw0KGgoAAAANSUhEUgAAAJgAAAByCAIAAAAgf4+SAAAACXBIWXMAAA7EAAAOxAGVKw4bAAACSElEQVR4nO3VsY5xYRRGYRegE8VpJL4oiEKCECIc3SQKISISlCM0kqmU6qnF9Uzntv7/zD1Yu5n13MBbrGTvUqfT+Qw0Ho+73W7kYkppuVxGLmZZFjlXOBwOpdvt9i/Q8/m83++Ri7vd7vV6RS4Oh8PIuUIR0ZDvZ0iEIRGGJBgSYUiEIRGGJBgSYUiEIRGGJBgSYUiEIRGGJBgSYUiEIRGGJBgSYUiEIRGGJBgSYUiEIRGGJBgSYUiEIRGGJBgSYUiEIRGGJBgSYUiEIRGGJBgSYUiEIRGGJBgSYUjEXwk5m82+Ay0Wi+l0GrnYarVOp1PkYpZlkXOF7XZbGgwGX4GKir1eL3IxpbTZbCIXq9Vq5FxhtVp5Wt/PH4kwJMKQBEMiDIkwJMKQBEMiDIkwJMKQBEMiDIkwJMKQBEMiDIkwJMKQBEMiDIkwJMKQBEMiDIkwJMKQBEMiDIkwJMKQBEMiDIkwJMKQBEMiDIkwJMKQBEMiDIkwJMKQBEMiDIkwJMKQhN+Q9Xr9I1Cj0ajVapGLlUql3+9HLpbL5ci5wnw+L+33+59A1+v1eDxGLuZ5/ng8IhebzWbkXOF8Pnta388fiTAkwpAEQyIMiTAkwpAEQyIMiTAkwpAEQyIMiTAkwpAEQyIMiTAkwpAEQyIMiTAkwpAEQyIMiTAkwpAEQyIMiTAkwpAEQyIMiTAkwpAEQyIMiTAkwpAEQyIMiTAkwpAEQyIMiTAkwpCE35CTyeQzUJ7no9EocrHdbq/X68jFlFLkXOFyufwHTa/u0FD7DqYAAAAASUVORK5CYII=\"></div>"
      ],
      "text/plain": [
       "<IPython.core.display.HTML object>"
      ]
     },
     "metadata": {},
     "output_type": "display_data"
    },
    {
     "data": {
      "text/html": [
       "<div style=\"background-color:#e0e0e0;margin:0;padding:10px;\"><img src=\"data:image/png;base64,iVBORw0KGgoAAAANSUhEUgAAAS8AAAByCAIAAACN28ASAAAACXBIWXMAAA7EAAAOxAGVKw4bAAADR0lEQVR4nO3WO0plWRTH4TsNRQTFRJMLKooX8QGCDQamPrgYVajQJobGDQaCj0gwEqFHIHTQmSMwFwPHUXVmIBR7LRenvm8Cf/bm/Dh7MBwOfyQajUaLi4uZi7Ozs/v7+5mLExMTmXOdycnJzLnDw8OpqanMxfzPpjvg0dFR5uL29vbg4uLiZ6K7u7vLy8vMxYODg9fX18zF1dXVzLn8xY+Pj93d3czF/M+mO2B3zMzFrkQ1tqfG5tQYQo09WFRjBDWGUGNzagyhxh4sqjGCGkOosTk1hlBjDxbVGEGNIdTYnBpDqLEHi2qMoMYQamxOjSHU2INFNUZQYwg1NqfGEGrswaIaI6gxhBqbU2MINfZgUY0R1BhCjc2pMYQae7CoxghqDKHG5tQYQo09WFRjBDWGUGNzagyhxh4sqjGCGkOosTk1hlBjDxbVGEGNIdTYnBpDqLEHi2qMoMYQamxOjSHU2INFNUZQYwg1NqfGEGrswaIaI6gxhBqbU2MINfZgUY0R1BhCjc2pMYQae7CoxghqDKHG5tQYQo09WFRjBDWGUGNzf0qNm5ub/yTa29vb2NjIXBwOh1dXV/8lmp+fz5zLX3x6elpeXs5cPD09HY/HmYvdAbtjZi6enJwMVlZW/k7Upbi0tJS5OBqNrq+v/010c3OTOZe/+Pz83P2sMhcfHx8fHh4yF29vb7tjZi6+vLz0/6V6f3+f/OSA36NGqEKNUIUaoQo1QhVqhCrUCFWoEapQI1ShRqhCjVCFGqEKNUIVaoQq1AhVqBGqUCNUoUaoQo1QhRqhCjVCFWqEKtQIVagRqlAjVKFGqEKNUIUaoQo1QhVqhCrUCFWoEapQI1ShRqhCjVCFGqGKwczMzF+J5ubmpqenMxcXFhbe3t6++57ha4Pj4+P/E52dnY3H48zF8/Pz9/f3775n+JqXKlShRqhCjVCFGqEKNUIVaoQq1AhVqBGqUCNUoUaoQo1QhRqhCjVCFWqEKtQIVagRqlAjVKFGqEKNUIUaoQo1QhVqhCrUCFWoEapQI1ShRqhCjVCFGqEKNUIVaoQq1AhVqBGqUCNUoUaoQo1QhRqhisH6+vqPRFtbW2tra5mLOzs7n5+f333P8LVf8RCEI5JVuBkAAAAASUVORK5CYII=\"></div>"
      ],
      "text/plain": [
       "<IPython.core.display.HTML object>"
      ]
     },
     "metadata": {},
     "output_type": "display_data"
    },
    {
     "data": {
      "text/html": [
       "<div style=\"background-color:#e0e0e0;margin:0;padding:10px;\"><img src=\"data:image/png;base64,iVBORw0KGgoAAAANSUhEUgAAAJgAAAC+CAIAAABGVVFdAAAACXBIWXMAAA7EAAAOxAGVKw4bAAADEklEQVR4nO3cMUqjURhG4X8LASMIIggW0cZCMKCQNBYDbkBQsRNEUMYiCTbWgykCoouYLUwxXbIA7cUNDLiCmX8R836B43k28MI93Fvept/vjwodHR0dHh5WLvZ6vbOzs8rF9fX1yrnWxcVFMx6P/xZ6fn5+eHioXDw5OZnP55WL7d2onGu1EQ35/xkywpARhkwwZIQhIwwZYcgEQ0YYMsKQEYZMMGSEISMMGWHIBENGGDLCkBGGTDBkhCEjDBlhyARDRhgywpARhkwwZIQhIwwZYcgEQ0YYMsKQEYZMMGSEISMMGWHIBENGGDLCkBGGTDBkhCEjvkrI4XD4o9Dx8fFgMKhc3N3dnU6nvwptb29XzrWur6+b/f3974Xaint7e5WLBwcHs9nsZ6Gnp6fKudZiseA/rS8vLx8fH5WLS2FICENCGBLCkBCGhDAkhCEhDAlhSAhDQhgSwpAQhoQwJIQhIQwJYUgIQ0IYEsKQEIaEMCSEISEMCWFICENCGBLCkBCGhDAkhCEhDAlhSAhDQhgSotnc3PxWaGtra2Njo3JxZ2fn7e1t2ecc15yenv4udHNzc35+Xrl4d3f3/v6+7HOO82mFMCSEISEMCWFICENCGBLCkBCGhDAkhCEhDAlhSAhDQhgSwpAQhoQwJIQhIQwJYUgIQ0IYEsKQEIaEMCSEISEMCWFICENCGBLCkBCGhDAkhCEhDAnRdLvdXqGVlZVOp1O5uLa29vr6uuxzjvNGQhgSwpAQhoQwJIQhIQwJYUgIQ0IYEsKQEIaEMCSEISEMCWFICENCGBLCkBCGhDAkhCEhDAlhSAhDQhgSwpAQhoQwJIQhIQwJYUgIQ0IYEsKQEIaEMCREs7q6WvnHhr96hHgjIQwJYUgIQ0IYEsKQEIaEMCSEISEMCWFICENCGBLCkBCGhDAkhCEhDAlhSAhDQhgSwpAQhoQwJIQhIQwJYUgIQ0IYEsKQEIaEMCSEISEMCWFICENCNLe3t38KPT4+jkajysXpdPolQt7f348KXV1dXV5eVi5OJpPPz89ln3PcP0f86Hy7sSlcAAAAAElFTkSuQmCC\"></div>"
      ],
      "text/plain": [
       "<IPython.core.display.HTML object>"
      ]
     },
     "metadata": {},
     "output_type": "display_data"
    },
    {
     "data": {
      "text/html": [
       "<div style=\"background-color:#e0e0e0;margin:0;padding:10px;\"><img src=\"data:image/png;base64,iVBORw0KGgoAAAANSUhEUgAAAOQAAACYCAIAAAB71dJgAAAACXBIWXMAAA7EAAAOxAGVKw4bAAADSUlEQVR4nO3WP0q1RxjG4bMF4bMQVDhgoTYWioKCNoIRwdb/ZcBKiEUsrQOCgugOREhtlyKF4Aa0F1tdxJcTyBKeGbnDdW3ghuH3vjODlZWV3zva3NxcW1vruTg7O3t8fNxzcXJysufcyNTUVM+509PT4XDYc/Hw8PDp6WlwcXHxs6O7u7vLy8uei/v7+y8vLz0XR99/z7n+ix8fH1tbWz0Xn5+fxdqEWMuJtRWxlhNrK2ItJ9ZWxFpOrK2ItZxYWxFrObG2ItZyYm1FrOXE2opYy4m1FbGWE2srYi0n1lbEWk6srYi1nFhbEWs5sbYi1nJibUWs5cTailjLibUVsZYTaytiLSfWVsRaTqytiLWcWFsRazmxtiLWcmJtRazlxNqKWMuJtRWxlhNrK2ItJ9ZWxFpOrK2ItZxYWxFrObG2ItZyYm1FrOXE2opYy4m1FbGWE2srYi33X6wbGxt/dLSzs7O+vt5zcWFh4erq6q+O5ubmes71X3x4eFhaWuq5eH19/W+sy8vLv3U0KnVxcbHn4urq6s3NzZ8d3d7e9pzrv/j4+Di6IXsujnx+fv7/nwH39/eja6vnIo2IlRhiJYZYiSFWYoiVGGIlhliJIVZiiJUYYiWGWIkhVmKIlRhiJYZYiSFWYoiVGGIlhliJIVZiiJUYYiWGWIkhVmKIlRhiJYZYiSFWYoiVGGIlhliJIVZiiJUYYiWGWIkxGA6Hv3Q0MzMzPT3dc3F+fv7t7e27z5kCg6Ojo787Ojs7Ozk56bl4fn7+/v7+3edMAc8AYoiVGGIlhliJIVZiiJUYYiWGWIkhVmKIlRhiJYZYiSFWYoiVGGIlhliJIVZiiJUYYiWGWIkhVmKIlRhiJYZYiSFWYoiVGGIlhliJIVZiiJUYYiWGWIkhVmKIlRhiJYZYiTEYHx+f7ejHjx9jY2M9FycmJl5fX7/7nCngz0oMsRJDrMQQKzHESgyxEkOsxBArMcRKDLESQ6zEECsxxEoMsRJDrMQQKzHESgyxEkOsxBArMcRKDLESQ6zEECsxxEoMsRJDrMQQKzHESgyxEkOsxBArMcRKDLESQ6zEECsxxEqMwd7e3q8d7e7ubm9v91w8ODj4+vr67nOmwD/m2j4r0fzmjgAAAABJRU5ErkJggg==\"></div>"
      ],
      "text/plain": [
       "<IPython.core.display.HTML object>"
      ]
     },
     "metadata": {},
     "output_type": "display_data"
    },
    {
     "data": {
      "text/html": [
       "<div style=\"background-color:#e0e0e0;margin:0;padding:10px;\"><img src=\"data:image/png;base64,iVBORw0KGgoAAAANSUhEUgAAAJgAAACYCAIAAACXoLd2AAAACXBIWXMAAA7EAAAOxAGVKw4bAAACwElEQVR4nO3VwcqhYRyGcaegvEWJyIK1YqHYWIyUUuITUjR21GzG0nbmADidycYJsJ2FtYOYeeccvvuv7rl+J3DXc/U8T6bdbn8P1O/3O51O5GK9Xl8ul5GLxWIxci61Xq8zx+PxT6Dz+Xw6nSIXPz4+brdb5GJ6NyLnUmlEQn4+QkoQUoKQCoSUIKQEISUIqUBICUJKEFKCkAqElCCkBCElCKlASAlCShBSgpAKhJQgpAQhJQipQEgJQkoQUoKQCoSUIKQEISUIqUBICUJKEFKCkAqElCCkBCElCKlASAlCShBSgpAKhJQgpMT/ErLX6/0MNBwOu91u5GKj0djtdpGLhUIhci41nU4zrVbrW6C0YrPZjFysVquTySRyMUmSyLnUeDzmaf18/JEShJQgpAIhJQgpQUgJQioQUoKQEoSUIKQCISUIKUFICUIqEFKCkBKElCCkAiElCClBSAlCKhBSgpAShJQgpAIhJQgpQUgJQioQUoKQEoSUIKQCISUIKUFICUIqEFKCkBKElCCkAiElCClBSAlCKvwLWalUvgSq1WqlUilyMZ/Pb7fbH4HK5XLkXGqz2WQWi8WvQIfDYbVaRS7u9/vr9fo70OPxiJxLvV4v/6f1crk8n8/IxbcgpAlCmiCkCUKaIKQJQpogpAlCmiCkCUKaIKQJQpogpAlCmiCkCUKaIKQJQpogpAlCmiCkCUKaIKQJQpogpAlCmiCkCUKaIKQJQpogpAlCmiCkCUKaIKSJTJIk9UC5XC6bzUYuFgqF+/3+7nOW40aaIKQJQpogpAlCmiCkCUKaIKQJQpogpAlCmiCkCUKaIKQJQpogpAlCmiCkCUKaIKQJQpogpAlCmiCkCUKaIKQJQpogpAlCmiCkCUKaIKQJQpogpAlCmiCkCUKayMxms6+BRqPRYDCIXJzP56/X693nLPcXNDh1YCNaYoIAAAAASUVORK5CYII=\"></div>"
      ],
      "text/plain": [
       "<IPython.core.display.HTML object>"
      ]
     },
     "metadata": {},
     "output_type": "display_data"
    },
    {
     "data": {
      "text/html": [
       "<div style=\"background-color:#e0e0e0;margin:0;padding:10px;\"><img src=\"data:image/png;base64,iVBORw0KGgoAAAANSUhEUgAAAOQAAAByCAIAAADMCuqEAAAACXBIWXMAAA7EAAAOxAGVKw4bAAADOElEQVR4nO3WMUpjcRSF8WxCMCKRhDRWQgyRhBAtBAeCpEmRIDYR0ylMlTLtTJVKdyDC1HZTDCGQFdhOkcJGF+G8gVnCOTfc4ftt4MD7f/Bu6ejo6DZQp9NpNBqRi7VabTAYRC6Wy+XIucLe3l7k3Hg83t/fj1y8vLx8eXkpzWazz0APDw/z+TxycTQardfryMWTk5PIufjFzWZzcXERubharYjVgljliNWFWOWI1YVY5YjVhVjliNWFWOWI1YVY5YjVhVjliNWFWOWI1YVY5YjVhVjliNWFWOWI1YVY5YjVhVjliNWFWOWI1YVY5YjVhVjliNWFWOWI1YVY5YjVhVjliNWFWOWI1YVY5YjVhVjliNWFWOWI1YVY5YjVhVjliNWFWOWI1YVY5YjVhVjliNWFWOWI1YVY5YjVhVjliNWFWOWI1YVY5YjVhVjliNWFWOX+xXp6evo9UL/f7/V6kYuHh4fT6TRysVwuR84VqtXqz0BPT0/NZjNycbFY/I211Wp9DVSUenx8HLlYq9WGw2Hk4s7OTuRcodvt/gj0/Pxc/CEjFwvv7++cAXrxZ0DwI24LseoRqwmx6hGrCbHqEasJseoRqwmx6hGrCbHqEasJseoRqwmx6hGrCbHqEasJseoRqwmx6hGrCbHqEasJseoRqwmx6hGrCbHqEasJseoRqwmx6hGrCbHqEasJseoRqwmx6hGrCbHqEasJseoRqwmx6hGrCbHqEasJseoRqwmx6hGrCbHqEasJseoRqwmx6hGrCbHqEasJseoRqwmx6hGrCbHqEasJseoRqwmx6hGrSalarX4JVK/XK5VK5OLu7u7Nzc23QAcHB5Fzhclksu2QIpSurq5+Bbq/v7++vo5cvLu7Wy6XvwO9vr5GzhU+Pj62HVKE//8MeHx83Gw2kYswIVakQaxIg1iRBrEiDWJFGsSKNIgVaRAr0iBWpEGsSINYkQaxIg1iRRrEijSIFWkQK9IgVqRBrEiDWJEGsSINYkUaxIo0iBVpECvSIFakQaxIg1iRBrEiDWJFGsSKNIgVaRAr0iBWpEGsSINYkUap2+3eBjo7O2u325GL5+fnb29v2/7OEPgD1/HnPIK0IpAAAAAASUVORK5CYII=\"></div>"
      ],
      "text/plain": [
       "<IPython.core.display.HTML object>"
      ]
     },
     "metadata": {},
     "output_type": "display_data"
    },
    {
     "name": "stdout",
     "output_type": "stream",
     "text": [
      "partitions - Group degree: 12, factorization: 6 * 2 = 12\n"
     ]
    },
    {
     "data": {
      "text/html": [
       "<div style=\"background-color:#e0e0e0;margin:0;padding:10px;\"><img src=\"data:image/png;base64,iVBORw0KGgoAAAANSUhEUgAAAccAAAAnCAIAAAD1rRTTAAAACXBIWXMAAA7EAAAOxAGVKw4bAAACpElEQVR4nO3WMa4hYBiF4bsQkqujl0hIREEsgcJtVBTaUSrVgmjkaohkEjYwvX3Ygf4WM//s4ZwzyZ332cCXX46Xt1ar9SOo3+93Op3kxXq9PplMkhcrlUryXFGtVpPnZrNZrVZLXszP5v39fT6fJy/mZxO+mJ9Nu90eDAbJi91u9/V6vS2Xy99B+/1+tVolL47H48fjkbxYfqiS5/IXn8/ncDhMXszPpjywPDN5kdnIlc2U5SQvrtdrqmrB10OOqn6Di1TVhap+g4tU1YHZyFFVF6oqR1UdmI0cVXWhqnJU1YHZyFFVF6oqR1UdmI0cVXWhqnJU1YHZyFFVF6oqR1UdmI0cVXWhqnJU1YHZyFFVF6oqR1UdmI0cVXWhqnJU1YHZyFFVF6oqR1UdmI0cVXWhqnJU1YHZyFFVF6oqR1UdmI0cVXWhqnJU1YHZyFFVF6oqR1UdmI0cVXWhqnJU1YHZyFFVF6oqR1UdmI0cVXWhqnJU1YHZyFFVF6oqR1UdmI0cVXWhqnJU1YHZyFFVF6oqR1UdmI0cVXWhqnJU1YHZyFFVF6oqR1UdmI0cVXWhqnJU1YHZyFFVF6oqR1UdmI0cVXWhqnJU1YHZyFFVF6oqR1UdmI0cVXWhqnJU1YHZyFFVF6oqR1UdmI0cVXWhqnJU1YHZyFFVF6oqR1UdmI0cVXWhqnJU1YHZyFFVF6oqR1UdmI0cVXWhqnJU1YHZyFFVF6oqR1UdmI3cP6vqaDT6FbRYLD4+PpIXe73eZrNJXmw0Gslz+YuXy6XZbCYv5mdTHliembzIbOTKZspykhen0+nfqt7v959Bp9PpeDwmLx4Oh/P5nLy43W6T5/IXr9dr+QuQvJifzW63K89MXvwfZlM+1eTFspnPz8/kxdvt9vX19QcrJ6YvdtpV4gAAAABJRU5ErkJggg==\"></div>"
      ],
      "text/plain": [
       "<IPython.core.display.HTML object>"
      ]
     },
     "metadata": {},
     "output_type": "display_data"
    },
    {
     "data": {
      "text/html": [
       "<div style=\"background-color:#e0e0e0;margin:0;padding:10px;\"><img src=\"data:image/png;base64,iVBORw0KGgoAAAANSUhEUgAAAXsAAABNCAIAAADICFNYAAAACXBIWXMAAA7EAAAOxAGVKw4bAAADQElEQVR4nO3XsWqacRiFcS8kgm5myqAoKOQbEnAImDWD2ZNBQpc6ZkwLDoKaSXAKgU7Zu3sNihTxDryB0H6BrhnPaTk8vxt4+cvxQSudTuer0eXlZa/Xc15sNBrD4dB58eTkxHmuVK1Wnefu7u7q9brzon82tVrt/v7eedE/G/PFh4eHp6enyng8/m20WCweHx+dF29ubtbrtfNiGXHnOf/Fw+HQ7/edF/2zKR9YPtN5MX42x+OR4kjET4fiKMTPhuKoxE+H4ijEz4biqMRPh+IoxM+G4qjET4fiKMTPhuKoxE+H4ijEz4biqMRPh+IoxM+G4qjET4fiKMTPhuKoxE+H4ijEz4biqMRPh+IoxM+G4qjET4fiKMTPhuKoxE+H4ijEz4biqMRPh+IoxM+G4qjET4fiKMTPhuKoxE+H4ijEz4biqMRPh+IoxM+G4qjET4fiKMTPhuKoxE+H4ijEz4biqMRPh+IoxM+G4qjET4fiKMTPhuKoxE+H4ijEz4biqMRPh+IoxM+G4qjET4fiKMTPhuKoxE+H4ijEz4biqMRPh+IoxM+G4qjET4fiKMTPhuKoxE+H4ijEz4biqMRPh+IoxM+G4qjET4fiKMTPhuKoxE+H4ijEz4biqMRPh+IoxM+G4qjET4fiKMTPhuKoxE+H4ijEz4biqMRPh+IoxM+G4qjET4fiKMTPhuKoxE+H4ijEz+ZvcYqi+G50dXV1fn7uvHh2djaZTH4anZ6eOs/5L768vLRaLefF0Wh0e3vrvFg+sHym82L8bN7e3j6K0263vxiVuWk2m86L3W53Op3+MJrNZs5z/ouvr6/ljw7nxdVqtVwunRfn83n5TOfF+NmUdrtd/r+q5+dn889jAJ+hOAB8KA4AH4oDwIfiAPChOAB8KA4AH4oDwIfiAPChOAB8KA4AH4oDwIfiAPChOAB8KA4AH4oDwIfiAPChOAB8KA4AH4oDwIfiAPChOAB8KA4AH4oDwIfiAPChOAB8KA4AH4oDwIfiAPChOAB8KA4AH4oDwIfiAPChOAB8KA4AH4oDwKdSFMU3o8FgcHFx4bx4fX1NcYD/RKX8Nv4y2m63m83GeXG/37+/v//rzxnAhz8UVjVfbtsYeQAAAABJRU5ErkJggg==\"></div>"
      ],
      "text/plain": [
       "<IPython.core.display.HTML object>"
      ]
     },
     "metadata": {},
     "output_type": "display_data"
    },
    {
     "data": {
      "text/html": [
       "<div style=\"background-color:#e0e0e0;margin:0;padding:10px;\"><img src=\"data:image/png;base64,iVBORw0KGgoAAAANSUhEUgAAAOQAAABNCAIAAAA5Jl/8AAAACXBIWXMAAA7EAAAOxAGVKw4bAAACpElEQVR4nO3dMWpiYRiFYTdhQFT0CoI2NkJSCFooWAhWIiJWKdRbTjPa2c4swCW4A3cguAITEnQKl2E1cwMD2cA5X/U+GzjN+1++7uZeXl5+BhoMBp1OJ3Kx0WgsFovIxVKpFDmXKZfLkXPr9TpJksjF+Xx+PB5zm83mb6D9fr/b7SIXZ7PZ+XyOXMzef+Rc/OL9fh8Oh5GLp9OJWC2IVY5YXYhVjlhdiFWOWF2IVY5YXYhVjlhdiFWOWF2IVY5YXYhVjlhdiFWOWF2IVY5YXYhVjlhdiFWOWF2IVY5YXYhVjlhdiFWOWF2IVY5YXYhVjlhdiFWOWF2IVY5YXYhVjlhdiFWOWF2IVY5YXYhVjlhdiFWOWF2IVY5YXYhVjlhdiFWOWF2IVY5YXYhVjlhdiFWOWF2IVY5YXYhVjlhdiFWOWF2IVY5YXYhV7n+svV7vd6DRaNTtdiMXm83mcrmMXCwUCpFz8YvZBy5JksjFNE0Ph0Pu+fn5R6Cs1Ha7HblYq9Umk0nkYj6fj5zLPD09Rc69vr4Wi8XIxel0+hUrZ4AcZ4AcN6sLscoRqwuxyhGrC7HKEasLscoRqwuxyhGrC7HKEasLscoRqwuxyhGrC7HKEasLscoRqwuxyhGrC7HKEasLscoRqwuxyhGrC7HKEasLscoRqwuxyhGrC7HKEasLscoRqwuxyhGrC7HKEasLscoRqwuxyhGrC7HKEasLscoRqwuxyhGrC7HKEasLscoRqwuxyhGrC7HKEasLscoRqwuxyhGrC7HKEasLscoRqwuxyn3/reVXoPF43O/3IxdbrVaappGLlUolci5TrVYj57bbbb1ej1xcrVZfsWav5E+gz8/Pj4+PyMX39/fr9Rq5eLlcIufiF2+329vbW+Ri5vF4/ANaj7LZljd33wAAAABJRU5ErkJggg==\"></div>"
      ],
      "text/plain": [
       "<IPython.core.display.HTML object>"
      ]
     },
     "metadata": {},
     "output_type": "display_data"
    },
    {
     "data": {
      "text/html": [
       "<div style=\"background-color:#e0e0e0;margin:0;padding:10px;\"><img src=\"data:image/png;base64,iVBORw0KGgoAAAANSUhEUgAAAS8AAABNCAIAAAB493VqAAAACXBIWXMAAA7EAAAOxAGVKw4bAAADHklEQVR4nO3WMUpjURiG4WwihaDEpDKNjUELgykSsAhYWVgogkUwhcU0Y2k702sXSBWEWUFgelcgkiBTpM4iZs4afr7vF868zwY+Dve8997GycnJ90Sj0ej09DRz8eDg4Pr6OnNxd3c3c67Y29vLnLu/v2+325mL+ddmf39/Op1mLp6fnzceHx//Jnp5eXl6espcvLq6ent7y1wsL7jMufzFzWZTrk7mYv61KQcsx8xcLCVSox41ylGjBTVWsEiNDtRoQY1y1GhBjRUsUqMDNVpQoxw1WlBjBYvU6ECNFtQoR40W1FjBIjU6UKMFNcpRowU1VrBIjQ7UaEGNctRoQY0VLFKjAzVaUKMcNVpQYwWL1OhAjRbUKEeNFtRYwSI1OlCjBTXKUaMFNVawSI0O1GhBjXLUaEGNFSxSowM1WlCjHDVaUGMFi9ToQI0W1ChHjRbUWMEiNTpQowU1ylGjBTVWsEiNDtRoQY1y1GhBjRUsUqMDNVpQoxw1WlBjBYvU6ECNFtQoR40W1FjBIjU6UKMFNcpRowU1VrBIjQ7UaEGNcv9LjYPB4Gei8Xh8dnaWudjtdieTSebizs5O5lzRbrd/J1osFr1eL3Px4eHh5uYmc7EcsBwzc/H29rZxfHz8LVFJ8ejoKHOx0+lcXl5mLjabzcy5ot/v/0r0+vpaPlaZi/P5fDabZS4+Pz+XY2YuLpdL/lT18v9Ukx8iTKhRjxoRQ4161IgYatSjRsRQox41IoYa9agRMdSoR42IoUY9akQMNepRI2KoUY8aEUONetSIGGrUo0bEUKMeNSKGGvWoETHUqEeNiKFGPWpEDDXqUSNiqFGPGhFDjXrUiBhq1KNGxFCjHjUihhr1qBEx1KhHjYihRj1qRAw16lEjYqhRjxoRQ4161IgYatSjRsRQox41IoYa9agRMdSoR42IoUY9akQMNepRI2KoUY8aEUONetSIGGrUo0bENAaDwY9EFxcXw+Ewc/Hw8HA6nWYutlqtzLni7u7uqy8SBBqbzeZPovV6vVqtMhc/Pj4+Pz8zF9/f3zPniu12+9UXCQL/AL8Z86xFlW9uAAAAAElFTkSuQmCC\"></div>"
      ],
      "text/plain": [
       "<IPython.core.display.HTML object>"
      ]
     },
     "metadata": {},
     "output_type": "display_data"
    },
    {
     "name": "stdout",
     "output_type": "stream",
     "text": [
      "partitions - Group degree: 12, factorization: 3 * 4 = 12\n"
     ]
    },
    {
     "data": {
      "text/html": [
       "<div style=\"background-color:#e0e0e0;margin:0;padding:10px;\"><img src=\"data:image/png;base64,iVBORw0KGgoAAAANSUhEUgAAAccAAAAnCAIAAAD1rRTTAAAACXBIWXMAAA7EAAAOxAGVKw4bAAACpElEQVR4nO3WMa4hYBiF4bsQkqujl0hIREEsgcJtVBTaUSrVgmjkaohkEjYwvX3Ygf4WM//s4ZwzyZ332cCXX46Xt1ar9SOo3+93Op3kxXq9PplMkhcrlUryXFGtVpPnZrNZrVZLXszP5v39fT6fJy/mZxO+mJ9Nu90eDAbJi91u9/V6vS2Xy99B+/1+tVolL47H48fjkbxYfqiS5/IXn8/ncDhMXszPpjywPDN5kdnIlc2U5SQvrtdrqmrB10OOqn6Di1TVhap+g4tU1YHZyFFVF6oqR1UdmI0cVXWhqnJU1YHZyFFVF6oqR1UdmI0cVXWhqnJU1YHZyFFVF6oqR1UdmI0cVXWhqnJU1YHZyFFVF6oqR1UdmI0cVXWhqnJU1YHZyFFVF6oqR1UdmI0cVXWhqnJU1YHZyFFVF6oqR1UdmI0cVXWhqnJU1YHZyFFVF6oqR1UdmI0cVXWhqnJU1YHZyFFVF6oqR1UdmI0cVXWhqnJU1YHZyFFVF6oqR1UdmI0cVXWhqnJU1YHZyFFVF6oqR1UdmI0cVXWhqnJU1YHZyFFVF6oqR1UdmI0cVXWhqnJU1YHZyFFVF6oqR1UdmI0cVXWhqnJU1YHZyFFVF6oqR1UdmI0cVXWhqnJU1YHZyFFVF6oqR1UdmI0cVXWhqnJU1YHZyFFVF6oqR1UdmI0cVXWhqnJU1YHZyFFVF6oqR1UdmI0cVXWhqnJU1YHZyFFVF6oqR1UdmI3cP6vqaDT6FbRYLD4+PpIXe73eZrNJXmw0Gslz+YuXy6XZbCYv5mdTHliembzIbOTKZspykhen0+nfqt7v959Bp9PpeDwmLx4Oh/P5nLy43W6T5/IXr9dr+QuQvJifzW63K89MXvwfZlM+1eTFspnPz8/kxdvt9vX19QcrJ6YvdtpV4gAAAABJRU5ErkJggg==\"></div>"
      ],
      "text/plain": [
       "<IPython.core.display.HTML object>"
      ]
     },
     "metadata": {},
     "output_type": "display_data"
    },
    {
     "data": {
      "text/html": [
       "<div style=\"background-color:#e0e0e0;margin:0;padding:10px;\"><img src=\"data:image/png;base64,iVBORw0KGgoAAAANSUhEUgAAAXsAAABNCAIAAADICFNYAAAACXBIWXMAAA7EAAAOxAGVKw4bAAADQElEQVR4nO3XsWqacRiFcS8kgm5myqAoKOQbEnAImDWD2ZNBQpc6ZkwLDoKaSXAKgU7Zu3sNihTxDryB0H6BrhnPaTk8vxt4+cvxQSudTuer0eXlZa/Xc15sNBrD4dB58eTkxHmuVK1Wnefu7u7q9brzon82tVrt/v7eedE/G/PFh4eHp6enyng8/m20WCweHx+dF29ubtbrtfNiGXHnOf/Fw+HQ7/edF/2zKR9YPtN5MX42x+OR4kjET4fiKMTPhuKoxE+H4ijEz4biqMRPh+IoxM+G4qjET4fiKMTPhuKoxE+H4ijEz4biqMRPh+IoxM+G4qjET4fiKMTPhuKoxE+H4ijEz4biqMRPh+IoxM+G4qjET4fiKMTPhuKoxE+H4ijEz4biqMRPh+IoxM+G4qjET4fiKMTPhuKoxE+H4ijEz4biqMRPh+IoxM+G4qjET4fiKMTPhuKoxE+H4ijEz4biqMRPh+IoxM+G4qjET4fiKMTPhuKoxE+H4ijEz4biqMRPh+IoxM+G4qjET4fiKMTPhuKoxE+H4ijEz4biqMRPh+IoxM+G4qjET4fiKMTPhuKoxE+H4ijEz4biqMRPh+IoxM+G4qjET4fiKMTPhuKoxE+H4ijEz4biqMRPh+IoxM+G4qjET4fiKMTPhuKoxE+H4ijEz4biqMRPh+IoxM+G4qjET4fiKMTPhuKoxE+H4ijEz+ZvcYqi+G50dXV1fn7uvHh2djaZTH4anZ6eOs/5L768vLRaLefF0Wh0e3vrvFg+sHym82L8bN7e3j6K0263vxiVuWk2m86L3W53Op3+MJrNZs5z/ouvr6/ljw7nxdVqtVwunRfn83n5TOfF+NmUdrtd/r+q5+dn889jAJ+hOAB8KA4AH4oDwIfiAPChOAB8KA4AH4oDwIfiAPChOAB8KA4AH4oDwIfiAPChOAB8KA4AH4oDwIfiAPChOAB8KA4AH4oDwIfiAPChOAB8KA4AH4oDwIfiAPChOAB8KA4AH4oDwIfiAPChOAB8KA4AH4oDwIfiAPChOAB8KA4AH4oDwKdSFMU3o8FgcHFx4bx4fX1NcYD/RKX8Nv4y2m63m83GeXG/37+/v//rzxnAhz8UVjVfbtsYeQAAAABJRU5ErkJggg==\"></div>"
      ],
      "text/plain": [
       "<IPython.core.display.HTML object>"
      ]
     },
     "metadata": {},
     "output_type": "display_data"
    },
    {
     "data": {
      "text/html": [
       "<div style=\"background-color:#e0e0e0;margin:0;padding:10px;\"><img src=\"data:image/png;base64,iVBORw0KGgoAAAANSUhEUgAAAOQAAABNCAIAAAA5Jl/8AAAACXBIWXMAAA7EAAAOxAGVKw4bAAACpElEQVR4nO3dMWpiYRiFYTdhQFT0CoI2NkJSCFooWAhWIiJWKdRbTjPa2c4swCW4A3cguAITEnQKl2E1cwMD2cA5X/U+GzjN+1++7uZeXl5+BhoMBp1OJ3Kx0WgsFovIxVKpFDmXKZfLkXPr9TpJksjF+Xx+PB5zm83mb6D9fr/b7SIXZ7PZ+XyOXMzef+Rc/OL9fh8Oh5GLp9OJWC2IVY5YXYhVjlhdiFWOWF2IVY5YXYhVjlhdiFWOWF2IVY5YXYhVjlhdiFWOWF2IVY5YXYhVjlhdiFWOWF2IVY5YXYhVjlhdiFWOWF2IVY5YXYhVjlhdiFWOWF2IVY5YXYhVjlhdiFWOWF2IVY5YXYhVjlhdiFWOWF2IVY5YXYhVjlhdiFWOWF2IVY5YXYhVjlhdiFWOWF2IVY5YXYhVjlhdiFWOWF2IVY5YXYhV7n+svV7vd6DRaNTtdiMXm83mcrmMXCwUCpFz8YvZBy5JksjFNE0Ph0Pu+fn5R6Cs1Ha7HblYq9Umk0nkYj6fj5zLPD09Rc69vr4Wi8XIxel0+hUrZ4AcZ4AcN6sLscoRqwuxyhGrC7HKEasLscoRqwuxyhGrC7HKEasLscoRqwuxyhGrC7HKEasLscoRqwuxyhGrC7HKEasLscoRqwuxyhGrC7HKEasLscoRqwuxyhGrC7HKEasLscoRqwuxyhGrC7HKEasLscoRqwuxyhGrC7HKEasLscoRqwuxyhGrC7HKEasLscoRqwuxyhGrC7HKEasLscoRqwuxyhGrC7HKEasLscoRqwuxyn3/reVXoPF43O/3IxdbrVaappGLlUolci5TrVYj57bbbb1ej1xcrVZfsWav5E+gz8/Pj4+PyMX39/fr9Rq5eLlcIufiF2+329vbW+Ri5vF4/ANaj7LZljd33wAAAABJRU5ErkJggg==\"></div>"
      ],
      "text/plain": [
       "<IPython.core.display.HTML object>"
      ]
     },
     "metadata": {},
     "output_type": "display_data"
    },
    {
     "data": {
      "text/html": [
       "<div style=\"background-color:#e0e0e0;margin:0;padding:10px;\"><img src=\"data:image/png;base64,iVBORw0KGgoAAAANSUhEUgAAAVUAAABNCAIAAACZnGA7AAAACXBIWXMAAA7EAAAOxAGVKw4bAAADNUlEQVR4nO3WMU6iURiFYRYiUam0ocFoQcJfYEJBpKKwwFb5C0JsxpJ2phY6EitjMluY3oaeSMwUJO5j5s4OzOScz3zJ+2zg5HLvCzQuLi6+Bbq8vOx2u5GLJycnk8kkcvHg4CByrmg2m5Fz0+n0+Pg4cjH+2RwdHdV1HbkY/2zu7u4aDw8PfwKtVqvFYhG5eH19/fr6GrlYvlIj5+IX9/v9YDCIXIx/NuWA5ZiRi/HPprRP/3r0L0f/DvRvQf9y9O9A/xb0L0f/DvRvQf9y9O9A/xb0L0f/DvRvQf9y9O9A/xb0L0f/DvRvQf9y9O9A/xb0L0f/DvRvQf9y9O9A/xb0L0f/DvRvQf9y9O9A/xb0L0f/DvRvQf9y9O9A/xb0L0f/DvRvQf9y9O9A/xb0L0f/DvRvQf9y9O9A/xb0L0f/DvRvQf9y9O9A/xb0L0f/DvRvQf9y9O9A/xb0L0f/DvRvQf9y9O9A/xb0L0f/DvRvQf9y9O9A/xb0L0f/DvRvQf9y9O9A/xb0L0f/DvRvQf9y9O9A/xb0L0f/DvRvQf9y9O9A/xb0L0f/DvRvQf9y9O9A/xb0L0f/Dv/6r6rqR6DhcNjr9SIXT09Pb29vIxcPDw9/xSpnjJx7fn4+OzuLXJzNZjc3N5GL5YDlmJGLwZdYzOfzxvn5+X2gEn+n04lcbLVa4/E4crEc8Gesx8fHyLmXl5fygxy5+PT0tF6vIxeXy2U5ZuRi8CUWm82G//96wR8p8N/oX4/+kQX969E/sqB/PfpHFvSvR//Igv716B9Z0L8e/SML+tejf2RB/3r0jyzoX4/+kQX969E/sqB/PfpHFvSvR//Igv716B9Z0L8e/SML+tejf2RB/3r0jyzoX4/+kQX969E/sqB/PfpHFvSvR//Igv716B9Z0L8e/SML+tejf2RB/3r0jyzoX4/+kQX969E/sqB/PfpHFvSvR//Igv716B9Z0L8e/SML+tejf2RB/3r0jyzoX4/+kQX969E/sqB/PfpHFo2qqr4HGo1G/X4/crHdbtd1Hbl4dXX11dcKfEpjv9//DrTb7d7e3iIXt9vt+/t75OLHx8dXXyvwKX8BMqMPHVeyHwMAAAAASUVORK5CYII=\"></div>"
      ],
      "text/plain": [
       "<IPython.core.display.HTML object>"
      ]
     },
     "metadata": {},
     "output_type": "display_data"
    },
    {
     "data": {
      "text/html": [
       "<div style=\"background-color:#e0e0e0;margin:0;padding:10px;\"><img src=\"data:image/png;base64,iVBORw0KGgoAAAANSUhEUgAAAS8AAABNCAIAAAB493VqAAAACXBIWXMAAA7EAAAOxAGVKw4bAAADHklEQVR4nO3WMUpjURiG4WwihaDEpDKNjUELgykSsAhYWVgogkUwhcU0Y2k702sXSBWEWUFgelcgkiBTpM4iZs4afr7vF868zwY+Dve8997GycnJ90Sj0ej09DRz8eDg4Pr6OnNxd3c3c67Y29vLnLu/v2+325mL+ddmf39/Op1mLp6fnzceHx//Jnp5eXl6espcvLq6ent7y1wsL7jMufzFzWZTrk7mYv61KQcsx8xcLCVSox41ylGjBTVWsEiNDtRoQY1y1GhBjRUsUqMDNVpQoxw1WlBjBYvU6ECNFtQoR40W1FjBIjU6UKMFNcpRowU1VrBIjQ7UaEGNctRoQY0VLFKjAzVaUKMcNVpQYwWL1OhAjRbUKEeNFtRYwSI1OlCjBTXKUaMFNVawSI0O1GhBjXLUaEGNFSxSowM1WlCjHDVaUGMFi9ToQI0W1ChHjRbUWMEiNTpQowU1ylGjBTVWsEiNDtRoQY1y1GhBjRUsUqMDNVpQoxw1WlBjBYvU6ECNFtQoR40W1FjBIjU6UKMFNcpRowU1VrBIjQ7UaEGNcv9LjYPB4Gei8Xh8dnaWudjtdieTSebizs5O5lzRbrd/J1osFr1eL3Px4eHh5uYmc7EcsBwzc/H29rZxfHz8LVFJ8ejoKHOx0+lcXl5mLjabzcy5ot/v/0r0+vpaPlaZi/P5fDabZS4+Pz+XY2YuLpdL/lT18v9Ukx8iTKhRjxoRQ4161IgYatSjRsRQox41IoYa9agRMdSoR42IoUY9akQMNepRI2KoUY8aEUONetSIGGrUo0bEUKMeNSKGGvWoETHUqEeNiKFGPWpEDDXqUSNiqFGPGhFDjXrUiBhq1KNGxFCjHjUihhr1qBEx1KhHjYihRj1qRAw16lEjYqhRjxoRQ4161IgYatSjRsRQox41IoYa9agRMdSoR42IoUY9akQMNepRI2KoUY8aEUONetSIGGrUo0bENAaDwY9EFxcXw+Ewc/Hw8HA6nWYutlqtzLni7u7uqy8SBBqbzeZPovV6vVqtMhc/Pj4+Pz8zF9/f3zPniu12+9UXCQL/AL8Z86xFlW9uAAAAAElFTkSuQmCC\"></div>"
      ],
      "text/plain": [
       "<IPython.core.display.HTML object>"
      ]
     },
     "metadata": {},
     "output_type": "display_data"
    },
    {
     "data": {
      "text/html": [
       "<div style=\"background-color:#e0e0e0;margin:0;padding:10px;\"><img src=\"data:image/png;base64,iVBORw0KGgoAAAANSUhEUgAAAJgAAAByCAIAAAAgf4+SAAAACXBIWXMAAA7EAAAOxAGVKw4bAAACSElEQVR4nO3VsY5xYRRGYRegE8VpJL4oiEKCECIc3SQKISISlCM0kqmU6qnF9Uzntv7/zD1Yu5n13MBbrGTvUqfT+Qw0Ho+73W7kYkppuVxGLmZZFjlXOBwOpdvt9i/Q8/m83++Ri7vd7vV6RS4Oh8PIuUIR0ZDvZ0iEIRGGJBgSYUiEIRGGJBgSYUiEIRGGJBgSYUiEIRGGJBgSYUiEIRGGJBgSYUiEIRGGJBgSYUiEIRGGJBgSYUiEIRGGJBgSYUiEIRGGJBgSYUiEIRGGJBgSYUiEIRGGJBgSYUjEXwk5m82+Ay0Wi+l0GrnYarVOp1PkYpZlkXOF7XZbGgwGX4GKir1eL3IxpbTZbCIXq9Vq5FxhtVp5Wt/PH4kwJMKQBEMiDIkwJMKQBEMiDIkwJMKQBEMiDIkwJMKQBEMiDIkwJMKQBEMiDIkwJMKQBEMiDIkwJMKQBEMiDIkwJMKQBEMiDIkwJMKQBEMiDIkwJMKQBEMiDIkwJMKQBEMiDIkwJMKQhN+Q9Xr9I1Cj0ajVapGLlUql3+9HLpbL5ci5wnw+L+33+59A1+v1eDxGLuZ5/ng8IhebzWbkXOF8Pnta388fiTAkwpAEQyIMiTAkwpAEQyIMiTAkwpAEQyIMiTAkwpAEQyIMiTAkwpAEQyIMiTAkwpAEQyIMiTAkwpAEQyIMiTAkwpAEQyIMiTAkwpAEQyIMiTAkwpAEQyIMiTAkwpAEQyIMiTAkwpCE35CTyeQzUJ7no9EocrHdbq/X68jFlFLkXOFyufwHTa/u0FD7DqYAAAAASUVORK5CYII=\"></div>"
      ],
      "text/plain": [
       "<IPython.core.display.HTML object>"
      ]
     },
     "metadata": {},
     "output_type": "display_data"
    },
    {
     "data": {
      "text/html": [
       "<div style=\"background-color:#e0e0e0;margin:0;padding:10px;\"><img src=\"data:image/png;base64,iVBORw0KGgoAAAANSUhEUgAAAS8AAAByCAIAAACN28ASAAAACXBIWXMAAA7EAAAOxAGVKw4bAAADR0lEQVR4nO3WO0plWRTH4TsNRQTFRJMLKooX8QGCDQamPrgYVajQJobGDQaCj0gwEqFHIHTQmSMwFwPHUXVmIBR7LRenvm8Cf/bm/Dh7MBwOfyQajUaLi4uZi7Ozs/v7+5mLExMTmXOdycnJzLnDw8OpqanMxfzPpjvg0dFR5uL29vbg4uLiZ6K7u7vLy8vMxYODg9fX18zF1dXVzLn8xY+Pj93d3czF/M+mO2B3zMzFrkQ1tqfG5tQYQo09WFRjBDWGUGNzagyhxh4sqjGCGkOosTk1hlBjDxbVGEGNIdTYnBpDqLEHi2qMoMYQamxOjSHU2INFNUZQYwg1NqfGEGrswaIaI6gxhBqbU2MINfZgUY0R1BhCjc2pMYQae7CoxghqDKHG5tQYQo09WFRjBDWGUGNzagyhxh4sqjGCGkOosTk1hlBjDxbVGEGNIdTYnBpDqLEHi2qMoMYQamxOjSHU2INFNUZQYwg1NqfGEGrswaIaI6gxhBqbU2MINfZgUY0R1BhCjc2pMYQae7CoxghqDKHG5tQYQo09WFRjBDWGUGNzf0qNm5ub/yTa29vb2NjIXBwOh1dXV/8lmp+fz5zLX3x6elpeXs5cPD09HY/HmYvdAbtjZi6enJwMVlZW/k7Upbi0tJS5OBqNrq+v/010c3OTOZe/+Pz83P2sMhcfHx8fHh4yF29vb7tjZi6+vLz0/6V6f3+f/OSA36NGqEKNUIUaoQo1QhVqhCrUCFWoEapQI1ShRqhCjVCFGqEKNUIVaoQq1AhVqBGqUCNUoUaoQo1QhRqhCjVCFWqEKtQIVagRqlAjVKFGqEKNUIUaoQo1QhVqhCrUCFWoEapQI1ShRqhCjVCFGqGKwczMzF+J5ubmpqenMxcXFhbe3t6++57ha4Pj4+P/E52dnY3H48zF8/Pz9/f3775n+JqXKlShRqhCjVCFGqEKNUIVaoQq1AhVqBGqUCNUoUaoQo1QhRqhCjVCFWqEKtQIVagRqlAjVKFGqEKNUIUaoQo1QhVqhCrUCFWoEapQI1ShRqhCjVCFGqEKNUIVaoQq1AhVqBGqUCNUoUaoQo1QhRqhisH6+vqPRFtbW2tra5mLOzs7n5+f333P8LVf8RCEI5JVuBkAAAAASUVORK5CYII=\"></div>"
      ],
      "text/plain": [
       "<IPython.core.display.HTML object>"
      ]
     },
     "metadata": {},
     "output_type": "display_data"
    },
    {
     "data": {
      "text/html": [
       "<div style=\"background-color:#e0e0e0;margin:0;padding:10px;\"><img src=\"data:image/png;base64,iVBORw0KGgoAAAANSUhEUgAAAQoAAAByCAIAAAAkrwiGAAAACXBIWXMAAA7EAAAOxAGVKw4bAAADfUlEQVR4nO3WsUqbcRSG8dyEQ0JAki2LgkZDQoijhQwScIiIS0DBIUOnjI62m4vgIDhJoDi6NdBByBWELNLB2SW7g/16AQdKOecIr8/vBl7Cd57wL21ubp4m6nQ6W1tbmYv1ev3g4CBzsVwuZ84VKpVK5tzR0VG1Ws1czD+bnZ2d1WpVmkwm74mur68vLi4yF4fD4Xw+z1xstVqZc/mLLy8v+/v7mYv5Z3N5eUkeIcjDHXlEIQ935BGFPAQWySMKeQgskkcU8hBYJI8o5CGwSB5RyENgkTyikIfAInlEIQ+BRfKIQh4Ci+QRhTwEFskjCnkILJJHFPIQWCSPKOQhsEgeUchDYJE8opCHwCJ5RCEPgUXyiEIeAovkEYU8BBbJIwp5CCySRxTyEFgkjyjkIbBIHlHIQ2CRPKKQh8AieUQhD4FF8ohCHgKL5BGFPAQWySMKeQgskkcU8hBYJI8o5CGwSB5RyENgkTyikIfAInlEIQ+BRfKIQh4Ci+QRhTwEFj9RHnt7e98T9fv9Xq+XudhoNM7OzjIXy+Vy5lyhVqv9THR/f99sNjMXx+PxyclJ5uJoNPqbx+7u7tdERRvb29uZi/V6/fDwMHNxbW0tc67Q7XZ/JJpOp8Xfeebi3d3d7e1t5uLDw8Pb2xuPK3/5j6vkj/h5kIc/8pBBHv7IQwZ5+CMPGeThjzxkkIc/8pBBHv7IQwZ5+CMPGeThjzxkkIc/8pBBHv7IQwZ5+CMPGeThjzxkkIc/8pBBHv7IQwZ5+CMPGeThjzxkkIc/8pBBHv7IQwZ5+CMPGeThjzxkkIc/8pBBHv7IQwZ5+CMPGeThjzxkkIc/8pBBHv7IQwZ5+CMPGeThjzxkkIc/8pBBHv7IQwZ5+CMPGeThjzxkkIc/8pBBHv7IQwZ5+CMPGaVarfYlUaPRaLfb3xJtbGycn59nLq6vr2fOFUaj0UcfkqbS8fHxr0RXV1c3Nze/Ey2Xy+fn58zFxWKROVd4fX396EPSlP24enp6enx8zFwE/ht5ACbyAEzkAZjIAzCRB2AiD8BEHoCJPAATeQAm8gBM5AGYyAMwkQdgIg/ARB6AiTwAE3kAJvIATOQBmMgDMJEHYCIPwEQegIk8ABN5ACbyAEzkAZjIAzCRB2AiD8BEHoCJPAATeQAm8gBM5AGYSt1u9zTRYDCYzWYf/auBf/IH8iFgV1EnGIQAAAAASUVORK5CYII=\"></div>"
      ],
      "text/plain": [
       "<IPython.core.display.HTML object>"
      ]
     },
     "metadata": {},
     "output_type": "display_data"
    },
    {
     "data": {
      "text/html": [
       "<div style=\"background-color:#e0e0e0;margin:0;padding:10px;\"><img src=\"data:image/png;base64,iVBORw0KGgoAAAANSUhEUgAAAOQAAACYCAIAAAB71dJgAAAACXBIWXMAAA7EAAAOxAGVKw4bAAADSUlEQVR4nO3WP0q1RxjG4bMF4bMQVDhgoTYWioKCNoIRwdb/ZcBKiEUsrQOCgugOREhtlyKF4Aa0F1tdxJcTyBKeGbnDdW3ghuH3vjODlZWV3zva3NxcW1vruTg7O3t8fNxzcXJysufcyNTUVM+509PT4XDYc/Hw8PDp6WlwcXHxs6O7u7vLy8uei/v7+y8vLz0XR99/z7n+ix8fH1tbWz0Xn5+fxdqEWMuJtRWxlhNrK2ItJ9ZWxFpOrK2ItZxYWxFrObG2ItZyYm1FrOXE2opYy4m1FbGWE2srYi0n1lbEWk6srYi1nFhbEWs5sbYi1nJibUWs5cTailjLibUVsZYTaytiLSfWVsRaTqytiLWcWFsRazmxtiLWcmJtRazlxNqKWMuJtRWxlhNrK2ItJ9ZWxFpOrK2ItZxYWxFrObG2ItZyYm1FrOXE2opYy4m1FbGWE2srYi33X6wbGxt/dLSzs7O+vt5zcWFh4erq6q+O5ubmes71X3x4eFhaWuq5eH19/W+sy8vLv3U0KnVxcbHn4urq6s3NzZ8d3d7e9pzrv/j4+Di6IXsujnx+fv7/nwH39/eja6vnIo2IlRhiJYZYiSFWYoiVGGIlhliJIVZiiJUYYiWGWIkhVmKIlRhiJYZYiSFWYoiVGGIlhliJIVZiiJUYYiWGWIkhVmKIlRhiJYZYiSFWYoiVGGIlhliJIVZiiJUYYiWGWIkxGA6Hv3Q0MzMzPT3dc3F+fv7t7e27z5kCg6Ojo787Ojs7Ozk56bl4fn7+/v7+3edMAc8AYoiVGGIlhliJIVZiiJUYYiWGWIkhVmKIlRhiJYZYiSFWYoiVGGIlhliJIVZiiJUYYiWGWIkhVmKIlRhiJYZYiSFWYoiVGGIlhliJIVZiiJUYYiWGWIkhVmKIlRhiJYZYiTEYHx+f7ejHjx9jY2M9FycmJl5fX7/7nCngz0oMsRJDrMQQKzHESgyxEkOsxBArMcRKDLESQ6zEECsxxEoMsRJDrMQQKzHESgyxEkOsxBArMcRKDLESQ6zEECsxxEoMsRJDrMQQKzHESgyxEkOsxBArMcRKDLESQ6zEECsxxEqMwd7e3q8d7e7ubm9v91w8ODj4+vr67nOmwD/m2j4r0fzmjgAAAABJRU5ErkJggg==\"></div>"
      ],
      "text/plain": [
       "<IPython.core.display.HTML object>"
      ]
     },
     "metadata": {},
     "output_type": "display_data"
    },
    {
     "data": {
      "text/html": [
       "<div style=\"background-color:#e0e0e0;margin:0;padding:10px;\"><img src=\"data:image/png;base64,iVBORw0KGgoAAAANSUhEUgAAAQoAAAByCAIAAAAkrwiGAAAACXBIWXMAAA7EAAAOxAGVKw4bAAADcElEQVR4nO3WP2piYRSGcZdhRJRImlQB8w8lmBQBB0KwsVCCTULsFKZKmdKZWkwVSCXCkB1MMaRxF1MISZ/eIuMs4HTnnDDvPL8NvNzvfs/lFvb29m4TNZvNer2euVir1TqdTubi1tZW5txGqVTKnOv3++VyOXMx/9ocHh6+v78X7u7uPhLNZrP7+/vMxV6vt1wuMxePj48z5/IXV6tVu93OXMy/NpPJhDxCkIc78ohCHu7IIwp5CCySRxTyEFgkjyjkIbBIHlHIQ2CRPKKQh8AieUQhD4FF8ohCHgKL5BGFPAQWySMKeQgskkcU8hBYJI8o5CGwSB5RyENgkTyikIfAInlEIQ+BRfKIQh4Ci+QRhTwEFskjCnkILJJHFPIQWCSPKOQhsEgeUchDYJE8opCHwCJ5RCEPgUXyiEIeAovkEYU8BBbJIwp5CCySRxTyEFgkjyjkIbBIHlHIQ2CRPKKQh8AieUQhD4FF8ohCHgKL5BGFPAQWySMKeQgs/kd5nJ6efk90cXHRarUyF3d3d4fDYeZitVr9mWvzjJlz8/n84OAgc3E0Gg0Gg8zF6+vrv3kcHR19TbRpY39/P3OxVqt1u93Mxc0D/sg1nU4z5xaLxeZznrn49PT0+PiYufj8/Lxer/m58pd8pIhDHv7IQwZ5+CMPGeThjzxkkIc/8pBBHv7IQwZ5+CMPGeThjzxkkIc/8pBBHv7IQwZ5+CMPGeThjzxkkIc/8pBBHv7IQwZ5+CMPGeThjzxkkIc/8pBBHv7IQwZ5+CMPGeThjzxkkIc/8pBBHv7IQwZ5+CMPGeThjzxkkIc/8pBBHv7IQwZ5+CMPGeThjzxkkIc/8pBBHv7IQwZ5+CMPGeThjzxkkIc/8pBBHv7IQwZ5+CMPGeThjzxkFLa3t78k2tnZqVQqmYvFYvHm5uZbosvLy89+rfBRuLq6+pVoPB4PBoPMxdFo9PLy8jvR6+vrZ79W+ND/uXp4eFitVpmLkEEegIk8ABN5ACbyAEzkAZjIAzCRB2AiD8BEHoCJPAATeQAm8gBM5AGYyAMwkQdgIg/ARB6AiTwAE3kAJvIATOQBmMgDMJEHYCIPwEQegIk8ABN5ACbyAEzkAZjIAzCRB2AiD8BEHoCJPAATeQCmwsnJyW2is7OzRqORuXh+fv729vbZ54x/0h8eUFbij8U//wAAAABJRU5ErkJggg==\"></div>"
      ],
      "text/plain": [
       "<IPython.core.display.HTML object>"
      ]
     },
     "metadata": {},
     "output_type": "display_data"
    },
    {
     "data": {
      "text/html": [
       "<div style=\"background-color:#e0e0e0;margin:0;padding:10px;\"><img src=\"data:image/png;base64,iVBORw0KGgoAAAANSUhEUgAAAOQAAAByCAIAAADMCuqEAAAACXBIWXMAAA7EAAAOxAGVKw4bAAADOElEQVR4nO3WMUpjcRSF8WxCMCKRhDRWQgyRhBAtBAeCpEmRIDYR0ylMlTLtTJVKdyDC1HZTDCGQFdhOkcJGF+G8gVnCOTfc4ftt4MD7f/Bu6ejo6DZQp9NpNBqRi7VabTAYRC6Wy+XIucLe3l7k3Hg83t/fj1y8vLx8eXkpzWazz0APDw/z+TxycTQardfryMWTk5PIufjFzWZzcXERubharYjVgljliNWFWOWI1YVY5YjVhVjliNWFWOWI1YVY5YjVhVjliNWFWOWI1YVY5YjVhVjliNWFWOWI1YVY5YjVhVjliNWFWOWI1YVY5YjVhVjliNWFWOWI1YVY5YjVhVjliNWFWOWI1YVY5YjVhVjliNWFWOWI1YVY5YjVhVjliNWFWOWI1YVY5YjVhVjliNWFWOWI1YVY5YjVhVjliNWFWOWI1YVY5YjVhVjliNWFWOX+xXp6evo9UL/f7/V6kYuHh4fT6TRysVwuR84VqtXqz0BPT0/NZjNycbFY/I211Wp9DVSUenx8HLlYq9WGw2Hk4s7OTuRcodvt/gj0/Pxc/CEjFwvv7++cAXrxZ0DwI24LseoRqwmx6hGrCbHqEasJseoRqwmx6hGrCbHqEasJseoRqwmx6hGrCbHqEasJseoRqwmx6hGrCbHqEasJseoRqwmx6hGrCbHqEasJseoRqwmx6hGrCbHqEasJseoRqwmx6hGrCbHqEasJseoRqwmx6hGrCbHqEasJseoRqwmx6hGrCbHqEasJseoRqwmx6hGrCbHqEasJseoRqwmx6hGrCbHqEasJseoRqwmx6hGrSalarX4JVK/XK5VK5OLu7u7Nzc23QAcHB5Fzhclksu2QIpSurq5+Bbq/v7++vo5cvLu7Wy6XvwO9vr5GzhU+Pj62HVKE//8MeHx83Gw2kYswIVakQaxIg1iRBrEiDWJFGsSKNIgVaRAr0iBWpEGsSINYkQaxIg1iRRrEijSIFWkQK9IgVqRBrEiDWJEGsSINYkUaxIo0iBVpECvSIFakQaxIg1iRBrEiDWJFGsSKNIgVaRAr0iBWpEGsSINYkUap2+3eBjo7O2u325GL5+fnb29v2/7OEPgD1/HnPIK0IpAAAAAASUVORK5CYII=\"></div>"
      ],
      "text/plain": [
       "<IPython.core.display.HTML object>"
      ]
     },
     "metadata": {},
     "output_type": "display_data"
    },
    {
     "data": {
      "text/html": [
       "<div style=\"background-color:#e0e0e0;margin:0;padding:10px;\"><img src=\"data:image/png;base64,iVBORw0KGgoAAAANSUhEUgAAAL4AAACYCAIAAADV48ThAAAACXBIWXMAAA7EAAAOxAGVKw4bAAADVklEQVR4nO3cvUo8ZxyGYU9iYQU/WLHQwkrQQtFmi4CtoKDbKLFTSRNLS5MD0INIZWGXIohgY2slpLCwsvEMkg05gx/zvML8r+sEHmbmnnm7mdnc3Py1ofF4vLW11XJxZWXl+Pi45eLc3FzLuan5+fmWc5eXlzc3NzNXV1f/NHR7e3t9fd1y8fDw8Pn5ueXi9G1sOdd+8evrSzoR0omQTg8WpZMinQjp9GBROinSiZBODxalkyKdCOn0YFE6KdKJkE4PFqWTIp0I6fRgUTop0omQTg8WpZMinQjp9GBROinSiZBODxalkyKdCOn0YFE6KdKJkE4PFqWTIp0I6fRgUTop0omQTg8WpZMinQjp9GBROinSiZBODxalkyKdCOn0YFE6KdKJkE4PFqWT8qOks7u7+3tDe3t7Ozs7LRdXV1fPzs5aLs7OzracmxqNRn82dH9//186GxsbvzQ07WZ9fb3l4tLS0v7+fsvFwWDQcm5qe3v7j7be3t4cWN1rf2A1foj/k073pBMhnQTpREgnRDrdk06EdBKkEyGdEOl0TzoR0kmQToR0QqTTPelESCdBOhHSCZFO96QTIZ0E6URIJ0Q63ZNOhHQSpBMhnRDpdE86EdJJkE6EdEKk0z3pREgnQToR0gmRTvekEyGdBOlESCdEOt2TToR0EqQTIZ0Q6XRPOhHSSZBOhHRCpNM96URIJ+F70hmNRj81tLy8vLCw0HJxOByenp7+1tDi4mLLuamTk5NvSOfo6Oivhi4uLiaTScvF8/Pzx8fHvxt6fX1tOTf1+fn5Den0/sC6u7t7f39vufiDkA5F0qFIOhRJhyLpUCQdiqRDkXQokg5F0qFIOhRJhyLpUCQdiqRDkXQokg5F0qFIOhRJhyLpUCQdiqRDkXQokg5F0qFIOhRJhyLpUCQdiqRDkXQokg5F0qFIOhTNDAaDlYaGw+Ha2trPDY3H44+Pj+++zz3U+qvz9PT08PDQcpEQ6VAkHYqkQ5F0KJIORdKhSDoUSYci6VAkHYqkQ5F0KJIORdKhSDoUSYci6VAkHYqkQ5F0KJIORdKhSDoUSYci6VAkHYqkQ5F0KJIORdKhSDoUSYci6VAkHYqkQ5F0KJo5ODho+T/RyWTy8vLy3VdNB/4FnKLT9HGQQa8AAAAASUVORK5CYII=\"></div>"
      ],
      "text/plain": [
       "<IPython.core.display.HTML object>"
      ]
     },
     "metadata": {},
     "output_type": "display_data"
    },
    {
     "name": "stdout",
     "output_type": "stream",
     "text": [
      "partitions - Group degree: 12, factorization: 4 * 3 = 12\n"
     ]
    },
    {
     "data": {
      "text/html": [
       "<div style=\"background-color:#e0e0e0;margin:0;padding:10px;\"><img src=\"data:image/png;base64,iVBORw0KGgoAAAANSUhEUgAAAccAAAAnCAIAAAD1rRTTAAAACXBIWXMAAA7EAAAOxAGVKw4bAAACpElEQVR4nO3WMa4hYBiF4bsQkqujl0hIREEsgcJtVBTaUSrVgmjkaohkEjYwvX3Ygf4WM//s4ZwzyZ332cCXX46Xt1ar9SOo3+93Op3kxXq9PplMkhcrlUryXFGtVpPnZrNZrVZLXszP5v39fT6fJy/mZxO+mJ9Nu90eDAbJi91u9/V6vS2Xy99B+/1+tVolL47H48fjkbxYfqiS5/IXn8/ncDhMXszPpjywPDN5kdnIlc2U5SQvrtdrqmrB10OOqn6Di1TVhap+g4tU1YHZyFFVF6oqR1UdmI0cVXWhqnJU1YHZyFFVF6oqR1UdmI0cVXWhqnJU1YHZyFFVF6oqR1UdmI0cVXWhqnJU1YHZyFFVF6oqR1UdmI0cVXWhqnJU1YHZyFFVF6oqR1UdmI0cVXWhqnJU1YHZyFFVF6oqR1UdmI0cVXWhqnJU1YHZyFFVF6oqR1UdmI0cVXWhqnJU1YHZyFFVF6oqR1UdmI0cVXWhqnJU1YHZyFFVF6oqR1UdmI0cVXWhqnJU1YHZyFFVF6oqR1UdmI0cVXWhqnJU1YHZyFFVF6oqR1UdmI0cVXWhqnJU1YHZyFFVF6oqR1UdmI0cVXWhqnJU1YHZyFFVF6oqR1UdmI0cVXWhqnJU1YHZyFFVF6oqR1UdmI0cVXWhqnJU1YHZyFFVF6oqR1UdmI0cVXWhqnJU1YHZyFFVF6oqR1UdmI0cVXWhqnJU1YHZyFFVF6oqR1UdmI3cP6vqaDT6FbRYLD4+PpIXe73eZrNJXmw0Gslz+YuXy6XZbCYv5mdTHliembzIbOTKZspykhen0+nfqt7v959Bp9PpeDwmLx4Oh/P5nLy43W6T5/IXr9dr+QuQvJifzW63K89MXvwfZlM+1eTFspnPz8/kxdvt9vX19QcrJ6YvdtpV4gAAAABJRU5ErkJggg==\"></div>"
      ],
      "text/plain": [
       "<IPython.core.display.HTML object>"
      ]
     },
     "metadata": {},
     "output_type": "display_data"
    },
    {
     "data": {
      "text/html": [
       "<div style=\"background-color:#e0e0e0;margin:0;padding:10px;\"><img src=\"data:image/png;base64,iVBORw0KGgoAAAANSUhEUgAAAXsAAABNCAIAAADICFNYAAAACXBIWXMAAA7EAAAOxAGVKw4bAAADQElEQVR4nO3XsWqacRiFcS8kgm5myqAoKOQbEnAImDWD2ZNBQpc6ZkwLDoKaSXAKgU7Zu3sNihTxDryB0H6BrhnPaTk8vxt4+cvxQSudTuer0eXlZa/Xc15sNBrD4dB58eTkxHmuVK1Wnefu7u7q9brzon82tVrt/v7eedE/G/PFh4eHp6enyng8/m20WCweHx+dF29ubtbrtfNiGXHnOf/Fw+HQ7/edF/2zKR9YPtN5MX42x+OR4kjET4fiKMTPhuKoxE+H4ijEz4biqMRPh+IoxM+G4qjET4fiKMTPhuKoxE+H4ijEz4biqMRPh+IoxM+G4qjET4fiKMTPhuKoxE+H4ijEz4biqMRPh+IoxM+G4qjET4fiKMTPhuKoxE+H4ijEz4biqMRPh+IoxM+G4qjET4fiKMTPhuKoxE+H4ijEz4biqMRPh+IoxM+G4qjET4fiKMTPhuKoxE+H4ijEz4biqMRPh+IoxM+G4qjET4fiKMTPhuKoxE+H4ijEz4biqMRPh+IoxM+G4qjET4fiKMTPhuKoxE+H4ijEz4biqMRPh+IoxM+G4qjET4fiKMTPhuKoxE+H4ijEz4biqMRPh+IoxM+G4qjET4fiKMTPhuKoxE+H4ijEz4biqMRPh+IoxM+G4qjET4fiKMTPhuKoxE+H4ijEz4biqMRPh+IoxM+G4qjET4fiKMTPhuKoxE+H4ijEz+ZvcYqi+G50dXV1fn7uvHh2djaZTH4anZ6eOs/5L768vLRaLefF0Wh0e3vrvFg+sHym82L8bN7e3j6K0263vxiVuWk2m86L3W53Op3+MJrNZs5z/ouvr6/ljw7nxdVqtVwunRfn83n5TOfF+NmUdrtd/r+q5+dn889jAJ+hOAB8KA4AH4oDwIfiAPChOAB8KA4AH4oDwIfiAPChOAB8KA4AH4oDwIfiAPChOAB8KA4AH4oDwIfiAPChOAB8KA4AH4oDwIfiAPChOAB8KA4AH4oDwIfiAPChOAB8KA4AH4oDwIfiAPChOAB8KA4AH4oDwIfiAPChOAB8KA4AH4oDwKdSFMU3o8FgcHFx4bx4fX1NcYD/RKX8Nv4y2m63m83GeXG/37+/v//rzxnAhz8UVjVfbtsYeQAAAABJRU5ErkJggg==\"></div>"
      ],
      "text/plain": [
       "<IPython.core.display.HTML object>"
      ]
     },
     "metadata": {},
     "output_type": "display_data"
    },
    {
     "data": {
      "text/html": [
       "<div style=\"background-color:#e0e0e0;margin:0;padding:10px;\"><img src=\"data:image/png;base64,iVBORw0KGgoAAAANSUhEUgAAAOQAAABNCAIAAAA5Jl/8AAAACXBIWXMAAA7EAAAOxAGVKw4bAAACpElEQVR4nO3dMWpiYRiFYTdhQFT0CoI2NkJSCFooWAhWIiJWKdRbTjPa2c4swCW4A3cguAITEnQKl2E1cwMD2cA5X/U+GzjN+1++7uZeXl5+BhoMBp1OJ3Kx0WgsFovIxVKpFDmXKZfLkXPr9TpJksjF+Xx+PB5zm83mb6D9fr/b7SIXZ7PZ+XyOXMzef+Rc/OL9fh8Oh5GLp9OJWC2IVY5YXYhVjlhdiFWOWF2IVY5YXYhVjlhdiFWOWF2IVY5YXYhVjlhdiFWOWF2IVY5YXYhVjlhdiFWOWF2IVY5YXYhVjlhdiFWOWF2IVY5YXYhVjlhdiFWOWF2IVY5YXYhVjlhdiFWOWF2IVY5YXYhVjlhdiFWOWF2IVY5YXYhVjlhdiFWOWF2IVY5YXYhVjlhdiFWOWF2IVY5YXYhVjlhdiFWOWF2IVY5YXYhV7n+svV7vd6DRaNTtdiMXm83mcrmMXCwUCpFz8YvZBy5JksjFNE0Ph0Pu+fn5R6Cs1Ha7HblYq9Umk0nkYj6fj5zLPD09Rc69vr4Wi8XIxel0+hUrZ4AcZ4AcN6sLscoRqwuxyhGrC7HKEasLscoRqwuxyhGrC7HKEasLscoRqwuxyhGrC7HKEasLscoRqwuxyhGrC7HKEasLscoRqwuxyhGrC7HKEasLscoRqwuxyhGrC7HKEasLscoRqwuxyhGrC7HKEasLscoRqwuxyhGrC7HKEasLscoRqwuxyhGrC7HKEasLscoRqwuxyhGrC7HKEasLscoRqwuxyhGrC7HKEasLscoRqwuxyn3/reVXoPF43O/3IxdbrVaappGLlUolci5TrVYj57bbbb1ej1xcrVZfsWav5E+gz8/Pj4+PyMX39/fr9Rq5eLlcIufiF2+329vbW+Ri5vF4/ANaj7LZljd33wAAAABJRU5ErkJggg==\"></div>"
      ],
      "text/plain": [
       "<IPython.core.display.HTML object>"
      ]
     },
     "metadata": {},
     "output_type": "display_data"
    },
    {
     "data": {
      "text/html": [
       "<div style=\"background-color:#e0e0e0;margin:0;padding:10px;\"><img src=\"data:image/png;base64,iVBORw0KGgoAAAANSUhEUgAAAVUAAABNCAIAAACZnGA7AAAACXBIWXMAAA7EAAAOxAGVKw4bAAADNUlEQVR4nO3WMU6iURiFYRYiUam0ocFoQcJfYEJBpKKwwFb5C0JsxpJ2phY6EitjMluY3oaeSMwUJO5j5s4OzOScz3zJ+2zg5HLvCzQuLi6+Bbq8vOx2u5GLJycnk8kkcvHg4CByrmg2m5Fz0+n0+Pg4cjH+2RwdHdV1HbkY/2zu7u4aDw8PfwKtVqvFYhG5eH19/fr6GrlYvlIj5+IX9/v9YDCIXIx/NuWA5ZiRi/HPprRP/3r0L0f/DvRvQf9y9O9A/xb0L0f/DvRvQf9y9O9A/xb0L0f/DvRvQf9y9O9A/xb0L0f/DvRvQf9y9O9A/xb0L0f/DvRvQf9y9O9A/xb0L0f/DvRvQf9y9O9A/xb0L0f/DvRvQf9y9O9A/xb0L0f/DvRvQf9y9O9A/xb0L0f/DvRvQf9y9O9A/xb0L0f/DvRvQf9y9O9A/xb0L0f/DvRvQf9y9O9A/xb0L0f/DvRvQf9y9O9A/xb0L0f/DvRvQf9y9O9A/xb0L0f/DvRvQf9y9O9A/xb0L0f/DvRvQf9y9O9A/xb0L0f/DvRvQf9y9O9A/xb0L0f/DvRvQf9y9O9A/xb0L0f/Dv/6r6rqR6DhcNjr9SIXT09Pb29vIxcPDw9/xSpnjJx7fn4+OzuLXJzNZjc3N5GL5YDlmJGLwZdYzOfzxvn5+X2gEn+n04lcbLVa4/E4crEc8Gesx8fHyLmXl5fygxy5+PT0tF6vIxeXy2U5ZuRi8CUWm82G//96wR8p8N/oX4/+kQX969E/sqB/PfpHFvSvR//Igv716B9Z0L8e/SML+tejf2RB/3r0jyzoX4/+kQX969E/sqB/PfpHFvSvR//Igv716B9Z0L8e/SML+tejf2RB/3r0jyzoX4/+kQX969E/sqB/PfpHFvSvR//Igv716B9Z0L8e/SML+tejf2RB/3r0jyzoX4/+kQX969E/sqB/PfpHFvSvR//Igv716B9Z0L8e/SML+tejf2RB/3r0jyzoX4/+kQX969E/sqB/PfpHFo2qqr4HGo1G/X4/crHdbtd1Hbl4dXX11dcKfEpjv9//DrTb7d7e3iIXt9vt+/t75OLHx8dXXyvwKX8BMqMPHVeyHwMAAAAASUVORK5CYII=\"></div>"
      ],
      "text/plain": [
       "<IPython.core.display.HTML object>"
      ]
     },
     "metadata": {},
     "output_type": "display_data"
    },
    {
     "data": {
      "text/html": [
       "<div style=\"background-color:#e0e0e0;margin:0;padding:10px;\"><img src=\"data:image/png;base64,iVBORw0KGgoAAAANSUhEUgAAAS8AAABNCAIAAAB493VqAAAACXBIWXMAAA7EAAAOxAGVKw4bAAADHklEQVR4nO3WMUpjURiG4WwihaDEpDKNjUELgykSsAhYWVgogkUwhcU0Y2k702sXSBWEWUFgelcgkiBTpM4iZs4afr7vF868zwY+Dve8997GycnJ90Sj0ej09DRz8eDg4Pr6OnNxd3c3c67Y29vLnLu/v2+325mL+ddmf39/Op1mLp6fnzceHx//Jnp5eXl6espcvLq6ent7y1wsL7jMufzFzWZTrk7mYv61KQcsx8xcLCVSox41ylGjBTVWsEiNDtRoQY1y1GhBjRUsUqMDNVpQoxw1WlBjBYvU6ECNFtQoR40W1FjBIjU6UKMFNcpRowU1VrBIjQ7UaEGNctRoQY0VLFKjAzVaUKMcNVpQYwWL1OhAjRbUKEeNFtRYwSI1OlCjBTXKUaMFNVawSI0O1GhBjXLUaEGNFSxSowM1WlCjHDVaUGMFi9ToQI0W1ChHjRbUWMEiNTpQowU1ylGjBTVWsEiNDtRoQY1y1GhBjRUsUqMDNVpQoxw1WlBjBYvU6ECNFtQoR40W1FjBIjU6UKMFNcpRowU1VrBIjQ7UaEGNcv9LjYPB4Gei8Xh8dnaWudjtdieTSebizs5O5lzRbrd/J1osFr1eL3Px4eHh5uYmc7EcsBwzc/H29rZxfHz8LVFJ8ejoKHOx0+lcXl5mLjabzcy5ot/v/0r0+vpaPlaZi/P5fDabZS4+Pz+XY2YuLpdL/lT18v9Ukx8iTKhRjxoRQ4161IgYatSjRsRQox41IoYa9agRMdSoR42IoUY9akQMNepRI2KoUY8aEUONetSIGGrUo0bEUKMeNSKGGvWoETHUqEeNiKFGPWpEDDXqUSNiqFGPGhFDjXrUiBhq1KNGxFCjHjUihhr1qBEx1KhHjYihRj1qRAw16lEjYqhRjxoRQ4161IgYatSjRsRQox41IoYa9agRMdSoR42IoUY9akQMNepRI2KoUY8aEUONetSIGGrUo0bENAaDwY9EFxcXw+Ewc/Hw8HA6nWYutlqtzLni7u7uqy8SBBqbzeZPovV6vVqtMhc/Pj4+Pz8zF9/f3zPniu12+9UXCQL/AL8Z86xFlW9uAAAAAElFTkSuQmCC\"></div>"
      ],
      "text/plain": [
       "<IPython.core.display.HTML object>"
      ]
     },
     "metadata": {},
     "output_type": "display_data"
    },
    {
     "data": {
      "text/html": [
       "<div style=\"background-color:#e0e0e0;margin:0;padding:10px;\"><img src=\"data:image/png;base64,iVBORw0KGgoAAAANSUhEUgAAAJgAAAByCAIAAAAgf4+SAAAACXBIWXMAAA7EAAAOxAGVKw4bAAACSElEQVR4nO3VsY5xYRRGYRegE8VpJL4oiEKCECIc3SQKISISlCM0kqmU6qnF9Uzntv7/zD1Yu5n13MBbrGTvUqfT+Qw0Ho+73W7kYkppuVxGLmZZFjlXOBwOpdvt9i/Q8/m83++Ri7vd7vV6RS4Oh8PIuUIR0ZDvZ0iEIRGGJBgSYUiEIRGGJBgSYUiEIRGGJBgSYUiEIRGGJBgSYUiEIRGGJBgSYUiEIRGGJBgSYUiEIRGGJBgSYUiEIRGGJBgSYUiEIRGGJBgSYUiEIRGGJBgSYUiEIRGGJBgSYUjEXwk5m82+Ay0Wi+l0GrnYarVOp1PkYpZlkXOF7XZbGgwGX4GKir1eL3IxpbTZbCIXq9Vq5FxhtVp5Wt/PH4kwJMKQBEMiDIkwJMKQBEMiDIkwJMKQBEMiDIkwJMKQBEMiDIkwJMKQBEMiDIkwJMKQBEMiDIkwJMKQBEMiDIkwJMKQBEMiDIkwJMKQBEMiDIkwJMKQBEMiDIkwJMKQBEMiDIkwJMKQhN+Q9Xr9I1Cj0ajVapGLlUql3+9HLpbL5ci5wnw+L+33+59A1+v1eDxGLuZ5/ng8IhebzWbkXOF8Pnta388fiTAkwpAEQyIMiTAkwpAEQyIMiTAkwpAEQyIMiTAkwpAEQyIMiTAkwpAEQyIMiTAkwpAEQyIMiTAkwpAEQyIMiTAkwpAEQyIMiTAkwpAEQyIMiTAkwpAEQyIMiTAkwpAEQyIMiTAkwpCE35CTyeQzUJ7no9EocrHdbq/X68jFlFLkXOFyufwHTa/u0FD7DqYAAAAASUVORK5CYII=\"></div>"
      ],
      "text/plain": [
       "<IPython.core.display.HTML object>"
      ]
     },
     "metadata": {},
     "output_type": "display_data"
    },
    {
     "data": {
      "text/html": [
       "<div style=\"background-color:#e0e0e0;margin:0;padding:10px;\"><img src=\"data:image/png;base64,iVBORw0KGgoAAAANSUhEUgAAAS8AAAByCAIAAACN28ASAAAACXBIWXMAAA7EAAAOxAGVKw4bAAADR0lEQVR4nO3WO0plWRTH4TsNRQTFRJMLKooX8QGCDQamPrgYVajQJobGDQaCj0gwEqFHIHTQmSMwFwPHUXVmIBR7LRenvm8Cf/bm/Dh7MBwOfyQajUaLi4uZi7Ozs/v7+5mLExMTmXOdycnJzLnDw8OpqanMxfzPpjvg0dFR5uL29vbg4uLiZ6K7u7vLy8vMxYODg9fX18zF1dXVzLn8xY+Pj93d3czF/M+mO2B3zMzFrkQ1tqfG5tQYQo09WFRjBDWGUGNzagyhxh4sqjGCGkOosTk1hlBjDxbVGEGNIdTYnBpDqLEHi2qMoMYQamxOjSHU2INFNUZQYwg1NqfGEGrswaIaI6gxhBqbU2MINfZgUY0R1BhCjc2pMYQae7CoxghqDKHG5tQYQo09WFRjBDWGUGNzagyhxh4sqjGCGkOosTk1hlBjDxbVGEGNIdTYnBpDqLEHi2qMoMYQamxOjSHU2INFNUZQYwg1NqfGEGrswaIaI6gxhBqbU2MINfZgUY0R1BhCjc2pMYQae7CoxghqDKHG5tQYQo09WFRjBDWGUGNzf0qNm5ub/yTa29vb2NjIXBwOh1dXV/8lmp+fz5zLX3x6elpeXs5cPD09HY/HmYvdAbtjZi6enJwMVlZW/k7Upbi0tJS5OBqNrq+v/010c3OTOZe/+Pz83P2sMhcfHx8fHh4yF29vb7tjZi6+vLz0/6V6f3+f/OSA36NGqEKNUIUaoQo1QhVqhCrUCFWoEapQI1ShRqhCjVCFGqEKNUIVaoQq1AhVqBGqUCNUoUaoQo1QhRqhCjVCFWqEKtQIVagRqlAjVKFGqEKNUIUaoQo1QhVqhCrUCFWoEapQI1ShRqhCjVCFGqGKwczMzF+J5ubmpqenMxcXFhbe3t6++57ha4Pj4+P/E52dnY3H48zF8/Pz9/f3775n+JqXKlShRqhCjVCFGqEKNUIVaoQq1AhVqBGqUCNUoUaoQo1QhRqhCjVCFWqEKtQIVagRqlAjVKFGqEKNUIUaoQo1QhVqhCrUCFWoEapQI1ShRqhCjVCFGqEKNUIVaoQq1AhVqBGqUCNUoUaoQo1QhRqhisH6+vqPRFtbW2tra5mLOzs7n5+f333P8LVf8RCEI5JVuBkAAAAASUVORK5CYII=\"></div>"
      ],
      "text/plain": [
       "<IPython.core.display.HTML object>"
      ]
     },
     "metadata": {},
     "output_type": "display_data"
    },
    {
     "data": {
      "text/html": [
       "<div style=\"background-color:#e0e0e0;margin:0;padding:10px;\"><img src=\"data:image/png;base64,iVBORw0KGgoAAAANSUhEUgAAAQoAAAByCAIAAAAkrwiGAAAACXBIWXMAAA7EAAAOxAGVKw4bAAADfUlEQVR4nO3WsUqbcRSG8dyEQ0JAki2LgkZDQoijhQwScIiIS0DBIUOnjI62m4vgIDhJoDi6NdBByBWELNLB2SW7g/16AQdKOecIr8/vBl7Cd57wL21ubp4m6nQ6W1tbmYv1ev3g4CBzsVwuZ84VKpVK5tzR0VG1Ws1czD+bnZ2d1WpVmkwm74mur68vLi4yF4fD4Xw+z1xstVqZc/mLLy8v+/v7mYv5Z3N5eUkeIcjDHXlEIQ935BGFPAQWySMKeQgskkcU8hBYJI8o5CGwSB5RyENgkTyikIfAInlEIQ+BRfKIQh4Ci+QRhTwEFskjCnkILJJHFPIQWCSPKOQhsEgeUchDYJE8opCHwCJ5RCEPgUXyiEIeAovkEYU8BBbJIwp5CCySRxTyEFgkjyjkIbBIHlHIQ2CRPKKQh8AieUQhD4FF8ohCHgKL5BGFPAQWySMKeQgskkcU8hBYJI8o5CGwSB5RyENgkTyikIfAInlEIQ+BRfKIQh4Ci+QRhTwEFj9RHnt7e98T9fv9Xq+XudhoNM7OzjIXy+Vy5lyhVqv9THR/f99sNjMXx+PxyclJ5uJoNPqbx+7u7tdERRvb29uZi/V6/fDwMHNxbW0tc67Q7XZ/JJpOp8Xfeebi3d3d7e1t5uLDw8Pb2xuPK3/5j6vkj/h5kIc/8pBBHv7IQwZ5+CMPGeThjzxkkIc/8pBBHv7IQwZ5+CMPGeThjzxkkIc/8pBBHv7IQwZ5+CMPGeThjzxkkIc/8pBBHv7IQwZ5+CMPGeThjzxkkIc/8pBBHv7IQwZ5+CMPGeThjzxkkIc/8pBBHv7IQwZ5+CMPGeThjzxkkIc/8pBBHv7IQwZ5+CMPGeThjzxkkIc/8pBBHv7IQwZ5+CMPGeThjzxkkIc/8pBBHv7IQwZ5+CMPGaVarfYlUaPRaLfb3xJtbGycn59nLq6vr2fOFUaj0UcfkqbS8fHxr0RXV1c3Nze/Ey2Xy+fn58zFxWKROVd4fX396EPSlP24enp6enx8zFwE/ht5ACbyAEzkAZjIAzCRB2AiD8BEHoCJPAATeQAm8gBM5AGYyAMwkQdgIg/ARB6AiTwAE3kAJvIATOQBmMgDMJEHYCIPwEQegIk8ABN5ACbyAEzkAZjIAzCRB2AiD8BEHoCJPAATeQAm8gBM5AGYSt1u9zTRYDCYzWYf/auBf/IH8iFgV1EnGIQAAAAASUVORK5CYII=\"></div>"
      ],
      "text/plain": [
       "<IPython.core.display.HTML object>"
      ]
     },
     "metadata": {},
     "output_type": "display_data"
    },
    {
     "data": {
      "text/html": [
       "<div style=\"background-color:#e0e0e0;margin:0;padding:10px;\"><img src=\"data:image/png;base64,iVBORw0KGgoAAAANSUhEUgAAAOQAAAByCAIAAADMCuqEAAAACXBIWXMAAA7EAAAOxAGVKw4bAAADOElEQVR4nO3WMUpjcRSF8WxCMCKRhDRWQgyRhBAtBAeCpEmRIDYR0ylMlTLtTJVKdyDC1HZTDCGQFdhOkcJGF+G8gVnCOTfc4ftt4MD7f/Bu6ejo6DZQp9NpNBqRi7VabTAYRC6Wy+XIucLe3l7k3Hg83t/fj1y8vLx8eXkpzWazz0APDw/z+TxycTQardfryMWTk5PIufjFzWZzcXERubharYjVgljliNWFWOWI1YVY5YjVhVjliNWFWOWI1YVY5YjVhVjliNWFWOWI1YVY5YjVhVjliNWFWOWI1YVY5YjVhVjliNWFWOWI1YVY5YjVhVjliNWFWOWI1YVY5YjVhVjliNWFWOWI1YVY5YjVhVjliNWFWOWI1YVY5YjVhVjliNWFWOWI1YVY5YjVhVjliNWFWOWI1YVY5YjVhVjliNWFWOWI1YVY5YjVhVjliNWFWOX+xXp6evo9UL/f7/V6kYuHh4fT6TRysVwuR84VqtXqz0BPT0/NZjNycbFY/I211Wp9DVSUenx8HLlYq9WGw2Hk4s7OTuRcodvt/gj0/Pxc/CEjFwvv7++cAXrxZ0DwI24LseoRqwmx6hGrCbHqEasJseoRqwmx6hGrCbHqEasJseoRqwmx6hGrCbHqEasJseoRqwmx6hGrCbHqEasJseoRqwmx6hGrCbHqEasJseoRqwmx6hGrCbHqEasJseoRqwmx6hGrCbHqEasJseoRqwmx6hGrCbHqEasJseoRqwmx6hGrCbHqEasJseoRqwmx6hGrCbHqEasJseoRqwmx6hGrCbHqEasJseoRqwmx6hGrSalarX4JVK/XK5VK5OLu7u7Nzc23QAcHB5Fzhclksu2QIpSurq5+Bbq/v7++vo5cvLu7Wy6XvwO9vr5GzhU+Pj62HVKE//8MeHx83Gw2kYswIVakQaxIg1iRBrEiDWJFGsSKNIgVaRAr0iBWpEGsSINYkQaxIg1iRRrEijSIFWkQK9IgVqRBrEiDWJEGsSINYkUaxIo0iBVpECvSIFakQaxIg1iRBrEiDWJFGsSKNIgVaRAr0iBWpEGsSINYkUap2+3eBjo7O2u325GL5+fnb29v2/7OEPgD1/HnPIK0IpAAAAAASUVORK5CYII=\"></div>"
      ],
      "text/plain": [
       "<IPython.core.display.HTML object>"
      ]
     },
     "metadata": {},
     "output_type": "display_data"
    },
    {
     "name": "stdout",
     "output_type": "stream",
     "text": [
      "partitions - Group degree: 14, factorization: 2 * 7 = 14\n"
     ]
    },
    {
     "data": {
      "text/html": [
       "<div style=\"background-color:#e0e0e0;margin:0;padding:10px;\"><img src=\"data:image/png;base64,iVBORw0KGgoAAAANSUhEUgAAAhIAAAAnCAIAAADVdzbfAAAACXBIWXMAAA7EAAAOxAGVKw4bAAAC8UlEQVR4nO3WsYmiURiF4SlEQTMnFwRNDEYsYSbQWA3EbCe0BlExEU0UYQMb2NzIJqaS3VvEOWfh+j4NHH75Lq9vvV7vV9DHx8dgMEgudjqdyWSSXGw0Gsm5otlsJufm83m73U4u5s+m1WotFovkYv5swov5s+n3+6PRKLmYP5vw2y9ms9nb9/f336D9fr9er5OLX19fj8cjuVhKnJzLL/78/IzH4+Ri/mzKB5bPTC5yNnLlZsrlJBdf4WxKMsiGHu9fjmxUsEg2HMiGBdmQIxsOnI0c2XAgGxa8fzmyUcEi2XAgGxZkQ45sOHA2cmTDgWxY8P7lyEYFi2TDgWxYkA05suHA2ciRDQeyYcH7lyMbFSySDQeyYUE25MiGA2cjRzYcyIYF71+ObFSwSDYcyIYF2ZAjGw6cjRzZcCAbFrx/ObJRwSLZcCAbFmRDjmw4cDZyZMOBbFjw/uXIRgWLZMOBbFiQDTmy4cDZyJENB7JhwfuXIxsVLJINB7JhQTbkyIYDZyNHNhzIhgXvX45sVLBINhzIhgXZkCMbDpyNHNlwIBsWvH85slHBItlwIBsWZEOObDhwNnJkw4FsWPD+5chGBYtkw4FsWJANObLhwNnIkQ0HsmHB+5cjGxUskg0HsmFBNuTIhgNnI0c2HMiGBe9fjmxUsEg2HMiGBdmQIxsOnI0c2XAgGxa8fzmyUcEi2XAgGxZkQ45sOHA2cmTDgWxY8P7lyEYFi2TDgWxYkA05suHA2ciRDQeyYcH7lyMbFSySDQeyYUE25MiGA2cjRzYcyIYF71+ObFSwSDYcyIYF2ZAjGw6cjRzZcCAbFrx/ObJRwSLZcPg/2fj8/PwTtFwup9NpcnE4HG42m+Ti+/t7ci6/eL1eu91ucjF/NuUDy2cmFzkbuXIz5XKSi69wNqvV6u1+v/8OOp/Px+MxuXg4HC6XS3Jxu90m5/KLt9ut/IlLLubPZrfblc9MLr7C2ZRfNblYbuZ0OiUXX+Fsns/nP1gjFo+BDMOIAAAAAElFTkSuQmCC\"></div>"
      ],
      "text/plain": [
       "<IPython.core.display.HTML object>"
      ]
     },
     "metadata": {},
     "output_type": "display_data"
    },
    {
     "data": {
      "text/html": [
       "<div style=\"background-color:#e0e0e0;margin:0;padding:10px;\"><img src=\"data:image/png;base64,iVBORw0KGgoAAAANSUhEUgAAAccAAABNCAIAAABcwjjvAAAACXBIWXMAAA7EAAAOxAGVKw4bAAADeElEQVR4nO3YPy71eRjGYQshoaNSEJIjcQpEIaFV0KgoFNOMUmkmUUj8qYRKJJNYwfTWQDERO9CLzPxmD/fzvAnXtYEn35Pb52BieXn590br6+srKyudF2dnZ/f29jovTk5Odp4bTE1NdZ47PDycmZnpvNg/m+np6aOjo86L/bNpvtg/m9FotLGx0XlxdXX14+Nj4uTk5N9G19fXp6ennRd3d3efn587Lw5fVJ3n+i++v79vbm52XuyfzfDA4ZmdF80mbtjMsJzOi2dnZ6pawo9HnKp+g4uqWkVVv8FFVa1gNnGqWkVV41S1gtnEqWoVVY1T1QpmE6eqVVQ1TlUrmE2cqlZR1ThVrWA2capaRVXjVLWC2cSpahVVjVPVCmYTp6pVVDVOVSuYTZyqVlHVOFWtYDZxqlpFVeNUtYLZxKlqFVWNU9UKZhOnqlVUNU5VK5hNnKpWUdU4Va1gNnGqWkVV41S1gtnEqWoVVY1T1QpmE6eqVVQ1TlUrmE2cqlZR1ThVrWA2capaRVXjVLWC2cSpahVVjVPVCmYTp6pVVDVOVSuYTZyqVlHVOFWtYDZxqlpFVeNUtYLZxKlqFVWNU9UKZhOnqlVUNU5VK5hNnKpWUdU4Va1gNnGqWkVV41S1gtnEqWoVVY1T1QpmE6eqVVQ1TlUrmE2cqlZR1ThVrWA2capaRVXjVLWC2cSpahVVjVPVCmYTp6pVVDVOVSuYTZyqVlHVOFWtYDZxqlpFVeNUtYLZxP2yqo7H4z8bbW1tra6udl6cn58/Pz//u9Hc3Fznuf6LDw8Pi4uLnRePj4/39/c7Lw4PHJ7ZedFs4obNDMvpvHhwcPB/VZeWln5rNCR1YWGh8+JoNLq4uPir0eXlZee5/ouPj4/DrwCdF+/v729vbzsvXl1dDc/svPgTZjN8qp0Xh83c3d11Xnx6evr8/Pz+/wG4ublp/lMO+MlUFSBJVQGSVBUgSVUBklQVIElVAZJUFSBJVQGSVBUgSVUBklQVIElVAZJUFSBJVQGSVBUgSVUBklQVIElVAZJUFSBJVQGSVBUgSVUBklQVIElVAZJUFSBJVQGSVBUgSVUBklQVIElVAZJUFSBJVQGSVBUgSVUBklQVIGliPB7/0Wh7e3ttba3z4s7OjqoCbSaG4vzT6PX19eXlpfPi29vb19fXr/6cgZ/iPzwvw99k3s5QAAAAAElFTkSuQmCC\"></div>"
      ],
      "text/plain": [
       "<IPython.core.display.HTML object>"
      ]
     },
     "metadata": {},
     "output_type": "display_data"
    },
    {
     "data": {
      "text/html": [
       "<div style=\"background-color:#e0e0e0;margin:0;padding:10px;\"><img src=\"data:image/png;base64,iVBORw0KGgoAAAANSUhEUgAAAE0AAAEKCAIAAADYQU+HAAAACXBIWXMAAA7EAAAOxAGVKw4bAAACqUlEQVR4nO3dP2oicRiHca8g+IeIBAWLxVYYi4AWE2FhQO3F2iIQiMXaRUi1OYC5zh5CC0fYHTyI7CrsFZ7XYp4PWH958C1/MJXhcPgj0PPz89PTU+TiZDI5n8+VzWbzN9But9tut5GLX19fdmLspNhJspNiJ8lOip0kOyl2kuyk2Emyk2InyU6KnSQ7KXaS7KTYSbKTYifJToqdpLt1jsfjz0BZlo1Go8jF+Xye53klSZK3QNfIwWAQuZim6el0Ks3d2omwk2InyU6KnSQ7KXaS7KTYSbKTYifJToqdJDspdpLspNhJspNiJ8lOip0kOyl2ku7W2e12vwfq9XqPj4+Ri/1+/3A4VBaLxa9Ar6+vy+UycnG9XhdFUZq7tRNhJ8VOkp0UO0l2Uuwk2Umxk2QnxU6SnRQ7SXZS7CTZSbGTZCfFTpKdFDtJdlLsJN2ts16vfwtUq9Wq1Wrk4sPDw36/L83/aSfCToqdJDspdpLspNhJspNiJ8lOip0kOyl2kuyk2Emyk2InyU6KnSQ7KXaS7KTYSbKT8r+z0WhEvv7wvQmlZHdrJ8JOip0kOyl2kuyk2Emyk2InyU6KnSQ7KXaS7KTYSbKTYifJToqdJDspdpLspJSsc7Va/Qn0/v7+8vISufjx8XH7/kqr1UoCtdvtZrMZudjpdG7f0ynL3dqJsJNiJ8lOip0kOyl2kuyk2Emyk2InyU6KnSQ7KXaS7KTYSbKTYifJToqdJDspdpLu1jkejz8DZVk2Go0iF+fzeZ7nlSRJ3gJdIweDQeRimqan06k0d2snwk6KnSQ7KXaS7KTYSbKTYifJToqdJDspdpLspNhJspNiJ8lOip0kOyl2kuyk2Em653uTn4Gm02mappGLs9ns1nn9/Q6U5/nxeIxcLIricrn8A9EuKRV+oCGEAAAAAElFTkSuQmCC\"></div>"
      ],
      "text/plain": [
       "<IPython.core.display.HTML object>"
      ]
     },
     "metadata": {},
     "output_type": "display_data"
    },
    {
     "data": {
      "text/html": [
       "<div style=\"background-color:#e0e0e0;margin:0;padding:10px;\"><img src=\"data:image/png;base64,iVBORw0KGgoAAAANSUhEUgAAAXsAAABNCAIAAADICFNYAAAACXBIWXMAAA7EAAAOxAGVKw4bAAADx0lEQVR4nO3XoUrkYRSG8bkJg6DomJxiUTQoTlCYIJgMBi0GmQkiW9ZodDerTTCJsMm+3SsQUYYNky3ewe63sPWALOc9wsvzu4HDx7w8/Keztrb2tdD29vb6+nrlxcXFxYODg8qLMzMzleea2dnZynPD4bDb7VZerJ/N/Pz8aDSqvFg/m+KLp6enFxcXnbOzs9+Frq+vz8/PKy/u7+8/Pj5WXmwRrzxXf3EymQwGg8qL9bNpD2zPrLxoP5v393eKI2E/HYqjYD8biqNiPx2Ko2A/G4qjYj8diqNgPxuKo2I/HYqjYD8biqNiPx2Ko2A/G4qjYj8diqNgPxuKo2I/HYqjYD8biqNiPx2Ko2A/G4qjYj8diqNgPxuKo2I/HYqjYD8biqNiPx2Ko2A/G4qjYj8diqNgPxuKo2I/HYqjYD8biqNiPx2Ko2A/G4qjYj8diqNgPxuKo2I/HYqjYD8biqNiPx2Ko2A/G4qjYj8diqNgPxuKo2I/HYqjYD8biqNiPx2Ko2A/G4qjYj8diqNgPxuKo2I/HYqjYD8biqNiPx2Ko2A/G4qjYj8diqNgPxuKo2I/HYqjYD8biqNiPx2Ko2A/G4qjYj8diqNgPxuKo2I/HYqjYD8biqNiPx2Ko2A/G4qjYj8diqNgPxuKo2I/HYqjYD8biqNiPx2Ko2A/G4qjYj8diqNgPxuKo2I/HYqjYD8biqNiPx2Ko2A/m3/F6ff73wvt7Oxsbm5WXuz1esfHx5UXp6enK8813W73Z6G7u7uVlZXKiycnJ4eHh5UX2wPbMysvtqFWnqu/+PDw8Lc4q6urXwq13CwvL1deXFhY2Nvbq7w4NTVVea7Z2Nj4Uej+/r59dFRevL29vbm5qbx4dXXVnll58fLysvLcp1wcj8f8q8pX/3lc/CMC/43i5KM4QITi5KM4QITi5KM4QITi5KM4QITi5KM4QITi5KM4QITi5KM4QITi5KM4QITi5KM4QITi5KM4QITi5KM4QITi5KM4QITi5KM4QITi5KM4QITi5KM4QITi5KM4QITi5KM4QITi5KM4QITi5KM4QITi5KM4QITi5KM4QITi5KM4QITi5KM4QITi5KM4QITi5KM4QITi5KM4QITi5KM4QITi5KM4QITi5KM4QITi5KM4QITi5KM4QITi5KM4QITi5KM4QITi5KM4QITi5KM4QKTT7/e/Fdrd3d3a2qq8uLS0NBqNKi/Ozc1VnmuOjo4+e0jAh3Qmk8mvQq+vry8vL5UXn5+fx+Nx5cWnp6fKc83b29tnDwn4kD8f75fC6yvzlgAAAABJRU5ErkJggg==\"></div>"
      ],
      "text/plain": [
       "<IPython.core.display.HTML object>"
      ]
     },
     "metadata": {},
     "output_type": "display_data"
    },
    {
     "data": {
      "text/html": [
       "<div style=\"background-color:#e0e0e0;margin:0;padding:10px;\"><img src=\"data:image/png;base64,iVBORw0KGgoAAAANSUhEUgAAAS8AAABNCAIAAAB493VqAAAACXBIWXMAAA7EAAAOxAGVKw4bAAADYklEQVR4nO3WMUqjURiFYTehIEZMBCFpbCKmEEyhYCEEAwlYCAELTRphmkk625lelyDC1BaBKQNZgZEEY5FlWM38izjnEz7fdwOHC/e53LVGo/EzsNPT06Ojo8jFarV6dXUVuVgqlSLnira3tyPn+v1+pVKJXIy/NuVyeTAYRC6enZ2tDYfDf4E9Pj7e399HLl5eXk6n08jF4oGLnItfXK1WxdWJXIy/NsUBi2NGLhYS0agPjfLQaAmNCRbR6AiNltAoD42W0JhgEY2O0GgJjfLQaAmNCRbR6AiNltAoD42W0JhgEY2O0GgJjfLQaAmNCRbR6AiNltAoD42W0JhgEY2O0GgJjfLQaAmNCRbR6AiNltAoD42W0JhgEY2O0GgJjfLQaAmNCRbR6AiNltAoD42W0JhgEY2O0GgJjfLQaAmNCRbR6AiNltAoD42W0JhgEY2O0GgJjfLQaAmNCRbR6AiNltAoD42W0JhgEY2O0GgJjfLQaAmNCRbR6AiNltAoD42W0JhgEY2O0GgJjfLQaAmNCRbR6AiNltAo77tobDabvwM7Pz8/Pj6OXKzVajc3N5GLm5ubkXPxi8W9qVQqkYsXFxfdbvdvYAcHB09PT5GLvV5v7fDw8EdgBcV6vR65uLu72+l0IhfX19cj54o2NjYi566vr7e2tiIX2+323d3dn8AeHh6en58jF8fjMT9VffxU5U0mk5eXl8jFLwmN+tAoD42W0JhgEY2m0KgPjfLQaAmNCRbRaAqN+tAoD42W0JhgEY2m0KgPjfLQaAmNCRbRaAqN+tAoD42W0JhgEY2m0KgPjfLQaAmNCRbRaAqN+tAoD42W0JhgEY2m0KgPjfLQaAmNCRbRaAqN+tAoD42W0JhgEY2m0KgPjfLQaAmNCRbRaAqN+tAoD42W0JhgEY2m0KgPjfLQaAmNCRbRaAqN+tAoD42W0JhgEY2m0KgPjfLQaAmNCRbRaAqN+tAoD42W0JhgEY2m0KgPjfLQaAmNCRbRaAqN+tAoD42W0JhgEY2m0KgPjfK+i8Zms/krsFardXJyErm4v78/GAwiF3d2diLnisrlcuTcaDTa29uLXLy9vf0WGot37iOwxWIxn88jF9/e3t7f3yMXX19fI+fiF5fL5Ww2i1ws+vz8/Gos9v4DcWJbXqBeM28AAAAASUVORK5CYII=\"></div>"
      ],
      "text/plain": [
       "<IPython.core.display.HTML object>"
      ]
     },
     "metadata": {},
     "output_type": "display_data"
    },
    {
     "data": {
      "text/html": [
       "<div style=\"background-color:#e0e0e0;margin:0;padding:10px;\"><img src=\"data:image/png;base64,iVBORw0KGgoAAAANSUhEUgAAAXsAAAByCAIAAAA9JOYgAAAACXBIWXMAAA7EAAAOxAGVKw4bAAAD10lEQVR4nO3XrUq9eRSGYU9DEUGxaBFUFDeiBsEBg9UPxPSPCmMxGmXAIPiRBJMIk+wTpnkENoMY7J7BzBamTlyPsLiuE1j8Xh5u9h6Zm5v7FTQYDObn55MXp6amdnZ2khdHR0eT54bGxsaS5/b29sbHx5MX87MZPnB/fz95sf1sjo6OLi4uRs7Ozv4Jur29PT8/T17c3d19eXlJXlxeXk6ey1/8+PjY2tpKXszPZvjA4TOTF9vP5uvrS3FKtJ+O4lRoPxvFqdJ+OopTof1sFKdK++koToX2s1GcKu2nozgV2s9Gcaq0n47iVGg/G8Wp0n46ilOh/WwUp0r76ShOhfazUZwq7aejOBXaz0ZxqrSfjuJUaD8bxanSfjqKU6H9bBSnSvvpKE6F9rNRnCrtp6M4FdrPRnGqtJ+O4lRoPxvFqdJ+OopTof1sFKdK++koToX2s1GcKu2nozgV2s9Gcaq0n47iVGg/G8Wp0n46ilOh/WwUp0r76ShOhfazUZwq7aejOBXaz0ZxqrSfjuJUaD8bxanSfjqKU6H9bBSnSvvpKE6F9rNRnCrtp6M4FdrPRnGqtJ+O4lRoPxvFqdJ+OopTof1sFKdK++koToX2s1GcKu2nozgV2s9Gcaq0n47iVGg/G8Wp0n46ilOh/WwUp0r76ShOhfazUZwq7aejOBXaz0ZxqrSfjuJUaD8bxanSfjqKU6H9bBSnSvvpKE6F9rP5rzjr6+t/BG1vb6+trSUvzs3NXV5e/hU0MzOTPJe/+Pj4uLi4mLx4fHx8eHiYvDh84PCZyYvtZ/P8/PxdnKWlpd+DhrlZWFhIXhwMBldXV38GXV9fJ8/lLz49PQ1/dCQvPjw83N/fJy/e3NwMn5m82H42Q29vb/3/Vd3d3YV/HgP/R3GAHMUBchQHyFEcIEdxgBzFAXIUB8hRHCBHcYAcxQFyFAfIURwgR3GAHMUBchQHyFEcIEdxgBzFAXIUB8hRHCBHcYAcxQFyFAfIURwgR3GAHMUBchQHyFEcIEdxgBzFAXIUB8hRHCBHcYAcxQFyFAfIGZmcnPwtaHp6emJiInlxdnb29fX1p78z8G3k4ODg76CTk5PDw8PkxdPT0/f395/+zsA3/6qAHMUBchQHyFEcIEdxgBzFAXIUB8hRHCBHcYAcxQFyFAfIURwgR3GAHMUBchQHyFEcIEdxgBzFAXIUB8hRHCBHcYAcxQFyFAfIURwgR3GAHMUBchQHyFEcIEdxgBzFAXIUB8hRHCBHcYAcxQFyFAfIURwgZ2R1dfVX0MbGxsrKSvLi5ubm5+fnT39n4Nu/ggXubfQzWScAAAAASUVORK5CYII=\"></div>"
      ],
      "text/plain": [
       "<IPython.core.display.HTML object>"
      ]
     },
     "metadata": {},
     "output_type": "display_data"
    },
    {
     "data": {
      "text/html": [
       "<div style=\"background-color:#e0e0e0;margin:0;padding:10px;\"><img src=\"data:image/png;base64,iVBORw0KGgoAAAANSUhEUgAAAOQAAAByCAIAAADMCuqEAAAACXBIWXMAAA7EAAAOxAGVKw4bAAADRklEQVR4nO3WMUpjcRSF8WxCMSqJCbFIFTBgiEi0EByQYCMSERvFhBQKUyVd2pkF6A7cgf0QBFegXaawcBFWM09wCefc4Q7fbwMHHh//d0utVus60M7OztbWVuRivV4/Pj6OXCyXy5FzhdXV1ci5s7Oz9fX1yMV+v//4+FiaTCZ/At3d3c1ms8jFwWDw/PwcudjpdCLn4hff3t4ODw8jF5+enojVgljliNWFWOWI1YVY5YjVhVjliNWFWOWI1YVY5YjVhVjliNWFWOWI1YVY5YjVhVjliNWFWOWI1YVY5YjVhVjliNWFWOWI1YVY5YjVhVjliNWFWOWI1YVY5YjVhVjliNWFWOWI1YVY5YjVhVjliNWFWOWI1YVY5YjVhVjliNWFWOWI1YVY5YjVhVjliNWFWOWI1YVY5YjVhVjliNWFWOWI1YVY5YjVhVjliNWFWOW+Yt3b2/sZ6OjoqNfrRS42m83hcBi5WC6XI+fiF4sHrlarRS6Ox+OHh4fS9vb290BFqe12O3KxXq+fnJxELi4tLUXOFZaXlyPnLi8v19bWIhdPT08/Y+UMkOMMkONmdSFWOWJ1IVY5YnUhVjlidSFWOWJ1IVY5YnUhVjlidSFWOWJ1IVY5YnUhVjlidSFWOWJ1IVY5YnUhVjlidSFWOWJ1IVY5YnUhVjlidSFWOWJ1IVY5YnUhVjlidSFWOWJ1IVY5YnUhVjlidSFWOWJ1IVY5YnUhVjlidSFWOWJ1IVY5YnUhVjlidSFWOWJ1IVY5YnUhVjlidSFWOWJ1IVY5YnUhVjlidSFWOWJ1IVa5r1hrtdq3QI1Go1KpRC6urKxcXV39CFStViPnChsbG5Fz0+l0c3MzcnE0Gn3Gen5+/ivQ7e3txcVF5OLNzc18Pv8d6OXlJXIufnGxWLy+vkYuFj4+Pv7/M+D+/r74bUUuwoRYkQaxIg1iRRrEijSIFWkQK9IgVqRBrEiDWJEGsSINYkUaxIo0iBVpECvSIFakQaxIg1iRBrEiDWJFGsSKNIgVaRAr0iBWpEGsSINYkQaxIg1iRRrEijSIFWkQK9IgVqRBrEiDWJEGsSINYkUapd3d3etA+/v73W43cvHg4OD9/f1ff2cI/AUHoU5nBu0CUwAAAABJRU5ErkJggg==\"></div>"
      ],
      "text/plain": [
       "<IPython.core.display.HTML object>"
      ]
     },
     "metadata": {},
     "output_type": "display_data"
    },
    {
     "data": {
      "text/html": [
       "<div style=\"background-color:#e0e0e0;margin:0;padding:10px;\"><img src=\"data:image/png;base64,iVBORw0KGgoAAAANSUhEUgAAAJgAAADkCAIAAADrQHrMAAAACXBIWXMAAA7EAAAOxAGVKw4bAAADlklEQVR4nO3cPUpjcRhG8bsFwQ8iIioWo01AIUIKbQcsLBVMysEiKIyNnYLdgIUgWgn2Im7AYjpdgKknuArLmSxinjdwPL8NPPAe7r+8Tbvd/lGo2+1ubGxULq6srOzt7VUutlqtyrmxXq/XnJ2d/S10e3t7cXFRuXhwcPD6+lq5uLW1VTk3No5oyP/PkBGGjDBkgiEjDBlhyAhDJhgywpARhowwZIIhIwwZYcgIQyYYMsKQEYaMMGSCISMMGWHICEMmGDLCkBGGjDBkgiEjDBlhyAhDJhgywpARhowwZIIhIwwZYcgIQyYYMsKQEYaMMGSCISMMGfFVQu7s7PwqtLu7u729XbnYbrevrq5eCq2trVXOjQ0Gg6bT6fwsNK64ublZudjtdq+vrx8L3dzcVM6Nvb298Z/Wu7u7j4+PysWJMCSEISEMCWFICENCGBLCkBCGhDAkhCEhDAlhSAhDQhgSwpAQhoQwJIQhIQwJYUgIQ0IYEsKQEIaEMCSEISEMCWFICENCGBLCkBCGhDAkhCEhDAnRLC8vfy+0urq6uLhYubi+vj4cDid957jm8PDwd6GTk5N+v1+5eHp6OhqNJn3nOJ9WCENCGBLCkBCGhDAkhCEhDAlhSAhDQhgSwpAQhoQwJIQhIQwJYUgIQ0IYEsKQEIaEMCSEISEMCWFICENCGBLCkBCGhDAkhCEhDAlhSAhDQhgSwpAQzczMzLdC09PTU1NTlYutVuv9/X3Sd47zi4QwJIQhIQwJYUgIQ0IYEsKQEIaEMCSEISEMCWFICENCGBLCkBCGhDAkhCEhDAlhSAhDQhgSwpAQhoQwJIQhIQwJYUgIQ0IYEsKQEIaEMCSEISEMCWFIiGZ2drbyHxv+1SPELxLCkBCGhDAkhCEhDAlhSAhDQhgSwpAQhoQwJIQhIQwJYUgIQ0IYEsKQEIaEMCSEISEMCWFICENCGBLCkBCGhDAkhCEhDAlhSAhDQhgSwpAQhoQwJERzdHT0p9D5+flgMKhcvLy8HI1Gk75zXDM/P98ptLCwMDc3V7m4tLQ0HA4nfec4n1YIQ0IYEsKQEIaEMCSEISEMCWFICENCGBLCkBCGhDAkhCEhDAlhSAhDQhgSwpAQhoQwJIQhIQwJYUgIQ0IYEsKQEIaEMCSEISEMCWFICENCGBLCkBDN/v7+S6Hj4+N+v1+8+CVCPj8/PxZ6eHi4v7+vXHx6evr8/Jz0neP+AcdykL9KvGgeAAAAAElFTkSuQmCC\"></div>"
      ],
      "text/plain": [
       "<IPython.core.display.HTML object>"
      ]
     },
     "metadata": {},
     "output_type": "display_data"
    },
    {
     "data": {
      "text/html": [
       "<div style=\"background-color:#e0e0e0;margin:0;padding:10px;\"><img src=\"data:image/png;base64,iVBORw0KGgoAAAANSUhEUgAAAS8AAACYCAIAAAA6BPj2AAAACXBIWXMAAA7EAAAOxAGVKw4bAAAD2UlEQVR4nO3WP0pmZxjG4W8LwlgMqIxgoTYWigMK2ghGBFtHVKwCWijEIlNaBywE/1SClQhZgZAinRvQXqxdRPLtQAjneb05ua4N3Lwv53fOGXz//v33htbW1paXl1suTk9P7+3ttVwcGxtrOTc0Pj7ecu7w8HBycrLlYvvH5tu3b0dHRy0X19fXBz9//vynoevr67Ozs5aLP378eHp6ark4fMG1nGu/+Pb2Nnx0Wi62f2yGBxwes+XisEQ1dk+NnVNjCTX2YFGNFdRYQo2dU2MJNfZgUY0V1FhCjZ1TYwk19mBRjRXUWEKNnVNjCTX2YFGNFdRYQo2dU2MJNfZgUY0V1FhCjZ1TYwk19mBRjRXUWEKNnVNjCTX2YFGNFdRYQo2dU2MJNfZgUY0V1FhCjZ1TYwk19mBRjRXUWEKNnVNjCTX2YFGNFdRYQo2dU2MJNfZgUY0V1FhCjZ1TYwk19mBRjRXUWEKNnVNjCTX2YFGNFdRYQo2dU2MJNfZgUY0V1FhCjZ1TYwk19mBRjRXUWEKNnVNjCTX2YFGNFdRYQo2dU2MJNfZgUY0V1FhCjZ37v9S4urr6R0Obm5srKystF+fm5s7Pz/9qaGZmpuVc+8X7+/uFhYWWi8fHx/v7+y0XhwccHrPl4sHBwWBxcfG3hoYpzs/Pt1xcWlq6uLj4s6HLy8uWc+0XHx4ehh+rlot3d3e3t7ctF6+urobHbLn4+PjY/z/Vm5ubxr8c8N+oEVKoEVKoEVKoEVKoEVKoEVKoEVKoEVKoEVKoEVKoEVKoEVKoEVKoEVKoEVKoEVKoEVKoEVKoEVKoEVKoEVKoEVKoEVKoEVKoEVKoEVKoEVKoEVKoEVKoEVKoEVKoEVKoEVKoEVKoEVIMJicnf2loampqYmKi5eLs7OzLy8tn3zN8bLC7u/t3QycnJ/v7+y0XT09PX19fP/ue4WP+VCGFGiGFGiGFGiGFGiGFGiGFGiGFGiGFGiGFGiGFGiGFGiGFGiGFGiGFGiGFGiGFGiGFGiGFGiGFGiGFGiGFGiGFGiGFGiGFGiGFGiGFGiGFGiGFGiGFGiGFGiGFGiGFGiGFGiGFGiGFGiHFYHR0dLqhL1++jIyMtFz8+vXr8/PzZ98zfMy3EVKoEVKoEVKoEVKoEVKoEVKoEVKoEVKoEVKoEVKoEVKoEVKoEVKoEVKoEVKoEVKoEVKoEVKoEVKoEVKoEVKoEVKoEVKoEVKoEVKoEVKoEVKoEVKoEVKoEVKoEVKoEVKoEVKoEVKoEVKoEVKoEVIMtre3f21oa2trY2Oj5eLOzs77+/tn3zN87F8QFJMN08JVgQAAAABJRU5ErkJggg==\"></div>"
      ],
      "text/plain": [
       "<IPython.core.display.HTML object>"
      ]
     },
     "metadata": {},
     "output_type": "display_data"
    },
    {
     "data": {
      "text/html": [
       "<div style=\"background-color:#e0e0e0;margin:0;padding:10px;\"><img src=\"data:image/png;base64,iVBORw0KGgoAAAANSUhEUgAAAOQAAAByCAIAAADMCuqEAAAACXBIWXMAAA7EAAAOxAGVKw4bAAADbklEQVR4nO3WMUqjYRhF4SzATlJERMiPhWIhmKAoQWPlgIggKSJiqWgjTGVpPVWK4BJEmNpuiikE92HrJmb+gVnCuW+a82zgFt+B7+1sb2/fFDo4ONjZ2alcbJrm/Py8crHX61XOtVZWVirnLi8vV1dXKxfPzs7e3t46j4+Pfwo9Pz8/PT1VLk6n04+Pj8rFvb29yrn6xc/Pz5OTk8rF9/d3Y40wVpyxphgrzlhTjBVnrCnGijPWFGPFGWuKseKMNcVYccaaYqw4Y00xVpyxphgrzlhTjBVnrCnGijPWFGPFGWuKseKMNcVYccaaYqw4Y00xVpyxphgrzlhTjBVnrCnGijPWFGPFGWuKseKMNcVYccaaYqw4Y00xVpyxphgrzlhTjBVnrCnGijPWFGPFGWuKseKMNcVYccaaYqw4Y00xVpyxphgrzlhTjBX3P9ajo6MfhU5PTw8PDysXNzc3b29vKxd7vV7lXKvf7/8q9PLyMhwOKxdns9m/WHd3d78XaksdDAaVi03TTCaTysVut1s51xqNRj8Lvb6+tj9k5WLr6+vLM4BXfwYUP+KiGCvPWEOMlWesIcbKM9YQY+UZa4ix8ow1xFh5xhpirDxjDTFWnrGGGCvPWEOMlWesIcbKM9YQY+UZa4ix8ow1xFh5xhpirDxjDTFWnrGGGCvPWEOMlWesIcbKM9YQY+UZa4ix8ow1xFh5xhpirDxjDTFWnrGGGCvPWEOMlWesIcbKM9YQY+UZa4ix8ow1xFh5xhpirDxjDTFWnrGGGCvPWEOMlWesIcbKM9aQTr/f/1ZofX19bW2tcnF5eXk4HFYuLi0tVc61jo+PFx1Shc7V1dXvQg8PD9fX15WL4/F4Pp9XLm5sbFTOte7u7hYdUgXPAJ5nQIix8ow1xFh5xhpirDxjDTFWnrGGGCvPWEOMlWesIcbKM9YQY+UZa4ix8ow1xFh5xhpirDxjDTFWnrGGGCvPWEOMlWesIcbKM9YQY+UZa4ix8ow1xFh5xhpirDxjDTFWnrGGGCvPWEOMlWesIcbKM9YQY+UZa4ix8ow1xFh5xhpirDxjDTFWnrGGGCvPWEOMlWesIcbKM9YQY+UZa4ix8ow1xFh5xhpirDxjDemMRqObQuPxeH9/v3Jxa2vr4uKicrFpmsq51v39/aJDqvAXJsVThkPNfR8AAAAASUVORK5CYII=\"></div>"
      ],
      "text/plain": [
       "<IPython.core.display.HTML object>"
      ]
     },
     "metadata": {},
     "output_type": "display_data"
    },
    {
     "data": {
      "text/html": [
       "<div style=\"background-color:#e0e0e0;margin:0;padding:10px;\"><img src=\"data:image/png;base64,iVBORw0KGgoAAAANSUhEUgAAAJgAAACYCAIAAACXoLd2AAAACXBIWXMAAA7EAAAOxAGVKw4bAAAC30lEQVR4nO3cMUpjURhH8SxAEEleEQiCweKlNmgRSCKkmPAgIEiiqFiNJE1gmklpPbXodqbLPlJnETPPPeR8wuf5beAP73Dv7V7j6urqd6DJZDIYDCIXy7J8fHyMXOx0OpFztefn58Zms/kX6P39/fX1NXLx7u5uu91GLtZnI3KuVkc05OEZEmFIhCEJhkQYEmFIhCEJhkQYEmFIhCEJhkQYEmFIhCEJhkQYEmFIhCEJhkQYEmFIhCEJhkQYEmFIhCEJhkQYEmFIhCEJhkQYEmFIhCEJhkQYEmFIhCEJhkQYEmFIhCEJhkQYEvFdQo5Goz+BqqoaDoeRi71e7+XlJXKx3W5HztXm83nj8vLyV6C64sXFReRit9u9vb2NXCyKInKudnNz49V6eL6RCEMiDEkwJMKQCEMiDEkwJMKQCEMiDEkwJMKQCEMiDEkwJMKQCEMiDEkwJMKQCEMiDEkwJMKQCEMiDEkwJMKQCEMiDEkwJMKQCEMiDEkwJMKQCEMiDEkwJMKQCEMiDEkwJMKQCEMiDEn4DHl2dvYj0Pn5+enpaeRis9ns9/uRi0dHR5Fztevr68bDw8PfQOv1+unpKXJxPB6/vb1FLpZlGTlXWy6XXq2H5xuJMCTCkARDIgyJMCTCkARDIgyJMCTCkARDIgyJMCTCkARDIgyJMCTCkARDIgyJMCTCkARDIgyJMCTCkARDIgyJMCTCkARDIgyJMCTCkARDIgyJMCTCkARDIgyJMCTCkARDIgyJMCTCkITPkEVRlIFardbJyUnk4vHxcVVVPwN1u93Iudpqtcp/Ij8+Pna7XeTilzBkEoZMwpBJGDIJQyZhyCQMmYQhkzBkEoZMwpBJGDIJQyZhyCQMmYQhkzBkEoZMwpBJGDIJQyZhyCQMmYQhkzBkEoZMwpBJGDIJQyZhyCQMmYQhkzBkEoZMwpBJGDKJxmKxiPz/xGw2m06nkYv39/f7/f6rvzPuPzpE4ennpe2rAAAAAElFTkSuQmCC\"></div>"
      ],
      "text/plain": [
       "<IPython.core.display.HTML object>"
      ]
     },
     "metadata": {},
     "output_type": "display_data"
    },
    {
     "data": {
      "text/html": [
       "<div style=\"background-color:#e0e0e0;margin:0;padding:10px;\"><img src=\"data:image/png;base64,iVBORw0KGgoAAAANSUhEUgAAAS8AAAByCAIAAACN28ASAAAACXBIWXMAAA7EAAAOxAGVKw4bAAADxElEQVR4nO3WPUq1RxjHYTchqMgrio2VoKIoBz9AMGBhY+EHB0F57Y6QytI26dVKsBIhKxBSBBtXYJvCwspFJM8OAsN9j8OT69rAnzlnfjwztri4+LOijY2NpaWlmotzc3MHBwc1FycnJ2vOdaampmrOHR8fT09P11ysf226A56cnNRc3NnZGbu+vv6noru7u5ubm5qLR0dHb29vNRfX1tZqztVf/Pj42Nvbq7lY/9p0B+yOWXOxK1GN8dQYTo0p1NiDRTVmUGMKNYZTYwo19mBRjRnUmEKN4dSYQo09WFRjBjWmUGM4NaZQYw8W1ZhBjSnUGE6NKdTYg0U1ZlBjCjWGU2MKNfZgUY0Z1JhCjeHUmEKNPVhUYwY1plBjODWmUGMPFtWYQY0p1BhOjSnU2INFNWZQYwo1hlNjCjX2YFGNGdSYQo3h1JhCjT1YVGMGNaZQYzg1plBjDxbVmEGNKdQYTo0p1NiDRTVmUGMKNYZTYwo19mBRjRnUmEKN4dSYQo09WFRjBjWmUGM4NaZQYw8W1ZhBjSnUGE6NKdTYg0U1ZlBjCjWG+7/UuLW19XtF+/v7m5ubNRcXFhYuLy9rLk5OTtac68zOzv5Z0dPT08rKSs3F0Wg0HA5rLnYH7I5Zc/Hs7GxsdXX114q6FJeXl2suzs3NHR4e1lwcHx+vOdcZDAZ/VPT8/Nx9rGouPj4+Pjw81Fy8vb3tjllz8eXlxUs1Xv2XauU/kSRqjKdGyqgxnhopo8Z4aqSMGuOpkTJqjKdGyqgxnhopo8Z4aqSMGuOpkTJqjKdGyqgxnhopo8Z4aqSMGuOpkTJqjKdGyqgxnhopo8Z4aqSMGuOpkTJqjKdGyqgxnhopo8Z4aqSMGuOpkTJqjKdGyqgxnhopo8Z4aqSMGuOpkTJqjKdGyqgxnhopo8Z4aqSMGuOpkTJqjKdGyqgxnhopo8Z4aqSMGuOpkTJqjKdGyqgxnhopo8Z4aqTM2Ozs7C8Vzc/P//jxo+bixMTExcXFbxXNzMzUnOucn59/90UiwNjp6elfFV1dXQ2Hw5qLo9Ho9fX174re399rznW+vr6++yIRoP8v1fv7+4+Pj5qLUEaN0Ao1QivUCK1QI7RCjdAKNUIr1AitUCO0Qo3QCjVCK9QIrVAjtEKN0Ao1QivUCK1QI7RCjdAKNUIr1AitUCO0Qo3QCjVCK9QIrVAjtEKN0Ao1QivUCK1QI7RCjdAKNUIr1AitUCO0Qo3QCjVCK9QIrRgbDAY/K9re3l5fX6+5uLu7+/n5+d2/M/y3fwGiGebgHkBJoAAAAABJRU5ErkJggg==\"></div>"
      ],
      "text/plain": [
       "<IPython.core.display.HTML object>"
      ]
     },
     "metadata": {},
     "output_type": "display_data"
    },
    {
     "data": {
      "text/html": [
       "<div style=\"background-color:#e0e0e0;margin:0;padding:10px;\"><img src=\"data:image/png;base64,iVBORw0KGgoAAAANSUhEUgAAAOQAAAC+CAIAAACqIDRLAAAACXBIWXMAAA7EAAAOxAGVKw4bAAAD1UlEQVR4nO3dPUplSQCG4bsFQQVBhQsGamKgKChoIjjgBsSfVDRRxuAqJsaDFxREdyDCxGYTTCC4Ac3F1KDBFXTfhl5BU1XyNc+zgQ+K95xT2eksLS31GlpfX19ZWWm5OD09vbu723JxfHy85dzAxMREy7mDg4Nut9tycXt7+/HxsXN6evq9odvb24uLi5aLW1tbz8/PLRcHz3/LufaL7+/vGxsbLRefnp7EWoVYixNrLWItTqy1iLU4sdYi1uLEWotYixNrLWItTqy1iLU4sdYi1uLEWotYixNrLWItTqy1iLU4sdYi1uLEWotYixNrLWItTqy1iLU4sdYi1uLEWotYixNrLWItTqy1iLU4sdYi1uLEWotYixNrLWItTqy1iLU4sdYi1uLEWotYixNrLWItTqy1iLU4sdYi1uLEWotYixNrLWItTqy1iLU4sdYi1uLEWotYixNrLWItTqy1iLW4X7Gura3909Dm5ubq6mrLxbm5uX6//19DMzMzLefaL97f3y8sLLRcvLq6+hnr4uLi3w0NSp2fn2+5uLy8fH19/W9DNzc3LefaLz48PAy+kC0XBz4+Pv78a8Dd3d3gs9VykUrESgyxEkOsxBArMcRKDLESQ6zEECsxxEoMsRJDrMQQKzHESgyxEkOsxBArMcRKDLESQ6zEECsxxEoMsRJDrMQQKzHESgyxEkOsxBArMcRKDLESQ6zEECsxxEoMsRJDrMTodLvdvxqampqanJxsuTg7O/v6+vrV50wBnZ2dnf8bOjo62tvba7l4cnLy9vb21edMAa4BxBArMcRKDLESQ6zEECsxxEoMsRJDrMQQKzHESgyxEkOsxBArMcRKDLESQ6zEECsxxEoMsRJDrMQQKzHESgyxEkOsxBArMcRKDLESQ6zEECsxxEoMsRJDrMQQKzHESgyxEqMzMjIy3dDw8PDQ0FDLxbGxsZeXl68+ZwrwZiWGWIkhVmKIlRhiJYZYiSFWYoiVGGIlhliJIVZiiJUYYiWGWIkhVmKIlRhiJYZYiSFWYoiVGGIlhliJIVZiiJUYYiWGWIkhVmKIlRhiJYZYiSFWYoiVGGIlhliJIVZiiJUYYiVGZ3R0tOW/U/ythd/mzUoMsRJDrMQQKzHESgyxEkOsxBArMcRKDLESQ6zEECsxxEoMsRJDrMQQKzHESgyxEkOsxBArMcRKDLESQ6zEECsxxEoMsRJDrMQQKzHESgyxEkOsxBArMcRKDLESQ6zEECsxOsfHx98aury87PV6LRf7/b5Y/wyd8/PzXkOHh4f7+/stF8/Ozj4/P7/6nCngB+Mpy6bPSR2YAAAAAElFTkSuQmCC\"></div>"
      ],
      "text/plain": [
       "<IPython.core.display.HTML object>"
      ]
     },
     "metadata": {},
     "output_type": "display_data"
    },
    {
     "data": {
      "text/html": [
       "<div style=\"background-color:#e0e0e0;margin:0;padding:10px;\"><img src=\"data:image/png;base64,iVBORw0KGgoAAAANSUhEUgAAAJgAAAC+CAIAAABGVVFdAAAACXBIWXMAAA7EAAAOxAGVKw4bAAADPklEQVR4nO3cMUpjURxG8bcFwYgBURSLWAuxEGJjMWAliAgqAYVAChOmiWJjO4O2up3Bxg1oO4W1MOAKZt7swe8vHM9vAx+8w72vu83W1tas0O7u7vb2duVir9c7OTmpXFxaWqqcaw2Hw+by8vJvofv7+5ubm8rFo6Ojp6enysX2bFTOtdqIhvx4howwZIQhEwwZYcgIQ0YYMsGQEYaMMGSEIRMMGWHICENGGDLBkBGGjDBkhCETDBlhyAhDRhgywZARhowwZIQhEwwZYcgIQ0YYMsGQEYaMMGSEIRMMGWHICENGGDLBkBGGjDBkhCETDBlhyIivEnJnZ+dnob29vcFgULm4sbExGo0qF7vdbuVc6/DwsOn3+98LtRU3NzcrF9fW1g4ODioXO51O5Vxrf3/fq/Xj+Y+MMGSEIRMMGWHICENGGDLBkBGGjDBkhCETDBlhyAhDRhgywZARhowwZIQhEwwZYcgIQ0YYMsGQEYaMMGSEIRMMGWHICENGGDLBkBGGjDBkhCETDBlhyAhDRhgywZARhowwZIQhEwwZYcgIQ0YYMuF/yNXV1W+F1tfXl5eXKxcXFxfPz89/FFpZWamca52dnTXHx8e/Ck0mk9PT08rFi4uLx8fH34VeXl4q51pvb2/8q/Xh4eH19bVy8VMYEsKQEIaEMCSEISEMCWFICENCGBLCkBCGhDAkhCEhDAlhSAhDQhgSwpAQhoQwJIQhIQwJYUgIQ0IYEsKQEIaEMCSEISEMCWFICENCGBLCkBCGhGg6nU6v0Pz8/NzcXOVit9t9fn7+7O8c54mEMCSEISEMCWFICENCGBLCkBCGhDAkhCEhDAlhSAhDQhgSwpAQhoQwJIQhIQwJYUgIQ0IYEsKQEIaEMCSEISEMCWFICENCGBLCkBCGhDAkhCEhDAlhSIhmYWGh8o0NX/UI8URCGBLCkBCGhDAkhCEhDAlhSAhDQhgSwpAQhoQwJIQhIQwJYUgIQ0IYEsKQEIaEMCSEISEMCWFICENCGBLCkBCGhDAkhCEhDAlhSAhDQhgSwpAQhoRoptPpn0K3t7ez2axy8e7u7kuEvL6+nhUaj8ej0ahy8erq6v39/bO/c9w/F/ZKxK4uHSMAAAAASUVORK5CYII=\"></div>"
      ],
      "text/plain": [
       "<IPython.core.display.HTML object>"
      ]
     },
     "metadata": {},
     "output_type": "display_data"
    },
    {
     "data": {
      "text/html": [
       "<div style=\"background-color:#e0e0e0;margin:0;padding:10px;\"><img src=\"data:image/png;base64,iVBORw0KGgoAAAANSUhEUgAAAOQAAACYCAIAAAB71dJgAAAACXBIWXMAAA7EAAAOxAGVKw4bAAADwUlEQVR4nO3WvUpcbRiF4TkFwQEH/GGLxVgrWijaCH4iWAn+N0rERiFNLG2TykrPQISvtksRRPAEtE0xrXMQyQ7kENZ6hhXu6wQWvPvee7+d5eXlL4U2NjZWVlYqF/v9/vHxceXi5ORk5Vxramqqcu7i4qJpmsrFw8PDp6enzvX19a9Cd3d3Nzc3lYv7+/uvr6+Vi+37XzlXvzgYDDY3NysXX15eiNWCWOWI1YVY5YjVhVjliNWFWOWI1YVY5YjVhVjliNWFWOWI1YVY5YjVhVjliNWFWOWI1YVY5YjVhVjliNWFWOWI1YVY5YjVhVjliNWFWOWI1YVY5YjVhVjliNWFWOWI1YVY5YjVhVjliNWFWOWI1YVY5YjVhVjliNWFWOWI1YVY5YjVhVjliNWFWOWI1YVY5YjVhVjliNWFWOWI1YVY5YjVhVjliNWFWOWI1YVY5f7Gur6+/q3Q9vb22tpa5eL8/Pz5+XnlYq/Xq5xrNU3zvdDDw8Pi4mLl4u3t7Z9Yl5aWPhdqS11YWKhcnJ2d3d3drVzsdruVc63V1dX/Cz0+PrZ/yMrF1sfHB9cAvfprQPFDHBVi1SNWE2LVI1YTYtUjVhNi1SNWE2LVI1YTYtUjVhNi1SNWE2LVI1YTYtUjVhNi1SNWE2LVI1YTYtUjVhNi1SNWE2LVI1YTYtUjVhNi1SNWE2LVI1YTYtUjVhNi1SNWE2LVI1YTYtUjVhNi1SNWE2LVI1YTYtUjVhNi1SNWE2LVI1YTYtUjVhNi1SNWE2LVI1YTYtUjVhNi1SNWE2LVI1YTYtUjVhNi1SNWE2LVI1aTTtM0/xWam5ubnp6uXJyYmDg7O/taaGZmpnKudXp6OuqQKnSOjo5+FLq6ujo5OalcvLy8fH5+/lno/f29cq41HA5HHVKFf/8acH9/PxgMKhdhQqyIQayIQayIQayIQayIQayIQayIQayIQayIQayIQayIQayIQayIQayIQayIQayIQayIQayIQayIQayIQayIQayIQayIQayIQayIQayIQayIQayIQayIQayIQayIQayIQayIQayIQayI0el2u/1C4+PjY2NjlYu9Xu/t7W3U5wwBvqyIQayIQayIQayIQayIQayIQayIQayIQayIQayIQayIQayIQayIQayIQayIQayIQayIQayIQayIQayIQayIQayIQayIQayIQayIQayIQayIQayIQayIQayIQayIQayIQayIQayIQayIQayIQayI0dnb2/tUaGdnZ2trq3Lx4OBgOByO+pwh8BuEBaDoFaOfMQAAAABJRU5ErkJggg==\"></div>"
      ],
      "text/plain": [
       "<IPython.core.display.HTML object>"
      ]
     },
     "metadata": {},
     "output_type": "display_data"
    },
    {
     "name": "stdout",
     "output_type": "stream",
     "text": [
      "partitions - Group degree: 14, factorization: 7 * 2 = 14\n"
     ]
    },
    {
     "data": {
      "text/html": [
       "<div style=\"background-color:#e0e0e0;margin:0;padding:10px;\"><img src=\"data:image/png;base64,iVBORw0KGgoAAAANSUhEUgAAAhIAAAAnCAIAAADVdzbfAAAACXBIWXMAAA7EAAAOxAGVKw4bAAAC8UlEQVR4nO3WsYmiURiF4SlEQTMnFwRNDEYsYSbQWA3EbCe0BlExEU0UYQMb2NzIJqaS3VvEOWfh+j4NHH75Lq9vvV7vV9DHx8dgMEgudjqdyWSSXGw0Gsm5otlsJufm83m73U4u5s+m1WotFovkYv5swov5s+n3+6PRKLmYP5vw2y9ms9nb9/f336D9fr9er5OLX19fj8cjuVhKnJzLL/78/IzH4+Ri/mzKB5bPTC5yNnLlZsrlJBdf4WxKMsiGHu9fjmxUsEg2HMiGBdmQIxsOnI0c2XAgGxa8fzmyUcEi2XAgGxZkQ45sOHA2cmTDgWxY8P7lyEYFi2TDgWxYkA05suHA2ciRDQeyYcH7lyMbFSySDQeyYUE25MiGA2cjRzYcyIYF71+ObFSwSDYcyIYF2ZAjGw6cjRzZcCAbFrx/ObJRwSLZcCAbFmRDjmw4cDZyZMOBbFjw/uXIRgWLZMOBbFiQDTmy4cDZyJENB7JhwfuXIxsVLJINB7JhQTbkyIYDZyNHNhzIhgXvX45sVLBINhzIhgXZkCMbDpyNHNlwIBsWvH85slHBItlwIBsWZEOObDhwNnJkw4FsWPD+5chGBYtkw4FsWJANObLhwNnIkQ0HsmHB+5cjGxUskg0HsmFBNuTIhgNnI0c2HMiGBe9fjmxUsEg2HMiGBdmQIxsOnI0c2XAgGxa8fzmyUcEi2XAgGxZkQ45sOHA2cmTDgWxY8P7lyEYFi2TDgWxYkA05suHA2ciRDQeyYcH7lyMbFSySDQeyYUE25MiGA2cjRzYcyIYF71+ObFSwSDYcyIYF2ZAjGw6cjRzZcCAbFrx/ObJRwSLZcPg/2fj8/PwTtFwup9NpcnE4HG42m+Ti+/t7ci6/eL1eu91ucjF/NuUDy2cmFzkbuXIz5XKSi69wNqvV6u1+v/8OOp/Px+MxuXg4HC6XS3Jxu90m5/KLt9ut/IlLLubPZrfblc9MLr7C2ZRfNblYbuZ0OiUXX+Fsns/nP1gjFo+BDMOIAAAAAElFTkSuQmCC\"></div>"
      ],
      "text/plain": [
       "<IPython.core.display.HTML object>"
      ]
     },
     "metadata": {},
     "output_type": "display_data"
    },
    {
     "data": {
      "text/html": [
       "<div style=\"background-color:#e0e0e0;margin:0;padding:10px;\"><img src=\"data:image/png;base64,iVBORw0KGgoAAAANSUhEUgAAAccAAABNCAIAAABcwjjvAAAACXBIWXMAAA7EAAAOxAGVKw4bAAADeElEQVR4nO3YPy71eRjGYQshoaNSEJIjcQpEIaFV0KgoFNOMUmkmUUj8qYRKJJNYwfTWQDERO9CLzPxmD/fzvAnXtYEn35Pb52BieXn590br6+srKyudF2dnZ/f29jovTk5Odp4bTE1NdZ47PDycmZnpvNg/m+np6aOjo86L/bNpvtg/m9FotLGx0XlxdXX14+Nj4uTk5N9G19fXp6ennRd3d3efn587Lw5fVJ3n+i++v79vbm52XuyfzfDA4ZmdF80mbtjMsJzOi2dnZ6pawo9HnKp+g4uqWkVVv8FFVa1gNnGqWkVV41S1gtnEqWoVVY1T1QpmE6eqVVQ1TlUrmE2cqlZR1ThVrWA2capaRVXjVLWC2cSpahVVjVPVCmYTp6pVVDVOVSuYTZyqVlHVOFWtYDZxqlpFVeNUtYLZxKlqFVWNU9UKZhOnqlVUNU5VK5hNnKpWUdU4Va1gNnGqWkVV41S1gtnEqWoVVY1T1QpmE6eqVVQ1TlUrmE2cqlZR1ThVrWA2capaRVXjVLWC2cSpahVVjVPVCmYTp6pVVDVOVSuYTZyqVlHVOFWtYDZxqlpFVeNUtYLZxKlqFVWNU9UKZhOnqlVUNU5VK5hNnKpWUdU4Va1gNnGqWkVV41S1gtnEqWoVVY1T1QpmE6eqVVQ1TlUrmE2cqlZR1ThVrWA2capaRVXjVLWC2cSpahVVjVPVCmYTp6pVVDVOVSuYTZyqVlHVOFWtYDZxqlpFVeNUtYLZxP2yqo7H4z8bbW1tra6udl6cn58/Pz//u9Hc3Fznuf6LDw8Pi4uLnRePj4/39/c7Lw4PHJ7ZedFs4obNDMvpvHhwcPB/VZeWln5rNCR1YWGh8+JoNLq4uPir0eXlZee5/ouPj4/DrwCdF+/v729vbzsvXl1dDc/svPgTZjN8qp0Xh83c3d11Xnx6evr8/Pz+/wG4ublp/lMO+MlUFSBJVQGSVBUgSVUBklQVIElVAZJUFSBJVQGSVBUgSVUBklQVIElVAZJUFSBJVQGSVBUgSVUBklQVIElVAZJUFSBJVQGSVBUgSVUBklQVIElVAZJUFSBJVQGSVBUgSVUBklQVIElVAZJUFSBJVQGSVBUgSVUBklQVIGliPB7/0Wh7e3ttba3z4s7OjqoCbSaG4vzT6PX19eXlpfPi29vb19fXr/6cgZ/iPzwvw99k3s5QAAAAAElFTkSuQmCC\"></div>"
      ],
      "text/plain": [
       "<IPython.core.display.HTML object>"
      ]
     },
     "metadata": {},
     "output_type": "display_data"
    },
    {
     "data": {
      "text/html": [
       "<div style=\"background-color:#e0e0e0;margin:0;padding:10px;\"><img src=\"data:image/png;base64,iVBORw0KGgoAAAANSUhEUgAAAXsAAABNCAIAAADICFNYAAAACXBIWXMAAA7EAAAOxAGVKw4bAAADx0lEQVR4nO3XoUrkYRSG8bkJg6DomJxiUTQoTlCYIJgMBi0GmQkiW9ZodDerTTCJsMm+3SsQUYYNky3ewe63sPWALOc9wsvzu4HDx7w8/Keztrb2tdD29vb6+nrlxcXFxYODg8qLMzMzleea2dnZynPD4bDb7VZerJ/N/Pz8aDSqvFg/m+KLp6enFxcXnbOzs9+Frq+vz8/PKy/u7+8/Pj5WXmwRrzxXf3EymQwGg8qL9bNpD2zPrLxoP5v393eKI2E/HYqjYD8biqNiPx2Ko2A/G4qjYj8diqNgPxuKo2I/HYqjYD8biqNiPx2Ko2A/G4qjYj8diqNgPxuKo2I/HYqjYD8biqNiPx2Ko2A/G4qjYj8diqNgPxuKo2I/HYqjYD8biqNiPx2Ko2A/G4qjYj8diqNgPxuKo2I/HYqjYD8biqNiPx2Ko2A/G4qjYj8diqNgPxuKo2I/HYqjYD8biqNiPx2Ko2A/G4qjYj8diqNgPxuKo2I/HYqjYD8biqNiPx2Ko2A/G4qjYj8diqNgPxuKo2I/HYqjYD8biqNiPx2Ko2A/G4qjYj8diqNgPxuKo2I/HYqjYD8biqNiPx2Ko2A/G4qjYj8diqNgPxuKo2I/HYqjYD8biqNiPx2Ko2A/G4qjYj8diqNgPxuKo2I/HYqjYD8biqNiPx2Ko2A/G4qjYj8diqNgPxuKo2I/HYqjYD8biqNiPx2Ko2A/m3/F6ff73wvt7Oxsbm5WXuz1esfHx5UXp6enK8813W73Z6G7u7uVlZXKiycnJ4eHh5UX2wPbMysvtqFWnqu/+PDw8Lc4q6urXwq13CwvL1deXFhY2Nvbq7w4NTVVea7Z2Nj4Uej+/r59dFRevL29vbm5qbx4dXXVnll58fLysvLcp1wcj8f8q8pX/3lc/CMC/43i5KM4QITi5KM4QITi5KM4QITi5KM4QITi5KM4QITi5KM4QITi5KM4QITi5KM4QITi5KM4QITi5KM4QITi5KM4QITi5KM4QITi5KM4QITi5KM4QITi5KM4QITi5KM4QITi5KM4QITi5KM4QITi5KM4QITi5KM4QITi5KM4QITi5KM4QITi5KM4QITi5KM4QITi5KM4QITi5KM4QITi5KM4QITi5KM4QITi5KM4QITi5KM4QITi5KM4QITi5KM4QITi5KM4QITi5KM4QITi5KM4QKTT7/e/Fdrd3d3a2qq8uLS0NBqNKi/Ozc1VnmuOjo4+e0jAh3Qmk8mvQq+vry8vL5UXn5+fx+Nx5cWnp6fKc83b29tnDwn4kD8f75fC6yvzlgAAAABJRU5ErkJggg==\"></div>"
      ],
      "text/plain": [
       "<IPython.core.display.HTML object>"
      ]
     },
     "metadata": {},
     "output_type": "display_data"
    },
    {
     "data": {
      "text/html": [
       "<div style=\"background-color:#e0e0e0;margin:0;padding:10px;\"><img src=\"data:image/png;base64,iVBORw0KGgoAAAANSUhEUgAAAS8AAABNCAIAAAB493VqAAAACXBIWXMAAA7EAAAOxAGVKw4bAAADYklEQVR4nO3WMUqjURiFYTehIEZMBCFpbCKmEEyhYCEEAwlYCAELTRphmkk625lelyDC1BaBKQNZgZEEY5FlWM38izjnEz7fdwOHC/e53LVGo/EzsNPT06Ojo8jFarV6dXUVuVgqlSLnira3tyPn+v1+pVKJXIy/NuVyeTAYRC6enZ2tDYfDf4E9Pj7e399HLl5eXk6n08jF4oGLnItfXK1WxdWJXIy/NsUBi2NGLhYS0agPjfLQaAmNCRbR6AiNltAoD42W0JhgEY2O0GgJjfLQaAmNCRbR6AiNltAoD42W0JhgEY2O0GgJjfLQaAmNCRbR6AiNltAoD42W0JhgEY2O0GgJjfLQaAmNCRbR6AiNltAoD42W0JhgEY2O0GgJjfLQaAmNCRbR6AiNltAoD42W0JhgEY2O0GgJjfLQaAmNCRbR6AiNltAoD42W0JhgEY2O0GgJjfLQaAmNCRbR6AiNltAoD42W0JhgEY2O0GgJjfLQaAmNCRbR6AiNltAoD42W0JhgEY2O0GgJjfLQaAmNCRbR6AiNltAo77tobDabvwM7Pz8/Pj6OXKzVajc3N5GLm5ubkXPxi8W9qVQqkYsXFxfdbvdvYAcHB09PT5GLvV5v7fDw8EdgBcV6vR65uLu72+l0IhfX19cj54o2NjYi566vr7e2tiIX2+323d3dn8AeHh6en58jF8fjMT9VffxU5U0mk5eXl8jFLwmN+tAoD42W0JhgEY2m0KgPjfLQaAmNCRbRaAqN+tAoD42W0JhgEY2m0KgPjfLQaAmNCRbRaAqN+tAoD42W0JhgEY2m0KgPjfLQaAmNCRbRaAqN+tAoD42W0JhgEY2m0KgPjfLQaAmNCRbRaAqN+tAoD42W0JhgEY2m0KgPjfLQaAmNCRbRaAqN+tAoD42W0JhgEY2m0KgPjfLQaAmNCRbRaAqN+tAoD42W0JhgEY2m0KgPjfLQaAmNCRbRaAqN+tAoD42W0JhgEY2m0KgPjfLQaAmNCRbRaAqN+tAoD42W0JhgEY2m0KgPjfK+i8Zms/krsFardXJyErm4v78/GAwiF3d2diLnisrlcuTcaDTa29uLXLy9vf0WGot37iOwxWIxn88jF9/e3t7f3yMXX19fI+fiF5fL5Ww2i1ws+vz8/Gos9v4DcWJbXqBeM28AAAAASUVORK5CYII=\"></div>"
      ],
      "text/plain": [
       "<IPython.core.display.HTML object>"
      ]
     },
     "metadata": {},
     "output_type": "display_data"
    },
    {
     "name": "stdout",
     "output_type": "stream",
     "text": [
      "partitions - Group degree: 15, factorization: 3 * 5 = 15\n"
     ]
    },
    {
     "data": {
      "text/html": [
       "<div style=\"background-color:#e0e0e0;margin:0;padding:10px;\"><img src=\"data:image/png;base64,iVBORw0KGgoAAAANSUhEUgAAAjgAAAAnCAIAAACNCKXGAAAACXBIWXMAAA7EAAAOxAGVKw4bAAADLUlEQVR4nO2WPWpCURBGsxAF7bQXBG0sFJeghfZa2GrpGsS/RrRRhBRuIL3bEFeS3ECW8M0EZs7ZwMdczuO8j3a7vXSk3+93u13PxUajMZlMPBcrlYrnXKFarXrOzWazer3uueivTa1Wm8/nnov+2jgv+mvT6XQGg4Hnor82zt/+8j+0ORwOH6vV6tuR/X6/Xq89F8fj8fP59Fws7fec8198v9/D4dBz0V+bcmA503MRbeQUZ4o5notoI6e8J6EyIYM6hEoO2sghVAEWCZUVGdQhVHLQRg6hCrBIqKzIoA6hkoM2cghVgEVCZUUGdQiVHLSRQ6gCLBIqKzKoQ6jkoI0cQhVgkVBZkUEdQiUHbeQQqgCLhMqKDOoQKjloI4dQBVgkVFZkUIdQyUEbOYQqwCKhsiKDOoRKDtrIIVQBFgmVFRnUIVRy0EYOoQqwSKisyKAOoZKDNnIIVYBFQmVFBnUIlRy0kUOoAiwSKisyqEOo5KCNHEIVYJFQWZFBHUIlB23kEKoAi4TKigzqECo5aCOHUAVYJFRWZFCHUMlBGzmEKsAiobIigzqESg7ayCFUARYJlRUZ1CFUctBGDqEKsEiorMigDqGSgzZyCFWARUJlRQZ1CJUctJFDqAIsEiorMqhDqOSgjRxCFWCRUFmRQR1CJQdt5BCqAIuEyooM6hAqOWgjh1AFWCRUVmRQh1DJQRs5hCrAIqGyIoM6hEoO2sghVAEWCZUVGdQhVHLQRg6hCrBIqKzIoA6hkoM2cghVgEVCZUUGdQiVHLSRQ6gCLBIqKzKoQ6jkoI0cQhVgkVBZkUEdQiUHbeQQqgCLhMqKDOoQKjloI4dQBVgkVFZkUIdQyUEbOYQqwCKhsiKDOoRKDtrIIVQBFgmVFRnUIVRy0EYOoQqwSKisyKAOoZKDNnIIVYDFv1CNRqMvRxaLxXQ69Vzs9XqbzcZzsdlses75L95ut1ar5bnor005sJzpuYg2coozxRzPRbSRU97zN1SPx+PTkcvlcjqdPBePx+P1evVc3G63nnP+i/f7vfyoei76a7Pb7cqZnosZtCmv6rlYnDmfz56LaGPB6/X6AfPHjM9FQtimAAAAAElFTkSuQmCC\"></div>"
      ],
      "text/plain": [
       "<IPython.core.display.HTML object>"
      ]
     },
     "metadata": {},
     "output_type": "display_data"
    },
    {
     "data": {
      "text/html": [
       "<div style=\"background-color:#e0e0e0;margin:0;padding:10px;\"><img src=\"data:image/png;base64,iVBORw0KGgoAAAANSUhEUgAAAewAAABNCAIAAADrf8DIAAAACXBIWXMAAA7EAAAOxAGVKw4bAAADt0lEQVR4nO3YPUqdURSG0TsQBe20slAUruAtVCwEb2uhlY0WFmliaZuAheBPJVqJkCnE2jFoEcSBSPJlDnvvcE7WmsDLJ2c/iY7W1ta+Ftra2lpfX69cXFhYODg4qFycmZmpnBvMzs5Wzh0fH8/Pz1cu1j+bubm5k5OTysX6Z1O8WP9sxuPx9vZ25WL9s5lOp6Ozs7PfhW5ubs7PzysX9/f3X15eKheHfxcr5+oXPz4+dnZ2Khfrn83wgcNnVi56NuGGNzO8nMrF+mczBFzE47nGcCLewaKIZxDxFK4xnIh3sCjiGUQ8hWsMJ+IdLIp4BhFP4RrDiXgHiyKeQcRTuMZwIt7BoohnEPEUrjGciHewKOIZRDyFawwn4h0singGEU/hGsOJeAeLIp5BxFO4xnAi3sGiiGcQ8RSuMZyId7Ao4hlEPIVrDCfiHSyKeAYRT+Eaw4l4B4sinkHEU7jGcCLewaKIZxDxFK4xnIh3sCjiGUQ8hWsMJ+IdLIp4BhFP4RrDiXgHiyKeQcRTuMZwIt7BoohnEPEUrjGciHewKOIZRDyFawwn4h0singGEU/hGsOJeAeLIp5BxFO4xnAi3sGiiGcQ8RSuMZyId7Ao4hlEPIVrDCfiHSyKeAYRT+Eaw4l4B4sinkHEU7jGcCLewaKIZxDxFK4xnIh3sCjiGUQ8hWsMJ+IdLIp4BhFP4RrDiXgHiyKeQcRTuMZwIt7BoohnEPEUrjGciHewKOIZRDyFawwn4h0singGEU/hGsOJeAeLIp5BxFO4xnAi3sGiiGcQ8RSuMZyId7Ao4hlEPIVrDCfiHSyKeIa/EZ9MJt8L7e7ubmxsVC4uLS1dXFz8LLS4uFg5V7/4+Pi4srJSuXh6enp4eFi5OHzg8JmVi55NuOHNDC+ncrH+2RwdHY1WV1e/FBoKvry8XLk4Ho8vLy9/FLq6uqqcq198enoa/oNTufjw8HB3d1e5eH19PXxm5eL/8GyGn2rl4vBm7u/vKxfrn83z83P/f065vb0t/gUHoIyIAzRMxAEaJuIADRNxgIaJOEDDRBygYSIO0DARB2iYiAM0TMQBGibiAA0TcYCGiThAw0QcoGEiDtAwEQdomIgDNEzEARom4gANE3GAhok4QMNEHKBhIg7QMBEHaJiIAzRMxAEaJuIADRNxgIaJOEDDRBygYSIO0DARB2iYiAM0TMQBGibiAA0bTSaTb4X29vY2NzcrF6fTqYgDvRoNgftV6O3t7fX1tXLx/f398/PzX/+cAVL8AXCdKRGZPtAaAAAAAElFTkSuQmCC\"></div>"
      ],
      "text/plain": [
       "<IPython.core.display.HTML object>"
      ]
     },
     "metadata": {},
     "output_type": "display_data"
    },
    {
     "data": {
      "text/html": [
       "<div style=\"background-color:#e0e0e0;margin:0;padding:10px;\"><img src=\"data:image/png;base64,iVBORw0KGgoAAAANSUhEUgAAAccAAABNCAIAAABcwjjvAAAACXBIWXMAAA7EAAAOxAGVKw4bAAAD8UlEQVR4nO3YMUpYaRSGYReSYJJKmzQRAwpaJMFCtLJIoY2FaGExzVimzEytdqJVEAZcwfQuQRSZQnAB9haTO3v4znHI/zwbONx7P1/FmY8fP/7e6PPnz8vLy50X5+bmtre3Oy++evWq89zk9evXnef29/ffvn3bebF/Nm/evDk4OOi82D+b5ov9s1laWvry5UvnxZWVlaenp5mjo6N/G52enn779q3z4tevX6+vrzsvTr+oOs/1X3x4eFhbW+u82D+b6QGnx+y8aDZx02am5XRe/P79u6qW8OMRp6q/wEVVraKqv8BFVa1gNnGqWkVV41S1gtnEqWoVVY1T1QpmE6eqVVQ1TlUrmE2cqlZR1ThVrWA2capaRVXjVLWC2cSpahVVjVPVCmYTp6pVVDVOVSuYTZyqVlHVOFWtYDZxqlpFVeNUtYLZxKlqFVWNU9UKZhOnqlVUNU5VK5hNnKpWUdU4Va1gNnGqWkVV41S1gtnEqWoVVY1T1QpmE6eqVVQ1TlUrmE2cqlZR1ThVrWA2capaRVXjVLWC2cSpahVVjVPVCmYTp6pVVDVOVSuYTZyqVlHVOFWtYDZxqlpFVeNUtYLZxKlqFVWNU9UKZhOnqlVUNU5VK5hNnKpWUdU4Va1gNnGqWkVV41S1gtnEqWoVVY1T1QpmE6eqVVQ1TlUrmE2cqlZR1ThVrWA2capaRVXjVLWC2cSpahVVjVPVCmYTp6pVVDVOVSuYTZyqVlHVOFWtYDZxqlpFVeNUtYLZxL1YVVdXV/9stL6+vrKy0nlxfn5+b2+v8+Ls7OzfvaZn7Dz348ePhYWFzouHh4c7OzudF6cHnB6z82LzR+y/2D+baTPTcjov7u7u/lfVxcXF3xpNSf3w4UPnxXfv3m1tbXVenB7wr17Hx8ed5y4vL6c/ATovXlxcnJ2ddV48OTmZHrPzYvNH7L84vc/prXZenDZzfn7eefHq6ur5+dl/APKaXynwv6KqeaoKI1PVPFWFkalqnqrCyFQ1T1VhZKqap6owMlXNU1UYmarmqSqMTFXzVBVGpqp5qgojU9U8VYWRqWqeqsLIVDVPVWFkqpqnqjAyVc1TVRiZquapKoxMVfNUFUamqnmqCiNT1TxVhZGpap6qwshUNU9VYWSqmqeqMDJVzVNVGJmq5qkqjExV81QVRqaqeaoKI1PVPFWFkalqnqrCyFQ1T1VhZKqap6owMlXNU1UYmarmqSqMTFXzVBVGpqp5qgojU9U8VYWRqWqeqsLIZlZXV/9otLm5+enTp86L79+/Pzg46Ly4sbHx0p8VeDEzDw8P/zS6u7u7vb3tvHhzc3N/f9958fHx8aU/K/BifgI0+u/D0KqJcgAAAABJRU5ErkJggg==\"></div>"
      ],
      "text/plain": [
       "<IPython.core.display.HTML object>"
      ]
     },
     "metadata": {},
     "output_type": "display_data"
    },
    {
     "data": {
      "text/html": [
       "<div style=\"background-color:#e0e0e0;margin:0;padding:10px;\"><img src=\"data:image/png;base64,iVBORw0KGgoAAAANSUhEUgAAAaEAAABNCAIAAACAO0zYAAAACXBIWXMAAA7EAAAOxAGVKw4bAAAD0klEQVR4nO3XsS78aRTHYTehkBBGRaMhFMQUJAqJhkJBoxBTKLZZpUaxW6OTqESytW5LiSsQIbLF1BK38N/f3sM5x7u/PM8NfPOOk8+YibW1td8LbW9vr6+vVy4uLCwcHR1VLk5PT1fOdWZmZirnzs7OBoNB5WL92czNzY1Go8rF+rMpXqw/m/39/efn54mLi4tfhW5vby8vLysXDw8PX15eKhe7r43KufrF8Xi8s7NTuVh/Nt0Du2dWLjqbcE9PTxqXwrGG07geLGpcFo0Lp3EZnE04jcviWMNpXA8WNS6LxoXTuAzOJpzGZXGs4TSuB4sal0XjwmlcBmcTTuOyONZwGteDRY3LonHhNC6DswmncVkcaziN68GixmXRuHAal8HZhNO4LI41nMb1YFHjsmhcOI3L4GzCaVwWxxpO43qwqHFZNC6cxmVwNuE0LotjDadxPVjUuCwaF07jMjibcBqXxbGG07geLGpcFo0Lp3EZnE04jcviWMNpXA8WNS6LxoXTuAzOJpzGZXGs4TSuB4sal0XjwmlcBmcTTuOyONZwGteDRY3LonHhNC6DswmncVkcaziN68GixmXRuHAal8HZhNO4LI41nMb1YFHjsmhcOI3L4GzCaVwWxxpO43qwqHFZNC6cxmVwNuE0LotjDadxPVjUuCwaF07jMjibcBqXxbGG07geLGpcFo0Lp3EZnE04jcviWMNpXA8Wf6xxw+Hwz0K7u7ubm5uVi4uLi6enp5WLU1NTlXOdwWDwd6GHh4eVlZXKxfPz8+Pj48rF7oHdMysXu0OtnKtfrD+bq6ur/xq3urr6W6EucMvLy5WL8/PzBwcHlYuTk5OVc52NjY2/Cj0+Pnb/WFUu3t/f393dVS7e3Nx0z6xcvL6+rpyrX+w+z+5TrVzsfH9/+60ar/5HR/EfEf5HNC6exkE7NC6exkE7NC6exkE7NC6exkE7NC6exkE7NC6exkE7NC6exkE7NC6exkE7NC6exkE7NC6exkE7NC6exkE7NC6exkE7NC6exkE7NC6exkE7NC6exkE7NC6exkE7NC6exkE7NC6exkE7NC6exkE7NC6exkE7NC6exkE7NC6exkE7NC6exkE7NC6exkE7NC6exkE7NC6exkE7NC6exkE7NC6exkE7NC6exkE7NC6exkE7NC6exkE7NC6exkE7NC6exkE7NC6exkE7NC6exkE7JobD4R+F9vb2tra2KheXlpZGo1Hl4uzsbOVc5+Tk5KcPCRo1MR6P/yn08fHx/v5eufj29vb5+Vm5+Pr6WjnX+fr6+ulDgkb9C1WM43lr0xNvAAAAAElFTkSuQmCC\"></div>"
      ],
      "text/plain": [
       "<IPython.core.display.HTML object>"
      ]
     },
     "metadata": {},
     "output_type": "display_data"
    },
    {
     "data": {
      "text/html": [
       "<div style=\"background-color:#e0e0e0;margin:0;padding:10px;\"><img src=\"data:image/png;base64,iVBORw0KGgoAAAANSUhEUgAAAXsAAABNCAIAAADICFNYAAAACXBIWXMAAA7EAAAOxAGVKw4bAAADzElEQVR4nO3XMUpccRSF8dmEgqA4WmmhjTIWglMoWAjaWFhoK75ChjQRK+1MarUTrERIZZ/eFYgoQ4rZgbiB5AXS3ibccyUn328Dlz8cPt7rrKysfC60sbGxurpaeXFubm5/f7/y4uTkZOW51tTUVOW5o6OjmZmZyov1s+l2u03TVF6sn03xxcFgcHFx0Tk5OflZ6Pr6+uzsrPLi3t7e4+Nj5cU24pXn6i+ORqPNzc3Ki/WzaR/YPrPyov1s3t7eKI6E/XQojoL9bCiOiv10KI6C/Wwojor9dCiOgv1sKI6K/XQojoL9bCiOiv10KI6C/Wwojor9dCiOgv1sKI6K/XQojoL9bCiOiv10KI6C/Wwojor9dCiOgv1sKI6K/XQojoL9bCiOiv10KI6C/Wwojor9dCiOgv1sKI6K/XQojoL9bCiOiv10KI6C/Wwojor9dCiOgv1sKI6K/XQojoL9bCiOiv10KI6C/Wwojor9dCiOgv1sKI6K/XQojoL9bCiOiv10KI6C/Wwojor9dCiOgv1sKI6K/XQojoL9bCiOiv10KI6C/Wwojor9dCiOgv1sKI6K/XQojoL9bCiOiv10KI6C/Wwojor9dCiOgv1sKI6K/XQojoL9bCiOiv10KI6C/Wwojor9dCiOgv1sKI6K/XQojoL9bCiOiv10KI6C/Wwojor9dCiOgv1sKI6K/XQojoL9bCiOiv10KI6C/Wz+FKff738ttLW1tba2Vnlxfn7+8PCw8uLExETlufqLp6enCwsL3wsdHx8fHBxUXlxeXr67u6u82A618lz9xYeHh9/F6fV6nwq1uVlaWqq8ODs7u7u7W3lxbGys8lxrfHy88lzTNDs7O98K3d7e3tzcVF68urq6v7+vvHh5eVl57kMuDodD/qry/Sefx5UXYYPi5KM4QITi5KM4QITi5KM4QITi5KM4QITi5KM4QITi5KM4QITi5KM4QITi5KM4QITi5KM4QITi5KM4QITi5KM4QITi5KM4QITi5KM4QITi5KM4QITi5KM4QITi5KM4QITi5KM4QITi5KM4QITi5KM4QITi5KM4QITi5KM4QITi5KM4QITi5KM4QITi5KM4QITi5KM4QITi5KM4QITi5KM4QITi5KM4QITi5KM4QITi5KM4QITi5KM4QITi5KM4QITi5KM4QITi5KM4QITi5KM4QKTT7/e/FNre3l5fX6+8uLi42DRN5cXp6enKc61ut1t57vz8nOLg73RGo9GPQq+vry8vL5UXn5+fh8Nh5cWnp6fKcx9y8f39/aOni3/SL/LzzuOmeYf+AAAAAElFTkSuQmCC\"></div>"
      ],
      "text/plain": [
       "<IPython.core.display.HTML object>"
      ]
     },
     "metadata": {},
     "output_type": "display_data"
    },
    {
     "data": {
      "text/html": [
       "<div style=\"background-color:#e0e0e0;margin:0;padding:10px;\"><img src=\"data:image/png;base64,iVBORw0KGgoAAAANSUhEUgAAAaEAAAByCAIAAAB1F/mgAAAACXBIWXMAAA7EAAAOxAGVKw4bAAAD5UlEQVR4nO3XvUrcaRjGYU/DEAKKjTYDSVAUMRYBF1LY+sGUKRU2Tco0NgsWgppKsAqBrdNtsYXgEdhLCltPYTN7Ds/zznLvdZ3Azfvn4cfMwmQy+TjQ1tbW69evRy4uLy/v7++PXFxcXBw5N/PixYuRc4eHhy9fvhy5OP5sZg88Ojoauehsyu3t7d3d3S18/vz5n4Gur6+/fPkycvHg4OD+/n7k4sbGxsi58Ys/f/6cXc/IxfFnM3vg7JkjF51NuR8/fmhcC8daTuMCFjWui8aV07gOzqacxnVxrOU0LmBR47poXDmN6+BsymlcF8daTuMCFjWui8aV07gOzqacxnVxrOU0LmBR47poXDmN6+BsymlcF8daTuMCFjWui8aV07gOzqacxnVxrOU0LmBR47poXDmN6+BsymlcF8daTuMCFjWui8aV07gOzqacxnVxrOU0LmBR47poXDmN6+BsymlcF8daTuMCFjWui8aV07gOzqacxnVxrOU0LmBR47poXDmN6+BsymlcF8daTuMCFjWui8aV07gOzqacxnVxrOU0LmBR47poXDmN6+BsymlcF8daTuMCFjWui8aV07gOzqacxnVxrOU0LmBR47poXDmN6+BsymlcF8daTuMCFjWui8aV07gOzqacxnVxrOU0LmBR47poXDmN6+BsymlcF8daTuMCFjWui8aV07gOzqacxnVxrOU0LmBxbo179+7dHwN9+PBhZ2dn5OJkMjk/P/9roNXV1ZFz4xe/ffv29u3bkYsnJyfT6XTk4uyBs2eOXHQ25c7Ozv5t3Pr6+u8DzQL35s2bkYtbW1sXFxd/DnR5eTlybvzi9+/fZz+sRi7e3t7e3NyMXLy6upo9c+Ti/+FsZl915OLM8/Nz/n/Vr1+/Dv7TAfx3aByQTOOAZBoHJNM4IJnGAck0DkimcUAyjQOSaRyQTOOAZBoHJNM4IJnGAck0DkimcUAyjQOSaRyQTOOAZBoHJNM4IJnGAck0DkimcUAyjQOSaRyQTOOAZBoHJNM4IJnGAck0DkimcUAyjQOSaRyQTOOAZBoHJFtYWlr6baCVlZVXr16NXFxbW3t4eJj3dwbmY+H4+PjvgU5PT6fT6cjFT58+PT4+zvs7A/PhvyqQTOOAZBoHJNM4IJnGAck0DkimcUAyjQOSaRyQTOOAZBoHJNM4IJnGAck0DkimcUAyjQOSaRyQTOOAZBoHJNM4IJnGAck0DkimcUAyjQOSaRyQTOOAZBoHJNM4IJnGAck0DkimcUAyjQOSaRyQTOOAZBoHJNM4INnC9vb2x4F2d3c3NzdHLr5///7p6Wne3xmYj18vwJ1NT4qIXQAAAABJRU5ErkJggg==\"></div>"
      ],
      "text/plain": [
       "<IPython.core.display.HTML object>"
      ]
     },
     "metadata": {},
     "output_type": "display_data"
    },
    {
     "data": {
      "text/html": [
       "<div style=\"background-color:#e0e0e0;margin:0;padding:10px;\"><img src=\"data:image/png;base64,iVBORw0KGgoAAAANSUhEUgAAAVUAAABNCAIAAACZnGA7AAAACXBIWXMAAA7EAAAOxAGVKw4bAAADoElEQVR4nO3WMUqkaRhF4dqEgqhYJQiamCgaCFagYCCIgoKBkYFlJcoko5lpd6wuQYSOzToUTExVFO3AZRjNfLOHc9+B7vNs4PLDez7+zvLy8t+F1tfXV1ZWKhdnZ2cPDg4qFycmJirnmsnJycq54+PjXq9XuVh/Nt1udzgcVi7Wn81gMOicnZ39U+j6+vri4qJycX9//+HhoXKxPamVc/WLn5+fGxsblYv1Z9M+sH1m5WL92bT27Z9n/zj7T7D/CPvH2X+C/UfYP87+E+w/wv5x9p9g/xH2j7P/BPuPsH+c/SfYf4T94+w/wf4j7B9n/wn2H2H/OPtPsP8I+8fZf4L9R9g/zv4T7D/C/nH2n2D/EfaPs/8E+4+wf5z9J9h/hP3j7D/B/iPsH2f/CfYfYf84+0+w/wj7x9l/gv1H2D/O/hPsP8L+cfafYP8R9o+z/wT7j7B/nP0n2H+E/ePsP8H+I+wfZ/8J9h9h/zj7T7D/CPvH2X+C/UfYP87+E+w/wv5x9p9g/xH2j7P/BPuPsH+c/SfYf4T94+w/wf4j7B9n/wn2H2H/OPtPsP8I+8fZf4L9R9g/zv4T/uu/3+9/L7S5ubm6ulq5ODc3d3R0VLk4NjZWOVe/2O6m1+tVLm5vb+/t7f0stLi4eHNzU7nYDrVyrjk9Pe0sLS39VajFv7CwULk4PT29u7tbuTgyMlI514yOjlbOHR4ejo+PVy7u7OycnJz8KHR1dXV7e1u5eHl5WTnXPD4++v/P8/8fd39/f3d3V7n4h7B/nv3j7D/E/nn2j7P/EPvn2T/O/kPsn2f/OPsPsX+e/ePsP8T+efaPs/8Q++fZP87+Q+yfZ/84+w+xf5794+w/xP559o+z/xD759k/zv5D7J9n/zj7D7F/nv3j7D/E/nn2j7P/EPvn2T/O/kPsn2f/OPsPsX+e/ePsP8T+efaPs/8Q++fZP87+Q+yfZ/84+w+xf5794+w/xP559o+z/xD759k/zv5D7J9n/zj7D7F/nv3j7D/E/nn2j7P/EPvn2T/O/kPsn2f/OPsPsX+e/ePsP8T+efaPs/8Q++fZP87+Q+yfZ/84+w+xf5794+w/xP559o+z/xD759k/zv5DOv1+/1uhra2ttbW1ysX5+fnhcFi5ODU1VTnXdLvdyrnz8/OZmZnKxcFgYP8JnfaW/yr09vb2+vpaufjy8vL+/l65+PT0VDlXv/jx8fH8/Fy52Hx9ff3fsfyG/gXHBq0/J80ZCgAAAABJRU5ErkJggg==\"></div>"
      ],
      "text/plain": [
       "<IPython.core.display.HTML object>"
      ]
     },
     "metadata": {},
     "output_type": "display_data"
    },
    {
     "data": {
      "text/html": [
       "<div style=\"background-color:#e0e0e0;margin:0;padding:10px;\"><img src=\"data:image/png;base64,iVBORw0KGgoAAAANSUhEUgAAAXsAAAByCAIAAAA9JOYgAAAACXBIWXMAAA7EAAAOxAGVKw4bAAAEb0lEQVR4nO3XsUqcaRTHYW/CYiQgM51NBBXFIKZ0IYUIFlEJQiBCihRbWVq62wU0kCJgJcJWFulW2ELwCsRm2CK1Te5g91vY9oWwvOe4HJ7nBg4v8+fHfDOLi4vvEr148WJpaSnz4mQy2d7ezrw4Go0yzw3m5uYyz+3t7T179izzYv5shgfu7+9nXiw/m8PDw9PT05nj4+O/En369Onk5CTz4uvXr+/u7jIvrq2tZZ7Lv/jt27etra3Mi/mzGR44PDPzYvnZfP/+XXFClJ+O4kQoPxvFiVJ+OooTofxsFCdK+ekoToTys1GcKOWnozgRys9GcaKUn47iRCg/G8WJUn46ihOh/GwUJ0r56ShOhPKzUZwo5aejOBHKz0ZxopSfjuJEKD8bxYlSfjqKE6H8bBQnSvnpKE6E8rNRnCjlp6M4EcrPRnGilJ+O4kQoPxvFiVJ+OooTofxsFCdK+ekoToTys1GcKOWnozgRys9GcaKUn47iRCg/G8WJUn46ihOh/GwUJ0r56ShOhPKzUZwo5aejOBHKz0ZxopSfjuJEKD8bxYlSfjqKE6H8bBQnSvnpKE6E8rNRnCjlp6M4EcrPRnGilJ+O4kQoPxvFiVJ+OooTofxsFCdK+ekoToTys1GcKOWnozgRys9GcaKUn47iRCg/G8WJUn46ihOh/GwUJ0r56ShOhPKzUZwo5aejOBHKz0ZxopSfjuJEKD8bxYlSfjqKE6H8bBQnSvnpKE6E8rP5tzgvX778NdGrV682NzczLy4sLBwdHWVeHI1GmecG4/H490SXl5crKyuZFz98+PDmzZvMi8MDh2dmXhyGmnku/+L19fU/xVldXf050ZCb5eXlzIuTyWR3dzfz4uzsbOa5wcbGxm+Jrq6uhj8dmRcvLi6+fPmSefH8/Hx4ZubFs7OzzHNPcnE6nfqq6i//73Hyjwj/meL0pzjQojj9KQ60KE5/igMtitOf4kCL4vSnONCiOP0pDrQoTn+KAy2K05/iQIvi9Kc40KI4/SkOtChOf4oDLYrTn+JAi+L0pzjQojj9KQ60KE5/igMtitOf4kCL4vSnONCiOP0pDrQoTn+KAy2K05/iQIvi9Kc40KI4/SkOtChOf4oDLYrTn+JAi+L0pzjQojj9KQ60KE5/igMtitOf4kCL4vSnONCiOP0pDrQoTn+KAy2K05/iQIvi9Kc40KI4/SkOtChOf4oDLTPj8finRAsLC+vr678kev78+fv37zMvzs/PZ54bvH379qmHBD9k5uDg4I9EHz9+/Pz585+JHh4eptNp5sX7+/vMc4PHx8enHhL8kOyvqtvb269fv2ZeBP4/FAfIozhAHsUB8igOkEdxgDyKA+RRHCCP4gB5FAfIozhAHsUB8igOkEdxgDyKA+RRHCCP4gB5FAfIozhAHsUB8igOkEdxgDyKA+RRHCCP4gB5FAfIozhAHsUB8igOkEdxgDyKA+RRHCCP4gB5FAfIozhAHsUB8sxsbGy8S7Szs3Nzc/PUrwaext/KzSQvfJdeMAAAAABJRU5ErkJggg==\"></div>"
      ],
      "text/plain": [
       "<IPython.core.display.HTML object>"
      ]
     },
     "metadata": {},
     "output_type": "display_data"
    },
    {
     "data": {
      "text/html": [
       "<div style=\"background-color:#e0e0e0;margin:0;padding:10px;\"><img src=\"data:image/png;base64,iVBORw0KGgoAAAANSUhEUgAAAXsAAAByCAIAAAA9JOYgAAAACXBIWXMAAA7EAAAOxAGVKw4bAAAEWUlEQVR4nO3XvUrlVxTGYS9jlMHBg43VgCOKImohGBCxsfADsZCxU0hlaWlS+1ENWImQyj5FsPEmJMWBsfcOkjOQdnd7LSeL57mBxT7/lx869vnz56+JlpaWZmdnMy8OBoPt7e3Mi+Pj45nnRiYmJjLP7e3tffz4MfNi/mxGD9zf38+8WH42R0dHl5eXY+fn5/8kurm5ubi4yLy4u7v7/PyceXFhYSHzXP7F4XC4sbGReTF/NqMHjp6ZebH8bN7e3hQnRPnpKE6E8rNRnCjlp6M4EcrPRnGilJ+O4kQoPxvFiVJ+OooTofxsFCdK+ekoToTys1GcKOWnozgRys9GcaKUn47iRCg/G8WJUn46ihOh/GwUJ0r56ShOhPKzUZwo5aejOBHKz0ZxopSfjuJEKD8bxYlSfjqKE6H8bBQnSvnpKE6E8rNRnCjlp6M4EcrPRnGilJ+O4kQoPxvFiVJ+OooTofxsFCdK+ekoToTys1GcKOWnozgRys9GcaKUn47iRCg/G8WJUn46ihOh/GwUJ0r56ShOhPKzUZwo5aejOBHKz0ZxopSfjuJEKD8bxYlSfjqKE6H8bBQnSvnpKE6E8rNRnCjlp6M4EcrPRnGilJ+O4kQoPxvFiVJ+OooTofxsFCdK+ekoToTys1GcKOWnozgRys9GcaKUn47iRCg/G8WJUn46ihOh/GwUJ0r56ShOhPKzUZwo5aejOBHKz0ZxopSfjuJEKD+b/4qzurr6e6LNzc2VlZXMizMzMycnJ5kXP3369Geu0Rszz93f38/NzWVePD09PTw8zLw4euDomZkXkz9i/sXHx8cfxZmfn/810Sg3X758ybw4GAx2dnYyL44e+Eeuq6urzHMPDw+jPzoyL97d3X379i3z4vX19eiZmReTP+K7XHx5efFfVX/JPyn8jyhOf4oDLYrTn+JAi+L0pzjQojj9KQ60KE5/igMtitOf4kCL4vSnONCiOP0pDrQoTn+KAy2K05/iQIvi9Kc40KI4/SkOtChOf4oDLYrTn+JAi+L0pzjQojj9KQ60KE5/igMtitOf4kCL4vSnONCiOP0pDrQoTn+KAy2K05/iQIvi9Kc40KI4/SkOtChOf4oDLYrTn+JAi+L0pzjQojj9KQ60KE5/igMtitOf4kCL4vSnONCiOP0pDrQoTn+KAy2K05/iQIvi9Kc40DI2NTX1S6Lp6enJycnMix8+fDg+Pv4t0dbW1nt/VvhJjR0cHPyV6Ozs7PDwMPPi6enp09PT34m+f//+3p8VflL1/6u6vb0dDoeZF4EWxQHyKA6QR3GAPIoD5FEcII/iAHkUB8ijOEAexQHyKA6QR3GAPIoD5FEcII/iAHkUB8ijOEAexQHyKA6QR3GAPIoD5FEcII/iAHkUB8ijOEAexQHyKA6QR3GAPIoD5FEcII/iAHkUB8ijOEAexQHyKA6QR3GAPGPLy8tfE62trS0uLmZeXF9ff319fe/fGfjhX5YkGrpx+iFPAAAAAElFTkSuQmCC\"></div>"
      ],
      "text/plain": [
       "<IPython.core.display.HTML object>"
      ]
     },
     "metadata": {},
     "output_type": "display_data"
    },
    {
     "data": {
      "text/html": [
       "<div style=\"background-color:#e0e0e0;margin:0;padding:10px;\"><img src=\"data:image/png;base64,iVBORw0KGgoAAAANSUhEUgAAAS8AAAByCAIAAACN28ASAAAACXBIWXMAAA7EAAAOxAGVKw4bAAAEA0lEQVR4nO3WzyrtbRjGcSdBLRRrlcGaUIhIZOQtA1ZR/gyU2mSi9oiZ6d4zA8oJSL1jA/Wqd6AcASbsgcMw2vt3DLvrut3dvp8TuLrr+dbTNzEx8S3Q/Pz85ORk5GKn01lbW4tcbLVakXONwcHByLnt7e3h4eHIxfhn0xy4s7MTubi8vNx3cnLyO9Dl5eXZ2Vnk4tbW1uPjY+Ti7Oxs5Fz84vv7+8rKSuRi/LNpDmzOjFxsSqRGPWqUo0YLaiywSI0O1GhBjXLUaEGNBRap0YEaLahRjhotqLHAIjU6UKMFNcpRowU1FlikRgdqtKBGOWq0oMYCi9ToQI0W1ChHjRbUWGCRGh2o0YIa5ajRghoLLFKjAzVaUKMcNVpQY4FFanSgRgtqlKNGC2ossEiNDtRoQY1y1GhBjQUWqdGBGi2oUY4aLaixwCI1OlCjBTXKUaMFNRZYpEYHarSgRjlqtKDGAovU6ECNFtQoR40W1FhgkRodqNGCGuWo0YIaCyxSowM1WlCjHDVaUGOBRWp0oEYLapSjRgtqLLBIjQ7UaEGNcl+lxqWlpZ+BVldXFxcXIxe73e7BwUHkYqvVipyLX2zeTbvdjlxcX1/f3Nz8L9D09PT19XXk4t7eXt/MzMz3QE2KU1NTkYudTmdjYyNysb+/P3KuMTAwEDm3v78/NDQUudjr9Y6Pj/8NdHFxcXNzE7l4d3fHT1WPn6rcw8PD7e1t5OKnoEY9apSjRgtqLLBIjSbUqEeNctRoQY0FFqnRhBr1qFGOGi2oscAiNZpQox41ylGjBTUWWKRGE2rUo0Y5arSgxgKL1GhCjXrUKEeNFtRYYJEaTahRjxrlqNGCGgssUqMJNepRoxw1WlBjgUVqNKFGPWqUo0YLaiywSI0m1KhHjXLUaEGNBRap0YQa9ahRjhotqLHAIjWaUKMeNcpRowU1FlikRhNq1KNGOWq0oMYCi9RoQo161ChHjRbUWGCRGk2oUY8a5ajRghoLLFKjCTXqUaMcNVpQY4FFajShRj1qlKNGC2ossEiNJtSoR41yX6XGdrv9T6Butzs3N/cj0Pj4+NHRUeTiyMhI5FxjdHQ0cu709HRsbCxy8fDw8EvUuLu7+3+g8/Pzq6urX4FeXl5eX18jF5+eniLn4hff3t6en58jFxsfHx+fHYtd9E/1i3w5gL9AjUAW1AhkQY1AFtQIZEGNQBbUCGRBjUAW1AhkQY1AFtQIZEGNQBbUCGRBjUAW1AhkQY1AFtQIZEGNQBbUCGRBjUAW1AhkQY1AFtQIZEGNQBbUCGRBjUAW1AhkQY1AFtQIZEGNQBbUCGRBjUAW1AhkQY1AFtQIZEGNQBZ9CwsL3wL1er37+/vPvhrI6A/UuyGIDmUkwQAAAABJRU5ErkJggg==\"></div>"
      ],
      "text/plain": [
       "<IPython.core.display.HTML object>"
      ]
     },
     "metadata": {},
     "output_type": "display_data"
    },
    {
     "data": {
      "text/html": [
       "<div style=\"background-color:#e0e0e0;margin:0;padding:10px;\"><img src=\"data:image/png;base64,iVBORw0KGgoAAAANSUhEUgAAAVUAAACYCAIAAADbb+2nAAAACXBIWXMAAA7EAAAOxAGVKw4bAAAD/UlEQVR4nO3WsUrlRxjG4XMLghaCioKF2myhrKCgjbARYVsVtQxqoRKLWFoHLARXK8FKFnILKdLZWLr9Yr0XsTm5h/lGk/d5buBlhvmd8x8sLy//3tHGxsbq6mrPxbm5uf39/Z6LExMTPeeGJicne84dHR3NzMz0XOz/bKanp4+Pj3su9n82h4eHg4uLi58d3d7eXl5e9lzc2dl5enrquTj8Se0513/x9fX106dPPRf7P5vhAYfH7LnY/9kM29d/e/pvTv8V9F9C/83pv4L+S+i/Of1X0H8J/Ten/wr6L6H/5vRfQf8l9N+c/ivov4T+m9N/Bf2X0H9z+q+g/xL6b07/FfRfQv/N6b+C/kvovzn9V9B/Cf03p/8K+i+h/+b0X0H/JfTfnP4r6L+E/pvTfwX9l9B/c/qvoP8S+m9O/xX0X0L/zem/gv5L6L85/VfQfwn9N6f/Cvovof/m9F9B/yX035z+K+i/hP6b038F/ZfQf3P6r6D/EvpvTv8V9F9C/83pv4L+S+i/Of1X0H8J/Ten/wr6L6H/5vRfQf8l9N+c/ivov4T+m9N/Bf2X0H9z+q+g/xL6b07/FfRfQv/N6b+C/kvovzn9V/i3//X19T862traWltb67n44cOHq6urvzqan5/vOdd/8fHxcWlpqefiycnJwcFBz8XhAYfH7LnY/9mcnZ0NPn78+FtHw/gXFxd7Lq6srFxfX//Z0c3NTc+5/otfv34d/iH3XHx4eLi/v++5+OXLl+Exey72fzbPz8///+//u7u7zh9y8F+hf8ilf8ilf8ilf8ilf8ilf8ilf8ilf8ilf8ilf8ilf8ilf8ilf8ilf8ilf8ilf8ilf8ilf8ilf8ilf8ilf8ilf8ilf8ilf8ilf8ilf8ilf8ilf8ilf8ilf8ilf8ilf8ilf8ilf8ilf8g1mJmZ+aWj2dnZqampnosLCwvfvn1763uG92iwt7f3d0enp6cHBwc9F8/Pz79///7W9wzvke9/yKV/yKV/yKV/yKV/yKV/yKV/yKV/yKV/yKV/yKV/yKV/yKV/yKV/yKV/yKV/yKV/yKV/yKV/yKV/yKV/yKV/yKV/yKV/yKV/yKV/yKV/yKV/yKV/yKV/yKV/yKV/yKV/yKV/yKV/yKV/yDUYGxub62h0dHRkZKTn4vj4+MvLy1vfM7xH/v8hl/4hl/4hl/4hl/4hl/4hl/4hl/4hl/4hl/4hl/4hl/4hl/4hl/4hl/4hl/4hl/4hl/4hl/4hl/4hl/4hl/4hl/4hl/4hl/4hl/4hl/4hl/4hl/4hl/4hl/4hl/4hl/4hl/4hl/4hl/4hl/4h12B7e/vXjj5//ry5udlzcXd398ePH299z/Ae/QPcISuGhLn3BAAAAABJRU5ErkJggg==\"></div>"
      ],
      "text/plain": [
       "<IPython.core.display.HTML object>"
      ]
     },
     "metadata": {},
     "output_type": "display_data"
    },
    {
     "data": {
      "text/html": [
       "<div style=\"background-color:#e0e0e0;margin:0;padding:10px;\"><img src=\"data:image/png;base64,iVBORw0KGgoAAAANSUhEUgAAAOQAAAByCAIAAADMCuqEAAAACXBIWXMAAA7EAAAOxAGVKw4bAAADfklEQVR4nO3WMUqjYRhF4axBUYiKJEELsRBUlIhoOgckCCLBIDaCio0wlXa2M7W4BHdgP4XgCrTTwmVYzURwCee+AzPn2cCF/zv8vI2lpaXTQhsbG8vLy5WLnU5nb2+vcrHZbFbOjUxNTVXODYfDmZmZysV+v//w8NC4urr6Xeju7u7m5qZy8fDw8OnpqXJxfX29cq5+8f39fWdnp3Lx8fHRWCOMFWesKcaKM9YUY8UZa4qx4ow1xVhxxppirDhjTTFWnLGmGCvOWFOMFWesKcaKM9YUY8UZa4qx4ow1xVhxxppirDhjTTFWnLGmGCvOWFOMFWesKcaKM9YUY8UZa4qx4ow1xVhxxppirDhjTTFWnLGmGCvOWFOMFWesKcaKM9YUY8UZa4qx4ow1xVhxxppirDhjTTFWnLGmGCvOWFOMFWesKcaKM9YUY8V9xbq9vf2z0O7u7tbWVuXiwsLC2dlZ5WKz2aycq18c/eDa7Xbl4sXFxf39fWNtbe17oVGpKysrlYudTufg4KBycWJionJuZHJysnLu5ORkenq6cnEwGHzG6hmA8wzAebOmGCvOWFOMFWesKcaKM9YUY8UZa4qx4ow1xVhxxppirDhjTTFWnLGmGCvOWFOMFWesKcaKM9YUY8UZa4qx4ow1xVhxxppirDhjTTFWnLGmGCvOWFOMFWesKcaKM9YUY8UZa4qx4ow1xVhxxppirDhjTTFWnLGmGCvOWFOMFWesKcaKM9YUY8UZa4qx4ow1xVhxxppirDhjTTFWnLGmGCvOWFOMFWesKcaK+4q13W5/KzQ3Nzc7O1u5OD4+vrq6Wrk4Njb2o1ar1aqcu76+np+fr1w8Pz//jPXo6OhXocvLy+Pj48rFXq93e3tbuTgcDt9qPT8/V869vr6+vLxULo58fHx4BvCKP+n/w1h5xhpirDxjDTFWnrGGGCvPWEOMlWesIcbKM9YQY+UZa4ix8ow1xFh5xhpirDxjDTFWnrGGGCvPWEOMlWesIcbKM9YQY+UZa4ix8ow1xFh5xhpirDxjDTFWnrGGGCvPWEOMlWesIcbKM9YQY+UZa4ix8ow1xFh5xhpirDxjDTFWnrGGGCvPWEOMlWesIcbKM9YQY+UZa4ix8ow1xFh5xhpirDxjDTFWnrGGNDY3N08L9Xq9brdbubi4uLi/v1+52O/3//az/pv+AArxf21q36kfAAAAAElFTkSuQmCC\"></div>"
      ],
      "text/plain": [
       "<IPython.core.display.HTML object>"
      ]
     },
     "metadata": {},
     "output_type": "display_data"
    },
    {
     "data": {
      "text/html": [
       "<div style=\"background-color:#e0e0e0;margin:0;padding:10px;\"><img src=\"data:image/png;base64,iVBORw0KGgoAAAANSUhEUgAAAVUAAAByCAIAAABssNVDAAAACXBIWXMAAA7EAAAOxAGVKw4bAAAD8ElEQVR4nO3WvUq0VxSG4TkJwRFRZrCxElQUZVALwYCFjYU/2CifnUoqS9uk9qcSrETIKaQINja2timmsPIgkjfnsNY2+9vXdQIPe1g38/YWFhZ+FLS+vr64uFhycTgc7u3tlVzs9/sl5zpTU1Ml5w4PD6enp0sulj+b7oFHR0clF8ufTad3fX39T0H39/c3NzclFw8ODt7e3kourq6ulpwrvzgej3d2dkoulj+b7oHdM0sulj+brn39x9N/OP1n0H8K/YfTfwb9p9B/OP1n0H8K/YfTfwb9p9B/OP1n0H8K/YfTfwb9p9B/OP1n0H8K/YfTfwb9p9B/OP1n0H8K/YfTfwb9p9B/OP1n0H8K/YfTfwb9p9B/OP1n0H8K/YfTfwb9p9B/OP1n0H8K/YfTfwb9p9B/OP1n0H8K/YfTfwb9p9B/OP1n0H8K/YfTfwb9p9B/OP1n0H8K/YfTfwb9p9B/OP1n0H8K/YfTfwb9p9B/OP1n0H8K/YfTfwb9p9B/OP1n0H8K/YfTfwb9p9B/OP1n0H8K/YfTfwb9p9B/OP1n0H8K/YfTfwb9p9B/OP1n0H8K/YfTfwb9p9B/OP1n+K//zc3N3wva3d3d2NgouTg/P39+fl5ysd/vl5zrDAaDPwt6fn5eXl4uuXhxcXFyclJysXtg98ySi92hlpzrXF1d9VZWVn4tqIt/aWmp5OJwONzf3y+5ODExUXKuMxqN/ijo5eWl+0Muufj09PT4+Fhy8e7urntmycXb29uSc53393ff//G+5UOu8CI/B/3H0z+10H88/VML/cfTP7XQfzz9Uwv9x9M/tdB/PP1TC/3H0z+10H88/VML/cfTP7XQfzz9Uwv9x9M/tdB/PP1TC/3H0z+10H88/VML/cfTP7XQfzz9Uwv9x9M/tdB/PP1TC/3H0z+10H88/VML/cfTP7XQfzz9Uwv9x9M/tdB/PP1TC/3H0z+10H88/VML/cfTP7XQfzz9Uwv9x9M/tdB/PP1TC/3H0z+10H88/VML/cfTP7XQfzz9Uwv9x9M/tegNBoNfCpqbm5uZmSm5ODk5eXZ29ltBs7OzJec6p6en331IVKl3fHz8V0GXl5cnJyclFy8uLl5fX/8u6OPjo+Rc5+vr67sPiSr9/N//Dw8P4/G45CLUQv/QLv1Du/QP7dI/tEv/0C79Q7v0D+3SP7RL/9Au/UO79A/t0j+0S//QLv1Du/QP7dI/tEv/0C79Q7v0D+3SP7RL/9Au/UO79A/t0j+0S//QLv1Du/QP7dI/tEv/0C79Q7v0D+3SP7RL/9Au/UO79A/t6o1Gox8FbW1tra2tlVzc3t7+/Pz87t8Z/o/+BaO5m+oqZ5mrAAAAAElFTkSuQmCC\"></div>"
      ],
      "text/plain": [
       "<IPython.core.display.HTML object>"
      ]
     },
     "metadata": {},
     "output_type": "display_data"
    },
    {
     "data": {
      "text/html": [
       "<div style=\"background-color:#e0e0e0;margin:0;padding:10px;\"><img src=\"data:image/png;base64,iVBORw0KGgoAAAANSUhEUgAAAQoAAAByCAIAAAAkrwiGAAAACXBIWXMAAA7EAAAOxAGVKw4bAAADwElEQVR4nO3WMUpjcRSF8SzALqSIiJCHhZIioImiBE2qDKQQxEIJaQKKFgpTWaYMU0u6gJUEhuxgiunchzuwt3De7OHcGzh+3wZO8e7v8a+0Wq2bxE5OTvb39zMXi6I4Pz/PXKzX65lzZZubm5lz19fXW1tbmYv5Z9PpdD4+PipPT09fic3n8+l0mrl4dXX19vaWuXh0dJQ5l7/4/v4+GAwyF/PPZjabwSMkeMiDR1TwkAePqOBhsAiPqOBhsAiPqOBhsAiPqOBhsAiPqOBhsAiPqOBhsAiPqOBhsAiPqOBhsAiPqOBhsAiPqOBhsAiPqOBhsAiPqOBhsAiPqOBhsAiPqOBhsAiPqOBhsAiPqOBhsAiPqOBhsAiPqOBhsAiPqOBhsAiPqOBhsAiPqOBhsAiPqOBhsAiPqOBhsAiPqOBhsAiPqOBhsAiPqOBhsAiPqOBhsAiPqOBhsAiPqOBhsAiPqOBhsAiPqOBhsAiPqOBhsAiPqOBhsPiNeJydnf1KbDgcnp6eZi7u7e3d3t5mLtbr9cy5skaj8Sex19fXdrudufjw8DAejzMXJ5PJfx6Hh4c/EyttHBwcZC4WRXF5eZm5WKvVMufKut3u78SWy2X5O89cfHl5WSwWmYur1erz85PHlb78x1XyR/w+wUMfPGyChz542AQPffCwCR764GETPPTBwyZ46IOHTfDQBw+b4KEPHjbBQx88bIKHPnjYBA998LAJHvrgYRM89MHDJnjog4dN8NAHD5vgoQ8eNsFDHzxsgoc+eNgED33wsAke+uBhEzz0wcMmeOiDh03w0AcPm+ChDx42wUMfPGyChz542AQPffCwCR764GETPPTBwyZ46IOHTfDQBw+b4KEPHjbBQx88bIKHPnjYBA998LCp0mg0fiS2s7Ozvb2duVitVtvtdubixsZG5lxZv99f9yF5VhmNRn8Te3x8HI/HmYu9Xu/5+TlzcXd3N3Ou7O7ubt2H5BmPK308rmyChz542AQPffCwCR764GETPPTBwyZ46IOHTfDQBw+b4KEPHjbBQx88bIKHPnjYBA998LAJHvrgYRM89MHDJnjog4dN8NAHD5vgoQ8eNsFDHzxsgoc+eNgED33wsAke+uBhEzz0wcMmeOiDh03w0AcPm+ChDx42wUMfPGyChz542AQPffCwCR764GETPPTBwyZ46IOHTfDQBw+b4KEPHjbBQx88bIKHPnjYBA998LAJHvrgYVOl2+3eJNbr9Y6PjzMXm83mxcVF5mJRFJlzZff39+s+JM/+ATte+Zzv9vNyAAAAAElFTkSuQmCC\"></div>"
      ],
      "text/plain": [
       "<IPython.core.display.HTML object>"
      ]
     },
     "metadata": {},
     "output_type": "display_data"
    },
    {
     "data": {
      "text/html": [
       "<div style=\"background-color:#e0e0e0;margin:0;padding:10px;\"><img src=\"data:image/png;base64,iVBORw0KGgoAAAANSUhEUgAAAQoAAAByCAIAAAAkrwiGAAAACXBIWXMAAA7EAAAOxAGVKw4bAAADsUlEQVR4nO3WsUpbcRiGcW9CMSpqgg6ZAoZEFFEHwUKGKCgYxEVRJwOddHO0vQC9iOLo1qGI4BXopoNDdldxaE/p/G3n/aSvz+8GXjj8n8M31Gg0DhMtLi7Ozc1lLtZqtW63m7lYqVQy5wpjY2OZc71eb2JiInMx/9m0Wq3X19eh09PT34kuLy/Pz88zF3d2du7v7zMX5+fnM+fyF19eXtbX1zMX85/NxcUFeUiQR+nIQ4U8SkceKuRhsEgeKuRhsEgeKuRhsEgeKuRhsEgeKuRhsEgeKuRhsEgeKuRhsEgeKuRhsEgeKuRhsEgeKuRhsEgeKuRhsEgeKuRhsEgeKuRhsEgeKuRhsEgeKuRhsEgeKuRhsEgeKuRhsEgeKuRhsEgeKuRhsEgeKuRhsEgeKuRhsEgeKuRhsEgeKuRhsEgeKuRhsEgeKuRhsEgeKuRhsEgeKuRhsEgeKuRhsEgeKuRhsEgeKuRhsEgeKuRhsEgeKuRhsEgeKuRhsPiJ8lhZWfmeqNPpLC8vZy7W6/Wjo6PMxUqlkjmXv1j8UqvVaubixsbG9vb2z0T7+/t/82i3218TFW00m83MxVqttrW1lbk4PDycOVcYGRnJnCuezvj4eObi5uZmv9//kej6+vr9/Z3jqnwcV6W7u7u7ubnJXPyHPMpHHqUjDxXyKB15qJCHwSJ5qJCHwSJ5qJCHwSJ5qJCHwSJ5qJCHwSJ5qJCHwSJ5qJCHwSJ5qJCHwSJ5qJCHwSJ5qJCHwSJ5qJCHwSJ5qJCHwSJ5qJCHwSJ5qJCHwSJ5qJCHwSJ5qJCHwSJ5qJCHwSJ5qJCHwSJ5qJCHwSJ5qJCHwSJ5qJCHwSJ5qJCHwSJ5qJCHwSJ5qJCHwSJ5qJCHwSJ5qJCHwSJ5qJCHwSJ5qJCHwSJ5qJCHwSJ5qJCHwSJ5qJCHwSJ5qJCHwSJ5qJCHweInyqNarX5JNDMzMzk5mbk4Ojp6cHDwLdHU1FTmXGF6ejpz7uzsbHZ2NnPx+Pj4Y/LY3d39lajf7+/t7WUunpyc3N7ePid6eHjInMtffHp6enx8zFwsvL29fUAe9sfV1dVVcQxkLsIGeQAh8gBC5AGEyAMIkQcQIg8gRB5AiDyAEHkAIfIAQuQBhMgDCJEHECIPIEQeQIg8gBB5ACHyAELkAYTIAwiRBxAiDyBEHkCIPIAQeQAh8gBC5AGEyAMIkQcQIg8gRB5AiDyAEHkAIfIAQuQBhIaWlpYOE62uri4sLGQurq2tDQaDj/7O+C/9AXz79QR0WlQ1AAAAAElFTkSuQmCC\"></div>"
      ],
      "text/plain": [
       "<IPython.core.display.HTML object>"
      ]
     },
     "metadata": {},
     "output_type": "display_data"
    },
    {
     "data": {
      "text/html": [
       "<div style=\"background-color:#e0e0e0;margin:0;padding:10px;\"><img src=\"data:image/png;base64,iVBORw0KGgoAAAANSUhEUgAAAS8AAAByCAIAAACN28ASAAAACXBIWXMAAA7EAAAOxAGVKw4bAAAD1UlEQVR4nO3WvUreSRjGYU9CURG/SGMhgopBET9AcMHCxiIqLxYSwUJhK7FKOnf7aCVYibBHIKRYbDyCtFtYpBdPYPc9g4Xhecbhn+s6gZsZ5gczMDc397milZWV+fn5movT09O7u7s1F0dGRmrO9Y2Ojtac29/fHxsbq7lY/9n0D3hwcFBzcXNzc+Di4uLfiq6vr798+VJz8dOnT8/PzzUXP378WHOu/uLLy8v29nbNxfrPpn/A/jFrLvZLVGM8NYZTYwo1dmBRjRnUmEKN4dSYQo0dWFRjBjWmUGM4NaZQYwcW1ZhBjSnUGE6NKdTYgUU1ZlBjCjWGU2MKNXZgUY0Z1JhCjeHUmEKNHVhUYwY1plBjODWmUGMHFtWYQY0p1BhOjSnU2IFFNWZQYwo1hlNjCjV2YFGNGdSYQo3h1JhCjR1YVGMGNaZQYzg1plBjBxbVmEGNKdQYTo0p1NiBRTVmUGMKNYZTYwo1dmBRjRnUmEKN4dSYQo0dWFRjBjWmUGM4NaZQYwcW1ZhBjSnUGE6NKdTYgUU1ZlBjCjWGU2MKNXZgUY0Z1JhCjeF+lRrX19f/rGhnZ2dtba3m4szMzMnJSc3FkZGRmnP1Fy8vL2dnZ79XdHZ21uv1ai4uLi7e39/XXDw6OhpYWlr6vaJ+igsLCzUXp6en9/b2ai4ODg7WnOsbGhqqOXd6erq7u/tXRXd3d7e3tzUXv3379vDwUHPx8fHRTzVe53+qr6+vV1dXNRd/EWqMp0bKqDGeGimjxnhqpIwa46mRMmqMp0bKqDGeGimjxnhqpIwa46mRMmqMp0bKqDGeGimjxnhqpIwa46mRMmqMp0bKqDGeGimjxnhqpIwa46mRMmqMp0bKqDGeGimjxnhqpIwa46mRMmqMp0bKqDGeGimjxnhqpIwa46mRMmqMp0bKqDGeGimjxnhqpIwa46mRMmqMp0bKqDGeGimjxnhqpIwa46mRMmqMp0bKqDGeGimjxnhqpMzA1NTUbxV9+PBhfHy85uLw8PDx8fEfFU1MTNSc65ucnKw59/XrVzVmGDg8PPy7ovPz816vV3Px7Ozs6enpn4p+/PhRc+5dFt/e3t776XZQ93+qNzc3Ly8vNRehjBqhFWqEVqgRWqFGaIUaoRVqhFaoEVqhRmiFGqEVaoRWqBFaoUZohRqhFWqEVqgRWqFGaIUaoRVqhFaoEVqhRmiFGqEVaoRWqBFaoUZohRqhFWqEVqgRWqFGaIUaoRVqhFaoEVqhRmiFGqEVaoRWqBFaMbC6uvq5oo2NjeXl5ZqLW1tbP3/+fO97hv/3H26iHhDUosQhAAAAAElFTkSuQmCC\"></div>"
      ],
      "text/plain": [
       "<IPython.core.display.HTML object>"
      ]
     },
     "metadata": {},
     "output_type": "display_data"
    },
    {
     "data": {
      "text/html": [
       "<div style=\"background-color:#e0e0e0;margin:0;padding:10px;\"><img src=\"data:image/png;base64,iVBORw0KGgoAAAANSUhEUgAAAQoAAAC+CAIAAABChdZJAAAACXBIWXMAAA7EAAAOxAGVKw4bAAAEAklEQVR4nO3dwSq+WQDH8fcW1J9SqLcssLEgimKjTLkBxbuxEAs0FsjGUhMLJVbKSmpyB7OYnRtgLzcwsbaYMRfw20z/c+TM53MDvzo93+c5u6czOzt7UNHS0tL8/HzNxbGxsfX19ZqLQ0NDNec+DQ8P15zb2trqdrs1F+s/NgsLC29vb53Dw8O/K7q6ujo5Oam5uLq6+vj4WHPx841Tc67+4uvr6/Lycs3F+o/N6empPIqQx08nj1Lk8dPJoxR5NLAoj1Lk0cCiPEqRRwOL8ihFHg0syqMUeTSwKI9S5NHAojxKkUcDi/IoRR4NLMqjFHk0sCiPUuTRwKI8SpFHA4vyKEUeDSzKoxR5NLAoj1Lk0cCiPEqRRwOL8ihFHg0syqMUeTSwKI9S5NHAojxKkUcDi/IoRR4NLMqjFHk0sCiPUuTRwKI8SpFHA4vyKEUeDSzKoxR5NLAoj1Lk0cCiPEqRRwOL8ihFHg0syqMUeTSwKI9S5NHAojxKkUcDi/IoRR4NLMqjFHk0sPg/ymNxcfG3ilZWVhYWFmouTk5Onp+f/1HR+Ph4zbn6i3d3d9PT0zUXd3Z2er1ezcWNjY1/85iZmfm1os82pqamai7Ozc1dXFz8XtHl5WXNufqL9/f3n6/zmou3t7c3Nzc1Fx8eHj4+Ptq/XF1fX39eBmou0gx5QCQPiOQBkTwgkgdE8oBIHhDJAyJ5QCQPiOQBkTwgkgdE8oBIHhDJAyJ5QCQPiOQBkTwgkgdE8oBIHhDJAyJ5QCQPiOQBkTwgkgdE8oBIHhDJAyJ5QCQPiOQBUafb7f5S0ejo6MjISM3FiYmJ5+fnrz5nvqXO2tranxXt7u72er2ai/v7+y8vL199znxLLlcQyQMieUAkD4jkAZE8IJIHRPKASB4QyQMieUAkD4jkAZE8IJIHRPKASB4QyQMieUAkD4jkAZE8IJIHRPKASB4QyQMieUAkD4jkAZE8IJIHRPKASB4QyQMieUAkD4g6/f39YxX9+PGjr6+v5uLg4ODT09NXnzPfkq8HRPKASB4QyQMieUAkD4jkAZE8IJIHRPKASB4QyQMieUAkD4jkAZE8IJIHRPKASB4QyQMieUAkD4jkAZE8IJIHRPKASB4QyQMieUAkD4jkAZE8IJIHRPKASB4QyQMieUDUGRgYqPmfWH+m5Rvx9YBIHhDJAyJ5QCQPiOQBkTwgkgdE8oBIHhDJAyJ5QCQPiOQBkTwgkgdE8oBIHhDJAyJ5QCQPiOQBkTwgkgdE8oBIHhDJAyJ5QCQPiOQBkTwgkgdE8oBIHhDJAyJ5QNTZ29v7q6Kzs7ODg4Oai+fn5/Lgv+kcHx8fVLS9vb25uVlz8ejo6P39/avPmW/pH3IRMUpTkc7UAAAAAElFTkSuQmCC\"></div>"
      ],
      "text/plain": [
       "<IPython.core.display.HTML object>"
      ]
     },
     "metadata": {},
     "output_type": "display_data"
    },
    {
     "data": {
      "text/html": [
       "<div style=\"background-color:#e0e0e0;margin:0;padding:10px;\"><img src=\"data:image/png;base64,iVBORw0KGgoAAAANSUhEUgAAAS8AAAByCAIAAACN28ASAAAACXBIWXMAAA7EAAAOxAGVKw4bAAAD+klEQVR4nO3WP0p1VxTGYcfgh4Uiwr3YiIWgF0UR/1QGRASx8CoXQfjsFFJZ2ia12glWImQEQop0ziKFtYNIzhgWa23JyfNM4GVz9o+zp1ZWVn42tLW1tbq62nJxOBweHx+3XJydnW0515mbm2s5Nx6P5+fnWy62vzbdAc/Pz1su7u/vT93d3f3T0NPT0/39fcvFs7Ozj4+PlosbGxst59ovfn5+HhwctFxsf226A3bHbLnYlajGfGpMp8YSauzBohorqLGEGtOpsYQae7CoxgpqLKHGdGosocYeLKqxghpLqDGdGkuosQeLaqygxhJqTKfGEmrswaIaK6ixhBrTqbGEGnuwqMYKaiyhxnRqLKHGHiyqsYIaS6gxnRpLqLEHi2qsoMYSakynxhJq7MGiGiuosYQa06mxhBp7sKjGCmosocZ0aiyhxh4sqrGCGkuoMZ0aS6ixB4tqrKDGEmpMp8YSauzBohorqLGEGtOpsYQae7CoxgpqLKHGdGosocYeLKqxghpLqDGdGkuosQeLaqygxhJqTKfGEmrswaIaK6ixhBrT/V9q3N3d/b2hw8PDnZ2dlotLS0vX19ctF2dnZ1vOdQaDwZ8Nvb6+jkajlos3NzeTyaTlYnfA7pgtFy8vL6fW19d/bahLcW1treXicDg8PT1tuTgzM9NyrrO9vf1HQ29vb93PquXiy8vL8/Nzy8XHx8fumC0X39/fvVTztX+pNv6IFFFjPjUSo8Z8aiRGjfnUSIwa86mRGDXmUyMxasynRmLUmE+NxKgxnxqJUWM+NRKjxnxqJEaN+dRIjBrzqZEYNeZTIzFqzKdGYtSYT43EqDGfGolRYz41EqPGfGokRo351EiMGvOpkRg15lMjMWrMp0Zi1JhPjcSoMZ8aiVFjPjUSo8Z8aiRGjfnUSIwa86mRGDXmUyMxasynRmLUmE+NxKgxnxqJUWM+NRKjxnxqJEaN+dRIzNRgMPilocXFxYWFhZaLP378GI1GLRenp6d/a+vq6uq7LxIJpi4uLv5q6Pb2djKZtFzc29t7eHhouTgej/9u6+vr67svEgm8VPN5NxKjxnxqJEaN+dRIjBrzqZEYNeZTIzFqzKdGYtSYT43EqDGfGolRYz41EqPGfGokRo351EiMGvOpkRg15lMjMWrMp0Zi1JhPjcSoMZ8aiVFjPjUSo8Z8aiRGjfnUSIwa86mRGDXmUyMxasynRmLUmE+NxKgxnxqJUWM+NRKjxnxqJEaN+dRIjBrzqZEYNeZTIzFqzKdGYtSYT43EqDGfGolRYz41EqPGfGokRo351EiMGvOpkZip7e3tnw3t7e1tbm62XFxeXj45OWm5eHR09N2flf+kfwFUthf1DAUhIwAAAABJRU5ErkJggg==\"></div>"
      ],
      "text/plain": [
       "<IPython.core.display.HTML object>"
      ]
     },
     "metadata": {},
     "output_type": "display_data"
    },
    {
     "data": {
      "text/html": [
       "<div style=\"background-color:#e0e0e0;margin:0;padding:10px;\"><img src=\"data:image/png;base64,iVBORw0KGgoAAAANSUhEUgAAAS8AAACYCAIAAAA6BPj2AAAACXBIWXMAAA7EAAAOxAGVKw4bAAAES0lEQVR4nO3Wv0oeaRjG4e8UAglESNRPLEwdiUXANIIrEquACVFShBUtvsA2m9J2t/ZPFUglgT0CYYvFxhOwTiGky0HszhkEXp7n9cnsdZ3AzTszv5mZrK2t/d7RxsbG8+fPey6urKzs7e31XHz06FHPucHjx497zh0eHk6n056L/R+bxcXFo6Ojnoubm5uTjx8//tvR2dnZ8fFxz8XXr19fX1/3XBxecD3n+i/e3t4Oj07Pxf6PzXDA4Zg9F4cS1RhPjeHUmEKNI1hUYwY1plBjODWmUOMIFtWYQY0p1BhOjSnUOIJFNWZQYwo1hlNjCjWOYFGNGdSYQo3h1JhCjSNYVGMGNaZQYzg1plDjCBbVmEGNKdQYTo0p1DiCRTVmUGMKNYZTYwo1jmBRjRnUmEKN4dSYQo0jWFRjBjWmUGM4NaZQ4wgW1ZhBjSnUGE6NKdQ4gkU1ZlBjCjWGU2MKNY5gUY0Z1JhCjeHUmEKNI1hUYwY1plBjODWmUOMIFtWYQY0p1BhOjSnUOIJFNWZQYwo1hlNjCjWOYFGNGdSYQo3h1JhCjSNYVGMGNaZQY7j/S40vXrz4s6Pt7e319fWei0+ePDk4OOi5uLCw8Hdfwxl7zl1cXKyurvZcnM1m+/v7PReHAw7H7Ln47t27ybNnz37raEjx6dOnPReXlpZevXrVc3E44F99nZyc9Jz78uXL8LHqufj58+dPnz71XDw9PR2O2XPx8vLSn2q8zpeU0VBjPDXSRo3x1EgbNcZTI23UGE+NtFFjPDXSRo3x1EgbNcZTI23UGE+NtFFjPDXSRo3x1EgbNcZTI23UGE+NtFFjPDXSRo3x1EgbNcZTI23UGE+NtFFjPDXSRo3x1EgbNcZTI23UGE+NtFFjPDXSRo3x1EgbNcZTI23UGE+NtFFjPDXSRo3x1EgbNcZTI23UGE+NtFFjPDXSRo3x1EgbNcZTI23UGE+NtFFjPDXSRo3x1EgbNcZTI20m0+n0l46Wl5fn5+d7Lj58+PD9+/d/dPTy5cu7vq38lCZv3779p6MPHz7s7+/3XJzNZldXV187+vbt213fVn5K4/9TPT8/v7297bkIbdQIVagRqlAjVKFGqEKNUIUaoQo1QhVqhCrUCFWoEapQI1ShRqhCjVCFGqEKNUIVaoQq1AhVqBGqUCNUoUaoQo1QhRqhCjVCFWqEKtQIVagRqlAjVKFGqEKNUIUaoQo1QhVqhCrUCFWoEapQI1QxefDgwUpH9+/fv3fvXs/Fubm5m5ubu77O8GO+jVCFGqEKNUIVaoQq1AhVqBGqUCNUoUaoQo1QhRqhCjVCFWqEKtQIVagRqlAjVKFGqEKNUIUaoQo1QhVqhCrUCFWoEapQI1ShRqhCjVCFGqEKNUIVaoQq1AhVqBGqUCNUoUaoQo1QhRqhCjVCFWqEKtQIVUx2d3d/7WhnZ2dra6vn4ps3b75//37X1xl+7D8brr9LX66/gAAAAABJRU5ErkJggg==\"></div>"
      ],
      "text/plain": [
       "<IPython.core.display.HTML object>"
      ]
     },
     "metadata": {},
     "output_type": "display_data"
    },
    {
     "data": {
      "text/html": [
       "<div style=\"background-color:#e0e0e0;margin:0;padding:10px;\"><img src=\"data:image/png;base64,iVBORw0KGgoAAAANSUhEUgAAAOQAAACYCAIAAAB71dJgAAAACXBIWXMAAA7EAAAOxAGVKw4bAAAECklEQVR4nO3dMUojcRiG8RwgnQQiqDAhxQSxMphCMREEF+wkoKgpNyRNYJtNab1VCvEIQdg63RZbBNJ4Clsvsc7CHuF9v/Atz+8CL8M8M/Pvptbr9b4Hury8PD09jVwsy/Lx8TFycW9vL3Kusr+/Hzk3mUyKoohcvL+/X61Wtfl8/ifQy8vL09NT5OLd3d1ms4lcrJ7/yLn4xff396urq8jF9XpNrBbEKkesLsQqR6wuxCpHrC7EKkesLsQqR6wuxCpHrC7EKkesLsQqR6wuxCpHrC7EKkesLsQqR6wuxCpHrC7EKkesLsQqR6wuxCpHrC7EKkesLsQqR6wuxCpHrC7EKkesLsQqR6wuxCpHrC7EKkesLsQqR6wuxCpHrC7EKkesLsQqR6wuxCpHrC7EKkesLsQqR6wuxCpHrC7EKkesLsQqR6wuxCpHrC7EKkesLsQq9y/Wfr//I9D19fX5+XnkYqfTGY/HkYu7u7uRc5WiKH4FWi6X3W43cnGxWPyN9eTk5FugqtTj4+PIxVarNRwOIxcbjUbkXOXs7OxnoNfX1+oLGblY+fj44BigF38MCL6J20KsesRqQqx6xGpCrHrEakKsesRqQqx6xGpCrHrEakKsesRqQqx6xGpCrHrEakKsesRqQqx6xGpCrHrEakKsesRqQqx6xGpCrHrEakKsesRqQqx6xGpCrHrEakKsesRqQqx6xGpCrHrEakKsesRqQqx6xGpCrHrEakKsesRqQqx6xGpCrHrEakKsesRqQqx6xGpCrHrEakKsesRqQqx6xGpCrHrEakKsesRqQqx6xGpSK4riS6B2u31wcBC5uLOz0+12Ixfr9XrkXOXi4mLbIUWoPTw8/A40m81Go1Hk4mAweH5+jlwsyzJyrjKZTLYdUgSOAXocA0yIVY9YTYhVj1hNiFWPWE2IVY9YTYhVj1hNiFWPWE2IVY9YTYhVj1hNiFWPWE2IVY9YTYhVj1hNiFWPWE2IVY9YTYhVj1hNiFWPWE2IVY9YTYhVj1hNiFWPWE2IVY9YTYhVj1hNiFWPWE2IVY9YTYhVj1hNiFWPWE2IVY9YTYhVj1hNiFWPWE2IVY9YTYhVj1hNiFWPWE2IVY9YTYhVj1hNiFWPWE2IVY9YTYhVj1hNao1GowzUbDaPjo6+Bjo8PLy5uYlcbLVakXOV6XS67ZAiRL9Z1+v1arWKXMR/g1iRBrEiDWJFGsSKNIgVaRAr0iBWpEGsSINYkQaxIg1iRRrEijSIFWkQK9IgVqRBrEiDWJEGsSINYkUaxIo0iBVpECvSIFakQaxIg1iRBrEiDWJFGsSKNIgVaRAr0iBWpEGsSINYkQaxIg1iRRrEijRqt7e3kf8VGY1Gb29v275qpPQJwIDSVNeggKoAAAAASUVORK5CYII=\"></div>"
      ],
      "text/plain": [
       "<IPython.core.display.HTML object>"
      ]
     },
     "metadata": {},
     "output_type": "display_data"
    },
    {
     "data": {
      "text/html": [
       "<div style=\"background-color:#e0e0e0;margin:0;padding:10px;\"><img src=\"data:image/png;base64,iVBORw0KGgoAAAANSUhEUgAAAL4AAACYCAIAAADV48ThAAAACXBIWXMAAA7EAAAOxAGVKw4bAAADjklEQVR4nO3cP0pccRRHcRcgiOgUggozWIy1ooXiH7CIDFgJKmoZ0UZJE0tLSS26iFT2KdK5CDtrG3eQvJAdXO65Az/PZwNfmHfe3O5NrK+vfy+0t7e3sbFRuTgcDs/OzioX5+fnK+c6CwsLlXM3Nzf39/cTt7e3fwo9Pj7e3d1VLh4fH7+8vFQudm9j5Vz94sfHh+kgTAdhOg0smg7FdBCm08Ci6VBMB2E6DSyaDsV0EKbTwKLpUEwHYToNLJoOxXQQptPAoulQTAdhOg0smg7FdBCm08Ci6VBMB2E6DSyaDsV0EKbTwKLpUEwHYToNLJoOxXQQptPAoulQTAdhOg0smg7FdBCm08Ci6VBMB2E6DSyaDsV0EKbTwKLpUEwHYToNLJoO5bOks729/aPQaDTa2tqqXFxeXr64uKhcnJubq5zr9Pv9X4Wen5//pbO2tvatUNfNyspK5eJgMDg8PKxc7PV6lXOdzc3Nn7VeX189WPnqD1bxQ/zPdPKZDsJ0CKaDMB2I6eQzHYTpEEwHYToQ08lnOgjTIZgOwnQgppPPdBCmQzAdhOlATCef6SBMh2A6CNOBmE4+00GYDsF0EKYDMZ18poMwHYLpIEwHYjr5TAdhOgTTQZgOxHTymQ7CdAimgzAdiOnkMx2E6RBMB2E6ENPJZzoI0yGYDsJ0IKaTz3QQpkMYTzr9fv9LoaWlpcXFxcrFmZmZ1dXVysXJycnKuc7u7u4Y0jk9Pf1d6Pr6+vz8vHJxZ2fn4eGhcnE4HFbOdS4vL8eQjgcr3Wc5WKaTznQQpkMwHYTpQEwnn+kgTIdgOgjTgZhOPtNBmA7BdBCmAzGdfKaDMB2C6SBMB2I6+UwHYToE00GYDsR08pkOwnQIpoMwHYjp5DMdhOkQTAdhOhDTyWc6CNMhmA7CdCCmk890EKZDMB2E6UBMJ5/pIEyHYDoI04GYTj7TQZgOwXQQpgMxnXymgzAdwnjS6fV6w0Kzs7PT09OVi1NTU6PR6GuhwWBQOde5uroaQzrN/+s8PT29vb1VLn4SpqMg01GQ6SjIdBRkOgoyHQWZjoJMR0GmoyDTUZDpKMh0FGQ6CjIdBZmOgkxHQaajINNRkOkoyHQUZDoKMh0FmY6CTEdBpqMg01GQ6SjIdBRkOgoyHQWZjoJMR0GmoyDTUZDpKMh0FDRxdHRU+a3Ng4OD/f39ysWTk5P39/dx/84N+gshlntbwUnvrQAAAABJRU5ErkJggg==\"></div>"
      ],
      "text/plain": [
       "<IPython.core.display.HTML object>"
      ]
     },
     "metadata": {},
     "output_type": "display_data"
    },
    {
     "data": {
      "text/html": [
       "<div style=\"background-color:#e0e0e0;margin:0;padding:10px;\"><img src=\"data:image/png;base64,iVBORw0KGgoAAAANSUhEUgAAAS8AAACYCAIAAAA6BPj2AAAACXBIWXMAAA7EAAAOxAGVKw4bAAAEXElEQVR4nO3Wv0pdWRjG4XMTBwzkj0dSmMJK0ULRRshA2kCEeBASErRQmGYs0870SSrBSoSpUwSmGESwSZt2CotUXsTMvoOBxfctv9nzPDfwss5Zv733ZGNj45eOdnd3Nzc3ey4uLy/v7+/3XHz48GHPucGjR496zh0eHs5ms56L/a/N4uLi0dFRz8Xnz59PTk9P/+7o06dPHz586Lm4t7d3c3PTc3F4wPWc6794e3s7XJ2ei/2vzXDA4Zg9F4cS1RhPjeHUmEKNI1hUYwY1plBjODWmUOMIFtWYQY0p1BhOjSnUOIJFNWZQYwo1hlNjCjWOYFGNGdSYQo3h1JhCjSNYVGMGNaZQYzg1plDjCBbVmEGNKdQYTo0p1DiCRTVmUGMKNYZTYwo1jmBRjRnUmEKN4dSYQo0jWFRjBjWmUGM4NaZQ4wgW1ZhBjSnUGE6NKdQ4gkU1ZlBjCjWGU2MKNY5gUY0Z1JhCjeHUmEKNI1hUYwY1plBjODWmUOMIFtWYQY0p1BhOjSnUOIJFNWZQYwo1hlNjCjWOYFGNGdSYQo3h1JhCjSNYVGMGNaZQY7j/S407Ozu/dfTixYvt7e2ei8+ePXv//n3PxQcPHvScG8xmsz86uri4WFtb67l4fHw8n897Lg4HHI7Zc/Hg4GCyvr7+c0dDiqurqz0Xl5aWXr582XNxOp32nBtsbW393tHl5eXwsuq5eH5+fnZ21nPx48ePwzF7Ln79+tWXarz+X6qd/0SSqDGeGmmjxnhqpI0a46mRNmqMp0baqDGeGmmjxnhqpI0a46mRNmqMp0baqDGeGmmjxnhqpI0a46mRNmqMp0baqDGeGmmjxnhqpI0a46mRNmqMp0baqDGeGmmjxnhqpI0a46mRNmqMp0baqDGeGmmjxnhqpI0a46mRNmqMp0baqDGeGmmjxnhqpI0a46mRNmqMp0baqDGeGmmjxnhqpI0a46mRNmqMp0baqDGeGmmjxnhqpI0a46mRNpPZbPZTR0+fPn38+HHPxYWFhbdv3/7a0ZMnT3rODd68eXPfF4kAk9evX//Z0cnJyXw+77l4fHx8dXX1V0ffv3/vOTe4u7u774tEgPF/qX7+/Pn29rbnIrRRI1ShRqhCjVCFGqEKNUIVaoQq1AhVqBGqUCNUoUaoQo1QhRqhCjVCFWqEKtQIVagRqlAjVKFGqEKNUIUaoQo1QhVqhCrUCFWoEapQI1ShRqhCjVCFGqEKNUIVaoQq1AhVqBGqUCNUoUaoQo1QxWQ6nS53tLCwsLKy8q6j3d3dHz9+3PfvDP+u97vx+vr6y5cvPRfhv0KNUIUaoQo1QhVqhCrUCFWoEapQI1ShRqhCjVCFGqEKNUIVaoQq1AhVqBGqUCNUoUaoQo1QhRqhCjVCFWqEKtQIVagRqlAjVKFGqEKNUIUaoQo1QhVqhCrUCFWoEapQI1ShRqhCjVCFGqEKNUIVaoQqJq9evXrX0Xw+//bt232fGir6B9uLuvsTJs0VAAAAAElFTkSuQmCC\"></div>"
      ],
      "text/plain": [
       "<IPython.core.display.HTML object>"
      ]
     },
     "metadata": {},
     "output_type": "display_data"
    },
    {
     "data": {
      "text/html": [
       "<div style=\"background-color:#e0e0e0;margin:0;padding:10px;\"><img src=\"data:image/png;base64,iVBORw0KGgoAAAANSUhEUgAAAOQAAACYCAIAAAB71dJgAAAACXBIWXMAAA7EAAAOxAGVKw4bAAADyElEQVR4nO3WPUqcYRiF4dmC4IgD/o1YaGElaCFoIxgRtBH8rySihUKaiJV2JpWVLiK1XYogghvQNsW02ogbSCYkSzjnGU64rw0ceLm/j6cxNzf3udDS0tL8/Hzl4uTk5N7eXuXi0NBQ5VzX8PBw5dzR0VG73a5c3NnZubu7a5ydnf0qdHNzc3FxUbm4tbX1+PhYudj9/ivn6hc7nc7y8nLl4sPDA7FaEKscsboQqxyxuhCrHLG6EKscsboQqxyxuhCrHLG6EKscsboQqxyxuhCrHLG6EKscsboQqxyxuhCrHLG6EKscsboQqxyxuhCrHLG6EKscsboQqxyxuhCrHLG6EKscsboQqxyxuhCrHLG6EKscsboQqxyxuhCrHLG6EKscsboQqxyxuhCrHLG6EKscsboQqxyxuhCrHLG6EKscsboQqxyxuhCrHLG6EKscsboQq9y/WBcXF78WWl1dXVhYqFycmpo6PDysXGy1WpVz9Yvn5+fT09PfC11fX/+JdXZ29lOhbqkzMzOVi+Pj4xsbG5WLzWazcq5rYGCgcu74+Hh9ff1brZeXF84Avf/+DHh7e7u6uqpc/ItY9YjVhFj1iNWEWPWI1YRY9YjVhFj1iNWEWPWI1YRY9YjVhFj1iNWEWPWI1YRY9YjVhFj1iNWEWPWI1YRY9YjVhFj1iNWEWPWI1YRY9YjVhFj1iNWEWPWI1YRY9YjVhFj1iNWEWPWI1YRY9YjVhFj1iNWEWPWI1YRY9YjVhFj1iNWEWPWI1YRY9YjVhFj1iNWEWPWI1YRY9YjVhFj1iNWEWPWI1YRY9YjVhFj1iNWk0W63PxSamJgYGRmpXBwcHDw4OPhSaHR0tHKua2xsrHLu8vKyN7Hu7u7+KHR6erq/v1+5eHJycn9//7PQ8/Nz5VxPFt/f33sQ639/Btze3nY6ncpFmBArYhArYhArYhArYhArYhArYhArYhArYhArYhArYhArYhArYhArYhArYhArYhArYhArYhArYhArYhArYhArYhArYhArYhArYhArYhArYhArYhArYhArYhArYhArYhArYhArYhArYhArYjSazeZkof7+/r6+vsrFVqv19PTU63eGAH9WxCBWxCBWxCBWxCBWxCBWxCBWxCBWxCBWxCBWxCBWxCBWxCBWxCBWxCBWxCBWxCBWxCBWxCBWxCBWxCBWxCBWxCBWxCBWxCBWxCBWxCBWxCBWxCBWxCBWxCBWxCBWxCBWxCBWxCBWxCBWxCBWxGhsbm5+LLS2trayslK5uL29/fr62ut3hsBvwFLYCUMDvdIAAAAASUVORK5CYII=\"></div>"
      ],
      "text/plain": [
       "<IPython.core.display.HTML object>"
      ]
     },
     "metadata": {},
     "output_type": "display_data"
    },
    {
     "data": {
      "text/html": [
       "<div style=\"background-color:#e0e0e0;margin:0;padding:10px;\"><img src=\"data:image/png;base64,iVBORw0KGgoAAAANSUhEUgAAAQoAAACYCAIAAACTcDBiAAAACXBIWXMAAA7EAAAOxAGVKw4bAAAEEUlEQVR4nO3dvUp0VxiGYU9iZAT/sfArphK0ELQZMGBhIyjoNEpEC4U0ESvtTA5AK8E+WNqlCCLY2NqmsLAXW4tkcgAvhLDWkrzfdZ3Awx7WvWd1e2Rpaennhvr9/vLycsvF+fn53d3dlovj4+Mt54YmJiZazh0eHs7MzLRcbH9sVlZW3t/fR05PT/9q6Orq6vz8vOXi9vb209NTy8XhG6flXPvF19fXtbW1lovtj83l5aU8qpBHcfKoRR7FyaMWeSRYlEct8kiwKI9a5JFgUR61yCPBojxqkUeCRXnUIo8Ei/KoRR4JFuVRizwSLMqjFnkkWJRHLfJIsCiPWuSRYFEetcgjwaI8apFHgkV51CKPBIvyqEUeCRblUYs8EizKoxZ5JFiURy3ySLAoj1rkkWBRHrXII8GiPGqRR4JFedQijwSL8qhFHgkW5VGLPBIsyqMWeSRYlEct8kiwKI9a5JFgUR61yCPBojxqkUeCRXnUIo8Ei/KoRR4JFuVRizwSLMqjFnkkWPyO8lhdXf21ofX19ZWVlZaL3759Ozg4aLk4NjbWcq794tnZWa/X+72h4+PjwWDQcnFvb++fPBYXF39qaNjGwsJCy8XZ2dnNzc2Wi51Op+Xc0OjoaMu5o6OjjY2N3xq6vb29ublpuXh3d/f5+elyVV76y9XwtTq8e7Rc/CryKE8eacijPHmkIY/y5JGGPMqTRxryKE8eacijPHmkIY/y5JGGPMqTRxryKE8eacijPHmkIY/y5JGGPMqTRxryKE8eacijPHmkIY/y5JGGPMqTRxryKE8eacijPHmkIY/y5JGGPMqTRxryKE8eacijPHmkIY/y5JGGPMqTRxryKE8eacijPHmkIY/y5JGGPMqTRxryKE8eacijPHmkIY/y5JGGPMqTRxryKE8eacijPHmkIY/y5JHGyMzMzA8Nzc3NTU5Otlzsdrv7+/u/NDQ1NdVybmh6errl3MXFxfeSx87Ozh8NnZycDAaDlovHx8cPDw9/NvTy8tJy7ksWPz4+vvrotpD/cnV9ff36+tpykTTkASF5QEgeEJIHhOQBIXlASB4QkgeE5AEheUBIHhCSB4TkASF5QEgeEJIHhOQBIXlASB4QkgeE5AEheUBIHhCSB4TkASF5QEgeEJIHhOQBIXlASB4QkgeE5AEheUBIHhAa6XQ68w11u91er/djQ/1+/+3t7at/Z/6XWv97PD4+3t/ft1yE/0weEJIHhOQBIXlASB4QkgeE5AEheUBIHhCSB4TkASF5QEgeEJIHhOQBIXlASB4QkgeE5AEheUBIHhCSB4TkASF5QEgeEJIHhOQBIXlASB4QkgeE5AEheUBIHhCSB4TkASF5QGhka2ur5XdiB4PB8/PzVz81/Ct/A3l5JssQ50dvAAAAAElFTkSuQmCC\"></div>"
      ],
      "text/plain": [
       "<IPython.core.display.HTML object>"
      ]
     },
     "metadata": {},
     "output_type": "display_data"
    },
    {
     "data": {
      "text/html": [
       "<div style=\"background-color:#e0e0e0;margin:0;padding:10px;\"><img src=\"data:image/png;base64,iVBORw0KGgoAAAANSUhEUgAAAQoAAACYCAIAAACTcDBiAAAACXBIWXMAAA7EAAAOxAGVKw4bAAAEBUlEQVR4nO3WsUpsVxiGYW9BcMCBozJiobWihaKNYESwElR0mpGIjUKaWFqaXIBWgpUIwTtIEWy8AW1PYT2NvUUyuYC/W2vJ+c/z3MAHe6937zW2srLye0Obm5urq6stF+fn54+Pj1sufvv2reXcyNTUVMu5s7OzXq/XcrH9sVlfX//4+Bi7vLz8t6Gbm5urq6uWiwcHBy8vLy0XR1+clnPtF9/f37e2tloutj8219fX8qhCHsXJoxZ5FCePWuSRYFEetcgjwaI8apFHgkV51CKPBIvyqEUeCRblUYs8EizKoxZ5JFiURy3ySLAoj1rkkWBRHrXII8GiPGqRR4JFedQijwSL8qhFHgkW5VGLPBIsyqMWeSRYlEct8kiwKI9a5JFgUR61yCPBojxqkUeCRXnUIo8Ei/KoRR4JFuVRizwSLMqjFnkkWJRHLfJIsCiPWuSRYFEetcgjwaI8apFHgkV51CKPBIvyqEUeCRblUYs8EizKoxZ5JFiURy3ySLAoj1rkkWDxJ8pjY2Pjz4Z2dnbW19dbLi4sLJyenrZc7Ha7LedGer3e3w09PDwsLS21XDw/P+/3+y0XB4PB/3ksLy//1tCojcXFxZaLs7Oze3t7LRc7nU7LuZG1tbW/Gnp8fBx9zlsu3t/f393dtVx8enr6/Px0uSqv/eWq8Uv8ecijPHmkIY/y5JGGPMqTRxryKE8eacijPHmkIY/y5JGGPMqTRxryKE8eacijPHmkIY/y5JGGPMqTRxryKE8eacijPHmkIY/y5JGGPMqTRxryKE8eacijPHmkIY/y5JGGPMqTRxryKE8eacijPHmkIY/y5JGGPMqTRxryKE8eacijPHmkIY/y5JGGPMqTRxryKE8eacijPHmkIY/y5JGGPMqTRxryKE8eacijPHmkIY/y5JGGPMqTRxpjvV7vl4bm5uamp6dbLk5OTp6cnPzR0MzMTMu5kcFg8NUHKaexo6Ojfxq6uLjo9/stF8/Pz5+fn7839Pb21nJuZDgcfvVByin/5er29vb9/b3lImnIA0LygJA8ICQPCMkDQvKAkDwgJA8IyQNC8oCQPCAkDwjJA0LygJA8ICQPCMkDQvKAkDwgJA8IyQNC8oCQPCAkDwjJA0LygJA8ICQPCMkDQvKAkDwgJA8IyQNC8oCQPCA01ul05huamJgYHx9vudjtdl9fX7/6OfND8veAkDwgJA8IyQNC8oCQPCAkDwjJA0LygJA8ICQPCMkDQvKAkDwgJA8IyQNC8oCQPCAkDwjJA0LygJA8ICQPCMkDQvKAkDwgJA8IyQNC8oCQPCAkDwjJA0LygJA8ICQPCMkDQvKA0Nj+/v6vDe3u7m5vb7dcPDw8HA6HX/2c+SH9B1Z7KnlR8RO4AAAAAElFTkSuQmCC\"></div>"
      ],
      "text/plain": [
       "<IPython.core.display.HTML object>"
      ]
     },
     "metadata": {},
     "output_type": "display_data"
    },
    {
     "data": {
      "text/html": [
       "<div style=\"background-color:#e0e0e0;margin:0;padding:10px;\"><img src=\"data:image/png;base64,iVBORw0KGgoAAAANSUhEUgAAAL4AAAC+CAIAAAAEFiLKAAAACXBIWXMAAA7EAAAOxAGVKw4bAAAEAklEQVR4nO3czyp/eRzH8e81kG+U/1mQrIiFwsJiSjayICzHwoImRdlgZWYtuRHZzkK5Aiv1u4VJbmDG3MK78/6ot8fjBl6dc57nfHant7KyctHQ5ubm6upqy8XZ2dnDw8OWi6Ojoy3nvoyNjbWcOzs7u7u7611eXv7b0MPDw/X1dcvFvb2919fXlotfb2PLufaLHx8f0kkhnRTSKbAonSzSSSGdAovSySKdFNIpsCidLNJJIZ0Ci9LJIp0U0imwKJ0s0kkhnQKL0skinRTSKbAonSzSSSGdAovSySKdFNIpsCidLNJJIZ0Ci9LJIp0U0imwKJ0s0kkhnQKL0skinRTSKbAonSzSSSGdAovSySKdFNIpsCidLNJJIZ0Ci9LJIp0U0imwKJ0sPyWd9fX1vxra2tpaW1truTg3N3d8fNxycWRkpOVc+8Xb29uLi4ve8vLyHw19dbO4uNhycXp6end3t+Xi0NBQy7kv/X6/5dzJycn5+bkDq3s/5cCSTuekk0I6BRalk0U6KaRTYFE6WaSTQjoFFqWTRToppFNgUTpZpJNCOgUWpZNFOimkU2BROlmkk0I6BRalk0U6KaRTYFE6WaSTQjoFFqWTRToppFNgUTpZpJNCOgUWpZNFOimkU2BROlmkk0I6BRalk0U6KaRTYFE6WaSTQjoFFqWTRToppFNgUTpZpJNCOgUWpZPlp6QzNTX1W0MzMzPj4+MtFwcHB5eWllouDgwM/NnW5ORky7mbm5v/0zk4OPi7odPT06Ojo5aLGxsb9/f3LRf39/d/tfX29tZ48fPz04HVvca39LtIp3vSSSGdMqTTPemkkE4Z0umedFJIpwzpdE86KaRThnS6J50U0ilDOt2TTgrplCGd7kknhXTKkE73pJNCOmVIp3vSSSGdMqTTPemkkE4Z0umedFJIpwzpdE86KaRThnS6J50U0ilDOt2TTgrplCGd7kknhXTKkE73pJNCOmVIp3vSSSGdMqTTvZ+SztDQ0GxDw8PDCwsLvzc0Pz+/s7PTcnF7e/u7H2sLrb86Ly8vT09PLRdJIh2CpEOQdAiSDkHSIUg6BEmHIOkQJB2CpEOQdAiSDkHSIUg6BEmHIOkQJB2CpEOQdAiSDkHSIUg6BEmHIOkQJB2CpEOQdAiSDkHSIUg6BEmHIOkQJB2CpEOQdAiSDkG9fr/f8g+mExMTj4+P333VdMBXhyDpECQdgqRDkHQIkg5B0iFIOgRJhyDpECQdgqRDkHQIkg5B0iFIOgRJhyDpECQdgqRDkHQIkg5B0iFIOgRJhyDpECQdgqRDkHQIkg5B0iFIOgRJhyDpECQdgqRDUO/s7Oyfhp6fn6VTQ+/q6uqirff39+++ajrwH69LsbVqkbXrAAAAAElFTkSuQmCC\"></div>"
      ],
      "text/plain": [
       "<IPython.core.display.HTML object>"
      ]
     },
     "metadata": {},
     "output_type": "display_data"
    },
    {
     "data": {
      "text/html": [
       "<div style=\"background-color:#e0e0e0;margin:0;padding:10px;\"><img src=\"data:image/png;base64,iVBORw0KGgoAAAANSUhEUgAAAQoAAACYCAIAAACTcDBiAAAACXBIWXMAAA7EAAAOxAGVKw4bAAAEXElEQVR4nO3dMUueVxzGYT+DQUggCbzioEimSBwS1EFIQVyCkITkXYSKi4EudXS0nYOb4CSB4pitQwchi58hQ2aX7A6t/QAHSvmfI9y5ri9w8/Kc3/Oc7Z1ZXV39daDNzc3nz5+PXFxcXHz//v3IxYcPH46cu/Xo0aORc/v7+5PJZOTi+GOztrb2/fv3mcPDw78HOjk5OTo6Grn45s2bL1++jFy8feOMnBu/+O3bt5cvX45cHH9sjo+P5dGFPMrJoxd5lJNHL/IIWJRHL/IIWJRHL/IIWJRHL/IIWJRHL/IIWJRHL/IIWJRHL/IIWJRHL/IIWJRHL/IIWJRHL/IIWJRHL/IIWJRHL/IIWJRHL/IIWJRHL/IIWJRHL/IIWJRHL/IIWJRHL/IIWJRHL/IIWJRHL/IIWJRHL/IIWJRHL/IIWJRHL/IIWJRHL/IIWJRHL/IIWJRHL/IIWJRHL/IIWJRHL/IIWJRHL/IIWJRHL/IIWJRHL/IIWJRHL/IIWJRHL/IIWJRHL/IIWPyB8lhfX/99oK2trbW1tZGLS0tLe3t7IxcfPHgwcu7WZDL5c6Dz8/OVlZWRiwcHB9PpdOTi7u7uv3k8e/bsl4Fu23j69OnIxfn5+Z2dnZGLc3NzI+duvXjx4o+BPn36dPs6H7l4dnZ2eno6cvHi4uLm5sblqt74y9Xgh/jjkEc9ecSQRz15xJBHPXnEkEc9ecSQRz15xJBHPXnEkEc9ecSQRz15xJBHPXnEkEc9ecSQRz15xJBHPXnEkEc9ecSQRz15xJBHPXnEkEc9ecSQRz15xJBHPXnEkEc9ecSQRz15xJBHPXnEkEc9ecSQRz15xJBHPXnEkEc9ecSQRz15xJBHPXnEkEc9ecSQRz15xJBHPXnEkEc9ecSQRz15xJBHPXnEkEc9ecSQRz15xJiZTCY/DbSwsPD48eORi/fu3VtZWRm5ODs7+9tYu7u7d32QMs28e/fur4E+fPgwnU5HLm5sbHz8+HHk4tu3b7+OdX19fdcHKZPLVT1XnRjyqCePGPKoJ48Y8qgnjxjyqCePGPKoJ48Y8qgnjxjyqCePGPKoJ48Y8qgnjxjyqCePGPKoJ48Y8qgnjxjyqCePGPKoJ48Y8qgnjxjyqCePGPKoJ48Y8qgnjxjyqCePGPKoJ48Y8qgnjxjyqCePGPKoJ48Y8qgnjxjyqCePGPKoJ48Y8qgnjxjyqCePGPKoJ48Y8qgnjxjyqCePGPKoJ48Y8qgnjxjyqCePGPKoJ48YM3Nzc4sD3b9//8mTJz8PtLy8/OrVq5GL29vbd/1YqTH663F5efn58+eRi/C/yQOa5AFN8oAmeUCTPKBJHtAkD2iSBzTJA5rkAU3ygCZ5QJM8oEke0CQPaJIHNMkDmuQBTfKAJnlAkzygSR7QJA9okgc0yQOa5AFN8oAmeUCTPKBJHtAkD2iSBzTJA5rkAU3ygCZ5QNPM69evR/5r63Q6vbq6uutfDf/JP9nPILDKYGiyAAAAAElFTkSuQmCC\"></div>"
      ],
      "text/plain": [
       "<IPython.core.display.HTML object>"
      ]
     },
     "metadata": {},
     "output_type": "display_data"
    },
    {
     "data": {
      "text/html": [
       "<div style=\"background-color:#e0e0e0;margin:0;padding:10px;\"><img src=\"data:image/png;base64,iVBORw0KGgoAAAANSUhEUgAAAOQAAAC+CAIAAACqIDRLAAAACXBIWXMAAA7EAAAOxAGVKw4bAAAEWUlEQVR4nO3dsWpUeRjG4bkFIREjJmHEItbKWERiI7hgmyIxpoms2MSwjYKN7W5lFe8gCFsHmy2WEMgNmEqwSGtgb2F3FvYKlu/7h1ee5wZe5pzfnPPvzuTBgwdvBnr8+PH6+vrIxbW1tefPn49cvHXr1si5ueXl5ZFzr169mk6nIxefPXt2fHw8efv27d8DHR4evn//fuTi1tbW2dnZyMX5/3/k3PjFi4uLJ0+ejFw8PT0VawuxlhNrF7GWE2sXsZYTaxexlhNrF7GWE2sXsZYTaxexlhNrF7GWE2sXsZYTaxexlhNrF7GWE2sXsZYTaxexlhNrF7GWE2sXsZYTaxexlhNrF7GWE2sXsZYTaxexlhNrF7GWE2sXsZYTaxexlhNrF7GWE2sXsZYTaxexlhNrF7GWE2sXsZYTaxexlhNrF7GWE2sXsZYTaxexlhNrF7GWE2sXsZYTaxexlhNrF7GW+y/WR48e/TbQ06dPNzY2Ri7evXv35cuXIxeXlpZGzs1Np9M/Bjo6Orp///7IxQ8fPvwb62w2+2Wgean37t0buXj79u3Nzc2Ri4uLiyPn5h4+fPj7QJ8+fZq/IUcuzn3//t0xoN74Y8Dgm3hVxFpPrE3EWk+sTcRaT6xNxFpPrE3EWk+sTcRaT6xNxFpPrE3EWk+sTcRaT6xNxFpPrE3EWk+sTcRaT6xNxFpPrE3EWk+sTcRaT6xNxFpPrE3EWk+sTcRaT6xNxFpPrE3EWk+sTcRaT6xNxFpPrE3EWk+sTcRaT6xNxFpPrE3EWk+sTcRaT6xNxFpPrE3EWk+sTcRaT6xNxFpPrE3EWk+sTcRaT6xNxFpPrE3EWk+sTSbT6fSnge7cubOysjJy8caNGy9evPh1oNXV1ZFzc3t7e1cd0giTnZ2dPwd6/fr17u7uyMX9/f2Tk5NvA52fn4+cm7u8vLzqkEb48Y8BHz9+vLi4GLlIE7ESQ6zEECsxxEoMsRJDrMQQKzHESgyxEkOsxBArMcRKDLESQ6zEECsxxEoMsRJDrMQQKzHESgyxEkOsxBArMcRKDLESQ6zEECsxxEoMsRJDrMQQKzHESgyxEkOsxBArMSaLi4trAy0sLFy7dm3k4tLS0pcvX676OlPAk5UYYiWGWIkhVmKIlRhiJYZYiSFWYoiVGGIlhliJIVZiiJUYYiWGWIkhVmKIlRhiJYZYiSFWYoiVGGIlhliJIVZiiJUYYiWGWIkhVmKIlRhiJYZYiSFWYoiVGGIlhliJIVZiiJUYk+vXr4/8dsrNmzdns9nPA21vb19eXl71dabA6Cfr6enp8fHxyEV+GGIlhliJIVZiiJUYYiWGWIkhVmKIlRhiJYZYiSFWYoiVGGIlhliJIVZiiJUYYiWGWIkhVmKIlRhiJYZYiSFWYoiVGGIlhliJIVZiiJUYYiWGWIkhVmKIlRhiJYZYiSFWYkwODg7+Gujz589i5f+ZvHv37s1YX79+vepfTaR/AA7i85eulrEZAAAAAElFTkSuQmCC\"></div>"
      ],
      "text/plain": [
       "<IPython.core.display.HTML object>"
      ]
     },
     "metadata": {},
     "output_type": "display_data"
    },
    {
     "name": "stdout",
     "output_type": "stream",
     "text": [
      "partitions - Group degree: 15, factorization: 5 * 3 = 15\n"
     ]
    },
    {
     "data": {
      "text/html": [
       "<div style=\"background-color:#e0e0e0;margin:0;padding:10px;\"><img src=\"data:image/png;base64,iVBORw0KGgoAAAANSUhEUgAAAjgAAAAnCAIAAACNCKXGAAAACXBIWXMAAA7EAAAOxAGVKw4bAAADLUlEQVR4nO2WPWpCURBGsxAF7bQXBG0sFJeghfZa2GrpGsS/RrRRhBRuIL3bEFeS3ECW8M0EZs7ZwMdczuO8j3a7vXSk3+93u13PxUajMZlMPBcrlYrnXKFarXrOzWazer3uueivTa1Wm8/nnov+2jgv+mvT6XQGg4Hnor82zt/+8j+0ORwOH6vV6tuR/X6/Xq89F8fj8fP59Fws7fec8198v9/D4dBz0V+bcmA503MRbeQUZ4o5notoI6e8J6EyIYM6hEoO2sghVAEWCZUVGdQhVHLQRg6hCrBIqKzIoA6hkoM2cghVgEVCZUUGdQiVHLSRQ6gCLBIqKzKoQ6jkoI0cQhVgkVBZkUEdQiUHbeQQqgCLhMqKDOoQKjloI4dQBVgkVFZkUIdQyUEbOYQqwCKhsiKDOoRKDtrIIVQBFgmVFRnUIVRy0EYOoQqwSKisyKAOoZKDNnIIVYBFQmVFBnUIlRy0kUOoAiwSKisyqEOo5KCNHEIVYJFQWZFBHUIlB23kEKoAi4TKigzqECo5aCOHUAVYJFRWZFCHUMlBGzmEKsAiobIigzqESg7ayCFUARYJlRUZ1CFUctBGDqEKsEiorMigDqGSgzZyCFWARUJlRQZ1CJUctJFDqAIsEiorMqhDqOSgjRxCFWCRUFmRQR1CJQdt5BCqAIuEyooM6hAqOWgjh1AFWCRUVmRQh1DJQRs5hCrAIqGyIoM6hEoO2sghVAEWCZUVGdQhVHLQRg6hCrBIqKzIoA6hkoM2cghVgEVCZUUGdQiVHLSRQ6gCLBIqKzKoQ6jkoI0cQhVgkVBZkUEdQiUHbeQQqgCLhMqKDOoQKjloI4dQBVgkVFZkUIdQyUEbOYQqwCKhsiKDOoRKDtrIIVQBFgmVFRnUIVRy0EYOoQqwSKisyKAOoZKDNnIIVYDFv1CNRqMvRxaLxXQ69Vzs9XqbzcZzsdlses75L95ut1ar5bnor005sJzpuYg2coozxRzPRbSRU97zN1SPx+PTkcvlcjqdPBePx+P1evVc3G63nnP+i/f7vfyoei76a7Pb7cqZnosZtCmv6rlYnDmfz56LaGPB6/X6AfPHjM9FQtimAAAAAElFTkSuQmCC\"></div>"
      ],
      "text/plain": [
       "<IPython.core.display.HTML object>"
      ]
     },
     "metadata": {},
     "output_type": "display_data"
    },
    {
     "data": {
      "text/html": [
       "<div style=\"background-color:#e0e0e0;margin:0;padding:10px;\"><img src=\"data:image/png;base64,iVBORw0KGgoAAAANSUhEUgAAAewAAABNCAIAAADrf8DIAAAACXBIWXMAAA7EAAAOxAGVKw4bAAADt0lEQVR4nO3YPUqdURSG0TsQBe20slAUruAtVCwEb2uhlY0WFmliaZuAheBPJVqJkCnE2jFoEcSBSPJlDnvvcE7WmsDLJ2c/iY7W1ta+Ftra2lpfX69cXFhYODg4qFycmZmpnBvMzs5Wzh0fH8/Pz1cu1j+bubm5k5OTysX6Z1O8WP9sxuPx9vZ25WL9s5lOp6Ozs7PfhW5ubs7PzysX9/f3X15eKheHfxcr5+oXPz4+dnZ2Khfrn83wgcNnVi56NuGGNzO8nMrF+mczBFzE47nGcCLewaKIZxDxFK4xnIh3sCjiGUQ8hWsMJ+IdLIp4BhFP4RrDiXgHiyKeQcRTuMZwIt7BoohnEPEUrjGciHewKOIZRDyFawwn4h0singGEU/hGsOJeAeLIp5BxFO4xnAi3sGiiGcQ8RSuMZyId7Ao4hlEPIVrDCfiHSyKeAYRT+Eaw4l4B4sinkHEU7jGcCLewaKIZxDxFK4xnIh3sCjiGUQ8hWsMJ+IdLIp4BhFP4RrDiXgHiyKeQcRTuMZwIt7BoohnEPEUrjGciHewKOIZRDyFawwn4h0singGEU/hGsOJeAeLIp5BxFO4xnAi3sGiiGcQ8RSuMZyId7Ao4hlEPIVrDCfiHSyKeAYRT+Eaw4l4B4sinkHEU7jGcCLewaKIZxDxFK4xnIh3sCjiGUQ8hWsMJ+IdLIp4BhFP4RrDiXgHiyKeQcRTuMZwIt7BoohnEPEUrjGciHewKOIZRDyFawwn4h0singGEU/hGsOJeAeLIp5BxFO4xnAi3sGiiGcQ8RSuMZyId7Ao4hlEPIVrDCfiHSyKeIa/EZ9MJt8L7e7ubmxsVC4uLS1dXFz8LLS4uFg5V7/4+Pi4srJSuXh6enp4eFi5OHzg8JmVi55NuOHNDC+ncrH+2RwdHY1WV1e/FBoKvry8XLk4Ho8vLy9/FLq6uqqcq198enoa/oNTufjw8HB3d1e5eH19PXxm5eL/8GyGn2rl4vBm7u/vKxfrn83z83P/f065vb0t/gUHoIyIAzRMxAEaJuIADRNxgIaJOEDDRBygYSIO0DARB2iYiAM0TMQBGibiAA0TcYCGiThAw0QcoGEiDtAwEQdomIgDNEzEARom4gANE3GAhok4QMNEHKBhIg7QMBEHaJiIAzRMxAEaJuIADRNxgIaJOEDDRBygYSIO0DARB2iYiAM0TMQBGibiAA0bTSaTb4X29vY2NzcrF6fTqYgDvRoNgftV6O3t7fX1tXLx/f398/PzX/+cAVL8AXCdKRGZPtAaAAAAAElFTkSuQmCC\"></div>"
      ],
      "text/plain": [
       "<IPython.core.display.HTML object>"
      ]
     },
     "metadata": {},
     "output_type": "display_data"
    },
    {
     "data": {
      "text/html": [
       "<div style=\"background-color:#e0e0e0;margin:0;padding:10px;\"><img src=\"data:image/png;base64,iVBORw0KGgoAAAANSUhEUgAAAccAAABNCAIAAABcwjjvAAAACXBIWXMAAA7EAAAOxAGVKw4bAAAD8UlEQVR4nO3YMUpYaRSGYReSYJJKmzQRAwpaJMFCtLJIoY2FaGExzVimzEytdqJVEAZcwfQuQRSZQnAB9haTO3v4znHI/zwbONx7P1/FmY8fP/7e6PPnz8vLy50X5+bmtre3Oy++evWq89zk9evXnef29/ffvn3bebF/Nm/evDk4OOi82D+b5ov9s1laWvry5UvnxZWVlaenp5mjo6N/G52enn779q3z4tevX6+vrzsvTr+oOs/1X3x4eFhbW+u82D+b6QGnx+y8aDZx02am5XRe/P79u6qW8OMRp6q/wEVVraKqv8BFVa1gNnGqWkVV41S1gtnEqWoVVY1T1QpmE6eqVVQ1TlUrmE2cqlZR1ThVrWA2capaRVXjVLWC2cSpahVVjVPVCmYTp6pVVDVOVSuYTZyqVlHVOFWtYDZxqlpFVeNUtYLZxKlqFVWNU9UKZhOnqlVUNU5VK5hNnKpWUdU4Va1gNnGqWkVV41S1gtnEqWoVVY1T1QpmE6eqVVQ1TlUrmE2cqlZR1ThVrWA2capaRVXjVLWC2cSpahVVjVPVCmYTp6pVVDVOVSuYTZyqVlHVOFWtYDZxqlpFVeNUtYLZxKlqFVWNU9UKZhOnqlVUNU5VK5hNnKpWUdU4Va1gNnGqWkVV41S1gtnEqWoVVY1T1QpmE6eqVVQ1TlUrmE2cqlZR1ThVrWA2capaRVXjVLWC2cSpahVVjVPVCmYTp6pVVDVOVSuYTZyqVlHVOFWtYDZxqlpFVeNUtYLZxL1YVVdXV/9stL6+vrKy0nlxfn5+b2+v8+Ls7OzfvaZn7Dz348ePhYWFzouHh4c7OzudF6cHnB6z82LzR+y/2D+baTPTcjov7u7u/lfVxcXF3xpNSf3w4UPnxXfv3m1tbXVenB7wr17Hx8ed5y4vL6c/ATovXlxcnJ2ddV48OTmZHrPzYvNH7L84vc/prXZenDZzfn7eefHq6ur5+dl/APKaXynwv6KqeaoKI1PVPFWFkalqnqrCyFQ1T1VhZKqap6owMlXNU1UYmarmqSqMTFXzVBVGpqp5qgojU9U8VYWRqWqeqsLIVDVPVWFkqpqnqjAyVc1TVRiZquapKoxMVfNUFUamqnmqCiNT1TxVhZGpap6qwshUNU9VYWSqmqeqMDJVzVNVGJmq5qkqjExV81QVRqaqeaoKI1PVPFWFkalqnqrCyFQ1T1VhZKqap6owMlXNU1UYmarmqSqMTFXzVBVGpqp5qgojU9U8VYWRqWqeqsLIZlZXV/9otLm5+enTp86L79+/Pzg46Ly4sbHx0p8VeDEzDw8P/zS6u7u7vb3tvHhzc3N/f9958fHx8aU/K/BifgI0+u/D0KqJcgAAAABJRU5ErkJggg==\"></div>"
      ],
      "text/plain": [
       "<IPython.core.display.HTML object>"
      ]
     },
     "metadata": {},
     "output_type": "display_data"
    },
    {
     "data": {
      "text/html": [
       "<div style=\"background-color:#e0e0e0;margin:0;padding:10px;\"><img src=\"data:image/png;base64,iVBORw0KGgoAAAANSUhEUgAAAaEAAABNCAIAAACAO0zYAAAACXBIWXMAAA7EAAAOxAGVKw4bAAAD0klEQVR4nO3XsS78aRTHYTehkBBGRaMhFMQUJAqJhkJBoxBTKLZZpUaxW6OTqESytW5LiSsQIbLF1BK38N/f3sM5x7u/PM8NfPOOk8+YibW1td8LbW9vr6+vVy4uLCwcHR1VLk5PT1fOdWZmZirnzs7OBoNB5WL92czNzY1Go8rF+rMpXqw/m/39/efn54mLi4tfhW5vby8vLysXDw8PX15eKhe7r43KufrF8Xi8s7NTuVh/Nt0Du2dWLjqbcE9PTxqXwrGG07geLGpcFo0Lp3EZnE04jcviWMNpXA8WNS6LxoXTuAzOJpzGZXGs4TSuB4sal0XjwmlcBmcTTuOyONZwGteDRY3LonHhNC6DswmncVkcaziN68GixmXRuHAal8HZhNO4LI41nMb1YFHjsmhcOI3L4GzCaVwWxxpO43qwqHFZNC6cxmVwNuE0LotjDadxPVjUuCwaF07jMjibcBqXxbGG07geLGpcFo0Lp3EZnE04jcviWMNpXA8WNS6LxoXTuAzOJpzGZXGs4TSuB4sal0XjwmlcBmcTTuOyONZwGteDRY3LonHhNC6DswmncVkcaziN68GixmXRuHAal8HZhNO4LI41nMb1YFHjsmhcOI3L4GzCaVwWxxpO43qwqHFZNC6cxmVwNuE0LotjDadxPVjUuCwaF07jMjibcBqXxbGG07geLGpcFo0Lp3EZnE04jcviWMNpXA8Wf6xxw+Hwz0K7u7ubm5uVi4uLi6enp5WLU1NTlXOdwWDwd6GHh4eVlZXKxfPz8+Pj48rF7oHdMysXu0OtnKtfrD+bq6ur/xq3urr6W6EucMvLy5WL8/PzBwcHlYuTk5OVc52NjY2/Cj0+Pnb/WFUu3t/f393dVS7e3Nx0z6xcvL6+rpyrX+w+z+5TrVzsfH9/+60ar/5HR/EfEf5HNC6exkE7NC6exkE7NC6exkE7NC6exkE7NC6exkE7NC6exkE7NC6exkE7NC6exkE7NC6exkE7NC6exkE7NC6exkE7NC6exkE7NC6exkE7NC6exkE7NC6exkE7NC6exkE7NC6exkE7NC6exkE7NC6exkE7NC6exkE7NC6exkE7NC6exkE7NC6exkE7NC6exkE7NC6exkE7NC6exkE7NC6exkE7NC6exkE7NC6exkE7NC6exkE7NC6exkE7NC6exkE7NC6exkE7NC6exkE7NC6exkE7JobD4R+F9vb2tra2KheXlpZGo1Hl4uzsbOVc5+Tk5KcPCRo1MR6P/yn08fHx/v5eufj29vb5+Vm5+Pr6WjnX+fr6+ulDgkb9C1WM43lr0xNvAAAAAElFTkSuQmCC\"></div>"
      ],
      "text/plain": [
       "<IPython.core.display.HTML object>"
      ]
     },
     "metadata": {},
     "output_type": "display_data"
    },
    {
     "data": {
      "text/html": [
       "<div style=\"background-color:#e0e0e0;margin:0;padding:10px;\"><img src=\"data:image/png;base64,iVBORw0KGgoAAAANSUhEUgAAAXsAAABNCAIAAADICFNYAAAACXBIWXMAAA7EAAAOxAGVKw4bAAADzElEQVR4nO3XMUpccRSF8dmEgqA4WmmhjTIWglMoWAjaWFhoK75ChjQRK+1MarUTrERIZZ/eFYgoQ4rZgbiB5AXS3ibccyUn328Dlz8cPt7rrKysfC60sbGxurpaeXFubm5/f7/y4uTkZOW51tTUVOW5o6OjmZmZyov1s+l2u03TVF6sn03xxcFgcHFx0Tk5OflZ6Pr6+uzsrPLi3t7e4+Nj5cU24pXn6i+ORqPNzc3Ki/WzaR/YPrPyov1s3t7eKI6E/XQojoL9bCiOiv10KI6C/Wwojor9dCiOgv1sKI6K/XQojoL9bCiOiv10KI6C/Wwojor9dCiOgv1sKI6K/XQojoL9bCiOiv10KI6C/Wwojor9dCiOgv1sKI6K/XQojoL9bCiOiv10KI6C/Wwojor9dCiOgv1sKI6K/XQojoL9bCiOiv10KI6C/Wwojor9dCiOgv1sKI6K/XQojoL9bCiOiv10KI6C/Wwojor9dCiOgv1sKI6K/XQojoL9bCiOiv10KI6C/Wwojor9dCiOgv1sKI6K/XQojoL9bCiOiv10KI6C/Wwojor9dCiOgv1sKI6K/XQojoL9bCiOiv10KI6C/Wwojor9dCiOgv1sKI6K/XQojoL9bCiOiv10KI6C/Wwojor9dCiOgv1sKI6K/XQojoL9bCiOiv10KI6C/Wwojor9dCiOgv1sKI6K/XQojoL9bCiOiv10KI6C/Wz+FKff738ttLW1tba2Vnlxfn7+8PCw8uLExETlufqLp6enCwsL3wsdHx8fHBxUXlxeXr67u6u82A618lz9xYeHh9/F6fV6nwq1uVlaWqq8ODs7u7u7W3lxbGys8lxrfHy88lzTNDs7O98K3d7e3tzcVF68urq6v7+vvHh5eVl57kMuDodD/qry/Sefx5UXYYPi5KM4QITi5KM4QITi5KM4QITi5KM4QITi5KM4QITi5KM4QITi5KM4QITi5KM4QITi5KM4QITi5KM4QITi5KM4QITi5KM4QITi5KM4QITi5KM4QITi5KM4QITi5KM4QITi5KM4QITi5KM4QITi5KM4QITi5KM4QITi5KM4QITi5KM4QITi5KM4QITi5KM4QITi5KM4QITi5KM4QITi5KM4QITi5KM4QITi5KM4QITi5KM4QITi5KM4QITi5KM4QITi5KM4QITi5KM4QITi5KM4QKTT7/e/FNre3l5fX6+8uLi42DRN5cXp6enKc61ut1t57vz8nOLg73RGo9GPQq+vry8vL5UXn5+fh8Nh5cWnp6fKcx9y8f39/aOni3/SL/LzzuOmeYf+AAAAAElFTkSuQmCC\"></div>"
      ],
      "text/plain": [
       "<IPython.core.display.HTML object>"
      ]
     },
     "metadata": {},
     "output_type": "display_data"
    },
    {
     "data": {
      "text/html": [
       "<div style=\"background-color:#e0e0e0;margin:0;padding:10px;\"><img src=\"data:image/png;base64,iVBORw0KGgoAAAANSUhEUgAAAaEAAAByCAIAAAB1F/mgAAAACXBIWXMAAA7EAAAOxAGVKw4bAAAD5UlEQVR4nO3XvUrcaRjGYU/DEAKKjTYDSVAUMRYBF1LY+sGUKRU2Tco0NgsWgppKsAqBrdNtsYXgEdhLCltPYTN7Ds/zznLvdZ3Azfvn4cfMwmQy+TjQ1tbW69evRy4uLy/v7++PXFxcXBw5N/PixYuRc4eHhy9fvhy5OP5sZg88Ojoauehsyu3t7d3d3S18/vz5n4Gur6+/fPkycvHg4OD+/n7k4sbGxsi58Ys/f/6cXc/IxfFnM3vg7JkjF51NuR8/fmhcC8daTuMCFjWui8aV07gOzqacxnVxrOU0LmBR47poXDmN6+BsymlcF8daTuMCFjWui8aV07gOzqacxnVxrOU0LmBR47poXDmN6+BsymlcF8daTuMCFjWui8aV07gOzqacxnVxrOU0LmBR47poXDmN6+BsymlcF8daTuMCFjWui8aV07gOzqacxnVxrOU0LmBR47poXDmN6+BsymlcF8daTuMCFjWui8aV07gOzqacxnVxrOU0LmBR47poXDmN6+BsymlcF8daTuMCFjWui8aV07gOzqacxnVxrOU0LmBR47poXDmN6+BsymlcF8daTuMCFjWui8aV07gOzqacxnVxrOU0LmBR47poXDmN6+BsymlcF8daTuMCFjWui8aV07gOzqacxnVxrOU0LmBR47poXDmN6+BsymlcF8daTuMCFjWui8aV07gOzqacxnVxrOU0LmBxbo179+7dHwN9+PBhZ2dn5OJkMjk/P/9roNXV1ZFz4xe/ffv29u3bkYsnJyfT6XTk4uyBs2eOXHQ25c7Ozv5t3Pr6+u8DzQL35s2bkYtbW1sXFxd/DnR5eTlybvzi9+/fZz+sRi7e3t7e3NyMXLy6upo9c+Ti/+FsZl915OLM8/Nz/n/Vr1+/Dv7TAfx3aByQTOOAZBoHJNM4IJnGAck0DkimcUAyjQOSaRyQTOOAZBoHJNM4IJnGAck0DkimcUAyjQOSaRyQTOOAZBoHJNM4IJnGAck0DkimcUAyjQOSaRyQTOOAZBoHJNM4IJnGAck0DkimcUAyjQOSaRyQTOOAZBoHJFtYWlr6baCVlZVXr16NXFxbW3t4eJj3dwbmY+H4+PjvgU5PT6fT6cjFT58+PT4+zvs7A/PhvyqQTOOAZBoHJNM4IJnGAck0DkimcUAyjQOSaRyQTOOAZBoHJNM4IJnGAck0DkimcUAyjQOSaRyQTOOAZBoHJNM4IJnGAck0DkimcUAyjQOSaRyQTOOAZBoHJNM4IJnGAck0DkimcUAyjQOSaRyQTOOAZBoHJNM4INnC9vb2x4F2d3c3NzdHLr5///7p6Wne3xmYj18vwJ1NT4qIXQAAAABJRU5ErkJggg==\"></div>"
      ],
      "text/plain": [
       "<IPython.core.display.HTML object>"
      ]
     },
     "metadata": {},
     "output_type": "display_data"
    },
    {
     "data": {
      "text/html": [
       "<div style=\"background-color:#e0e0e0;margin:0;padding:10px;\"><img src=\"data:image/png;base64,iVBORw0KGgoAAAANSUhEUgAAAVUAAABNCAIAAACZnGA7AAAACXBIWXMAAA7EAAAOxAGVKw4bAAADoElEQVR4nO3WMUqkaRhF4dqEgqhYJQiamCgaCFagYCCIgoKBkYFlJcoko5lpd6wuQYSOzToUTExVFO3AZRjNfLOHc9+B7vNs4PLDez7+zvLy8t+F1tfXV1ZWKhdnZ2cPDg4qFycmJirnmsnJycq54+PjXq9XuVh/Nt1udzgcVi7Wn81gMOicnZ39U+j6+vri4qJycX9//+HhoXKxPamVc/WLn5+fGxsblYv1Z9M+sH1m5WL92bT27Z9n/zj7T7D/CPvH2X+C/UfYP87+E+w/wv5x9p9g/xH2j7P/BPuPsH+c/SfYf4T94+w/wf4j7B9n/wn2H2H/OPtPsP8I+8fZf4L9R9g/zv4T7D/C/nH2n2D/EfaPs/8E+4+wf5z9J9h/hP3j7D/B/iPsH2f/CfYfYf84+0+w/wj7x9l/gv1H2D/O/hPsP8L+cfafYP8R9o+z/wT7j7B/nP0n2H+E/ePsP8H+I+wfZ/8J9h9h/zj7T7D/CPvH2X+C/UfYP87+E+w/wv5x9p9g/xH2j7P/BPuPsH+c/SfYf4T94+w/wf4j7B9n/wn2H2H/OPtPsP8I+8fZf4L9R9g/zv4T/uu/3+9/L7S5ubm6ulq5ODc3d3R0VLk4NjZWOVe/2O6m1+tVLm5vb+/t7f0stLi4eHNzU7nYDrVyrjk9Pe0sLS39VajFv7CwULk4PT29u7tbuTgyMlI514yOjlbOHR4ejo+PVy7u7OycnJz8KHR1dXV7e1u5eHl5WTnXPD4++v/P8/8fd39/f3d3V7n4h7B/nv3j7D/E/nn2j7P/EPvn2T/O/kPsn2f/OPsPsX+e/ePsP8T+efaPs/8Q++fZP87+Q+yfZ/84+w+xf5794+w/xP559o+z/xD759k/zv5D7J9n/zj7D7F/nv3j7D/E/nn2j7P/EPvn2T/O/kPsn2f/OPsPsX+e/ePsP8T+efaPs/8Q++fZP87+Q+yfZ/84+w+xf5794+w/xP559o+z/xD759k/zv5D7J9n/zj7D7F/nv3j7D/E/nn2j7P/EPvn2T/O/kPsn2f/OPsPsX+e/ePsP8T+efaPs/8Q++fZP87+Q+yfZ/84+w+xf5794+w/xP559o+z/xD759k/zv5DOv1+/1uhra2ttbW1ysX5+fnhcFi5ODU1VTnXdLvdyrnz8/OZmZnKxcFgYP8JnfaW/yr09vb2+vpaufjy8vL+/l65+PT0VDlXv/jx8fH8/Fy52Hx9ff3fsfyG/gXHBq0/J80ZCgAAAABJRU5ErkJggg==\"></div>"
      ],
      "text/plain": [
       "<IPython.core.display.HTML object>"
      ]
     },
     "metadata": {},
     "output_type": "display_data"
    },
    {
     "data": {
      "text/html": [
       "<div style=\"background-color:#e0e0e0;margin:0;padding:10px;\"><img src=\"data:image/png;base64,iVBORw0KGgoAAAANSUhEUgAAAXsAAAByCAIAAAA9JOYgAAAACXBIWXMAAA7EAAAOxAGVKw4bAAAEb0lEQVR4nO3XsUqcaRTHYW/CYiQgM51NBBXFIKZ0IYUIFlEJQiBCihRbWVq62wU0kCJgJcJWFulW2ELwCsRm2CK1Te5g91vY9oWwvOe4HJ7nBg4v8+fHfDOLi4vvEr148WJpaSnz4mQy2d7ezrw4Go0yzw3m5uYyz+3t7T179izzYv5shgfu7+9nXiw/m8PDw9PT05nj4+O/En369Onk5CTz4uvXr+/u7jIvrq2tZZ7Lv/jt27etra3Mi/mzGR44PDPzYvnZfP/+XXFClJ+O4kQoPxvFiVJ+OooTofxsFCdK+ekoToTys1GcKOWnozgRys9GcaKUn47iRCg/G8WJUn46ihOh/GwUJ0r56ShOhPKzUZwo5aejOBHKz0ZxopSfjuJEKD8bxYlSfjqKE6H8bBQnSvnpKE6E8rNRnCjlp6M4EcrPRnGilJ+O4kQoPxvFiVJ+OooTofxsFCdK+ekoToTys1GcKOWnozgRys9GcaKUn47iRCg/G8WJUn46ihOh/GwUJ0r56ShOhPKzUZwo5aejOBHKz0ZxopSfjuJEKD8bxYlSfjqKE6H8bBQnSvnpKE6E8rNRnCjlp6M4EcrPRnGilJ+O4kQoPxvFiVJ+OooTofxsFCdK+ekoToTys1GcKOWnozgRys9GcaKUn47iRCg/G8WJUn46ihOh/GwUJ0r56ShOhPKzUZwo5aejOBHKz0ZxopSfjuJEKD8bxYlSfjqKE6H8bBQnSvnpKE6E8rP5tzgvX778NdGrV682NzczLy4sLBwdHWVeHI1GmecG4/H490SXl5crKyuZFz98+PDmzZvMi8MDh2dmXhyGmnku/+L19fU/xVldXf050ZCb5eXlzIuTyWR3dzfz4uzsbOa5wcbGxm+Jrq6uhj8dmRcvLi6+fPmSefH8/Hx4ZubFs7OzzHNPcnE6nfqq6i//73Hyjwj/meL0pzjQojj9KQ60KE5/igMtitOf4kCL4vSnONCiOP0pDrQoTn+KAy2K05/iQIvi9Kc40KI4/SkOtChOf4oDLYrTn+JAi+L0pzjQojj9KQ60KE5/igMtitOf4kCL4vSnONCiOP0pDrQoTn+KAy2K05/iQIvi9Kc40KI4/SkOtChOf4oDLYrTn+JAi+L0pzjQojj9KQ60KE5/igMtitOf4kCL4vSnONCiOP0pDrQoTn+KAy2K05/iQIvi9Kc40KI4/SkOtChOf4oDLTPj8finRAsLC+vr678kev78+fv37zMvzs/PZ54bvH379qmHBD9k5uDg4I9EHz9+/Pz585+JHh4eptNp5sX7+/vMc4PHx8enHhL8kOyvqtvb269fv2ZeBP4/FAfIozhAHsUB8igOkEdxgDyKA+RRHCCP4gB5FAfIozhAHsUB8igOkEdxgDyKA+RRHCCP4gB5FAfIozhAHsUB8igOkEdxgDyKA+RRHCCP4gB5FAfIozhAHsUB8igOkEdxgDyKA+RRHCCP4gB5FAfIozhAHsUB8sxsbGy8S7Szs3Nzc/PUrwaext/KzSQvfJdeMAAAAABJRU5ErkJggg==\"></div>"
      ],
      "text/plain": [
       "<IPython.core.display.HTML object>"
      ]
     },
     "metadata": {},
     "output_type": "display_data"
    },
    {
     "data": {
      "text/html": [
       "<div style=\"background-color:#e0e0e0;margin:0;padding:10px;\"><img src=\"data:image/png;base64,iVBORw0KGgoAAAANSUhEUgAAAS8AAAByCAIAAACN28ASAAAACXBIWXMAAA7EAAAOxAGVKw4bAAAEA0lEQVR4nO3WzyrtbRjGcSdBLRRrlcGaUIhIZOQtA1ZR/gyU2mSi9oiZ6d4zA8oJSL1jA/Wqd6AcASbsgcMw2vt3DLvrut3dvp8TuLrr+dbTNzEx8S3Q/Pz85ORk5GKn01lbW4tcbLVakXONwcHByLnt7e3h4eHIxfhn0xy4s7MTubi8vNx3cnLyO9Dl5eXZ2Vnk4tbW1uPjY+Ti7Oxs5Fz84vv7+8rKSuRi/LNpDmzOjFxsSqRGPWqUo0YLaiywSI0O1GhBjXLUaEGNBRap0YEaLahRjhotqLHAIjU6UKMFNcpRowU1FlikRgdqtKBGOWq0oMYCi9ToQI0W1ChHjRbUWGCRGh2o0YIa5ajRghoLLFKjAzVaUKMcNVpQY4FFanSgRgtqlKNGC2ossEiNDtRoQY1y1GhBjQUWqdGBGi2oUY4aLaixwCI1OlCjBTXKUaMFNRZYpEYHarSgRjlqtKDGAovU6ECNFtQoR40W1FhgkRodqNGCGuWo0YIaCyxSowM1WlCjHDVaUGOBRWp0oEYLapSjRgtqLLBIjQ7UaEGNcl+lxqWlpZ+BVldXFxcXIxe73e7BwUHkYqvVipyLX2zeTbvdjlxcX1/f3Nz8L9D09PT19XXk4t7eXt/MzMz3QE2KU1NTkYudTmdjYyNysb+/P3KuMTAwEDm3v78/NDQUudjr9Y6Pj/8NdHFxcXNzE7l4d3fHT1WPn6rcw8PD7e1t5OKnoEY9apSjRgtqLLBIjSbUqEeNctRoQY0FFqnRhBr1qFGOGi2oscAiNZpQox41ylGjBTUWWKRGE2rUo0Y5arSgxgKL1GhCjXrUKEeNFtRYYJEaTahRjxrlqNGCGgssUqMJNepRoxw1WlBjgUVqNKFGPWqUo0YLaiywSI0m1KhHjXLUaEGNBRap0YQa9ahRjhotqLHAIjWaUKMeNcpRowU1FlikRhNq1KNGOWq0oMYCi9RoQo161ChHjRbUWGCRGk2oUY8a5ajRghoLLFKjCTXqUaMcNVpQY4FFajShRj1qlKNGC2ossEiNJtSoR41yX6XGdrv9T6Butzs3N/cj0Pj4+NHRUeTiyMhI5FxjdHQ0cu709HRsbCxy8fDw8EvUuLu7+3+g8/Pzq6urX4FeXl5eX18jF5+eniLn4hff3t6en58jFxsfHx+fHYtd9E/1i3w5gL9AjUAW1AhkQY1AFtQIZEGNQBbUCGRBjUAW1AhkQY1AFtQIZEGNQBbUCGRBjUAW1AhkQY1AFtQIZEGNQBbUCGRBjUAW1AhkQY1AFtQIZEGNQBbUCGRBjUAW1AhkQY1AFtQIZEGNQBbUCGRBjUAW1AhkQY1AFtQIZEGNQBZ9CwsL3wL1er37+/vPvhrI6A/UuyGIDmUkwQAAAABJRU5ErkJggg==\"></div>"
      ],
      "text/plain": [
       "<IPython.core.display.HTML object>"
      ]
     },
     "metadata": {},
     "output_type": "display_data"
    },
    {
     "data": {
      "text/html": [
       "<div style=\"background-color:#e0e0e0;margin:0;padding:10px;\"><img src=\"data:image/png;base64,iVBORw0KGgoAAAANSUhEUgAAAOQAAAByCAIAAADMCuqEAAAACXBIWXMAAA7EAAAOxAGVKw4bAAADfklEQVR4nO3WMUqjYRhF4axBUYiKJEELsRBUlIhoOgckCCLBIDaCio0wlXa2M7W4BHdgP4XgCrTTwmVYzURwCee+AzPn2cCF/zv8vI2lpaXTQhsbG8vLy5WLnU5nb2+vcrHZbFbOjUxNTVXODYfDmZmZysV+v//w8NC4urr6Xeju7u7m5qZy8fDw8OnpqXJxfX29cq5+8f39fWdnp3Lx8fHRWCOMFWesKcaKM9YUY8UZa4qx4ow1xVhxxppirDhjTTFWnLGmGCvOWFOMFWesKcaKM9YUY8UZa4qx4ow1xVhxxppirDhjTTFWnLGmGCvOWFOMFWesKcaKM9YUY8UZa4qx4ow1xVhxxppirDhjTTFWnLGmGCvOWFOMFWesKcaKM9YUY8UZa4qx4ow1xVhxxppirDhjTTFWnLGmGCvOWFOMFWesKcaKM9YUY8V9xbq9vf2z0O7u7tbWVuXiwsLC2dlZ5WKz2aycq18c/eDa7Xbl4sXFxf39fWNtbe17oVGpKysrlYudTufg4KBycWJionJuZHJysnLu5ORkenq6cnEwGHzG6hmA8wzAebOmGCvOWFOMFWesKcaKM9YUY8UZa4qx4ow1xVhxxppirDhjTTFWnLGmGCvOWFOMFWesKcaKM9YUY8UZa4qx4ow1xVhxxppirDhjTTFWnLGmGCvOWFOMFWesKcaKM9YUY8UZa4qx4ow1xVhxxppirDhjTTFWnLGmGCvOWFOMFWesKcaKM9YUY8UZa4qx4ow1xVhxxppirDhjTTFWnLGmGCvOWFOMFWesKcaK+4q13W5/KzQ3Nzc7O1u5OD4+vrq6Wrk4Njb2o1ar1aqcu76+np+fr1w8Pz//jPXo6OhXocvLy+Pj48rFXq93e3tbuTgcDt9qPT8/V869vr6+vLxULo58fHx4BvCKP+n/w1h5xhpirDxjDTFWnrGGGCvPWEOMlWesIcbKM9YQY+UZa4ix8ow1xFh5xhpirDxjDTFWnrGGGCvPWEOMlWesIcbKM9YQY+UZa4ix8ow1xFh5xhpirDxjDTFWnrGGGCvPWEOMlWesIcbKM9YQY+UZa4ix8ow1xFh5xhpirDxjDTFWnrGGGCvPWEOMlWesIcbKM9YQY+UZa4ix8ow1xFh5xhpirDxjDTFWnrGGNDY3N08L9Xq9brdbubi4uLi/v1+52O/3//az/pv+AArxf21q36kfAAAAAElFTkSuQmCC\"></div>"
      ],
      "text/plain": [
       "<IPython.core.display.HTML object>"
      ]
     },
     "metadata": {},
     "output_type": "display_data"
    },
    {
     "data": {
      "text/html": [
       "<div style=\"background-color:#e0e0e0;margin:0;padding:10px;\"><img src=\"data:image/png;base64,iVBORw0KGgoAAAANSUhEUgAAAVUAAAByCAIAAABssNVDAAAACXBIWXMAAA7EAAAOxAGVKw4bAAAD8ElEQVR4nO3WvUq0VxSG4TkJwRFRZrCxElQUZVALwYCFjYU/2CifnUoqS9uk9qcSrETIKaQINja2timmsPIgkjfnsNY2+9vXdQIPe1g38/YWFhZ+FLS+vr64uFhycTgc7u3tlVzs9/sl5zpTU1Ml5w4PD6enp0sulj+b7oFHR0clF8ufTad3fX39T0H39/c3NzclFw8ODt7e3kourq6ulpwrvzgej3d2dkoulj+b7oHdM0sulj+brn39x9N/OP1n0H8K/YfTfwb9p9B/OP1n0H8K/YfTfwb9p9B/OP1n0H8K/YfTfwb9p9B/OP1n0H8K/YfTfwb9p9B/OP1n0H8K/YfTfwb9p9B/OP1n0H8K/YfTfwb9p9B/OP1n0H8K/YfTfwb9p9B/OP1n0H8K/YfTfwb9p9B/OP1n0H8K/YfTfwb9p9B/OP1n0H8K/YfTfwb9p9B/OP1n0H8K/YfTfwb9p9B/OP1n0H8K/YfTfwb9p9B/OP1n0H8K/YfTfwb9p9B/OP1n0H8K/YfTfwb9p9B/OP1n0H8K/YfTfwb9p9B/OP1n0H8K/YfTfwb9p9B/OP1n0H8K/YfTfwb9p9B/OP1n+K//zc3N3wva3d3d2NgouTg/P39+fl5ysd/vl5zrDAaDPwt6fn5eXl4uuXhxcXFyclJysXtg98ySi92hlpzrXF1d9VZWVn4tqIt/aWmp5OJwONzf3y+5ODExUXKuMxqN/ijo5eWl+0Muufj09PT4+Fhy8e7urntmycXb29uSc53393ff//G+5UOu8CI/B/3H0z+10H88/VML/cfTP7XQfzz9Uwv9x9M/tdB/PP1TC/3H0z+10H88/VML/cfTP7XQfzz9Uwv9x9M/tdB/PP1TC/3H0z+10H88/VML/cfTP7XQfzz9Uwv9x9M/tdB/PP1TC/3H0z+10H88/VML/cfTP7XQfzz9Uwv9x9M/tdB/PP1TC/3H0z+10H88/VML/cfTP7XQfzz9Uwv9x9M/tdB/PP1TC/3H0z+10H88/VML/cfTP7XQfzz9Uwv9x9M/tegNBoNfCpqbm5uZmSm5ODk5eXZ29ltBs7OzJec6p6en331IVKl3fHz8V0GXl5cnJyclFy8uLl5fX/8u6OPjo+Rc5+vr67sPiSr9/N//Dw8P4/G45CLUQv/QLv1Du/QP7dI/tEv/0C79Q7v0D+3SP7RL/9Au/UO79A/t0j+0S//QLv1Du/QP7dI/tEv/0C79Q7v0D+3SP7RL/9Au/UO79A/t0j+0S//QLv1Du/QP7dI/tEv/0C79Q7v0D+3SP7RL/9Au/UO79A/t6o1Gox8FbW1tra2tlVzc3t7+/Pz87t8Z/o/+BaO5m+oqZ5mrAAAAAElFTkSuQmCC\"></div>"
      ],
      "text/plain": [
       "<IPython.core.display.HTML object>"
      ]
     },
     "metadata": {},
     "output_type": "display_data"
    },
    {
     "data": {
      "text/html": [
       "<div style=\"background-color:#e0e0e0;margin:0;padding:10px;\"><img src=\"data:image/png;base64,iVBORw0KGgoAAAANSUhEUgAAAQoAAAByCAIAAAAkrwiGAAAACXBIWXMAAA7EAAAOxAGVKw4bAAADwElEQVR4nO3WMUpjcRSF8SzALqSIiJCHhZIioImiBE2qDKQQxEIJaQKKFgpTWaYMU0u6gJUEhuxgiunchzuwt3De7OHcGzh+3wZO8e7v8a+0Wq2bxE5OTvb39zMXi6I4Pz/PXKzX65lzZZubm5lz19fXW1tbmYv5Z9PpdD4+PipPT09fic3n8+l0mrl4dXX19vaWuXh0dJQ5l7/4/v4+GAwyF/PPZjabwSMkeMiDR1TwkAePqOBhsAiPqOBhsAiPqOBhsAiPqOBhsAiPqOBhsAiPqOBhsAiPqOBhsAiPqOBhsAiPqOBhsAiPqOBhsAiPqOBhsAiPqOBhsAiPqOBhsAiPqOBhsAiPqOBhsAiPqOBhsAiPqOBhsAiPqOBhsAiPqOBhsAiPqOBhsAiPqOBhsAiPqOBhsAiPqOBhsAiPqOBhsAiPqOBhsAiPqOBhsAiPqOBhsAiPqOBhsAiPqOBhsAiPqOBhsAiPqOBhsAiPqOBhsAiPqOBhsPiNeJydnf1KbDgcnp6eZi7u7e3d3t5mLtbr9cy5skaj8Sex19fXdrudufjw8DAejzMXJ5PJfx6Hh4c/EyttHBwcZC4WRXF5eZm5WKvVMufKut3u78SWy2X5O89cfHl5WSwWmYur1erz85PHlb78x1XyR/w+wUMfPGyChz542AQPffCwCR764GETPPTBwyZ46IOHTfDQBw+b4KEPHjbBQx88bIKHPnjYBA998LAJHvrgYRM89MHDJnjog4dN8NAHD5vgoQ8eNsFDHzxsgoc+eNgED33wsAke+uBhEzz0wcMmeOiDh03w0AcPm+ChDx42wUMfPGyChz542AQPffCwCR764GETPPTBwyZ46IOHTfDQBw+b4KEPHjbBQx88bIKHPnjYBA998LCp0mg0fiS2s7Ozvb2duVitVtvtdubixsZG5lxZv99f9yF5VhmNRn8Te3x8HI/HmYu9Xu/5+TlzcXd3N3Ou7O7ubt2H5BmPK308rmyChz542AQPffCwCR764GETPPTBwyZ46IOHTfDQBw+b4KEPHjbBQx88bIKHPnjYBA998LAJHvrgYRM89MHDJnjog4dN8NAHD5vgoQ8eNsFDHzxsgoc+eNgED33wsAke+uBhEzz0wcMmeOiDh03w0AcPm+ChDx42wUMfPGyChz542AQPffCwCR764GETPPTBwyZ46IOHTfDQBw+b4KEPHjbBQx88bIKHPnjYBA998LAJHvrgYVOl2+3eJNbr9Y6PjzMXm83mxcVF5mJRFJlzZff39+s+JM/+ATte+Zzv9vNyAAAAAElFTkSuQmCC\"></div>"
      ],
      "text/plain": [
       "<IPython.core.display.HTML object>"
      ]
     },
     "metadata": {},
     "output_type": "display_data"
    },
    {
     "data": {
      "text/html": [
       "<div style=\"background-color:#e0e0e0;margin:0;padding:10px;\"><img src=\"data:image/png;base64,iVBORw0KGgoAAAANSUhEUgAAAS8AAAByCAIAAACN28ASAAAACXBIWXMAAA7EAAAOxAGVKw4bAAAD1UlEQVR4nO3WvUreSRjGYU9CURG/SGMhgopBET9AcMHCxiIqLxYSwUJhK7FKOnf7aCVYibBHIKRYbDyCtFtYpBdPYPc9g4Xhecbhn+s6gZsZ5gczMDc397milZWV+fn5movT09O7u7s1F0dGRmrO9Y2Ojtac29/fHxsbq7lY/9n0D3hwcFBzcXNzc+Di4uLfiq6vr798+VJz8dOnT8/PzzUXP378WHOu/uLLy8v29nbNxfrPpn/A/jFrLvZLVGM8NYZTYwo1dmBRjRnUmEKN4dSYQo0dWFRjBjWmUGM4NaZQYwcW1ZhBjSnUGE6NKdTYgUU1ZlBjCjWGU2MKNXZgUY0Z1JhCjeHUmEKNHVhUYwY1plBjODWmUGMHFtWYQY0p1BhOjSnU2IFFNWZQYwo1hlNjCjV2YFGNGdSYQo3h1JhCjR1YVGMGNaZQYzg1plBjBxbVmEGNKdQYTo0p1NiBRTVmUGMKNYZTYwo1dmBRjRnUmEKN4dSYQo0dWFRjBjWmUGM4NaZQYwcW1ZhBjSnUGE6NKdTYgUU1ZlBjCjWGU2MKNXZgUY0Z1JhCjeF+lRrX19f/rGhnZ2dtba3m4szMzMnJSc3FkZGRmnP1Fy8vL2dnZ79XdHZ21uv1ai4uLi7e39/XXDw6OhpYWlr6vaJ+igsLCzUXp6en9/b2ai4ODg7WnOsbGhqqOXd6erq7u/tXRXd3d7e3tzUXv3379vDwUHPx8fHRTzVe53+qr6+vV1dXNRd/EWqMp0bKqDGeGimjxnhqpIwa46mRMmqMp0bKqDGeGimjxnhqpIwa46mRMmqMp0bKqDGeGimjxnhqpIwa46mRMmqMp0bKqDGeGimjxnhqpIwa46mRMmqMp0bKqDGeGimjxnhqpIwa46mRMmqMp0bKqDGeGimjxnhqpIwa46mRMmqMp0bKqDGeGimjxnhqpIwa46mRMmqMp0bKqDGeGimjxnhqpIwa46mRMmqMp0bKqDGeGimjxnhqpMzA1NTUbxV9+PBhfHy85uLw8PDx8fEfFU1MTNSc65ucnKw59/XrVzVmGDg8PPy7ovPz816vV3Px7Ozs6enpn4p+/PhRc+5dFt/e3t776XZQ93+qNzc3Ly8vNRehjBqhFWqEVqgRWqFGaIUaoRVqhFaoEVqhRmiFGqEVaoRWqBFaoUZohRqhFWqEVqgRWqFGaIUaoRVqhFaoEVqhRmiFGqEVaoRWqBFaoUZohRqhFWqEVqgRWqFGaIUaoRVqhFaoEVqhRmiFGqEVaoRWqBFaMbC6uvq5oo2NjeXl5ZqLW1tbP3/+fO97hv/3H26iHhDUosQhAAAAAElFTkSuQmCC\"></div>"
      ],
      "text/plain": [
       "<IPython.core.display.HTML object>"
      ]
     },
     "metadata": {},
     "output_type": "display_data"
    },
    {
     "name": "stdout",
     "output_type": "stream",
     "text": [
      "partitions - Group degree: 16, factorization: 8 * 2 = 16\n"
     ]
    },
    {
     "data": {
      "text/html": [
       "<div style=\"background-color:#e0e0e0;margin:0;padding:10px;\"><img src=\"data:image/png;base64,iVBORw0KGgoAAAANSUhEUgAAAl4AAAAnCAIAAABR8dHxAAAACXBIWXMAAA7EAAAOxAGVKw4bAAADXElEQVR4nO3WMWqiYRSF4SxEQTvtBUGbFIoLsFBQey1sY5nGDYiGNKKNIqSwsptScB+uwCXMfLOHc+7AnffZwOEPN9/rW7vd/gjU6/W63W7kYqPRmE6nkYuVSiVyrqhWq5Fz8/m8Xq9HLsafTa1WWywWkYvxZxO8GH82nU6n3+9HLsafTfD//kf42Uwmk2azGbk4HA7v9/vbarX6Hejr6+vz8zNycTwePx6PyMXyayNyLn7x+XwOBoPIxfizKR9YPjNykbORKzdTLidykbORK693ecMjF2+3G2m0SH+spNGBs5EjjQkWSaMLaZQjjQ6cjRxpTLBIGl1IoxxpdOBs5EhjgkXS6EIa5UijA2cjRxoTLJJGF9IoRxodOBs50phgkTS6kEY50ujA2ciRxgSLpNGFNMqRRgfORo40JlgkjS6kUY40OnA2cqQxwSJpdCGNcqTRgbORI40JFkmjC2mUI40OnI0caUywSBpdSKMcaXTgbORIY4JF0uhCGuVIowNnI0caEyySRhfSKEcaHTgbOdKYYJE0upBGOdLowNnIkcYEi6TRhTTKkUYHzkaONCZYJI0upFGONDpwNnKkMcEiaXQhjXKk0YGzkSONCRZJowtplCONDpyNHGlMsEgaXUijHGl04GzkSGOCRdLoQhrlSKMDZyNHGhMskkYX0ihHGh04GznSmGCRNLqQRjnS6MDZyJHGBIuk0YU0ypFGB85GjjQmWCSNLqRRjjQ6cDZypDHBIml0IY1ypNGBs5EjjQkWSaMLaZQjjQ6cjRxpTLBIGl1IoxxpdOBs5EhjgkXS6EIa5UijA2cjRxoTLJJGF9IoRxodOBs50phgkTS6kEY50ujA2ciRxgSLpNGFNMqRRgfORo40JlgkjS6kUY40OnA2cqQxwSJpdCGNcqTRgbORI40JFkmjC2mUI40OnI0caUywSBpdSKMcaXTgbORIY4LFf5bG0Wj0K9ByuZzNZpGL7+/vm80mcrHZbEbOxS+ez+dWqxW5GH825QPLZ0YucjZy5WbK5UQucjZy5fUub3jk4nq9/pvG6/X6E+h4PO73+8jF7+/v0+kUubjdbiPn4hcvl0v5MR65GH82u92ufGbk4v9wNuWvGrlYbuZwOEQucjZy5fUub3jkYvF6vf4AfkP356dSegEAAAAASUVORK5CYII=\"></div>"
      ],
      "text/plain": [
       "<IPython.core.display.HTML object>"
      ]
     },
     "metadata": {},
     "output_type": "display_data"
    },
    {
     "data": {
      "text/html": [
       "<div style=\"background-color:#e0e0e0;margin:0;padding:10px;\"><img src=\"data:image/png;base64,iVBORw0KGgoAAAANSUhEUgAAAhIAAABNCAIAAAB8GBrjAAAACXBIWXMAAA7EAAAOxAGVKw4bAAAD10lEQVR4nO3YPUqdURSG0TsQBe20slAUruAtVCwEbS20VguRNLG0TcBC8KcSrUTIFNJbOQAtgjgQSb4pHNh7B45rTeDlk318EkcrKyvfC21sbKyurlYuzs3N7e/vVy5OTU1Vzg2mp6cr546OjmZnZysX689mZmbm+Pi4crH+bIoX689mPB5vbm5WLtafTfHbHxweHo7Ozs7+Frq5uTk/P69c3Nvbe35+rlwcSlw5V7/48fGxtbVVuVh/NsMHDp9Zuehswg03M1xO5eJXOJshGbIRz/sPJxsdLMpGBtlIIRvhZCODswknGxlkI4X3H042OliUjQyykUI2wslGBmcTTjYyyEYK7z+cbHSwKBsZZCOFbISTjQzOJpxsZJCNFN5/ONnoYFE2MshGCtkIJxsZnE042cggGym8/3Cy0cGibGSQjRSyEU42MjibcLKRQTZSeP/hZKODRdnIIBspZCOcbGRwNuFkI4NspPD+w8lGB4uykUE2UshGONnI4GzCyUYG2Ujh/YeTjQ4WZSODbKSQjXCykcHZhJONDLKRwvsPJxsdLMpGBtlIIRvhZCODswknGxlkI4X3H042OliUjQyykUI2wslGBmcTTjYyyEYK7z+cbHSwKBsZZCOFbISTjQzOJpxsZJCNFN5/ONnoYFE2MshGCtkIJxsZnE042cggGym8/3Cy0cGibGSQjRSyEU42MjibcLKRQTZSeP/hZKODRdnIIBspZCOcbGRwNuFkI4NspPD+w8lGB4uykUE2UshGONnI4GzCyUYG2Ujh/YeTjQ4WZSODbKSQjXCykcHZhJONDLKRwvsPJxsdLMpGBtlIIRvhZCODswknGxlkI4X3H042OliUjQz/JxuTyeRnoe3t7bW1tcrFhYWFi4uL34Xm5+cr5+oXHx8fl5aWKhdPTk4ODg4qF4cPHD6zctHZhBtuZricysWvcDanp6ej5eXlb4WGZiwuLlYujsfjy8vLX4Wurq4q5+oXn56ehn/EVS4+PDzc3d1VLl5fXw+fWbn4Fc5m+KlWLg43c39/X7n4Fc7m5eWl/z9S3d7eFv+3EaBjsgFAA9kAoIFsANBANgBoIBsANJANABrIBgANZAOABrIBQAPZAKCBbADQQDYAaCAbADSQDQAayAYADWQDgAayAUAD2QCggWwA0EA2AGggGwA0kA0AGsgGAA1kA4AGsgFAA9kAoIFsANBANgBoIBsANJANABrIBgANZAOABrIBQAPZAKCBbADQYDSZTH4U2tnZWV9fr1zc3d2VDYAoo+FX6p9Cb29vr6+vlYvv7++fn5//++cM0Il/HH96yEGTkDkAAAAASUVORK5CYII=\"></div>"
      ],
      "text/plain": [
       "<IPython.core.display.HTML object>"
      ]
     },
     "metadata": {},
     "output_type": "display_data"
    },
    {
     "data": {
      "text/html": [
       "<div style=\"background-color:#e0e0e0;margin:0;padding:10px;\"><img src=\"data:image/png;base64,iVBORw0KGgoAAAANSUhEUgAAAccAAABNCAIAAABcwjjvAAAACXBIWXMAAA7EAAAOxAGVKw4bAAAEB0lEQVR4nO3Yvy4kYBiFcTehkBBGRaMhJMhMgSgkKoWCZgoxhWKbVSrt1uiESiSbuILtXYEIkS2m1ugVu98m6q3OOZJ9n98NvPnG8fgzsrS09DVofX19ZWUleXFmZmZvby95cXx8PHmumZiYSJ47PDzsdDrJi/nZTE1NDQaD5MX8bMIX87NZXl7e2NhIXux2u29vbyPHx8e/gy4uLk5OTpIXd3d37+/vkxfbD6rkufzF4XC4ubmZvJifTXtge2byIrORa5tpy0lePD09paoWfHvIUdX/4CJVdaGq/8FFqurAbOSoqgtVlaOqDsxGjqq6UFU5qurAbOSoqgtVlaOqDsxGjqq6UFU5qurAbOSoqgtVlaOqDsxGjqq6UFU5qurAbOSoqgtVlaOqDsxGjqq6UFU5qurAbOSoqgtVlaOqDsxGjqq6UFU5qurAbOSoqgtVlaOqDsxGjqq6UFU5qurAbOSoqgtVlaOqDsxGjqq6UFU5qurAbOSoqgtVlaOqDsxGjqq6UFU5qurAbOSoqgtVlaOqDsxGjqq6UFU5qurAbOSoqgtVlaOqDsxGjqq6UFU5qurAbOSoqgtVlaOqDsxGjqq6UFU5qurAbOSoqgtVlaOqDsxGjqq6UFU5qurAbOSoqgtVlaOqDsxGjqq6UFU5qurAbOSoqgtVlaOqDsxGjqq6UFU5qurAbOSoqgtVlaOqDsxGjqq6UFU5qurAbOSoqgtVlaOqDsxGjqq6UFU5qurAbOSoqgtVlaOqDsxG7tOq2uv1vgdtbW11u93kxdnZ2YODg+TFsbGx5Lmm0+n8DLq5uVlYWEhePDo62t/fT15sD2zPTF5sQ02ey1/Mz6Ztpi0nebHf7/+t6uLi4pegltT5+fnkxenp6Z2dneTF0dHR5LlmdXX1R9Dt7W37FSB58fr6+vLyMnnx/Py8PTN58ezsLHkuf7F9nu1TTV5sm7m6ukpevLu7e39/5z8Aevk/5cJfRAD/QFX1qCpQGVXVo6pAZVRVj6oClVFVPaoKVEZV9agqUBlV1aOqQGVUVY+qApVRVT2qClRGVfWoKlAZVdWjqkBlVFWPqgKVUVU9qgpURlX1qCpQGVXVo6pAZVRVj6oClVFVPaoKVEZV9agqUBlV1aOqQGVUVY+qApVRVT2qClRGVfWoKlAZVdWjqkBlVFWPqgKVUVU9qgpURlX1qCpQGVXVo6pAZVRVj6oClVFVPaoKVEZV9agqUBlV1aOqQGVUVY+qApVRVT2qClRGVfWoKlAZVdWjqkBlVFWPqgKVjfR6vW9B29vba2tryYtzc3ODwSB5cXJyMnmu6ff7nz0kAB9GhsPhr6Dn5+enp6fkxcfHx5eXl+TFh4eH5Lnm9fX1s4cE4MMf284mUeWkhMMAAAAASUVORK5CYII=\"></div>"
      ],
      "text/plain": [
       "<IPython.core.display.HTML object>"
      ]
     },
     "metadata": {},
     "output_type": "display_data"
    },
    {
     "data": {
      "text/html": [
       "<div style=\"background-color:#e0e0e0;margin:0;padding:10px;\"><img src=\"data:image/png;base64,iVBORw0KGgoAAAANSUhEUgAAAS8AAABNCAIAAAB493VqAAAACXBIWXMAAA7EAAAOxAGVKw4bAAADTklEQVR4nO3WMUqjYRRG4WxCQVRMhIA2NkIsAkaIEEG0srCwspCknCaxs51ZgFtyBUYNcQoL1zHzLeKeW1zP2cDLDd8T/s7Jyck8sfPz8+FwmLl4cHBwd3eXubizs5M519rd3c2cm06nvV4vczH/2XS73dlslrk4mUw6i8XiX2LPz89PT0+Zi7e3ty8vL5mL7Q8ucy5/8evrqz2dzMX8Z9MObGdmLjaJaoxPjeGpEUmNBRbVSKRGJDWGp0YkNRZYVCORGpHUGJ4akdRYYFGNRGpEUmN4akRSY4FFNRKpEUmN4akRSY0FFtVIpEYkNYanRiQ1FlhUI5EakdQYnhqR1FhgUY1EakRSY3hqRFJjgUU1EqkRSY3hqRFJjQUW1UikRiQ1hqdGJDUWWFQjkRqR1BieGpHUWGBRjURqRFJjeGpEUmOBRTUSqRFJjeGpEUmNBRbVSKRGJDWGp0YkNRZYVCORGpHUGJ4akdRYYFGNRGpEUmN4akRSY4FFNRKpEUmN4akRSY0FFtVIpEYkNYb3UzSORqM/iV1eXp6enmYuHh4ePjw8ZC5ubW1lzuUvtnfT6/UyF/OfTTtwPp9nLl5cXHQGg8GvxNpvenx8nLm4v79/c3OTubixsZE519rc3Mycu7+/397ezlzMfzbtwHZm5uLZ2ZlfqvH5pRreT/lSVWN4agxPjUhqLLCoRiI1IqkxPDUiqbHAohqJ1IikxvDUiKTGAotqJFIjkhrDUyOSGgssqpFIjUhqDE+NSGossKhGIjUiqTE8NSKpscCiGonUiKTG8NSIpMYCi2okUiOSGsNTI5IaCyyqkUiNSGoMT41IaiywqEYiNSKpMTw1IqmxwKIaidSIpMbw1IikxgKLaiRSI5Iaw1MjkhoLLKqRSI1IagxPjUhqLLCoRiI1IqkxPDUiqbHAohqJ1IikxvDUiKTGAotqJFIjkhrDUyOSGgssqpFIjUhqDE+NSGossKhGIjUiqTG8n6JxNBr9Tuz6+no8HmcuHh0dzWazzMW9vb3MuVa3282ce3x87Pf7mYv5z6Yd2M7MXLy6uuq0P4C/ia1Wq4+Pj8zFt7e39Xqdufj6+po5l7/4+fm5XC4zF9uzeX9/z1xsB7YzMxe/v7//AxAMswvtHtzEAAAAAElFTkSuQmCC\"></div>"
      ],
      "text/plain": [
       "<IPython.core.display.HTML object>"
      ]
     },
     "metadata": {},
     "output_type": "display_data"
    },
    {
     "data": {
      "text/html": [
       "<div style=\"background-color:#e0e0e0;margin:0;padding:10px;\"><img src=\"data:image/png;base64,iVBORw0KGgoAAAANSUhEUgAAAXsAAABNCAIAAADICFNYAAAACXBIWXMAAA7EAAAOxAGVKw4bAAAEKklEQVR4nO3XsS5kARjF8XkJEkHMSCQ0GkIhMQWJQiIkJAqVAtOQbZZOabfGI4hkK4VuS4knQMhQeAOtavduso9wzic5+f9e4MtNzvzv3Nb8/Pz3QsvLywsLC5UXJycnd3Z2Ki+OjIxUnmuMjo5Wnjs4OOh0OpUX62fTbrd7vV7lxfrZFF88Ojo6OztrHR8f/yl0eXl5enpaeXF7e/v+/r7yYhPxynP1F9/f31dWViov1s+mecDmMSsvxs/m4+OD4ljET4fiOMTPhuK4xE+H4jjEz4biuMRPh+I4xM+G4rjET4fiOMTPhuK4xE+H4jjEz4biuMRPh+I4xM+G4rjET4fiOMTPhuK4xE+H4jjEz4biuMRPh+I4xM+G4rjET4fiOMTPhuK4xE+H4jjEz4biuMRPh+I4xM+G4rjET4fiOMTPhuK4xE+H4jjEz4biuMRPh+I4xM+G4rjET4fiOMTPhuK4xE+H4jjEz4biuMRPh+I4xM+G4rjET4fiOMTPhuK4xE+H4jjEz4biuMRPh+I4xM+G4rjET4fiOMTPhuK4xE+H4jjEz4biuMRPh+I4xM+G4rjET4fiOMTPhuK4xE+H4jjEz4biuMRPh+I4xM+G4rjET4fiOMTPhuK4xE+H4jjEz4biuMRPh+I4xM+G4rjET4fiOMTPhuK4xE+H4jjEz4biuMRPh+I4xM+G4rjET4fiOMTPhuK4xE+H4jjEz+Z/cbrd7s9Cq6uri4uLlRenpqb29vYqLw4NDVWeq7/YvKU6nU7lxfX19a2trd+FZmdnr66uKi82Q608V3/x5ubmX3Hm5ua+FWpyMzMzU3lxfHx8c3Oz8uLAwEDlucbg4GDlud3d3eHh4cqLGxsbh4eHvwpdXFxcX19XXjw/P6889yUX+/0+X1V68X+P67+q7u7ubm9vKy/ChOLoURw5ihOD4uhRHDmKE4Pi6FEcOYoTg+LoURw5ihOD4uhRHDmKE4Pi6FEcOYoTg+LoURw5ihOD4uhRHDmKE4Pi6FEcOYoTg+LoURw5ihOD4uhRHDmKE4Pi6FEcOYoTg+LoURw5ihOD4uhRHDmKE4Pi6FEcOYoTg+LoURw5ihOD4uhRHDmKE4Pi6FEcOYoTg+LoURw5ihOD4uhRHDmKE4Pi6FEcOYoTg+LoURw5ihOD4uhRHDmKE4Pi6FEcOYoTg+LoURw5ihOD4uhRHDmKE4Pi6FEcOYoTg+LoURw5ihOD4uhRHDmKE4Pi6FEcOYoTg+LoURw5ihOD4uhRHDmKE4Pi6FEcOYoTg+LoURw5ihOD4uhRHDmKE6PV7XZ/FFpbW1taWqq8OD093ev1Ki+OjY1Vnmu02+3KcycnJxMTE5UX9/f3KU6GVvO+eiv08vLy/PxcefHp6anf71defHh4qDxXf/H19fXx8bHyYuPz8/OrfywQ+Au+mv9lW9zxtwAAAABJRU5ErkJggg==\"></div>"
      ],
      "text/plain": [
       "<IPython.core.display.HTML object>"
      ]
     },
     "metadata": {},
     "output_type": "display_data"
    },
    {
     "name": "stdout",
     "output_type": "stream",
     "text": [
      "partitions - Group degree: 18, factorization: 9 * 2 = 18\n"
     ]
    },
    {
     "data": {
      "text/html": [
       "<div style=\"background-color:#e0e0e0;margin:0;padding:10px;\"><img src=\"data:image/png;base64,iVBORw0KGgoAAAANSUhEUgAAAqkAAAAnCAIAAACjYUYRAAAACXBIWXMAAA7EAAAOxAGVKw4bAAADzUlEQVR4nO2WMUqjYRRF3UYgQuySXgjExkKxtEzApLLRwlZL1yBGbMQ0CYEp3MCkdh+uZObNHt69xZ1zNnD49b7v5Gg6nT4aubi4ODs7cxrH4/FyuXQah8OhU1ccHx87dXd3dycnJ06jfzaj0ej+/t5p9M/GbPTPZjabXV5eOo3+2Zhv/9E+m5ubm8lk4jT6ZzMYDJy64vr6+ujp6emPkbe3t+fnZ6dxsVh8f387jfVzyqnzG39+fq6urpxG/2zqA+sznUZm005tppbjNDKbdur1rjfcafTPxv9PrO7T/n7ir5H2K2A27dD+ACPtV0D7JcRfI+1XwGzaof0BRtqvgPZLiL9G2q+A2bRD+wOMtF8B7ZcQf420XwGzaYf2BxhpvwLaLyH+Gmm/AmbTDu0PMNJ+BbRfQvw10n4FzKYd2h9gpP0KaL+E+Guk/QqYTTu0P8BI+xXQfgnx10j7FTCbdmh/gJH2K6D9EuKvkfYrYDbt0P4AI+1XQPslxF8j7VfAbNqh/QFG2q+A9kuIv0bar4DZtEP7A4y0XwHtlxB/jbRfAbNph/YHGGm/AtovIf4aab8CZtMO7Q8w0n4FtF9C/DXSfgXMph3aH2Ck/Qpov4T4a6T9CphNO7Q/wEj7FdB+CfHXSPsVMJt2aH+AkfYroP0S4q+R9itgNu3Q/gAj7VdA+yXEXyPtV8Bs2qH9AUbar4D2S4i/RtqvgNm0Q/sDjLRfAe2XEH+NtF8Bs2mH9gcYab8C2i8h/hppvwJm0w7tDzDSfgW0X0L8NdJ+BcymHdofYKT9Cmi/hPhrpP0KmE07tD/ASPsV0H4J8ddI+xUwm3Zof4CR9iug/RLir5H2K2A27dD+ACPtV0D7JcRfI+1XwGzaof0BRtqvgPZLiL9G2q+A2bRD+wOMtF8B7ZcQf420XwGzaYf2BxhpvwLaLyH+Gmm/AmbTDu0PMNJ+BbRfQvw10n4FzKYd2h9gpP0KaL+E+Guk/QqYTTu0P8BI+xXQfgnx10j7FTCbdmh/gJH2K6D9EuKvkfYrYDbt0P4AI+1XQPslxF8j7VfAbNqh/QFG2q+A9kuIv0bar4DZtEP7A4y0X8G/9s/n899GHh4eVquV03h+fv7y8uI0TiYTp85v3O12p6enTqN/NvWB9ZlOI7NppzZTy3EamU079XrXG+40+mczHo+duuL29vbo6+vrl5HNZvPx8eE0vr+/b7dbp/H19dWp8xv3+339LnYa/bNZr9f1mU7j/zCb+qs6jbWZz89Pp5HZtFOvd73hTmPNph4cp7F+3zh1xeFw+Auxhl9xop0o+gAAAABJRU5ErkJggg==\"></div>"
      ],
      "text/plain": [
       "<IPython.core.display.HTML object>"
      ]
     },
     "metadata": {},
     "output_type": "display_data"
    },
    {
     "data": {
      "text/html": [
       "<div style=\"background-color:#e0e0e0;margin:0;padding:10px;\"><img src=\"data:image/png;base64,iVBORw0KGgoAAAANSUhEUgAAAl4AAABNCAIAAAD4nv3NAAAACXBIWXMAAA7EAAAOxAGVKw4bAAAET0lEQVR4nO3YsUqcaRTHYS9EwXRaWRgURnAEFYuAKWwEtTeFxTaxtLHYBQvFRJsQG0XY2m5LwWvQYhGvwCuQ7Lfl221xzgl593lu4M83nJnfx0wsLi5+LrS2tra0tFS5ODMzs7u7W7k4OTlZOTeYmpqqnNvf33/37l3lYv3ZTE9Pf/r0qXKx/myKF+vPZjQara+vVy7Wn03xd/9z+dns7OzMzs5WLm5tbd3f308cHh7+KPT169ejo6PKxe3t7YeHh8rF4W2jcq5+8eXlZWNjo3Kx/myGBxwes3LR2YQbbma4nMpFZxNu+PUefsMrF+/u7qQxRffHKo0ZnE04aexgURqzSGM4aczgbMJJYweL0phFGsNJYwZnE04aO1iUxizSGE4aMzibcNLYwaI0ZpHGcNKYwdmEk8YOFqUxizSGk8YMziacNHawKI1ZpDGcNGZwNuGksYNFacwijeGkMYOzCSeNHSxKYxZpDCeNGZxNOGnsYFEas0hjOGnM4GzCSWMHi9KYRRrDSWMGZxNOGjtYlMYs0hhOGjM4m3DS2MGiNGaRxnDSmMHZhJPGDhalMYs0hpPGDM4mnDR2sCiNWaQxnDRmcDbhpLGDRWnMIo3hpDGDswknjR0sSmMWaQwnjRmcTThp7GBRGrNIYzhpzOBswkljB4vSmEUaw0ljBmcTTho7WJTGLNIYThozOJtw0tjBojRmkcZw0pjB2YSTxg4WpTGLNIaTxgzOJpw0drAojVmkMZw0ZnA24aSxg0VpzCKN4aQxg7MJJ40dLEpjFmkMJ40ZnE04aexgURqzSGM4aczgbMJJYweL0phFGsNJYwZnE04aO1iUxizSGE4aMzibcNLYwaI0ZpHGcNKYwdmEk8YOFqUxizSGk8YMziacNHawKI1ZpDGcNGZwNuGksYNFacwijeGkMYOzCSeNHSxKYxZpDCeNGZxNOGnsYFEas0hjOGnM4GzCSWMHi9KYRRrDSWMGZxNOGjtY/GlpHI/HfxT68OHD8vJy5eLc3NzJyclfhWZnZyvn6hdvbm7ev39fuXhwcLC3t1e5ODzg8JiVi84m3HAzw+VULjqbcGdnZysrK5WLx8fH/6ZxYWHht0JDF+fn5ysXR6PR6enpn4XOz88r5+oXb29vh5fxysWrq6tv375VLn758mV4zMrF/8PZDJ9q5eJwM9+/f69cdDbhrq+vLy8vKxcHr6+v/f+henFxUfwXBwC/NGkEgIY0AkBDGgGgIY0A0JBGAGhIIwA0pBEAGtIIAA1pBICGNAJAQxoBoCGNANCQRgBoSCMANKQRABrSCAANaQSAhjQCQEMaAaAhjQDQkEYAaEgjADSkEQAa0ggADWkEgIY0AkBDGgGgIY0A0JBGAGhIIwA0pBEAGtIIAA1pBICGNAJAQxoBoDExHo9/L7S5ubm6ulq5+PHjR2kE4L+bGLLxd6Gnp6fHx8fKxefn57e3t5/9OQPwy/gH1FkUVcCR0T8AAAAASUVORK5CYII=\"></div>"
      ],
      "text/plain": [
       "<IPython.core.display.HTML object>"
      ]
     },
     "metadata": {},
     "output_type": "display_data"
    },
    {
     "data": {
      "text/html": [
       "<div style=\"background-color:#e0e0e0;margin:0;padding:10px;\"><img src=\"data:image/png;base64,iVBORw0KGgoAAAANSUhEUgAAAhIAAABNCAIAAAB8GBrjAAAACXBIWXMAAA7EAAAOxAGVKw4bAAAEWElEQVR4nO3Yvy7neRTHYTehmIT4U9FoRkgQCiYKiUqhoFHgV4hss0rtbo1ORiWSvYXtp1KKENlC7SJmvxdxzpEcz3MD73zlfPLC2PLy8p+Ftra2VldXKxfn5uYODg4qFycmJirnBpOTk5Vzp6enMzMzlYv1ZzM9PT0ajSoX68+meLH+bFZWVn78+FG5WH82xW9/cHJyMnZxcfG70M3NzeXlZeXi/v7+r1+/KheHElfO1S++v79vb29XLtafzfCBw2dWLjqbcMPNDJdTufgVzmZIhmzE8/7DyUaDRdnIIBspZCOcbGRwNuFkI4NspPD+w8lGg0XZyCAbKWQjnGxkcDbhZCODbKTw/sPJRoNF2cggGylkI5xsZHA24WQjg2yk8P7DyUaDRdnIIBspZCOcbGRwNuFkI4NspPD+w8lGg0XZyCAbKWQjnGxkcDbhZCODbKTw/sPJRoNF2cggGylkI5xsZHA24WQjg2yk8P7DyUaDRdnIIBspZCOcbGRwNuFkI4NspPD+w8lGg0XZyCAbKWQjnGxkcDbhZCODbKTw/sPJRoNF2cggGylkI5xsZHA24WQjg2yk8P7DyUaDRdnIIBspZCOcbGRwNuFkI4NspPD+w8lGg0XZyCAbKWQjnGxkcDbhZCODbKTw/sPJRoNF2cggGylkI5xsZHA24WQjg2yk8P7DyUaDRdnIIBspZCOcbGRwNuFkI4NspPD+w8lGg0XZyCAbKWQjnGxkcDbhZCODbKTw/sPJRoNF2cggGylkI5xsZHA24WQjg2yk8P7DyUaDRdnIIBspZCOcbGRwNuFkI4NspPD+w8lGg0XZyCAbKWQjnGxkcDbhZCODbKTw/sPJRoNF2cjwOdnY2Nj4u9DOzs76+nrl4vz8/PHxceXit2/fKucGMzMz/xa6v79fXFysXDw7Ozs8PKxcHD5w+MzKxeFQK+fqF+vPZriZ4XIqF7/C2Zyfn48tLS39UWhoxvfv3ysXZ2dn9/b2KhfHx8cr5wZra2v/FHp4eBh+iatcvLu7u729rVy8vr4ePrNy8erqqnKufnH4eQ4/1crF4WZ+/vxZufgVzubx8dE/qeJ9yp+NxYvAlyUb8WQDaEw24skG0JhsxJMNoDHZiCcbQGOyEU82gMZkI55sAI3JRjzZABqTjXiyATQmG/FkA2hMNuLJBtCYbMSTDaAx2YgnG0BjshFPNoDGZCOebACNyUY82QAak414sgE0JhvxZANoTDbiyQbQmGzEkw2gMdmIJxtAY7IRTzaAxmQjnmwAjclGPNkAGpONeLIBNCYb8WQDaEw24skG0JhsxJMNoDHZiCcbQGOyEU82gMZkI55sAI3JRjzZABqTjXiyATQmG/FkA2hMNuLJBtCYbMSTDaCxsY2Njb8K7e7ubm5uVi4uLCyMRqPKxampqcq5wdHR0WcfEvBVjL2/v/9X6PX19eXlpXLx+fn57e2tcvHp6alybvDx8fHZhwR8Ff8DmFfdK6/NrZEAAAAASUVORK5CYII=\"></div>"
      ],
      "text/plain": [
       "<IPython.core.display.HTML object>"
      ]
     },
     "metadata": {},
     "output_type": "display_data"
    },
    {
     "data": {
      "text/html": [
       "<div style=\"background-color:#e0e0e0;margin:0;padding:10px;\"><img src=\"data:image/png;base64,iVBORw0KGgoAAAANSUhEUgAAAccAAABNCAIAAABcwjjvAAAACXBIWXMAAA7EAAAOxAGVKw4bAAAEfklEQVR4nO3Yzyr1axiHcSdBCVlLKSYmRFFrDZCBEkUZMDHAGlB7spkZ2nuMmcykdpmZ7aFyBIjYA2dgKoP9Pu8ZvL1d961H1+cEvq1f97rWn66pqak/E83Nzc3MzGQujoyMbGxsZC729/dnzhUDAwOZc7u7u81mM3Mx/2wajUan08lczD+b5MX8s5menp6fn89cbLVa7+/vXQcHB/8nOjs7Ozo6ylxcX1+/u7vLXCwfVJlz+Ytvb28LCwuZi/lnU15geZmZi54NrtxMuZzMxePjY6sawrcHzqp+g0WrGsWqfoNFqxrBs8FZ1ShWFWdVI3g2OKsaxarirGoEzwZnVaNYVZxVjeDZ4KxqFKuKs6oRPBucVY1iVXFWNYJng7OqUawqzqpG8GxwVjWKVcVZ1QieDc6qRrGqOKsawbPBWdUoVhVnVSN4NjirGsWq4qxqBM8GZ1WjWFWcVY3g2eCsahSrirOqETwbnFWNYlVxVjWCZ4OzqlGsKs6qRvBscFY1ilXFWdUIng3OqkaxqjirGsGzwVnVKFYVZ1UjeDY4qxrFquKsagTPBmdVo1hVnFWN4NngrGoUq4qzqhE8G5xVjWJVcVY1gmeDs6pRrCrOqkbwbHBWNYpVxVnVCJ4NzqpGsao4qxrBs8FZ1ShWFWdVI3g2OKsaxarirGoEzwZnVaNYVZxVjeDZ4KxqFKuKs6oRPBucVY1iVXFWNYJng7OqUawqzqpG8GxwVjWKVcVZ1QieDc6qRrGqOKsawbPBWdUoVhVnVSN4Nrgvq2q73f470eLiYqvVylwcHR3d3t7OXOzt7c2cy18sn8TNZjNzcXl5eW1t7d9EExMTl5eXmYvlUDPn8hfL8yxPNXNxc3Nzb28vc3Fra+tnVScnJ/9IVJI6Pj6euTg0NLS6upq52N3dnTlX9PT0ZM6V0+nr68tcXFlZ2d/f/yfR6enp1dVV5uLJyUnmXP5ieZ7lqWYunp+fX1xcZC5eX19/fn76DwDPn3K429vbm5ubzEXpt1lVnlXFWVVVxKryrCrOqqoiVpVnVXFWVRWxqjyrirOqqohV5VlVnFVVRawqz6rirKoqYlV5VhVnVVURq8qzqjirqopYVZ5VxVlVVcSq8qwqzqqqIlaVZ1VxVlUVsao8q4qzqqqIVeVZVZxVVUWsKs+q4qyqKmJVeVYVZ1VVEavKs6o4q6qKWFWeVcVZVVXEqvKsKs6qqiJWlWdVcVZVFbGqPKuKs6qqiFXlWVWcVVVFrCrPquKsqipiVXlWFWdVVRGryrOqOKuqilhVnlXFWVVVxKryrCrOqqoiVpVnVXFWVRWxqjyrirOqqohV5VlVnFVVRawqz6rirKoqYlV5VhVnVVURq8qzqjirqopYVZ5VxVlVVcSq8qwqzqqqIlaVZ1VxVlUV6Wq3238lWlpamp2dzVwcGxvrdDqZi4ODg5lzRaPRyJw7PDwcHh7OXNzZ2bGqqkVX+d7xX6Ln5+enp6fMxcfHx5eXl8zF+/v7zLn8xdfX14eHh8zF4uPj46vfLNIv+QFm+Y30osHBZAAAAABJRU5ErkJggg==\"></div>"
      ],
      "text/plain": [
       "<IPython.core.display.HTML object>"
      ]
     },
     "metadata": {},
     "output_type": "display_data"
    },
    {
     "data": {
      "text/html": [
       "<div style=\"background-color:#e0e0e0;margin:0;padding:10px;\"><img src=\"data:image/png;base64,iVBORw0KGgoAAAANSUhEUgAAAXsAAABNCAIAAADICFNYAAAACXBIWXMAAA7EAAAOxAGVKw4bAAAEKklEQVR4nO3XPUojYBSF4WxCQVSSCII2NoIWgikSsBCtLCysLIKpZJpoZ+lMLW5iKvvpXYG/xCks7N3BzDcwSzjnCof32cDlg5M3SWd7e3taaDQa7ezsVF5cW1s7OTmpvLi0tFR5rlleXq48d3Z21u/3Ky/Wz6bX600mk8qL9bMpvnh+fn59fd25uLj4U+j29vbq6qry4vHx8f39feXFFvHKc/UX39/f9/b2Ki/Wz6Y9sD2z8mL8bD4/PymORfx0KI5D/Gwojkv8dCiOQ/xsKI5L/HQojkP8bCiOS/x0KI5D/Gwojkv8dCiOQ/xsKI5L/HQojkP8bCiOS/x0KI5D/Gwojkv8dCiOQ/xsKI5L/HQojkP8bCiOS/x0KI5D/Gwojkv8dCiOQ/xsKI5L/HQojkP8bCiOS/x0KI5D/Gwojkv8dCiOQ/xsKI5L/HQojkP8bCiOS/x0KI5D/Gwojkv8dCiOQ/xsKI5L/HQojkP8bCiOS/x0KI5D/Gwojkv8dCiOQ/xsKI5L/HQojkP8bCiOS/x0KI5D/Gwojkv8dCiOQ/xsKI5L/HQojkP8bCiOS/x0KI5D/Gwojkv8dCiOQ/xsKI5L/HQojkP8bCiOS/x0KI5D/Gwojkv8dCiOQ/xsKI5L/HQojkP8bCiOS/x0KI5D/Gwojkv8dCiOQ/xsKI5L/HQojkP8bCiOS/x0KI5D/Gwojkv8dCiOQ/xs/hdnMBj8KLS/v7+7u1t5cX19fTweV15cWFioPFd/sX1L9fv9yov1s2kPnE6nlRe73e6vWu2jUXnu7u7uX3G2tra+FWq72dzcrLy4srJydHRUeXFubq7yXDM/P1957vT0dHFxsfJi/WzaA9szKy+2B/6sdXNzU3xxNpvxr0ov/ucx/6ocij+JX4Xi6FEcOYoTg+LoURw5ihOD4uhRHDmKE4Pi6FEcOYoTg+LoURw5ihOD4uhRHDmKE4Pi6FEcOYoTg+LoURw5ihOD4uhRHDmKE4Pi6FEcOYoTg+LoURw5ihOD4uhRHDmKE4Pi6FEcOYoTg+LoURw5ihOD4uhRHDmKE4Pi6FEcOYoTg+LoURw5ihOD4uhRHDmKE4Pi6FEcOYoTg+LoURw5ihOD4uhRHDmKE4Pi6FEcOYoTg+LoURw5ihOD4uhRHDmKE4Pi6FEcOYoTg+LoURw5ihOD4uhRHDmKE4Pi6FEcOYoTg+LoURw5ihOD4uhRHDmKE4Pi6FEcOYoTg+LoURw5ihOD4uhRHDmKE4Pi6FEcOYoTg+LoURw5ihOjMxgMvhc6PDwcDoeVFzc2NiaTSeXFbrdbea7p9XqV5y4vL1dXVysv1s+mPbA9s/LiwcHBV9egQqeF/Heh19fXl5eXyotPT0+z2azy4sPDQ+W5+otvb2+Pj4+VF9tsnp+fKy+2B7ZnVl78+Pj46hpU+AuY/leQYoYpxwAAAABJRU5ErkJggg==\"></div>"
      ],
      "text/plain": [
       "<IPython.core.display.HTML object>"
      ]
     },
     "metadata": {},
     "output_type": "display_data"
    },
    {
     "name": "stdout",
     "output_type": "stream",
     "text": [
      "partitions - Group degree: 20, factorization: 10 * 2 = 20\n"
     ]
    },
    {
     "data": {
      "text/html": [
       "<div style=\"background-color:#e0e0e0;margin:0;padding:10px;\"><img src=\"data:image/png;base64,iVBORw0KGgoAAAANSUhEUgAAAvUAAAAnCAIAAAAASSDXAAAACXBIWXMAAA7EAAAOxAGVKw4bAAAEGUlEQVR4nO2XvUnlcRBFtw1BQbP3ckHQxECxBAU118BUQ2sQvxLRRBEMbGBz2xAr2Z2FrWC4c4OZcxo4/J73Pxx/bW1tXRrZ29vb2dlxGheLxcnJidO4urrq1AVra2tO3dnZ2cbGhtPon836+vr5+bnT6J+N2eifzfb29v7+vtPon43527+0z+b4+Hi5XDqN/tmsrKw4dZcDZhPX5uHh4dfV1dUfI/f399fX107j0dHR19eX0xjJ6NT5jT8/PwcHB06jfzbxwHim08hs5MRmYjlOI7ORE9c7brjT6J9N+z+i3xifIX1TwoTp0DdymI0c+qaBkb7BmIC+qWLCdOgbOcxGDn3TwEjfYExA31QxYTr0jRxmI4e+aWCkbzAmoG+qmDAd+kYOs5FD3zQw0jcYE9A3VUyYDn0jh9nIoW8aGOkbjAnomyomTIe+kcNs5NA3DYz0DcYE9E0VE6ZD38hhNnLomwZG+gZjAvqmignToW/kMBs59E0DI32DMQF9U8WE6dA3cpiNHPqmgZG+wZiAvqliwnToGznMRg5908BI32BMQN9UMWE69I0cZiOHvmlgpG8wJqBvqpgwHfpGDrORQ980MNI3GBPQN1VMmA59I4fZyKFvGhjpG4wJ6JsqJkyHvpHDbOTQNw2M9A3GBPRNFROmQ9/IYTZy6JsGRvoGYwL6pooJ06Fv5DAbOfRNAyN9gzEBfVPFhOnQN3KYjRz6poGRvsGYgL6pYsJ06Bs5zEYOfdPASN9gTEDfVDFhOvSNHGYjh75pYKRvMCagb6qYMB36Rg6zkUPfNDDSNxgT0DdVTJgOfSOH2cihbxoY6RuMCeibKiZMh76Rw2zk0DcNjPQNxgT0TRUTpkPfyGE2cuibBkb6BmMC+qaKCdOhb+QwGzn0TQMjfYMxAX1TxYTp0DdymI0c+qaBkb7BmIC+qWLCdOgbOcxGDn3TwEjfYExA31QxYTr0jRxmI4e+aWCkbzAmoG+qmDAd+kYOs5FD3zQw0jcYE9A3VUyYDn0jh9nIoW8aGOkbjAnomyomTIe+kcNs5NA3DYz0DcYE9E0VE6ZD38hhNnLomwZG+gZjAvqmignToW/kMBs59E0DI32DMQF9U8WE6dA3cpiNHPqmgZG+wZiAvqliwnToGznMRg5908BI32BMQN9UMWE69I0cZiOHvmlgpG8wJvjfN4eHh7+NXFxcnJ6eOo27u7s3NzdO43K5dOr8xre3t83NTafRP5t4YDzTaWQ2cmIzsRynkdnIiesdN9xp9M9msVg4db8HzCY+w3998/n5+WHk5eXl6enJaXx8fHx9fXUab29vnTq/8f39Pf6/cRr9s7m7u4tnOo0TZhO/qtMYm3l+fnYamY2cuN5xw53GmE0cHKcxGs6p+xgwm+D7+/svbfVLZLuI35kAAAAASUVORK5CYII=\"></div>"
      ],
      "text/plain": [
       "<IPython.core.display.HTML object>"
      ]
     },
     "metadata": {},
     "output_type": "display_data"
    },
    {
     "data": {
      "text/html": [
       "<div style=\"background-color:#e0e0e0;margin:0;padding:10px;\"><img src=\"data:image/png;base64,iVBORw0KGgoAAAANSUhEUgAAAqkAAABNCAIAAAAKDmotAAAACXBIWXMAAA7EAAAOxAGVKw4bAAAE10lEQVR4nO3YMWoWWBSG4WwjoKBdUlkoChESQcUiYFpBrdJoYTGNlrYzYGGImibERhFmC2PtGrQYggsR504zK7jfGTn3eTbw8Sfn/m/Ixo0bN54XunPnzs2bNysXt7a2Hj16VLl44cKFyrnh4sWLlXNPnjy5fPly5WL92Vy6dOnp06eVi/VnU7xYfzY7Ozt3796tXKw/m+K3/7z8bB4+fLi9vV25WH82m5ublXPDwcHBxosXL34Wevv27cuXLysXHzx48OXLl8rF8edU5Vz94vfv3+/du1e5WH824wOOj1m56GymGzczLqdy0dlMN769x3d45WL92dT/Ekf3tX++9q9R+xOczXTa32BR+xO0P6L9a9T+BGcznfY3WNT+BO2PaP8atT/B2Uyn/Q0WtT9B+yPav0btT3A202l/g0XtT9D+iPavUfsTnM102t9gUfsTtD+i/WvU/gRnM532N1jU/gTtj2j/GrU/wdlMp/0NFrU/Qfsj2r9G7U9wNtNpf4NF7U/Q/oj2r1H7E5zNdNrfYFH7E7Q/ov1r1P4EZzOd9jdY1P4E7Y9o/xq1P8HZTKf9DRa1P0H7I9q/Ru1PcDbTaX+DRe1P0P6I9q9R+xOczXTa32BR+xO0P6L9a9T+BGcznfY3WNT+BO2PaP8atT/B2Uyn/Q0WtT9B+yPav0btT3A202l/g0XtT9D+iPavUfsTnM102t9gUfsTtD+i/WvU/gRnM532N1jU/gTtj2j/GrU/wdlMp/0NFrU/Qfsj2r9G7U9wNtNpf4NF7U/Q/oj2r1H7E5zNdNrfYFH7E7Q/ov1r1P4EZzOd9jdY1P4E7Y9o/xq1P8HZTKf9DRa1P0H7I9q/Ru1PcDbTaX+DRe1P0P6I9q9R+xOczXTa32BR+xO0P6L9a9T+BGcznfY3WNT+BO2PaP8atT/B2Uyn/Q0WtT9B+yPav0btT3A202l/g0XtT9D+iPavUfsTnM102t9gUfsTtD+i/WvU/gRnM532N1jU/gTtj2j/GrU/wdlMp/0NFrU/Qfsj2r9G7U9wNtNpf4NF7U/Q/oj2r1H7E5zNdNrfYFH7E7Q/ov1r1P4EZzOd9jdY1P4E7Y9o/xq1P8HZTKf9DRa1P+Hf9u/t7f1RaH9/f3d3t3LxypUrr169+qvQ9vZ25Vz94sePH69du1a5+OzZs8ePH1cujg84PmblorOZbtzMuJzKRWcz3dHR0a1btyoX689ma2urcm44PDzcuH79+m+FRvivXr1aubizs/P69es/Cx0fH1fO1S9++vRp/F1cufj+/fvT09PKxTdv3oyPWbm4wtmMn2rl4riZs7OzykVnM92HDx9OTk4qF8fZjC+cysXx903l3PD58+f+//N/9+5d8X/hAOBXpv0AsBbtB4C1aD8ArEX7AWAt2g8Aa9F+AFiL9gPAWrQfANai/QCwFu0HgLVoPwCsRfsBYC3aDwBr0X4AWIv2A8BatB8A1qL9ALAW7QeAtWg/AKxF+wFgLdoPAGvRfgBYi/YDwFq0HwDWov0AsBbtB4C1aD8ArEX7AWAt2g8Aa9F+AFiL9gPAWrQfANai/QCwFu0HgLVoPwCsZWNvb+/3Qvfv3799+3bl4sHBgfYDwH82Rhf/LvTt27evX79WLp6fn//48eP//jkDwK/iH0uRwlkvvv0bAAAAAElFTkSuQmCC\"></div>"
      ],
      "text/plain": [
       "<IPython.core.display.HTML object>"
      ]
     },
     "metadata": {},
     "output_type": "display_data"
    },
    {
     "data": {
      "text/html": [
       "<div style=\"background-color:#e0e0e0;margin:0;padding:10px;\"><img src=\"data:image/png;base64,iVBORw0KGgoAAAANSUhEUgAAAl4AAABNCAIAAAD4nv3NAAAACXBIWXMAAA7EAAAOxAGVKw4bAAAE3ElEQVR4nO3YsWqUaRiG4ZxECkHRWJkmjWJAxQgqFoKNFkJik0JMYbGNKdNY7JZBxSZoowhb220peAQiiliktsgh7P57Ds/7yvdxXSfw8M+8M/cwK5ubm88a3bp16+rVq52LFy5c2NnZ6Vw8ffp059zizJkznXNPnjxZW1vrXOw/m3Pnzu3t7XUu9p9N82L/2Vy5cuX27dudi/1n0/zZf9Z+Ntvb2+vr652L9+/f//Tp08r+/v6/jV69enVwcNC5+PDhw8+fP3cuLr82Ouf6F4+Pj+/cudO52H82ywMuj9m56GzilptZLqdz0dnELd/ey3d45+LHjx+lscT0xyqNFZxNnDROsCiNVaQxThorOJs4aZxgURqrSGOcNFZwNnHSOMGiNFaRxjhprOBs4qRxgkVprCKNcdJYwdnESeMEi9JYRRrjpLGCs4mTxgkWpbGKNMZJYwVnEyeNEyxKYxVpjJPGCs4mThonWJTGKtIYJ40VnE2cNE6wKI1VpDFOGis4mzhpnGBRGqtIY5w0VnA2cdI4waI0VpHGOGms4GzipHGCRWmsIo1x0ljB2cRJ4wSL0lhFGuOksYKziZPGCRalsYo0xkljBWcTJ40TLEpjFWmMk8YKziZOGidYlMYq0hgnjRWcTZw0TrAojVWkMU4aKzibOGmcYFEaq0hjnDRWcDZx0jjBojRWkcY4aazgbOKkcYJFaawijXHSWMHZxEnjBIvSWEUa46SxgrOJk8YJFqWxijTGSWMFZxMnjRMsSmMVaYyTxgrOJk4aJ1iUxirSGCeNFZxNnDROsCiNVaQxThorOJs4aZxgURqrSGOcNFZwNnHSOMGiNFaRxjhprOBs4qRxgkVprCKNcdJYwdnESeMEi9JYRRrjpLGCs4mTxgkWpbGKNMZJYwVnEyeNEyxKYxVpjJPGCs4mThonWJTGKtIYJ40VnE2cNE6wKI1VpDFOGis4mzhpnGBRGqtIY5w0VnA2cdI4weJvS+PW1tZfje7evXv9+vXOxfX19cePH3cunjp1qnNusba29k+j9+/fX7p0qXPx6dOnjx496lxcHnB5zM7F5VA75/oX+89muZnlcjoXnU3c4eHhjRs3OhefP3/+fxovX778R6OlixcvXuxcPH/+/IMHDzoXV1dXO+cW165d+7vRhw8flh/jnYtv3749OjrqXHz58uXymJ2LL1686JzrX1xez+VV7VxcbubNmzedi84m7t27d69fv+5cXJycnPhDNa//L47mNxFgbtKYJ40AQ5PGPGkEGJo05kkjwNCkMU8aAYYmjXnSCDA0acyTRoChSWOeNAIMTRrzpBFgaNKYJ40AQ5PGPGkEGJo05kkjwNCkMU8aAYYmjXnSCDA0acyTRoChSWOeNAIMTRrzpBFgaNKYJ40AQ5PGPGkEGJo05kkjwNCkMU8aAYYmjXnSCDA0acyTRoChSWOeNAIMTRrzpBFgaNKYJ40AQ5PGPGkEGJo05kkjwNCkMU8aAYYmjXnSCDA0acyTRoChSWOeNAIMTRrzpBFgaNKYJ40AQ5PGPGkEGJo05kkjwNBWtra2/mx07969mzdvdi5ubGzs7e11Lp49e7ZzbrG7u/u7DwlgHivHx8c/G33//v3bt2+di1+/fv3x40fn4pcvXzrnFr9+/frdhwQwj/8A5EZ2uDYMsXYAAAAASUVORK5CYII=\"></div>"
      ],
      "text/plain": [
       "<IPython.core.display.HTML object>"
      ]
     },
     "metadata": {},
     "output_type": "display_data"
    },
    {
     "data": {
      "text/html": [
       "<div style=\"background-color:#e0e0e0;margin:0;padding:10px;\"><img src=\"data:image/png;base64,iVBORw0KGgoAAAANSUhEUgAAAXsAAABNCAIAAADICFNYAAAACXBIWXMAAA7EAAAOxAGVKw4bAAAETUlEQVR4nO2YPUpjYRhG3YRCUDERBG1shKQImELBQrCysLCyEJMmDEi0UytnFuCWXIG/6BTuQHABM9+AS5jnLQ7nbODhDYdzc+/cYDCYFbK7uzscDisX19fXj4+PKxeXlpYq5xrLy8uVc2dnZ71er3KxXptutzsejysX67UpXpxOp7e3t3MXFxd/Crm7u7u6uqpcPDo6ur+/r1xsEa+cq1/8+PjY29urXKzXph3YzqxcxGvz+flpcSLg1bE4CfDaWJwUeHUsTgK8NhYnBV4di5MAr43FSYFXx+IkwGtjcVLg1bE4CfDaWJwUeHUsTgK8NhYnBV4di5MAr43FSYFXx+IkwGtjcVLg1bE4CfDaWJwUeHUsTgK8NhYnBV4di5MAr43FSYFXx+IkwGtjcVLg1bE4CfDaWJwUeHUsTgK8NhYnBV4di5MAr43FSYFXx+IkwGtjcVLg1bE4CfDaWJwUeHUsTgK8NhYnBV4di5MAr43FSYFXx+IkwGtjcVLg1bE4CfDaWJwUeHUsTgK8NhYnBV4di5MAr43FSYFXx+IkwGtjcVLg1bE4CfDaWJwUeHUsTgK8NhYnBV4di5MAr43FSYFXx+IkwGtjcVLg1bE4CfDaWJwUeHUsTgK8NhYnBV4di5MAr43FSYFXx+IkwGtjcVLg1bE4CfDaWJwUeHUsTgK8NhYnBV4di5MAr813cUaj0a9C9vf3t7e3Kxc3NjZOT08rFzudTuVc/WJ7SvV6vcrFem3agbPZrHIRr83NzU37Sef6/f6PQpo3W1tblYurq6uHh4eVi/Pz85VzjYWFhcq5k5OTxcXFysV6bdqB7czKRbw2k8nk/Pzct6r/D/7vsW9VCfDa+B0nBV4di5MAr43FSYFXx+IkwGtjcVLg1bE4CfDaWJwUeHUsTgK8NhYnBV4di5MAr43FSYFXx+IkwGtjcVLg1bE4CfDaWJwUeHUsTgK8NhYnBV4di5MAr43FSYFXx+IkwGtjcVLg1bE4CfDaWJwUeHUsTgK8NhYnBV4di5MAr43FSYFXx+IkwGtjcVLg1bE4CfDaWJwUeHUsTgK8NhYnBV4di5MAr43FSYFXx+IkwGtjcVLg1bE4CfDaWJwUeHUsTgK8NhYnBV4di5MAr43FSYFXx+IkwGtjcVLg1bE4CfDaWJwUeHUsTgK8NhYnBV4di5MAr43FSYFXx+IkwGtjcVLg1bE4CfDaWJwUeHUsTgK8NhYnBV4di5MAr43FSYFXx+IkwGtjcVLg1bE4CfDaWJwUeHUsTgK8NhYnBV4di5MAr43FSYFXx+IkwGtjcVLg1bE4CfDafBdnNBr9LOTg4GBnZ6dycXNzczweVy6urKxUzjW63W7l3OXl5draWuVivTbtwHZm5WK9NsWL19fX/4rTQv67kNfX15eXl8rFp6ent7e3ysWHh4fKufrF9/f3x8fHysWmzfPzc+ViO7CdWbmI16bx9fX1F5r3xJ2gA3INAAAAAElFTkSuQmCC\"></div>"
      ],
      "text/plain": [
       "<IPython.core.display.HTML object>"
      ]
     },
     "metadata": {},
     "output_type": "display_data"
    },
    {
     "data": {
      "text/html": [
       "<div style=\"background-color:#e0e0e0;margin:0;padding:10px;\"><img src=\"data:image/png;base64,iVBORw0KGgoAAAANSUhEUgAAAhIAAABNCAIAAAB8GBrjAAAACXBIWXMAAA7EAAAOxAGVKw4bAAAE10lEQVR4nO3YsS7kYRiF8bkJEkHMSCQ0GkJCYgpEIRESEgWNwpgC2WbptLs1OtGJZGvdlhKVEiFs4TJUu99ewHbnvPvm8/xu4MQ/75dHpjE9Pf010MLCwuzsbOTi6Ojo1tZW5OLAwEDkXDE4OBg5t7e312q1Ihfjz6bZbHa73cjF+LMJXow/m5mZmcXFxcjF+LMJfvtFp9NpHB0d/Q50fn5+cnISubi5uXl3dxe5WEocORe/+P7+vrS0FLkYfzblDyx/ZuQiZyNXbqZcTuTiZzibkgyyocf7lyMbFSySDQeyYUE25MiGA2cjRzYcyIYF71+ObFSwSDYcyIYF2ZAjGw6cjRzZcCAbFrx/ObJRwSLZcCAbFmRDjmw4cDZyZMOBbFjw/uXIRgWLZMOBbFiQDTmy4cDZyJENB7JhwfuXIxsVLJINB7JhQTbkyIYDZyNHNhzIhgXvX45sVLBINhzIhgXZkCMbDpyNHNlwIBsWvH85slHBItlwIBsWZEOObDhwNnJkw4FsWPD+5chGBYtkw4FsWJANObLhwNnIkQ0HsmHB+5cjGxUskg0HsmFBNuTIhgNnI0c2HMiGBe9fjmxUsEg2HMiGBdmQIxsOnI0c2XAgGxa8fzmyUcEi2XAgGxZkQ45sOHA2cmTDgWxY8P7lyEYFi2TDgWxYkA05suHA2ciRDQeyYcH7lyMbFSySDQeyYUE25MiGA2cjRzYcyIYF71+ObFSwSDYcyIYF2ZAjGw6cjRzZcCAbFrx/ObJRwSLZcCAbFmRDjmw4cDZyZMOBbFjw/uXIRgWLZMOBbFiQDTmy4cDZyJENB7JhwfuXIxsVLJINB7JhQTbkyIYDZyNHNhzIhgXvX45sVLBINhz+Tzba7fb3QMvLy3Nzc5GLY2Nju7u7kYt9fX2Rc/GL5W5arVbk4urq6sbGxs9Ak5OTV1dXkYvlUCPn4hfL9yxfNXJxe3t7f38/cvEznM3h4WFjamrqS6DSjImJicjF4eHh9fX1yMWenp7IuaK3tzdybmdnp7+/P3JxbW3t4ODgR6Czs7Pr6+vIxdPT08i5+MXyPctXjVy8uLi4vLyMXPwMZ3N/f8+PVHr82iB3e3t7c3MTuQjgX8iGHtmQIxtAHmRDj2zIkQ0gD7KhRzbkyAaQB9nQIxtyZAPIg2zokQ05sgHkQTb0yIYc2QDyIBt6ZEOObAB5kA09siFHNoA8yIYe2ZAjG0AeZEOPbMiRDSAPsqFHNuTIBpAH2dAjG3JkA8iDbOiRDTmyAeRBNvTIhhzZAPIgG3pkQ45sAHmQDT2yIUc2gDzIhh7ZkCMbQB5kQ49syJENIA+yoUc25MgGkAfZ0CMbcmQDyINs6JENObIB5EE29MiGHNkA8iAbemRDjmwAeZANPbIhRzaAPMiGHtmQIxtAHmRDj2zIkQ0gD7KhRzbkyAaQB9nQIxtyZAPIg2zokQ05sgHkQTb0yIYc2QDyIBt6ZEOObAB5kA09siFHNoA8yIYe2ZAjG0AeZEOPbMiRDSAPsqFHNuTIBpBHo91ufwu0srIyPz8fuTg+Pt7tdiMXh4aGIueKZrMZOXd8fDwyMhK52Ol0yAaQRKP85/gr0MvLy/Pzc+Ti09PT6+tr5OLDw0PkXPzi29vb4+Nj5GLx8fHxvx8LgL/+ABOTRN0h140xAAAAAElFTkSuQmCC\"></div>"
      ],
      "text/plain": [
       "<IPython.core.display.HTML object>"
      ]
     },
     "metadata": {},
     "output_type": "display_data"
    },
    {
     "data": {
      "text/html": [
       "<div style=\"background-color:#e0e0e0;margin:0;padding:10px;\"><img src=\"data:image/png;base64,iVBORw0KGgoAAAANSUhEUgAAAccAAABNCAIAAABcwjjvAAAACXBIWXMAAA7EAAAOxAGVKw4bAAAEg0lEQVR4nO3Yvy7kYRSH8bkJEkFmRiKh0RASkpkCUQiVQkGjEFMothk6pd0anehEsokr2N4V+Bu2UOj1it137+E5R177fG7gmzc5v2dCY25urp9oaWlpYWEhc3FiYmJraytzcWRkJHOuGB0dzZzb29trt9uZi/ln02q1er1e5mL+2SQv5p/N/Pz88vJy5mKn03l/f28cHBz8SXR2dnZ0dJS5uLm5eXNzk7lYfqgy5/IXX19fV1ZWMhfzz6Y8sDwzc9GzwZWbKZeTuXh8fGxVQ/h54KzqF1i0qlGs6hdYtKoRPBucVY1iVXFWNYJng7OqUawqzqpG8GxwVjWKVcVZ1QieDc6qRrGqOKsawbPBWdUoVhVnVSN4NjirGsWq4qxqBM8GZ1WjWFWcVY3g2eCsahSrirOqETwbnFWNYlVxVjWCZ4OzqlGsKs6qRvBscFY1ilXFWdUIng3OqkaxqjirGsGzwVnVKFYVZ1UjeDY4qxrFquKsagTPBmdVo1hVnFWN4NngrGoUq4qzqhE8G5xVjWJVcVY1gmeDs6pRrCrOqkbwbHBWNYpVxVnVCJ4NzqpGsao4qxrBs8FZ1ShWFWdVI3g2OKsaxarirGoEzwZnVaNYVZxVjeDZ4KxqFKuKs6oRPBucVY1iVXFWNYJng7OqUawqzqpG8GxwVjWKVcVZ1QieDc6qRrGqOKsawbPBWdUoVhVnVSN4NjirGsWq4qxqBM8GZ1WjWFWcVY3g2eCsahSrirOqETwbnFWNYlVxVjWCZ4P7tKp2u90fiVZXVzudTubi5OTk7u5u5uLQ0FDmXP5i+SVut9uZi/lnUx7Y7/czF5vN5q9c5dPInLu8vJyZmclc3N7e3t/fz1zc2dn5V9XZ2dlvicq3MT09nbk4Nja2sbGRuTgwMJA5VwwODmbOldMZHh7OXMw/m/LA8szMxfLAn7lOTk4y566urk5PTzMXz8/PLy4uMhevr68/Pj78DwDPP+Vw/8N/AJK/RMWxqjyrirOqqohV5VlVnFVVRawqz6rirKoqYlV5VhVnVVURq8qzqjirqopYVZ5VxVlVVcSq8qwqzqqqIlaVZ1VxVlUVsao8q4qzqqqIVeVZVZxVVUWsKs+q4qyqKmJVeVYVZ1VVEavKs6o4q6qKWFWeVcVZVVXEqvKsKs6qqiJWlWdVcVZVFbGqPKuKs6qqiFXlWVWcVVVFrCrPquKsqipiVXlWFWdVVRGryrOqOKuqilhVnlXFWVVVxKryrCrOqqoiVpVnVXFWVRWxqjyrirOqqohV5VlVnFVVRawqz6rirKoqYlV5VhVnVVURq8qzqjirqopYVZ5VxVlVVcSq8qwqzqqqIlaVZ1VxVlUVsao8q4qzqqqIVeVZVZxVVUWsKs+q4qyqKtLodrvfE62vry8uLmYuTk1N9Xq9zMVms5k5V7Rarcy5w8PD8fHxzMX8sykPLM/MXFxbW/vsGojRKD/IvxM9PT09Pj5mLt7f3z8/P2cu3t7eZs7lL768vNzd3WUulrN5eHjIXCwPLM/MXHx7e/vsGojxF1x25hBazXtXAAAAAElFTkSuQmCC\"></div>"
      ],
      "text/plain": [
       "<IPython.core.display.HTML object>"
      ]
     },
     "metadata": {},
     "output_type": "display_data"
    }
   ],
   "source": [
    "display_gap_results_factorizations(\"SnPartitionsFirst.csv\", \"partitions\");"
   ]
  }
 ],
 "metadata": {
  "kernelspec": {
   "display_name": "Python 3 (ipykernel)",
   "language": "python",
   "name": "python3"
  },
  "language_info": {
   "codemirror_mode": {
    "name": "ipython",
    "version": 3
   },
   "file_extension": ".py",
   "mimetype": "text/x-python",
   "name": "python",
   "nbconvert_exporter": "python",
   "pygments_lexer": "ipython3",
   "version": "3.13.2"
  }
 },
 "nbformat": 4,
 "nbformat_minor": 5
}
